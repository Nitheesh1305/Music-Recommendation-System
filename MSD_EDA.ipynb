{
  "nbformat": 4,
  "nbformat_minor": 0,
  "metadata": {
    "kernelspec": {
      "display_name": "Python 3",
      "language": "python",
      "name": "python3"
    },
    "language_info": {
      "codemirror_mode": {
        "name": "ipython",
        "version": 3
      },
      "file_extension": ".py",
      "mimetype": "text/x-python",
      "name": "python",
      "nbconvert_exporter": "python",
      "pygments_lexer": "ipython3",
      "version": "3.8.5"
    },
    "colab": {
      "name": "Music Recommendation EDA.ipynb",
      "provenance": [],
      "collapsed_sections": []
    },
    "accelerator": "GPU"
  },
  "cells": [
    {
      "cell_type": "markdown",
      "metadata": {
        "id": "W7itnofqg8I2"
      },
      "source": [
        "<center>\n",
        "\n",
        "  ![picture](https://drive.google.com/uc?export=view&id=1vVPBPKJTAsDA8hxswV6iCH_wsgZbLULL)\n",
        "\n",
        "</center>"
      ]
    },
    {
      "cell_type": "markdown",
      "metadata": {
        "id": "GOTd2RSO0WJg"
      },
      "source": [
        "# <center> Music Recommendation System </center>\n",
        "\n",
        "\n",
        "\n",
        "\n",
        "**Team 1 :**\n",
        "\n",
        "> Sai Nitheesh - IN30035 [Lead]\n",
        "\n",
        "\n",
        "> Sai Harsha - IN30205\n",
        "\n",
        "\n",
        "\n",
        "> Subhankar Satvaya - IN30134\n",
        "\n",
        "\n",
        "\n",
        "> Shreyas Shoche - IN30045\n",
        "\n",
        "\n",
        "\n",
        "> Ganesh Kashyap MR - IN30041\n",
        "\n",
        "\n",
        "\n",
        "> Mentor : Ram Sir , Innomatics Research Labs\n",
        "\n",
        "\n",
        "\n",
        "\n",
        "\n",
        "\n",
        "\n",
        "\n",
        "\n",
        "\n",
        "\n",
        "\n",
        "\n"
      ]
    },
    {
      "cell_type": "markdown",
      "metadata": {
        "id": "ExkmMWxi0WJj"
      },
      "source": [
        "# Problem Statement \n",
        "This project Aims At Buiding The Best Music Recommendation System Using Million Song Dataset\n"
      ]
    },
    {
      "cell_type": "markdown",
      "metadata": {
        "id": "YmgEiedm0WJk"
      },
      "source": [
        "# Dataset Description\n",
        "\n",
        "<h6>The files contain:</h6>\n",
        "\n",
        "*  The official indexing of songs (note that indexing starts at 1) : kaggle_songs.txt\n",
        "\n",
        "*  The official ordering of user IDs for Kaggle submission : kaggle_users.txt\n",
        "\n",
        "*  The visible half of the listening histories of the 110K evaluation users : kaggle_visible_evaluation_triplets.txt\n",
        "\n",
        "*  The mapping from songs to tracks : taste_profile_song_to_tracks.txt\n",
        "\n",
        "*  File containing the tracks / songs Information : unique_tracks.txt\n"
      ]
    },
    {
      "cell_type": "markdown",
      "metadata": {
        "id": "C480J-Ds0WJk"
      },
      "source": [
        "<h5> We will be using kaggle_visible_evaluation_triplets.txt and unique_tracks.txt for our project </h5>\n",
        "<li>The first file contains the play count mapping users\n",
        "<li>The Second file contains information of songs mapping the song id , artist and release"
      ]
    },
    {
      "cell_type": "markdown",
      "metadata": {
        "id": "bIFUG3m20WJk"
      },
      "source": [
        "<h5> Libraries Used </h5>\n",
        "   <li> Numpy and Pandas For Processing the data and for statastical Analysis</li>\n",
        "   <li> Seaborn , Matplotlib , plotly for visulizations</li>\n",
        "   <li>Autoviz for Auto Visulizations</li>\n",
        "       \n",
        " <h5>Tools used </h5>\n",
        " <li>Google Colab</li>\n",
        " <li>Tabuleau </li>"
      ]
    },
    {
      "cell_type": "markdown",
      "metadata": {
        "id": "uVanTKtS0WJk"
      },
      "source": [
        "# <center> Exploratory Data Analysis </center>"
      ]
    },
    {
      "cell_type": "markdown",
      "metadata": {
        "id": "qd7B_meS0WJm"
      },
      "source": [
        "## <center> 1. Import the libraries </center>"
      ]
    },
    {
      "cell_type": "code",
      "metadata": {
        "id": "g340APUy4a5v",
        "colab": {
          "base_uri": "https://localhost:8080/"
        },
        "outputId": "fb08f24b-9719-456d-d257-95a4553d7870"
      },
      "source": [
        "pip install autoviz"
      ],
      "execution_count": null,
      "outputs": [
        {
          "output_type": "stream",
          "text": [
            "Collecting autoviz\n",
            "  Downloading https://files.pythonhosted.org/packages/89/20/8c8c64d5221cfcbc54679f4f048a08292a16dbad178af7c78541aa3af730/autoviz-0.0.81-py3-none-any.whl\n",
            "Requirement already satisfied: jupyter in /usr/local/lib/python3.7/dist-packages (from autoviz) (1.0.0)\n",
            "Requirement already satisfied: pandas in /usr/local/lib/python3.7/dist-packages (from autoviz) (1.1.5)\n",
            "Requirement already satisfied: matplotlib in /usr/local/lib/python3.7/dist-packages (from autoviz) (3.2.2)\n",
            "Requirement already satisfied: scikit-learn in /usr/local/lib/python3.7/dist-packages (from autoviz) (0.22.2.post1)\n",
            "Requirement already satisfied: seaborn in /usr/local/lib/python3.7/dist-packages (from autoviz) (0.11.1)\n",
            "Requirement already satisfied: xgboost in /usr/local/lib/python3.7/dist-packages (from autoviz) (0.90)\n",
            "Requirement already satisfied: statsmodels in /usr/local/lib/python3.7/dist-packages (from autoviz) (0.10.2)\n",
            "Requirement already satisfied: ipython in /usr/local/lib/python3.7/dist-packages (from autoviz) (5.5.0)\n",
            "Requirement already satisfied: notebook in /usr/local/lib/python3.7/dist-packages (from jupyter->autoviz) (5.3.1)\n",
            "Requirement already satisfied: ipykernel in /usr/local/lib/python3.7/dist-packages (from jupyter->autoviz) (4.10.1)\n",
            "Requirement already satisfied: jupyter-console in /usr/local/lib/python3.7/dist-packages (from jupyter->autoviz) (5.2.0)\n",
            "Requirement already satisfied: ipywidgets in /usr/local/lib/python3.7/dist-packages (from jupyter->autoviz) (7.6.3)\n",
            "Requirement already satisfied: qtconsole in /usr/local/lib/python3.7/dist-packages (from jupyter->autoviz) (5.1.0)\n",
            "Requirement already satisfied: nbconvert in /usr/local/lib/python3.7/dist-packages (from jupyter->autoviz) (5.6.1)\n",
            "Requirement already satisfied: pytz>=2017.2 in /usr/local/lib/python3.7/dist-packages (from pandas->autoviz) (2018.9)\n",
            "Requirement already satisfied: python-dateutil>=2.7.3 in /usr/local/lib/python3.7/dist-packages (from pandas->autoviz) (2.8.1)\n",
            "Requirement already satisfied: numpy>=1.15.4 in /usr/local/lib/python3.7/dist-packages (from pandas->autoviz) (1.19.5)\n",
            "Requirement already satisfied: kiwisolver>=1.0.1 in /usr/local/lib/python3.7/dist-packages (from matplotlib->autoviz) (1.3.1)\n",
            "Requirement already satisfied: cycler>=0.10 in /usr/local/lib/python3.7/dist-packages (from matplotlib->autoviz) (0.10.0)\n",
            "Requirement already satisfied: pyparsing!=2.0.4,!=2.1.2,!=2.1.6,>=2.0.1 in /usr/local/lib/python3.7/dist-packages (from matplotlib->autoviz) (2.4.7)\n",
            "Requirement already satisfied: joblib>=0.11 in /usr/local/lib/python3.7/dist-packages (from scikit-learn->autoviz) (1.0.1)\n",
            "Requirement already satisfied: scipy>=0.17.0 in /usr/local/lib/python3.7/dist-packages (from scikit-learn->autoviz) (1.4.1)\n",
            "Requirement already satisfied: patsy>=0.4.0 in /usr/local/lib/python3.7/dist-packages (from statsmodels->autoviz) (0.5.1)\n",
            "Requirement already satisfied: simplegeneric>0.8 in /usr/local/lib/python3.7/dist-packages (from ipython->autoviz) (0.8.1)\n",
            "Requirement already satisfied: pexpect; sys_platform != \"win32\" in /usr/local/lib/python3.7/dist-packages (from ipython->autoviz) (4.8.0)\n",
            "Requirement already satisfied: setuptools>=18.5 in /usr/local/lib/python3.7/dist-packages (from ipython->autoviz) (57.0.0)\n",
            "Requirement already satisfied: prompt-toolkit<2.0.0,>=1.0.4 in /usr/local/lib/python3.7/dist-packages (from ipython->autoviz) (1.0.18)\n",
            "Requirement already satisfied: pygments in /usr/local/lib/python3.7/dist-packages (from ipython->autoviz) (2.6.1)\n",
            "Requirement already satisfied: pickleshare in /usr/local/lib/python3.7/dist-packages (from ipython->autoviz) (0.7.5)\n",
            "Requirement already satisfied: traitlets>=4.2 in /usr/local/lib/python3.7/dist-packages (from ipython->autoviz) (5.0.5)\n",
            "Requirement already satisfied: decorator in /usr/local/lib/python3.7/dist-packages (from ipython->autoviz) (4.4.2)\n",
            "Requirement already satisfied: jupyter-client>=5.2.0 in /usr/local/lib/python3.7/dist-packages (from notebook->jupyter->autoviz) (5.3.5)\n",
            "Requirement already satisfied: jupyter-core>=4.4.0 in /usr/local/lib/python3.7/dist-packages (from notebook->jupyter->autoviz) (4.7.1)\n",
            "Requirement already satisfied: Send2Trash in /usr/local/lib/python3.7/dist-packages (from notebook->jupyter->autoviz) (1.5.0)\n",
            "Requirement already satisfied: ipython-genutils in /usr/local/lib/python3.7/dist-packages (from notebook->jupyter->autoviz) (0.2.0)\n",
            "Requirement already satisfied: tornado>=4 in /usr/local/lib/python3.7/dist-packages (from notebook->jupyter->autoviz) (5.1.1)\n",
            "Requirement already satisfied: jinja2 in /usr/local/lib/python3.7/dist-packages (from notebook->jupyter->autoviz) (2.11.3)\n",
            "Requirement already satisfied: terminado>=0.8.1 in /usr/local/lib/python3.7/dist-packages (from notebook->jupyter->autoviz) (0.10.1)\n",
            "Requirement already satisfied: nbformat in /usr/local/lib/python3.7/dist-packages (from notebook->jupyter->autoviz) (5.1.3)\n",
            "Requirement already satisfied: jupyterlab-widgets>=1.0.0; python_version >= \"3.6\" in /usr/local/lib/python3.7/dist-packages (from ipywidgets->jupyter->autoviz) (1.0.0)\n",
            "Requirement already satisfied: widgetsnbextension~=3.5.0 in /usr/local/lib/python3.7/dist-packages (from ipywidgets->jupyter->autoviz) (3.5.1)\n",
            "Requirement already satisfied: pyzmq>=17.1 in /usr/local/lib/python3.7/dist-packages (from qtconsole->jupyter->autoviz) (22.1.0)\n",
            "Requirement already satisfied: qtpy in /usr/local/lib/python3.7/dist-packages (from qtconsole->jupyter->autoviz) (1.9.0)\n",
            "Requirement already satisfied: defusedxml in /usr/local/lib/python3.7/dist-packages (from nbconvert->jupyter->autoviz) (0.7.1)\n",
            "Requirement already satisfied: bleach in /usr/local/lib/python3.7/dist-packages (from nbconvert->jupyter->autoviz) (3.3.0)\n",
            "Requirement already satisfied: entrypoints>=0.2.2 in /usr/local/lib/python3.7/dist-packages (from nbconvert->jupyter->autoviz) (0.3)\n",
            "Requirement already satisfied: testpath in /usr/local/lib/python3.7/dist-packages (from nbconvert->jupyter->autoviz) (0.5.0)\n",
            "Requirement already satisfied: pandocfilters>=1.4.1 in /usr/local/lib/python3.7/dist-packages (from nbconvert->jupyter->autoviz) (1.4.3)\n",
            "Requirement already satisfied: mistune<2,>=0.8.1 in /usr/local/lib/python3.7/dist-packages (from nbconvert->jupyter->autoviz) (0.8.4)\n",
            "Requirement already satisfied: six>=1.5 in /usr/local/lib/python3.7/dist-packages (from python-dateutil>=2.7.3->pandas->autoviz) (1.15.0)\n",
            "Requirement already satisfied: ptyprocess>=0.5 in /usr/local/lib/python3.7/dist-packages (from pexpect; sys_platform != \"win32\"->ipython->autoviz) (0.7.0)\n",
            "Requirement already satisfied: wcwidth in /usr/local/lib/python3.7/dist-packages (from prompt-toolkit<2.0.0,>=1.0.4->ipython->autoviz) (0.2.5)\n",
            "Requirement already satisfied: MarkupSafe>=0.23 in /usr/local/lib/python3.7/dist-packages (from jinja2->notebook->jupyter->autoviz) (2.0.1)\n",
            "Requirement already satisfied: jsonschema!=2.5.0,>=2.4 in /usr/local/lib/python3.7/dist-packages (from nbformat->notebook->jupyter->autoviz) (2.6.0)\n",
            "Requirement already satisfied: webencodings in /usr/local/lib/python3.7/dist-packages (from bleach->nbconvert->jupyter->autoviz) (0.5.1)\n",
            "Requirement already satisfied: packaging in /usr/local/lib/python3.7/dist-packages (from bleach->nbconvert->jupyter->autoviz) (20.9)\n",
            "Installing collected packages: autoviz\n",
            "Successfully installed autoviz-0.0.81\n"
          ],
          "name": "stdout"
        }
      ]
    },
    {
      "cell_type": "code",
      "metadata": {
        "colab": {
          "base_uri": "https://localhost:8080/"
        },
        "id": "hb3tWKJ-0WJm",
        "outputId": "b720afbf-5e74-45c4-bedf-5062a5c54fab"
      },
      "source": [
        "import numpy as np\n",
        "import pandas as pd\n",
        "import matplotlib.pyplot as plt\n",
        "import seaborn as sns\n",
        "import plotly.express as px\n",
        "from autoviz.AutoViz_Class import AutoViz_Class\n",
        "from pandas_profiling import ProfileReport\n",
        "\n",
        "from google.colab import drive\n",
        "import os\n",
        "\n",
        "\n",
        "import warnings\n",
        "warnings.filterwarnings('ignore')"
      ],
      "execution_count": null,
      "outputs": [
        {
          "output_type": "stream",
          "text": [
            "Imported AutoViz_Class version: 0.0.81. Call using:\n",
            "    from autoviz.AutoViz_Class import AutoViz_Class\n",
            "    AV = AutoViz_Class()\n",
            "    AV.AutoViz(filename, sep=',', depVar='', dfte=None, header=0, verbose=0,\n",
            "                            lowess=False,chart_format='svg',max_rows_analyzed=150000,max_cols_analyzed=30)\n",
            "Note: verbose=0 or 1 generates charts and displays them in your local Jupyter notebook.\n",
            "      verbose=2 saves plots in your local machine under AutoViz_Plots directory and does not display charts.\n"
          ],
          "name": "stdout"
        }
      ]
    },
    {
      "cell_type": "code",
      "metadata": {
        "colab": {
          "base_uri": "https://localhost:8080/"
        },
        "id": "EpAbWrK602hU",
        "outputId": "a1c0bd94-43e9-4da1-b153-cee10ed6af8b"
      },
      "source": [
        "drive.mount('/content/drive')"
      ],
      "execution_count": null,
      "outputs": [
        {
          "output_type": "stream",
          "text": [
            "Mounted at /content/drive\n"
          ],
          "name": "stdout"
        }
      ]
    },
    {
      "cell_type": "markdown",
      "metadata": {
        "id": "AFGADsQ70WJn"
      },
      "source": [
        "## <center> 2. Load triplet dataframe </center>"
      ]
    },
    {
      "cell_type": "code",
      "metadata": {
        "id": "hLjJV_bJ0WJn"
      },
      "source": [
        "triplet = pd.read_csv('/content/drive/MyDrive/Colab Notebooks/Million Song Dataset/kaggle_visible_evaluation_triplets.txt' , sep='\\t',names=['user_id','song_id','play_count'])"
      ],
      "execution_count": null,
      "outputs": []
    },
    {
      "cell_type": "markdown",
      "metadata": {
        "id": "_SCTDggI0WJn"
      },
      "source": [
        "### <center> 2.1 Basic dataframe Analysis </center>"
      ]
    },
    {
      "cell_type": "code",
      "metadata": {
        "colab": {
          "base_uri": "https://localhost:8080/",
          "height": 202
        },
        "id": "KhqyQZBc0WJo",
        "outputId": "bcf8b792-e94e-4c3f-f111-a837b1a242a7"
      },
      "source": [
        "triplet.head()"
      ],
      "execution_count": null,
      "outputs": [
        {
          "output_type": "execute_result",
          "data": {
            "text/html": [
              "<div>\n",
              "<style scoped>\n",
              "    .dataframe tbody tr th:only-of-type {\n",
              "        vertical-align: middle;\n",
              "    }\n",
              "\n",
              "    .dataframe tbody tr th {\n",
              "        vertical-align: top;\n",
              "    }\n",
              "\n",
              "    .dataframe thead th {\n",
              "        text-align: right;\n",
              "    }\n",
              "</style>\n",
              "<table border=\"1\" class=\"dataframe\">\n",
              "  <thead>\n",
              "    <tr style=\"text-align: right;\">\n",
              "      <th></th>\n",
              "      <th>user_id</th>\n",
              "      <th>song_id</th>\n",
              "      <th>play_count</th>\n",
              "    </tr>\n",
              "  </thead>\n",
              "  <tbody>\n",
              "    <tr>\n",
              "      <th>0</th>\n",
              "      <td>fd50c4007b68a3737fe052d5a4f78ce8aa117f3d</td>\n",
              "      <td>SOBONKR12A58A7A7E0</td>\n",
              "      <td>1</td>\n",
              "    </tr>\n",
              "    <tr>\n",
              "      <th>1</th>\n",
              "      <td>fd50c4007b68a3737fe052d5a4f78ce8aa117f3d</td>\n",
              "      <td>SOEGIYH12A6D4FC0E3</td>\n",
              "      <td>1</td>\n",
              "    </tr>\n",
              "    <tr>\n",
              "      <th>2</th>\n",
              "      <td>fd50c4007b68a3737fe052d5a4f78ce8aa117f3d</td>\n",
              "      <td>SOFLJQZ12A6D4FADA6</td>\n",
              "      <td>1</td>\n",
              "    </tr>\n",
              "    <tr>\n",
              "      <th>3</th>\n",
              "      <td>fd50c4007b68a3737fe052d5a4f78ce8aa117f3d</td>\n",
              "      <td>SOHTKMO12AB01843B0</td>\n",
              "      <td>1</td>\n",
              "    </tr>\n",
              "    <tr>\n",
              "      <th>4</th>\n",
              "      <td>fd50c4007b68a3737fe052d5a4f78ce8aa117f3d</td>\n",
              "      <td>SODQZCY12A6D4F9D11</td>\n",
              "      <td>1</td>\n",
              "    </tr>\n",
              "  </tbody>\n",
              "</table>\n",
              "</div>"
            ],
            "text/plain": [
              "                                    user_id             song_id  play_count\n",
              "0  fd50c4007b68a3737fe052d5a4f78ce8aa117f3d  SOBONKR12A58A7A7E0           1\n",
              "1  fd50c4007b68a3737fe052d5a4f78ce8aa117f3d  SOEGIYH12A6D4FC0E3           1\n",
              "2  fd50c4007b68a3737fe052d5a4f78ce8aa117f3d  SOFLJQZ12A6D4FADA6           1\n",
              "3  fd50c4007b68a3737fe052d5a4f78ce8aa117f3d  SOHTKMO12AB01843B0           1\n",
              "4  fd50c4007b68a3737fe052d5a4f78ce8aa117f3d  SODQZCY12A6D4F9D11           1"
            ]
          },
          "metadata": {
            "tags": []
          },
          "execution_count": 5
        }
      ]
    },
    {
      "cell_type": "code",
      "metadata": {
        "colab": {
          "base_uri": "https://localhost:8080/",
          "height": 202
        },
        "id": "nUJ6fBVr0WJp",
        "outputId": "740d0dee-2bda-4a31-b106-1834e94ce90d"
      },
      "source": [
        "triplet.tail()"
      ],
      "execution_count": null,
      "outputs": [
        {
          "output_type": "execute_result",
          "data": {
            "text/html": [
              "<div>\n",
              "<style scoped>\n",
              "    .dataframe tbody tr th:only-of-type {\n",
              "        vertical-align: middle;\n",
              "    }\n",
              "\n",
              "    .dataframe tbody tr th {\n",
              "        vertical-align: top;\n",
              "    }\n",
              "\n",
              "    .dataframe thead th {\n",
              "        text-align: right;\n",
              "    }\n",
              "</style>\n",
              "<table border=\"1\" class=\"dataframe\">\n",
              "  <thead>\n",
              "    <tr style=\"text-align: right;\">\n",
              "      <th></th>\n",
              "      <th>user_id</th>\n",
              "      <th>song_id</th>\n",
              "      <th>play_count</th>\n",
              "    </tr>\n",
              "  </thead>\n",
              "  <tbody>\n",
              "    <tr>\n",
              "      <th>1450928</th>\n",
              "      <td>5e650759ebf89012044c6d52121eeada8b0ec814</td>\n",
              "      <td>SOVLNXV12A6D4F706E</td>\n",
              "      <td>1</td>\n",
              "    </tr>\n",
              "    <tr>\n",
              "      <th>1450929</th>\n",
              "      <td>5e650759ebf89012044c6d52121eeada8b0ec814</td>\n",
              "      <td>SOVDSJC12A58A7A271</td>\n",
              "      <td>2</td>\n",
              "    </tr>\n",
              "    <tr>\n",
              "      <th>1450930</th>\n",
              "      <td>5e650759ebf89012044c6d52121eeada8b0ec814</td>\n",
              "      <td>SOBRHVR12A8C133F35</td>\n",
              "      <td>2</td>\n",
              "    </tr>\n",
              "    <tr>\n",
              "      <th>1450931</th>\n",
              "      <td>5e650759ebf89012044c6d52121eeada8b0ec814</td>\n",
              "      <td>SOMGVYU12A8C1314FF</td>\n",
              "      <td>2</td>\n",
              "    </tr>\n",
              "    <tr>\n",
              "      <th>1450932</th>\n",
              "      <td>5e650759ebf89012044c6d52121eeada8b0ec814</td>\n",
              "      <td>SOTCMDJ12A6D4F8528</td>\n",
              "      <td>3</td>\n",
              "    </tr>\n",
              "  </tbody>\n",
              "</table>\n",
              "</div>"
            ],
            "text/plain": [
              "                                          user_id  ... play_count\n",
              "1450928  5e650759ebf89012044c6d52121eeada8b0ec814  ...          1\n",
              "1450929  5e650759ebf89012044c6d52121eeada8b0ec814  ...          2\n",
              "1450930  5e650759ebf89012044c6d52121eeada8b0ec814  ...          2\n",
              "1450931  5e650759ebf89012044c6d52121eeada8b0ec814  ...          2\n",
              "1450932  5e650759ebf89012044c6d52121eeada8b0ec814  ...          3\n",
              "\n",
              "[5 rows x 3 columns]"
            ]
          },
          "metadata": {
            "tags": []
          },
          "execution_count": 6
        }
      ]
    },
    {
      "cell_type": "code",
      "metadata": {
        "colab": {
          "base_uri": "https://localhost:8080/"
        },
        "id": "kqV3ci_S0WJp",
        "outputId": "07539134-425b-4187-93a1-cae0056c2d2f"
      },
      "source": [
        "triplet.info()"
      ],
      "execution_count": null,
      "outputs": [
        {
          "output_type": "stream",
          "text": [
            "<class 'pandas.core.frame.DataFrame'>\n",
            "RangeIndex: 1450933 entries, 0 to 1450932\n",
            "Data columns (total 3 columns):\n",
            " #   Column      Non-Null Count    Dtype \n",
            "---  ------      --------------    ----- \n",
            " 0   user_id     1450933 non-null  object\n",
            " 1   song_id     1450933 non-null  object\n",
            " 2   play_count  1450933 non-null  int64 \n",
            "dtypes: int64(1), object(2)\n",
            "memory usage: 33.2+ MB\n"
          ],
          "name": "stdout"
        }
      ]
    },
    {
      "cell_type": "markdown",
      "metadata": {
        "id": "Mhx8Yc0GOkF_"
      },
      "source": [
        "**Note**\n",
        "\n",
        "\n",
        "*   We are having 1450933 Entries With 3 Columns\n",
        "    *   user_id - Object\n",
        "    *   song_id - Object\n",
        "    *   play_count - Integer\n",
        "\n"
      ]
    },
    {
      "cell_type": "code",
      "metadata": {
        "colab": {
          "base_uri": "https://localhost:8080/",
          "height": 294
        },
        "id": "yTdDSl7q0WJq",
        "outputId": "20805939-391d-4a16-e4f8-31635ed7554b"
      },
      "source": [
        "triplet.describe()"
      ],
      "execution_count": null,
      "outputs": [
        {
          "output_type": "execute_result",
          "data": {
            "text/html": [
              "<div>\n",
              "<style scoped>\n",
              "    .dataframe tbody tr th:only-of-type {\n",
              "        vertical-align: middle;\n",
              "    }\n",
              "\n",
              "    .dataframe tbody tr th {\n",
              "        vertical-align: top;\n",
              "    }\n",
              "\n",
              "    .dataframe thead th {\n",
              "        text-align: right;\n",
              "    }\n",
              "</style>\n",
              "<table border=\"1\" class=\"dataframe\">\n",
              "  <thead>\n",
              "    <tr style=\"text-align: right;\">\n",
              "      <th></th>\n",
              "      <th>play_count</th>\n",
              "    </tr>\n",
              "  </thead>\n",
              "  <tbody>\n",
              "    <tr>\n",
              "      <th>count</th>\n",
              "      <td>1.450933e+06</td>\n",
              "    </tr>\n",
              "    <tr>\n",
              "      <th>mean</th>\n",
              "      <td>3.187149e+00</td>\n",
              "    </tr>\n",
              "    <tr>\n",
              "      <th>std</th>\n",
              "      <td>7.051664e+00</td>\n",
              "    </tr>\n",
              "    <tr>\n",
              "      <th>min</th>\n",
              "      <td>1.000000e+00</td>\n",
              "    </tr>\n",
              "    <tr>\n",
              "      <th>25%</th>\n",
              "      <td>1.000000e+00</td>\n",
              "    </tr>\n",
              "    <tr>\n",
              "      <th>50%</th>\n",
              "      <td>1.000000e+00</td>\n",
              "    </tr>\n",
              "    <tr>\n",
              "      <th>75%</th>\n",
              "      <td>3.000000e+00</td>\n",
              "    </tr>\n",
              "    <tr>\n",
              "      <th>max</th>\n",
              "      <td>9.230000e+02</td>\n",
              "    </tr>\n",
              "  </tbody>\n",
              "</table>\n",
              "</div>"
            ],
            "text/plain": [
              "         play_count\n",
              "count  1.450933e+06\n",
              "mean   3.187149e+00\n",
              "std    7.051664e+00\n",
              "min    1.000000e+00\n",
              "25%    1.000000e+00\n",
              "50%    1.000000e+00\n",
              "75%    3.000000e+00\n",
              "max    9.230000e+02"
            ]
          },
          "metadata": {
            "tags": []
          },
          "execution_count": 8
        }
      ]
    },
    {
      "cell_type": "code",
      "metadata": {
        "colab": {
          "base_uri": "https://localhost:8080/",
          "height": 171
        },
        "id": "wxFgSQda0WJq",
        "outputId": "e00159de-acfc-41a7-ebbe-95871a991209"
      },
      "source": [
        "triplet.describe(include='object')"
      ],
      "execution_count": null,
      "outputs": [
        {
          "output_type": "execute_result",
          "data": {
            "text/html": [
              "<div>\n",
              "<style scoped>\n",
              "    .dataframe tbody tr th:only-of-type {\n",
              "        vertical-align: middle;\n",
              "    }\n",
              "\n",
              "    .dataframe tbody tr th {\n",
              "        vertical-align: top;\n",
              "    }\n",
              "\n",
              "    .dataframe thead th {\n",
              "        text-align: right;\n",
              "    }\n",
              "</style>\n",
              "<table border=\"1\" class=\"dataframe\">\n",
              "  <thead>\n",
              "    <tr style=\"text-align: right;\">\n",
              "      <th></th>\n",
              "      <th>user_id</th>\n",
              "      <th>song_id</th>\n",
              "    </tr>\n",
              "  </thead>\n",
              "  <tbody>\n",
              "    <tr>\n",
              "      <th>count</th>\n",
              "      <td>1450933</td>\n",
              "      <td>1450933</td>\n",
              "    </tr>\n",
              "    <tr>\n",
              "      <th>unique</th>\n",
              "      <td>110000</td>\n",
              "      <td>163206</td>\n",
              "    </tr>\n",
              "    <tr>\n",
              "      <th>top</th>\n",
              "      <td>7d90be8dfdbde170f036ce8a4b915440137cb11c</td>\n",
              "      <td>SOFRQTD12A81C233C0</td>\n",
              "    </tr>\n",
              "    <tr>\n",
              "      <th>freq</th>\n",
              "      <td>53</td>\n",
              "      <td>5043</td>\n",
              "    </tr>\n",
              "  </tbody>\n",
              "</table>\n",
              "</div>"
            ],
            "text/plain": [
              "                                         user_id             song_id\n",
              "count                                    1450933             1450933\n",
              "unique                                    110000              163206\n",
              "top     7d90be8dfdbde170f036ce8a4b915440137cb11c  SOFRQTD12A81C233C0\n",
              "freq                                          53                5043"
            ]
          },
          "metadata": {
            "tags": []
          },
          "execution_count": 9
        }
      ]
    },
    {
      "cell_type": "markdown",
      "metadata": {
        "id": "jsbh2BInNmsb"
      },
      "source": [
        "**Note**\n",
        "\n",
        "\n",
        "*   No.of Unique Users : 110000\n",
        "*   No.of Unique Songs : 163206\n",
        "\n"
      ]
    },
    {
      "cell_type": "code",
      "metadata": {
        "colab": {
          "base_uri": "https://localhost:8080/"
        },
        "id": "M8Yaby6G0WJq",
        "outputId": "22f7049d-9181-4839-d239-59defe923fb7"
      },
      "source": [
        "for i in triplet.columns:\n",
        "    print(triplet.value_counts(i))\n",
        "    print(\"\\n \\n\")"
      ],
      "execution_count": null,
      "outputs": [
        {
          "output_type": "stream",
          "text": [
            "user_id\n",
            "7d90be8dfdbde170f036ce8a4b915440137cb11c    53\n",
            "d30e18323f15426c3cdc8585252ed34459916f51    52\n",
            "016a24e91a72c159a5048ab1b9b2ba5ce761b526    52\n",
            "03ad93fdb01506ce205f4708decf8e4b1ae90fff    52\n",
            "0f8308935bcbb9a1e04ebb7c4d41c037e5f23b90    52\n",
            "                                            ..\n",
            "18cb5d68334667324a9bac0a66f6579f34f43a31     5\n",
            "ae7a9eaf03f35908b8ffc420241f99e9c6057bf2     5\n",
            "5519a61514f2248435a70afad322568c1a1173eb     5\n",
            "47b83637c7726c40218552445e1dc9b906f0ad6d     5\n",
            "336c306c5df497a9cb4067c14d5b840ba1a1e272     5\n",
            "Length: 110000, dtype: int64\n",
            "\n",
            " \n",
            "\n",
            "song_id\n",
            "SOFRQTD12A81C233C0    5043\n",
            "SOAUWYT12A81C206F1    4483\n",
            "SOBONKR12A58A7A7E0    4136\n",
            "SOAXGDH12A8C13F8A1    3780\n",
            "SOSXLTC12AF72A7F54    3672\n",
            "                      ... \n",
            "SOQYUKJ12A8C137555       1\n",
            "SOQYUND12A8C13B91D       1\n",
            "SOHLOQG12A58A7C062       1\n",
            "SOHLOLN12A6D4FBB75       1\n",
            "SOSVEIH12A6D4F6C60       1\n",
            "Length: 163206, dtype: int64\n",
            "\n",
            " \n",
            "\n",
            "play_count\n",
            "1      839136\n",
            "2      213712\n",
            "3       95726\n",
            "5       73542\n",
            "4       55158\n",
            "        ...  \n",
            "262         1\n",
            "187         1\n",
            "259         1\n",
            "189         1\n",
            "923         1\n",
            "Length: 299, dtype: int64\n",
            "\n",
            " \n",
            "\n"
          ],
          "name": "stdout"
        }
      ]
    },
    {
      "cell_type": "markdown",
      "metadata": {
        "id": "m7U0SJHJ0WJr"
      },
      "source": [
        "### <center> 2.2.Check for Null Values </center>"
      ]
    },
    {
      "cell_type": "code",
      "metadata": {
        "colab": {
          "base_uri": "https://localhost:8080/"
        },
        "id": "ocR1wzEj0WJr",
        "outputId": "75fe511e-77a1-4c18-c109-47d3a22dd6d2"
      },
      "source": [
        "triplet.isnull().sum()"
      ],
      "execution_count": null,
      "outputs": [
        {
          "output_type": "execute_result",
          "data": {
            "text/plain": [
              "user_id       0\n",
              "song_id       0\n",
              "play_count    0\n",
              "dtype: int64"
            ]
          },
          "metadata": {
            "tags": []
          },
          "execution_count": 11
        }
      ]
    },
    {
      "cell_type": "markdown",
      "metadata": {
        "id": "heAqe8iQ0WJr"
      },
      "source": [
        "**Note**\n",
        "\n",
        "\n",
        "*   There are no values in any column\n",
        "\n"
      ]
    },
    {
      "cell_type": "markdown",
      "metadata": {
        "id": "X1qZ-Qhi0WJs"
      },
      "source": [
        "### <center>2.3Check for Outliers </center>"
      ]
    },
    {
      "cell_type": "code",
      "metadata": {
        "colab": {
          "base_uri": "https://localhost:8080/",
          "height": 606
        },
        "id": "J96Y7Kk_0WJu",
        "outputId": "67d340b5-08ee-4b2f-fa4c-229e8020f63e"
      },
      "source": [
        "plt.figure(figsize=(10,10))\n",
        "sns.boxplot(data = triplet, x = 'play_count')\n",
        "plt.show()"
      ],
      "execution_count": null,
      "outputs": [
        {
          "output_type": "display_data",
          "data": {
            "image/png": "[encoded data removed]",
            "text/plain": [
              "<Figure size 720x720 with 1 Axes>"
            ]
          },
          "metadata": {
            "tags": [],
            "needs_background": "light"
          }
        }
      ]
    },
    {
      "cell_type": "markdown",
      "metadata": {
        "id": "TOpB__Ak0WJv"
      },
      "source": [
        "**Note**\n",
        "*   We Can Observe Outliers  in the play_count column.\n",
        "\n",
        "\n",
        "\n"
      ]
    },
    {
      "cell_type": "markdown",
      "metadata": {
        "id": "hwcqZVOz0WJv"
      },
      "source": [
        "## <center> 3.Load Tracks dataframe </center>"
      ]
    },
    {
      "cell_type": "code",
      "metadata": {
        "id": "ped92opl0WJv"
      },
      "source": [
        "tracks = pd.read_csv('/content/drive/MyDrive/Colab Notebooks/Million Song Dataset/unique_tracks.txt',sep='<SEP>',\n",
        "                     names=['track_id','song_id','artist','release'])"
      ],
      "execution_count": null,
      "outputs": []
    },
    {
      "cell_type": "markdown",
      "metadata": {
        "id": "b5ZadjtJ0WJw"
      },
      "source": [
        "### <center> 3.1 Basic dataframe Analysis </center>"
      ]
    },
    {
      "cell_type": "code",
      "metadata": {
        "colab": {
          "base_uri": "https://localhost:8080/",
          "height": 202
        },
        "id": "e3w-3-yQ0WJw",
        "outputId": "5aae8b8e-0df2-46d8-d56c-b652924734df"
      },
      "source": [
        "tracks.head()"
      ],
      "execution_count": null,
      "outputs": [
        {
          "output_type": "execute_result",
          "data": {
            "text/html": [
              "<div>\n",
              "<style scoped>\n",
              "    .dataframe tbody tr th:only-of-type {\n",
              "        vertical-align: middle;\n",
              "    }\n",
              "\n",
              "    .dataframe tbody tr th {\n",
              "        vertical-align: top;\n",
              "    }\n",
              "\n",
              "    .dataframe thead th {\n",
              "        text-align: right;\n",
              "    }\n",
              "</style>\n",
              "<table border=\"1\" class=\"dataframe\">\n",
              "  <thead>\n",
              "    <tr style=\"text-align: right;\">\n",
              "      <th></th>\n",
              "      <th>track_id</th>\n",
              "      <th>song_id</th>\n",
              "      <th>artist</th>\n",
              "      <th>release</th>\n",
              "    </tr>\n",
              "  </thead>\n",
              "  <tbody>\n",
              "    <tr>\n",
              "      <th>0</th>\n",
              "      <td>TRMMMYQ128F932D901</td>\n",
              "      <td>SOQMMHC12AB0180CB8</td>\n",
              "      <td>Faster Pussy cat</td>\n",
              "      <td>Silent Night</td>\n",
              "    </tr>\n",
              "    <tr>\n",
              "      <th>1</th>\n",
              "      <td>TRMMMKD128F425225D</td>\n",
              "      <td>SOVFVAK12A8C1350D9</td>\n",
              "      <td>Karkkiautomaatti</td>\n",
              "      <td>Tanssi vaan</td>\n",
              "    </tr>\n",
              "    <tr>\n",
              "      <th>2</th>\n",
              "      <td>TRMMMRX128F93187D9</td>\n",
              "      <td>SOGTUKN12AB017F4F1</td>\n",
              "      <td>Hudson Mohawke</td>\n",
              "      <td>No One Could Ever</td>\n",
              "    </tr>\n",
              "    <tr>\n",
              "      <th>3</th>\n",
              "      <td>TRMMMCH128F425532C</td>\n",
              "      <td>SOBNYVR12A8C13558C</td>\n",
              "      <td>Yerba Brava</td>\n",
              "      <td>Si Vos Querés</td>\n",
              "    </tr>\n",
              "    <tr>\n",
              "      <th>4</th>\n",
              "      <td>TRMMMWA128F426B589</td>\n",
              "      <td>SOHSBXH12A8C13B0DF</td>\n",
              "      <td>Der Mystic</td>\n",
              "      <td>Tangle Of Aspens</td>\n",
              "    </tr>\n",
              "  </tbody>\n",
              "</table>\n",
              "</div>"
            ],
            "text/plain": [
              "             track_id             song_id            artist            release\n",
              "0  TRMMMYQ128F932D901  SOQMMHC12AB0180CB8  Faster Pussy cat       Silent Night\n",
              "1  TRMMMKD128F425225D  SOVFVAK12A8C1350D9  Karkkiautomaatti        Tanssi vaan\n",
              "2  TRMMMRX128F93187D9  SOGTUKN12AB017F4F1    Hudson Mohawke  No One Could Ever\n",
              "3  TRMMMCH128F425532C  SOBNYVR12A8C13558C       Yerba Brava      Si Vos Querés\n",
              "4  TRMMMWA128F426B589  SOHSBXH12A8C13B0DF        Der Mystic   Tangle Of Aspens"
            ]
          },
          "metadata": {
            "tags": []
          },
          "execution_count": 14
        }
      ]
    },
    {
      "cell_type": "code",
      "metadata": {
        "colab": {
          "base_uri": "https://localhost:8080/",
          "height": 202
        },
        "id": "f78SwP7e0WJw",
        "outputId": "d217c5de-205c-4a95-842d-940cfb355e14"
      },
      "source": [
        "tracks.tail()"
      ],
      "execution_count": null,
      "outputs": [
        {
          "output_type": "execute_result",
          "data": {
            "text/html": [
              "<div>\n",
              "<style scoped>\n",
              "    .dataframe tbody tr th:only-of-type {\n",
              "        vertical-align: middle;\n",
              "    }\n",
              "\n",
              "    .dataframe tbody tr th {\n",
              "        vertical-align: top;\n",
              "    }\n",
              "\n",
              "    .dataframe thead th {\n",
              "        text-align: right;\n",
              "    }\n",
              "</style>\n",
              "<table border=\"1\" class=\"dataframe\">\n",
              "  <thead>\n",
              "    <tr style=\"text-align: right;\">\n",
              "      <th></th>\n",
              "      <th>track_id</th>\n",
              "      <th>song_id</th>\n",
              "      <th>artist</th>\n",
              "      <th>release</th>\n",
              "    </tr>\n",
              "  </thead>\n",
              "  <tbody>\n",
              "    <tr>\n",
              "      <th>999995</th>\n",
              "      <td>TRYYYUS12903CD2DF0</td>\n",
              "      <td>SOTXAME12AB018F136</td>\n",
              "      <td>Kiko Navarro</td>\n",
              "      <td>O Samba Da Vida</td>\n",
              "    </tr>\n",
              "    <tr>\n",
              "      <th>999996</th>\n",
              "      <td>TRYYYJO128F426DA37</td>\n",
              "      <td>SOXQYIQ12A8C137FBB</td>\n",
              "      <td>Kuldeep Manak</td>\n",
              "      <td>Jago Chhadeo</td>\n",
              "    </tr>\n",
              "    <tr>\n",
              "      <th>999997</th>\n",
              "      <td>TRYYYMG128F4260ECA</td>\n",
              "      <td>SOHODZI12A8C137BB3</td>\n",
              "      <td>Gabriel Le Mar</td>\n",
              "      <td>Novemba</td>\n",
              "    </tr>\n",
              "    <tr>\n",
              "      <th>999998</th>\n",
              "      <td>TRYYYDJ128F9310A21</td>\n",
              "      <td>SOLXGOR12A81C21EB7</td>\n",
              "      <td>Elude</td>\n",
              "      <td>Faraday</td>\n",
              "    </tr>\n",
              "    <tr>\n",
              "      <th>999999</th>\n",
              "      <td>TRYYYVU12903CD01E3</td>\n",
              "      <td>SOWXJXQ12AB0189F43</td>\n",
              "      <td>Texta</td>\n",
              "      <td>Fernweh feat. Sektion Kuchikäschtli</td>\n",
              "    </tr>\n",
              "  </tbody>\n",
              "</table>\n",
              "</div>"
            ],
            "text/plain": [
              "                  track_id  ...                              release\n",
              "999995  TRYYYUS12903CD2DF0  ...                      O Samba Da Vida\n",
              "999996  TRYYYJO128F426DA37  ...                         Jago Chhadeo\n",
              "999997  TRYYYMG128F4260ECA  ...                              Novemba\n",
              "999998  TRYYYDJ128F9310A21  ...                              Faraday\n",
              "999999  TRYYYVU12903CD01E3  ...  Fernweh feat. Sektion Kuchikäschtli\n",
              "\n",
              "[5 rows x 4 columns]"
            ]
          },
          "metadata": {
            "tags": []
          },
          "execution_count": 15
        }
      ]
    },
    {
      "cell_type": "code",
      "metadata": {
        "colab": {
          "base_uri": "https://localhost:8080/"
        },
        "id": "j79XWrTZ0WJw",
        "outputId": "a9beb6c1-84eb-467d-e1fc-bb83f9bb7257"
      },
      "source": [
        "tracks.info()"
      ],
      "execution_count": null,
      "outputs": [
        {
          "output_type": "stream",
          "text": [
            "<class 'pandas.core.frame.DataFrame'>\n",
            "RangeIndex: 1000000 entries, 0 to 999999\n",
            "Data columns (total 4 columns):\n",
            " #   Column    Non-Null Count    Dtype \n",
            "---  ------    --------------    ----- \n",
            " 0   track_id  1000000 non-null  object\n",
            " 1   song_id   1000000 non-null  object\n",
            " 2   artist    1000000 non-null  object\n",
            " 3   release   999985 non-null   object\n",
            "dtypes: object(4)\n",
            "memory usage: 30.5+ MB\n"
          ],
          "name": "stdout"
        }
      ]
    },
    {
      "cell_type": "markdown",
      "metadata": {
        "id": "6QA3hpi4VkWi"
      },
      "source": [
        "**Note **\n",
        "\n",
        "*   We have information of 1 Million Songs which gives four features of each song\n",
        "  *   track_id - Object\n",
        "  *   song_id - Object\n",
        "  *   artist - Object\n",
        "  *   release - Object\n",
        "\n",
        "\n"
      ]
    },
    {
      "cell_type": "code",
      "metadata": {
        "colab": {
          "base_uri": "https://localhost:8080/",
          "height": 171
        },
        "id": "FDlB9sxl0WJx",
        "outputId": "40c349c0-60e5-4aa6-c37c-49affe8e4454"
      },
      "source": [
        "tracks.describe(include='object')"
      ],
      "execution_count": null,
      "outputs": [
        {
          "output_type": "execute_result",
          "data": {
            "text/html": [
              "<div>\n",
              "<style scoped>\n",
              "    .dataframe tbody tr th:only-of-type {\n",
              "        vertical-align: middle;\n",
              "    }\n",
              "\n",
              "    .dataframe tbody tr th {\n",
              "        vertical-align: top;\n",
              "    }\n",
              "\n",
              "    .dataframe thead th {\n",
              "        text-align: right;\n",
              "    }\n",
              "</style>\n",
              "<table border=\"1\" class=\"dataframe\">\n",
              "  <thead>\n",
              "    <tr style=\"text-align: right;\">\n",
              "      <th></th>\n",
              "      <th>track_id</th>\n",
              "      <th>song_id</th>\n",
              "      <th>artist</th>\n",
              "      <th>release</th>\n",
              "    </tr>\n",
              "  </thead>\n",
              "  <tbody>\n",
              "    <tr>\n",
              "      <th>count</th>\n",
              "      <td>1000000</td>\n",
              "      <td>1000000</td>\n",
              "      <td>1000000</td>\n",
              "      <td>999985</td>\n",
              "    </tr>\n",
              "    <tr>\n",
              "      <th>unique</th>\n",
              "      <td>1000000</td>\n",
              "      <td>999056</td>\n",
              "      <td>72665</td>\n",
              "      <td>702000</td>\n",
              "    </tr>\n",
              "    <tr>\n",
              "      <th>top</th>\n",
              "      <td>TRICPPB12903CDB7D2</td>\n",
              "      <td>SOQSEVR12A8C142841</td>\n",
              "      <td>Michael Jackson</td>\n",
              "      <td>Intro</td>\n",
              "    </tr>\n",
              "    <tr>\n",
              "      <th>freq</th>\n",
              "      <td>1</td>\n",
              "      <td>3</td>\n",
              "      <td>194</td>\n",
              "      <td>1511</td>\n",
              "    </tr>\n",
              "  </tbody>\n",
              "</table>\n",
              "</div>"
            ],
            "text/plain": [
              "                  track_id             song_id           artist release\n",
              "count              1000000             1000000          1000000  999985\n",
              "unique             1000000              999056            72665  702000\n",
              "top     TRICPPB12903CDB7D2  SOQSEVR12A8C142841  Michael Jackson   Intro\n",
              "freq                     1                   3              194    1511"
            ]
          },
          "metadata": {
            "tags": []
          },
          "execution_count": 17
        }
      ]
    },
    {
      "cell_type": "markdown",
      "metadata": {
        "id": "0IA0BGM1bKXQ"
      },
      "source": [
        "**We can observe there are duplicated values in song_id**"
      ]
    },
    {
      "cell_type": "code",
      "metadata": {
        "colab": {
          "base_uri": "https://localhost:8080/"
        },
        "id": "Hh-MYK0WftWO",
        "outputId": "e648d1e8-215e-4508-f5fa-8c4b4e6b97f6"
      },
      "source": [
        "print('Duplicated values in Song_id :', sum(tracks['song_id'].duplicated()))"
      ],
      "execution_count": null,
      "outputs": [
        {
          "output_type": "stream",
          "text": [
            "Duplicated values in Song_id : 944\n"
          ],
          "name": "stdout"
        }
      ]
    },
    {
      "cell_type": "markdown",
      "metadata": {
        "id": "XSoWSGDU0WJy"
      },
      "source": [
        "**Note**\n",
        "\n",
        "\n",
        "In the tracks dataframe, \n",
        "\n",
        "* There are about 1000000 unique track_ids\n",
        "* There are about 999056 unique song_ids\n",
        "* There are about 72665 unique artists\n",
        "* There are about 702059 unique releases \n",
        "* There are 944 Duplicated Values of Songs\n",
        "    \n"
      ]
    },
    {
      "cell_type": "code",
      "metadata": {
        "colab": {
          "base_uri": "https://localhost:8080/"
        },
        "id": "zxQiXdeS0WJx",
        "outputId": "266d53ee-80ab-472d-ac8f-22746b633d27"
      },
      "source": [
        "# Value Counts in each column\n",
        "for i in tracks.columns:\n",
        "    print(tracks.value_counts(i))\n",
        "    print(\"\\n \\n\")"
      ],
      "execution_count": null,
      "outputs": [
        {
          "output_type": "stream",
          "text": [
            "track_id\n",
            "TRZZZZZ12903D05E3A    1\n",
            "TRIQSBF12903D08196    1\n",
            "TRIQSAY128F428A83D    1\n",
            "TRIQSAT128F423D47E    1\n",
            "TRIQSAR12903CFB2D8    1\n",
            "                     ..\n",
            "TRRHOTX128F42559F1    1\n",
            "TRRHOTV12903D16143    1\n",
            "TRRHOTO12903CA05BC    1\n",
            "TRRHORW128F92D16F7    1\n",
            "TRAAAAK128F9318786    1\n",
            "Length: 1000000, dtype: int64\n",
            "\n",
            " \n",
            "\n",
            "song_id\n",
            "SOUVVMN12A8151E021    3\n",
            "SOEJCHA12A8151E03D    3\n",
            "SOHATSR12A6702045F    3\n",
            "SOQNMCD12A8C1383D4    3\n",
            "SOVSGJB12A8C13F772    3\n",
            "                     ..\n",
            "SOQNVDZ12AB01802B4    1\n",
            "SOQNVDV12A6D4F6F7D    1\n",
            "SOQNVDO12A8C131195    1\n",
            "SOQNVDA12A8C130B34    1\n",
            "SOAAABI12A8C13615F    1\n",
            "Length: 999056, dtype: int64\n",
            "\n",
            " \n",
            "\n",
            "artist\n",
            "Michael Jackson                            194\n",
            "Johnny Cash                                193\n",
            "Beastie Boys                               187\n",
            "Joan Baez                                  181\n",
            "Neil Diamond                               176\n",
            "                                          ... \n",
            "Greg Davis & Jeph Jerman                     1\n",
            "Greg Davis_ Sébastien Roux                   1\n",
            "Greg Edwards                                 1\n",
            "Greg Hawks & The Tremblers                   1\n",
            "\u001cLittle Louie\" Vega Feat. Arnold Jarvis      1\n",
            "Length: 72665, dtype: int64\n",
            "\n",
            " \n",
            "\n",
            "release\n",
            "Intro                                     1511\n",
            "Untitled                                   414\n",
            "Outro                                      350\n",
            "Interlude                                  298\n",
            "Home                                       237\n",
            "                                          ... \n",
            "Pilate's Dream (LP Version)                  1\n",
            "Pilate With The Crowd (Welease Wodger)       1\n",
            "Pilas                                        1\n",
            "Pilarica y Macarena                          1\n",
            "\\tLatch                                      1\n",
            "Length: 702000, dtype: int64\n",
            "\n",
            " \n",
            "\n"
          ],
          "name": "stdout"
        }
      ]
    },
    {
      "cell_type": "code",
      "metadata": {
        "colab": {
          "base_uri": "https://localhost:8080/"
        },
        "id": "vP69lIJZ0WJx",
        "outputId": "c9a7226e-3c6e-4314-897f-52204caaf298"
      },
      "source": [
        "#Unique Values in each column\n",
        "for i in tracks.columns:\n",
        "    print(tracks[i].unique())\n",
        "    print(\"\\n \\n\")"
      ],
      "execution_count": null,
      "outputs": [
        {
          "output_type": "stream",
          "text": [
            "['TRMMMYQ128F932D901' 'TRMMMKD128F425225D' 'TRMMMRX128F93187D9' ...\n",
            " 'TRYYYMG128F4260ECA' 'TRYYYDJ128F9310A21' 'TRYYYVU12903CD01E3']\n",
            "\n",
            " \n",
            "\n",
            "['SOQMMHC12AB0180CB8' 'SOVFVAK12A8C1350D9' 'SOGTUKN12AB017F4F1' ...\n",
            " 'SOHODZI12A8C137BB3' 'SOLXGOR12A81C21EB7' 'SOWXJXQ12AB0189F43']\n",
            "\n",
            " \n",
            "\n",
            "['Faster Pussy cat' 'Karkkiautomaatti' 'Hudson Mohawke' ...\n",
            " \"Pancho's Lament\"\n",
            " 'Ashley Tisdale/High School Musical Cast/Jemma McKenzie-Brown/Lucas Grabeel/Matt Prokop/Olesya Rulin/Vanessa Hudgens/Zac Efron'\n",
            " 'Killer Mike feat. Gangsta Pill and Nario of Grind Time Rap Gang']\n",
            "\n",
            " \n",
            "\n",
            "['Silent Night' 'Tanssi vaan' 'No One Could Ever' ... 'Jago Chhadeo'\n",
            " 'Novemba' 'Fernweh feat. Sektion Kuchikäschtli']\n",
            "\n",
            " \n",
            "\n"
          ],
          "name": "stdout"
        }
      ]
    },
    {
      "cell_type": "markdown",
      "metadata": {
        "id": "AKffnOZk0WJy"
      },
      "source": [
        "### <center> 3.2 Check for Null Values </center>"
      ]
    },
    {
      "cell_type": "code",
      "metadata": {
        "colab": {
          "base_uri": "https://localhost:8080/"
        },
        "id": "w37BYrG50WJy",
        "outputId": "92418755-739a-4f94-db93-08e98af494bb"
      },
      "source": [
        "tracks.isna().sum()"
      ],
      "execution_count": null,
      "outputs": [
        {
          "output_type": "execute_result",
          "data": {
            "text/plain": [
              "track_id     0\n",
              "song_id      0\n",
              "artist       0\n",
              "release     15\n",
              "dtype: int64"
            ]
          },
          "metadata": {
            "tags": []
          },
          "execution_count": 21
        }
      ]
    },
    {
      "cell_type": "markdown",
      "metadata": {
        "id": "WQfHMo1B0WJy"
      },
      "source": [
        "**Note**\n",
        "\n",
        "<p>\n",
        "\n",
        "There are 15 null values in the release column\n",
        "    \n",
        "</p>"
      ]
    },
    {
      "cell_type": "markdown",
      "metadata": {
        "id": "gJBNJHnp0WJy"
      },
      "source": [
        "### <center> 3.3 Check of Outliers </center>"
      ]
    },
    {
      "cell_type": "markdown",
      "metadata": {
        "id": "aiIM10OS0WJy"
      },
      "source": [
        "**Note**\n",
        "\n",
        "<p>\n",
        "\n",
        "All are categorical columns, outliers cannot be detected. \n",
        "    \n",
        "</p>"
      ]
    },
    {
      "cell_type": "markdown",
      "metadata": {
        "id": "2nHUB6FC0WJz"
      },
      "source": [
        "\n",
        "## <center> 4.Merge the dataset </center>"
      ]
    },
    {
      "cell_type": "code",
      "metadata": {
        "id": "sjNguwZ70WJz"
      },
      "source": [
        "df = pd.merge(triplet, tracks.drop_duplicates(['song_id']), on=\"song_id\", how=\"left\")"
      ],
      "execution_count": null,
      "outputs": []
    },
    {
      "cell_type": "markdown",
      "metadata": {
        "id": "yThkBARggbrW"
      },
      "source": [
        "**Duplicated values in Song_id are handled during Merging**"
      ]
    },
    {
      "cell_type": "markdown",
      "metadata": {
        "id": "D5iESuDN0WJz"
      },
      "source": [
        "###<center> 4.1 Basic dataframe Analysis </center>"
      ]
    },
    {
      "cell_type": "code",
      "metadata": {
        "colab": {
          "base_uri": "https://localhost:8080/",
          "height": 254
        },
        "id": "fXcO0Cs40WJz",
        "outputId": "712ff238-82d1-4cdd-9d51-dbfbaf34b41e"
      },
      "source": [
        "df.head()"
      ],
      "execution_count": null,
      "outputs": [
        {
          "output_type": "execute_result",
          "data": {
            "text/html": [
              "<div>\n",
              "<style scoped>\n",
              "    .dataframe tbody tr th:only-of-type {\n",
              "        vertical-align: middle;\n",
              "    }\n",
              "\n",
              "    .dataframe tbody tr th {\n",
              "        vertical-align: top;\n",
              "    }\n",
              "\n",
              "    .dataframe thead th {\n",
              "        text-align: right;\n",
              "    }\n",
              "</style>\n",
              "<table border=\"1\" class=\"dataframe\">\n",
              "  <thead>\n",
              "    <tr style=\"text-align: right;\">\n",
              "      <th></th>\n",
              "      <th>user_id</th>\n",
              "      <th>song_id</th>\n",
              "      <th>play_count</th>\n",
              "      <th>track_id</th>\n",
              "      <th>artist</th>\n",
              "      <th>release</th>\n",
              "    </tr>\n",
              "  </thead>\n",
              "  <tbody>\n",
              "    <tr>\n",
              "      <th>0</th>\n",
              "      <td>fd50c4007b68a3737fe052d5a4f78ce8aa117f3d</td>\n",
              "      <td>SOBONKR12A58A7A7E0</td>\n",
              "      <td>1</td>\n",
              "      <td>TRAEHHJ12903CF492F</td>\n",
              "      <td>Dwight Yoakam</td>\n",
              "      <td>You're The One</td>\n",
              "    </tr>\n",
              "    <tr>\n",
              "      <th>1</th>\n",
              "      <td>fd50c4007b68a3737fe052d5a4f78ce8aa117f3d</td>\n",
              "      <td>SOEGIYH12A6D4FC0E3</td>\n",
              "      <td>1</td>\n",
              "      <td>TRLGMFJ128F4217DBE</td>\n",
              "      <td>Barry Tuckwell/Academy of St Martin-in-the-Fie...</td>\n",
              "      <td>Horn Concerto No. 4 in E flat K495: II. Romanc...</td>\n",
              "    </tr>\n",
              "    <tr>\n",
              "      <th>2</th>\n",
              "      <td>fd50c4007b68a3737fe052d5a4f78ce8aa117f3d</td>\n",
              "      <td>SOFLJQZ12A6D4FADA6</td>\n",
              "      <td>1</td>\n",
              "      <td>TRTNDNE128F1486812</td>\n",
              "      <td>Cartola</td>\n",
              "      <td>Tive Sim</td>\n",
              "    </tr>\n",
              "    <tr>\n",
              "      <th>3</th>\n",
              "      <td>fd50c4007b68a3737fe052d5a4f78ce8aa117f3d</td>\n",
              "      <td>SOHTKMO12AB01843B0</td>\n",
              "      <td>1</td>\n",
              "      <td>TRASTUE128F930D488</td>\n",
              "      <td>Lonnie Gordon</td>\n",
              "      <td>Catch You Baby (Steve Pitron &amp; Max Sanna Radio...</td>\n",
              "    </tr>\n",
              "    <tr>\n",
              "      <th>4</th>\n",
              "      <td>fd50c4007b68a3737fe052d5a4f78ce8aa117f3d</td>\n",
              "      <td>SODQZCY12A6D4F9D11</td>\n",
              "      <td>1</td>\n",
              "      <td>TRFPLWO128F1486B9E</td>\n",
              "      <td>Miguel Calo</td>\n",
              "      <td>El Cuatrero</td>\n",
              "    </tr>\n",
              "  </tbody>\n",
              "</table>\n",
              "</div>"
            ],
            "text/plain": [
              "                                    user_id  ...                                            release\n",
              "0  fd50c4007b68a3737fe052d5a4f78ce8aa117f3d  ...                                     You're The One\n",
              "1  fd50c4007b68a3737fe052d5a4f78ce8aa117f3d  ...  Horn Concerto No. 4 in E flat K495: II. Romanc...\n",
              "2  fd50c4007b68a3737fe052d5a4f78ce8aa117f3d  ...                                           Tive Sim\n",
              "3  fd50c4007b68a3737fe052d5a4f78ce8aa117f3d  ...  Catch You Baby (Steve Pitron & Max Sanna Radio...\n",
              "4  fd50c4007b68a3737fe052d5a4f78ce8aa117f3d  ...                                        El Cuatrero\n",
              "\n",
              "[5 rows x 6 columns]"
            ]
          },
          "metadata": {
            "tags": []
          },
          "execution_count": 23
        }
      ]
    },
    {
      "cell_type": "code",
      "metadata": {
        "colab": {
          "base_uri": "https://localhost:8080/",
          "height": 219
        },
        "id": "O0tpcg9N0WJ0",
        "outputId": "97f69b87-d0de-42ff-924e-d03590f1e731"
      },
      "source": [
        "df.tail()"
      ],
      "execution_count": null,
      "outputs": [
        {
          "output_type": "execute_result",
          "data": {
            "text/html": [
              "<div>\n",
              "<style scoped>\n",
              "    .dataframe tbody tr th:only-of-type {\n",
              "        vertical-align: middle;\n",
              "    }\n",
              "\n",
              "    .dataframe tbody tr th {\n",
              "        vertical-align: top;\n",
              "    }\n",
              "\n",
              "    .dataframe thead th {\n",
              "        text-align: right;\n",
              "    }\n",
              "</style>\n",
              "<table border=\"1\" class=\"dataframe\">\n",
              "  <thead>\n",
              "    <tr style=\"text-align: right;\">\n",
              "      <th></th>\n",
              "      <th>user_id</th>\n",
              "      <th>song_id</th>\n",
              "      <th>play_count</th>\n",
              "      <th>track_id</th>\n",
              "      <th>artist</th>\n",
              "      <th>release</th>\n",
              "    </tr>\n",
              "  </thead>\n",
              "  <tbody>\n",
              "    <tr>\n",
              "      <th>1450928</th>\n",
              "      <td>5e650759ebf89012044c6d52121eeada8b0ec814</td>\n",
              "      <td>SOVLNXV12A6D4F706E</td>\n",
              "      <td>1</td>\n",
              "      <td>TRPLXFD128F1454961</td>\n",
              "      <td>Mos Def</td>\n",
              "      <td>Ms. Fat Booty</td>\n",
              "    </tr>\n",
              "    <tr>\n",
              "      <th>1450929</th>\n",
              "      <td>5e650759ebf89012044c6d52121eeada8b0ec814</td>\n",
              "      <td>SOVDSJC12A58A7A271</td>\n",
              "      <td>2</td>\n",
              "      <td>TRRBUQL12903CCE501</td>\n",
              "      <td>Sam Cooke</td>\n",
              "      <td>Ain't Misbehavin</td>\n",
              "    </tr>\n",
              "    <tr>\n",
              "      <th>1450930</th>\n",
              "      <td>5e650759ebf89012044c6d52121eeada8b0ec814</td>\n",
              "      <td>SOBRHVR12A8C133F35</td>\n",
              "      <td>2</td>\n",
              "      <td>TRHNKAU128F9300856</td>\n",
              "      <td>Southside Spinners</td>\n",
              "      <td>Luvstruck</td>\n",
              "    </tr>\n",
              "    <tr>\n",
              "      <th>1450931</th>\n",
              "      <td>5e650759ebf89012044c6d52121eeada8b0ec814</td>\n",
              "      <td>SOMGVYU12A8C1314FF</td>\n",
              "      <td>2</td>\n",
              "      <td>TRDULYN128F4248762</td>\n",
              "      <td>J. Karjalainen &amp; Mustat Lasit</td>\n",
              "      <td>Sinisten tähtien alla</td>\n",
              "    </tr>\n",
              "    <tr>\n",
              "      <th>1450932</th>\n",
              "      <td>5e650759ebf89012044c6d52121eeada8b0ec814</td>\n",
              "      <td>SOTCMDJ12A6D4F8528</td>\n",
              "      <td>3</td>\n",
              "      <td>TRZJNDO128EF343498</td>\n",
              "      <td>Angels and Airwaves</td>\n",
              "      <td>The Gift</td>\n",
              "    </tr>\n",
              "  </tbody>\n",
              "</table>\n",
              "</div>"
            ],
            "text/plain": [
              "                                          user_id  ...                release\n",
              "1450928  5e650759ebf89012044c6d52121eeada8b0ec814  ...          Ms. Fat Booty\n",
              "1450929  5e650759ebf89012044c6d52121eeada8b0ec814  ...       Ain't Misbehavin\n",
              "1450930  5e650759ebf89012044c6d52121eeada8b0ec814  ...              Luvstruck\n",
              "1450931  5e650759ebf89012044c6d52121eeada8b0ec814  ...  Sinisten tähtien alla\n",
              "1450932  5e650759ebf89012044c6d52121eeada8b0ec814  ...               The Gift\n",
              "\n",
              "[5 rows x 6 columns]"
            ]
          },
          "metadata": {
            "tags": []
          },
          "execution_count": 24
        }
      ]
    },
    {
      "cell_type": "code",
      "metadata": {
        "colab": {
          "base_uri": "https://localhost:8080/"
        },
        "id": "cJ5hE_8A0WJ0",
        "outputId": "64683277-5f5b-4a61-ba6b-56a09b3e4733"
      },
      "source": [
        "df.info()"
      ],
      "execution_count": null,
      "outputs": [
        {
          "output_type": "stream",
          "text": [
            "<class 'pandas.core.frame.DataFrame'>\n",
            "Int64Index: 1450933 entries, 0 to 1450932\n",
            "Data columns (total 6 columns):\n",
            " #   Column      Non-Null Count    Dtype \n",
            "---  ------      --------------    ----- \n",
            " 0   user_id     1450933 non-null  object\n",
            " 1   song_id     1450933 non-null  object\n",
            " 2   play_count  1450933 non-null  int64 \n",
            " 3   track_id    1450933 non-null  object\n",
            " 4   artist      1450933 non-null  object\n",
            " 5   release     1450932 non-null  object\n",
            "dtypes: int64(1), object(5)\n",
            "memory usage: 77.5+ MB\n"
          ],
          "name": "stdout"
        }
      ]
    },
    {
      "cell_type": "markdown",
      "metadata": {
        "id": "RfDEBMreTqVh"
      },
      "source": [
        "**Note**\n",
        "\n",
        "\n",
        "*   Now we have 1450933 with 6 coloumns\n",
        "\n"
      ]
    },
    {
      "cell_type": "code",
      "metadata": {
        "colab": {
          "base_uri": "https://localhost:8080/",
          "height": 171
        },
        "id": "9nzQrFrx0WJ0",
        "outputId": "474803e2-f8cf-4a1f-9abe-a1f21b8e6069"
      },
      "source": [
        "df.describe(include='object')"
      ],
      "execution_count": null,
      "outputs": [
        {
          "output_type": "execute_result",
          "data": {
            "text/html": [
              "<div>\n",
              "<style scoped>\n",
              "    .dataframe tbody tr th:only-of-type {\n",
              "        vertical-align: middle;\n",
              "    }\n",
              "\n",
              "    .dataframe tbody tr th {\n",
              "        vertical-align: top;\n",
              "    }\n",
              "\n",
              "    .dataframe thead th {\n",
              "        text-align: right;\n",
              "    }\n",
              "</style>\n",
              "<table border=\"1\" class=\"dataframe\">\n",
              "  <thead>\n",
              "    <tr style=\"text-align: right;\">\n",
              "      <th></th>\n",
              "      <th>user_id</th>\n",
              "      <th>song_id</th>\n",
              "      <th>track_id</th>\n",
              "      <th>artist</th>\n",
              "      <th>release</th>\n",
              "    </tr>\n",
              "  </thead>\n",
              "  <tbody>\n",
              "    <tr>\n",
              "      <th>count</th>\n",
              "      <td>1450933</td>\n",
              "      <td>1450933</td>\n",
              "      <td>1450933</td>\n",
              "      <td>1450933</td>\n",
              "      <td>1450932</td>\n",
              "    </tr>\n",
              "    <tr>\n",
              "      <th>unique</th>\n",
              "      <td>110000</td>\n",
              "      <td>163206</td>\n",
              "      <td>163206</td>\n",
              "      <td>28361</td>\n",
              "      <td>137622</td>\n",
              "    </tr>\n",
              "    <tr>\n",
              "      <th>top</th>\n",
              "      <td>7d90be8dfdbde170f036ce8a4b915440137cb11c</td>\n",
              "      <td>SOFRQTD12A81C233C0</td>\n",
              "      <td>TRDMBIJ128F4290431</td>\n",
              "      <td>Coldplay</td>\n",
              "      <td>Sehr kosmisch</td>\n",
              "    </tr>\n",
              "    <tr>\n",
              "      <th>freq</th>\n",
              "      <td>53</td>\n",
              "      <td>5043</td>\n",
              "      <td>5043</td>\n",
              "      <td>12279</td>\n",
              "      <td>5043</td>\n",
              "    </tr>\n",
              "  </tbody>\n",
              "</table>\n",
              "</div>"
            ],
            "text/plain": [
              "                                         user_id  ...        release\n",
              "count                                    1450933  ...        1450932\n",
              "unique                                    110000  ...         137622\n",
              "top     7d90be8dfdbde170f036ce8a4b915440137cb11c  ...  Sehr kosmisch\n",
              "freq                                          53  ...           5043\n",
              "\n",
              "[4 rows x 5 columns]"
            ]
          },
          "metadata": {
            "tags": []
          },
          "execution_count": 26
        }
      ]
    },
    {
      "cell_type": "markdown",
      "metadata": {
        "id": "L-90Ep190WJ1"
      },
      "source": [
        "**Note**\n",
        "\n",
        "\n",
        "\n",
        "In the merged dataset,    \n",
        "    \n",
        "* There are 110000 unique user_id\n",
        "* There are 163206 unique song_id\n",
        "* There are 163206 unique track_id\n",
        "* There are 28361 unique artist\n",
        "* There are 137626 unique song release\n",
        "    \n"
      ]
    },
    {
      "cell_type": "code",
      "metadata": {
        "colab": {
          "base_uri": "https://localhost:8080/"
        },
        "id": "eacbybms0WJ1",
        "outputId": "7a5f741c-1349-4ab4-87e7-41c853bdd1ea"
      },
      "source": [
        "for i in df.columns:\n",
        "    print(\"\\n \\n\")\n",
        "    print(df.value_counts(i))"
      ],
      "execution_count": null,
      "outputs": [
        {
          "output_type": "stream",
          "text": [
            "\n",
            " \n",
            "\n",
            "user_id\n",
            "7d90be8dfdbde170f036ce8a4b915440137cb11c    53\n",
            "d30e18323f15426c3cdc8585252ed34459916f51    52\n",
            "016a24e91a72c159a5048ab1b9b2ba5ce761b526    52\n",
            "03ad93fdb01506ce205f4708decf8e4b1ae90fff    52\n",
            "0f8308935bcbb9a1e04ebb7c4d41c037e5f23b90    52\n",
            "                                            ..\n",
            "18cb5d68334667324a9bac0a66f6579f34f43a31     5\n",
            "ae7a9eaf03f35908b8ffc420241f99e9c6057bf2     5\n",
            "5519a61514f2248435a70afad322568c1a1173eb     5\n",
            "47b83637c7726c40218552445e1dc9b906f0ad6d     5\n",
            "336c306c5df497a9cb4067c14d5b840ba1a1e272     5\n",
            "Length: 110000, dtype: int64\n",
            "\n",
            " \n",
            "\n",
            "song_id\n",
            "SOFRQTD12A81C233C0    5043\n",
            "SOAUWYT12A81C206F1    4483\n",
            "SOBONKR12A58A7A7E0    4136\n",
            "SOAXGDH12A8C13F8A1    3780\n",
            "SOSXLTC12AF72A7F54    3672\n",
            "                      ... \n",
            "SOQYUKJ12A8C137555       1\n",
            "SOQYUND12A8C13B91D       1\n",
            "SOHLOQG12A58A7C062       1\n",
            "SOHLOLN12A6D4FBB75       1\n",
            "SOSVEIH12A6D4F6C60       1\n",
            "Length: 163206, dtype: int64\n",
            "\n",
            " \n",
            "\n",
            "play_count\n",
            "1      839136\n",
            "2      213712\n",
            "3       95726\n",
            "5       73542\n",
            "4       55158\n",
            "        ...  \n",
            "262         1\n",
            "187         1\n",
            "259         1\n",
            "189         1\n",
            "923         1\n",
            "Length: 299, dtype: int64\n",
            "\n",
            " \n",
            "\n",
            "track_id\n",
            "TRDMBIJ128F4290431    5043\n",
            "TRGXQES128F42BA5EB    4483\n",
            "TRAEHHJ12903CF492F    4136\n",
            "TRHKJNX12903CEFCDF    3780\n",
            "TRONYHY128F92C9D11    3672\n",
            "                      ... \n",
            "TRVTCUF128F931461E       1\n",
            "TRKSDGR128F428EFB4       1\n",
            "TRKSDVU128F1460D70       1\n",
            "TRKSDZH128F932E9E4       1\n",
            "TRNAFVT128F92FF84A       1\n",
            "Length: 163206, dtype: int64\n",
            "\n",
            " \n",
            "\n",
            "artist\n",
            "Coldplay                         12279\n",
            "Kings Of Leon                     8514\n",
            "Florence + The Machine            8213\n",
            "Justin Bieber                     7669\n",
            "Jack Johnson                      6784\n",
            "                                 ...  \n",
            "Madreblu                             1\n",
            "Maddox Brothers & Rose               1\n",
            "Mad Professor / Mafia & Fluxy        1\n",
            "Chris Connelly and the Bells         1\n",
            "Özlem Tekin                          1\n",
            "Length: 28361, dtype: int64\n",
            "\n",
            " \n",
            "\n",
            "release\n",
            "Sehr kosmisch                       5043\n",
            "Undo                                4483\n",
            "You're The One                      4270\n",
            "Dog Days Are Over (Radio Edit)      3780\n",
            "Revelry                             3672\n",
            "                                    ... \n",
            "Making Dens                            1\n",
            "Making Flippy Floppy                   1\n",
            "Making Friends and Acquaintances       1\n",
            "Making Love                            1\n",
            "\u001cEf Ég Hefði Aldrei...                 1\n",
            "Length: 137622, dtype: int64\n"
          ],
          "name": "stdout"
        }
      ]
    },
    {
      "cell_type": "markdown",
      "metadata": {
        "id": "ch7TtkIJ0WJ1"
      },
      "source": [
        "### <center> 4.2 Check for Null values </center>"
      ]
    },
    {
      "cell_type": "code",
      "metadata": {
        "colab": {
          "base_uri": "https://localhost:8080/"
        },
        "id": "wSqbFJjo0WJ2",
        "outputId": "7bb80745-e1fe-41fc-dad6-5ff134b4c2b4"
      },
      "source": [
        "df.isna().sum()"
      ],
      "execution_count": null,
      "outputs": [
        {
          "output_type": "execute_result",
          "data": {
            "text/plain": [
              "user_id       0\n",
              "song_id       0\n",
              "play_count    0\n",
              "track_id      0\n",
              "artist        0\n",
              "release       1\n",
              "dtype: int64"
            ]
          },
          "metadata": {
            "tags": []
          },
          "execution_count": 28
        }
      ]
    },
    {
      "cell_type": "markdown",
      "metadata": {
        "id": "diDCwu_U0WJ2"
      },
      "source": [
        "**Note**\n",
        "*   There is one null value in release.\n",
        "\n",
        "\n",
        "\n"
      ]
    },
    {
      "cell_type": "markdown",
      "metadata": {
        "id": "okhl3MpT0WJ2"
      },
      "source": [
        "### <center> 4.3. Check for Outliers </center>"
      ]
    },
    {
      "cell_type": "code",
      "metadata": {
        "id": "85bsd6tw0WJ2"
      },
      "source": [
        "plt.figure(figsize=(5,5))\n",
        "sns.boxplot(data = df, x = 'play_count')\n",
        "plt.show()"
      ],
      "execution_count": null,
      "outputs": []
    },
    {
      "cell_type": "markdown",
      "metadata": {
        "id": "atLENdGd0WJ2"
      },
      "source": [
        "Note\n",
        "* Outliers are present in the play_count column."
      ]
    },
    {
      "cell_type": "markdown",
      "metadata": {
        "id": "QkNTYcX20WJ3"
      },
      "source": [
        "---\n",
        "## <center> 5. Statistical Analysis </center>"
      ]
    },
    {
      "cell_type": "code",
      "metadata": {
        "id": "QOmKCs6B0WJ3"
      },
      "source": [
        "#create a copy of dataframe, so that original is not altered\n",
        "\n",
        "song_df=df.copy()"
      ],
      "execution_count": null,
      "outputs": []
    },
    {
      "cell_type": "code",
      "metadata": {
        "id": "BO7L6zu80WJ4"
      },
      "source": [
        "# Drop feature track_id, since we need either song_id or track_id.\n",
        "\n",
        "song_df.drop('track_id',axis='columns', inplace=True)"
      ],
      "execution_count": null,
      "outputs": []
    },
    {
      "cell_type": "code",
      "metadata": {
        "id": "5RzQgteI0WJ4"
      },
      "source": [
        "# Let's create a new column so that you have song and artist together\n",
        "\n",
        "song_df['song']=df['artist']+ '-' + df['release']"
      ],
      "execution_count": null,
      "outputs": []
    },
    {
      "cell_type": "code",
      "metadata": {
        "colab": {
          "base_uri": "https://localhost:8080/",
          "height": 289
        },
        "id": "J_V-Dpss0WJ4",
        "outputId": "0940b15b-591b-47ea-d945-2a733e2476b2"
      },
      "source": [
        "# Let's see top 5 records of the dataframe\n",
        "\n",
        "song_df.head()"
      ],
      "execution_count": null,
      "outputs": [
        {
          "output_type": "execute_result",
          "data": {
            "text/html": [
              "<div>\n",
              "<style scoped>\n",
              "    .dataframe tbody tr th:only-of-type {\n",
              "        vertical-align: middle;\n",
              "    }\n",
              "\n",
              "    .dataframe tbody tr th {\n",
              "        vertical-align: top;\n",
              "    }\n",
              "\n",
              "    .dataframe thead th {\n",
              "        text-align: right;\n",
              "    }\n",
              "</style>\n",
              "<table border=\"1\" class=\"dataframe\">\n",
              "  <thead>\n",
              "    <tr style=\"text-align: right;\">\n",
              "      <th></th>\n",
              "      <th>user_id</th>\n",
              "      <th>song_id</th>\n",
              "      <th>play_count</th>\n",
              "      <th>artist</th>\n",
              "      <th>release</th>\n",
              "      <th>song</th>\n",
              "    </tr>\n",
              "  </thead>\n",
              "  <tbody>\n",
              "    <tr>\n",
              "      <th>0</th>\n",
              "      <td>fd50c4007b68a3737fe052d5a4f78ce8aa117f3d</td>\n",
              "      <td>SOBONKR12A58A7A7E0</td>\n",
              "      <td>1</td>\n",
              "      <td>Dwight Yoakam</td>\n",
              "      <td>You're The One</td>\n",
              "      <td>Dwight Yoakam-You're The One</td>\n",
              "    </tr>\n",
              "    <tr>\n",
              "      <th>1</th>\n",
              "      <td>fd50c4007b68a3737fe052d5a4f78ce8aa117f3d</td>\n",
              "      <td>SOEGIYH12A6D4FC0E3</td>\n",
              "      <td>1</td>\n",
              "      <td>Barry Tuckwell/Academy of St Martin-in-the-Fie...</td>\n",
              "      <td>Horn Concerto No. 4 in E flat K495: II. Romanc...</td>\n",
              "      <td>Barry Tuckwell/Academy of St Martin-in-the-Fie...</td>\n",
              "    </tr>\n",
              "    <tr>\n",
              "      <th>2</th>\n",
              "      <td>fd50c4007b68a3737fe052d5a4f78ce8aa117f3d</td>\n",
              "      <td>SOFLJQZ12A6D4FADA6</td>\n",
              "      <td>1</td>\n",
              "      <td>Cartola</td>\n",
              "      <td>Tive Sim</td>\n",
              "      <td>Cartola-Tive Sim</td>\n",
              "    </tr>\n",
              "    <tr>\n",
              "      <th>3</th>\n",
              "      <td>fd50c4007b68a3737fe052d5a4f78ce8aa117f3d</td>\n",
              "      <td>SOHTKMO12AB01843B0</td>\n",
              "      <td>1</td>\n",
              "      <td>Lonnie Gordon</td>\n",
              "      <td>Catch You Baby (Steve Pitron &amp; Max Sanna Radio...</td>\n",
              "      <td>Lonnie Gordon-Catch You Baby (Steve Pitron &amp; M...</td>\n",
              "    </tr>\n",
              "    <tr>\n",
              "      <th>4</th>\n",
              "      <td>fd50c4007b68a3737fe052d5a4f78ce8aa117f3d</td>\n",
              "      <td>SODQZCY12A6D4F9D11</td>\n",
              "      <td>1</td>\n",
              "      <td>Miguel Calo</td>\n",
              "      <td>El Cuatrero</td>\n",
              "      <td>Miguel Calo-El Cuatrero</td>\n",
              "    </tr>\n",
              "  </tbody>\n",
              "</table>\n",
              "</div>"
            ],
            "text/plain": [
              "                                    user_id  ...                                               song\n",
              "0  fd50c4007b68a3737fe052d5a4f78ce8aa117f3d  ...                       Dwight Yoakam-You're The One\n",
              "1  fd50c4007b68a3737fe052d5a4f78ce8aa117f3d  ...  Barry Tuckwell/Academy of St Martin-in-the-Fie...\n",
              "2  fd50c4007b68a3737fe052d5a4f78ce8aa117f3d  ...                                   Cartola-Tive Sim\n",
              "3  fd50c4007b68a3737fe052d5a4f78ce8aa117f3d  ...  Lonnie Gordon-Catch You Baby (Steve Pitron & M...\n",
              "4  fd50c4007b68a3737fe052d5a4f78ce8aa117f3d  ...                            Miguel Calo-El Cuatrero\n",
              "\n",
              "[5 rows x 6 columns]"
            ]
          },
          "metadata": {
            "tags": []
          },
          "execution_count": 33
        }
      ]
    },
    {
      "cell_type": "code",
      "metadata": {
        "colab": {
          "base_uri": "https://localhost:8080/",
          "height": 271
        },
        "id": "BSxyVw-E0WJ4",
        "outputId": "c6a7e7b5-e533-4b96-ca88-f063e2f2c660"
      },
      "source": [
        "# Let's see last 5 records of the dataframe\n",
        "\n",
        "song_df.tail()"
      ],
      "execution_count": null,
      "outputs": [
        {
          "output_type": "execute_result",
          "data": {
            "text/html": [
              "<div>\n",
              "<style scoped>\n",
              "    .dataframe tbody tr th:only-of-type {\n",
              "        vertical-align: middle;\n",
              "    }\n",
              "\n",
              "    .dataframe tbody tr th {\n",
              "        vertical-align: top;\n",
              "    }\n",
              "\n",
              "    .dataframe thead th {\n",
              "        text-align: right;\n",
              "    }\n",
              "</style>\n",
              "<table border=\"1\" class=\"dataframe\">\n",
              "  <thead>\n",
              "    <tr style=\"text-align: right;\">\n",
              "      <th></th>\n",
              "      <th>user_id</th>\n",
              "      <th>song_id</th>\n",
              "      <th>play_count</th>\n",
              "      <th>artist</th>\n",
              "      <th>release</th>\n",
              "      <th>song</th>\n",
              "    </tr>\n",
              "  </thead>\n",
              "  <tbody>\n",
              "    <tr>\n",
              "      <th>1450928</th>\n",
              "      <td>5e650759ebf89012044c6d52121eeada8b0ec814</td>\n",
              "      <td>SOVLNXV12A6D4F706E</td>\n",
              "      <td>1</td>\n",
              "      <td>Mos Def</td>\n",
              "      <td>Ms. Fat Booty</td>\n",
              "      <td>Mos Def-Ms. Fat Booty</td>\n",
              "    </tr>\n",
              "    <tr>\n",
              "      <th>1450929</th>\n",
              "      <td>5e650759ebf89012044c6d52121eeada8b0ec814</td>\n",
              "      <td>SOVDSJC12A58A7A271</td>\n",
              "      <td>2</td>\n",
              "      <td>Sam Cooke</td>\n",
              "      <td>Ain't Misbehavin</td>\n",
              "      <td>Sam Cooke-Ain't Misbehavin</td>\n",
              "    </tr>\n",
              "    <tr>\n",
              "      <th>1450930</th>\n",
              "      <td>5e650759ebf89012044c6d52121eeada8b0ec814</td>\n",
              "      <td>SOBRHVR12A8C133F35</td>\n",
              "      <td>2</td>\n",
              "      <td>Southside Spinners</td>\n",
              "      <td>Luvstruck</td>\n",
              "      <td>Southside Spinners-Luvstruck</td>\n",
              "    </tr>\n",
              "    <tr>\n",
              "      <th>1450931</th>\n",
              "      <td>5e650759ebf89012044c6d52121eeada8b0ec814</td>\n",
              "      <td>SOMGVYU12A8C1314FF</td>\n",
              "      <td>2</td>\n",
              "      <td>J. Karjalainen &amp; Mustat Lasit</td>\n",
              "      <td>Sinisten tähtien alla</td>\n",
              "      <td>J. Karjalainen &amp; Mustat Lasit-Sinisten tähtien...</td>\n",
              "    </tr>\n",
              "    <tr>\n",
              "      <th>1450932</th>\n",
              "      <td>5e650759ebf89012044c6d52121eeada8b0ec814</td>\n",
              "      <td>SOTCMDJ12A6D4F8528</td>\n",
              "      <td>3</td>\n",
              "      <td>Angels and Airwaves</td>\n",
              "      <td>The Gift</td>\n",
              "      <td>Angels and Airwaves-The Gift</td>\n",
              "    </tr>\n",
              "  </tbody>\n",
              "</table>\n",
              "</div>"
            ],
            "text/plain": [
              "                                          user_id  ...                                               song\n",
              "1450928  5e650759ebf89012044c6d52121eeada8b0ec814  ...                              Mos Def-Ms. Fat Booty\n",
              "1450929  5e650759ebf89012044c6d52121eeada8b0ec814  ...                         Sam Cooke-Ain't Misbehavin\n",
              "1450930  5e650759ebf89012044c6d52121eeada8b0ec814  ...                       Southside Spinners-Luvstruck\n",
              "1450931  5e650759ebf89012044c6d52121eeada8b0ec814  ...  J. Karjalainen & Mustat Lasit-Sinisten tähtien...\n",
              "1450932  5e650759ebf89012044c6d52121eeada8b0ec814  ...                       Angels and Airwaves-The Gift\n",
              "\n",
              "[5 rows x 6 columns]"
            ]
          },
          "metadata": {
            "tags": []
          },
          "execution_count": 34
        }
      ]
    },
    {
      "cell_type": "code",
      "metadata": {
        "id": "FdcDPRRI0WJ4"
      },
      "source": [
        "# We have what we need to use an Tabuleau tool to perform data analysis, we will go ahead and save it\n",
        "song_df.to_csv('MSD.csv')"
      ],
      "execution_count": null,
      "outputs": []
    },
    {
      "cell_type": "markdown",
      "metadata": {
        "id": "p9lAbKNz0WJ5"
      },
      "source": [
        "### <center>5.1 Analysis based on User </center>"
      ]
    },
    {
      "cell_type": "code",
      "metadata": {
        "id": "GXOEJMsS0WJ5"
      },
      "source": [
        "#create a dataframe to view just user_id and play_count\n",
        "user_grouped = song_df.groupby(['user_id']).agg({'play_count':'count'}).reset_index()"
      ],
      "execution_count": null,
      "outputs": []
    },
    {
      "cell_type": "code",
      "metadata": {
        "colab": {
          "base_uri": "https://localhost:8080/",
          "height": 662
        },
        "id": "k4NfnRi20WJ5",
        "outputId": "5290d887-8591-46a6-d328-f177c6b85865"
      },
      "source": [
        "# Top 20 rows of the descendically ordered dataframe based on play_count\n",
        "user_grouped.sort_values('play_count').head(20)"
      ],
      "execution_count": null,
      "outputs": [
        {
          "output_type": "execute_result",
          "data": {
            "text/html": [
              "<div>\n",
              "<style scoped>\n",
              "    .dataframe tbody tr th:only-of-type {\n",
              "        vertical-align: middle;\n",
              "    }\n",
              "\n",
              "    .dataframe tbody tr th {\n",
              "        vertical-align: top;\n",
              "    }\n",
              "\n",
              "    .dataframe thead th {\n",
              "        text-align: right;\n",
              "    }\n",
              "</style>\n",
              "<table border=\"1\" class=\"dataframe\">\n",
              "  <thead>\n",
              "    <tr style=\"text-align: right;\">\n",
              "      <th></th>\n",
              "      <th>user_id</th>\n",
              "      <th>play_count</th>\n",
              "    </tr>\n",
              "  </thead>\n",
              "  <tbody>\n",
              "    <tr>\n",
              "      <th>22162</th>\n",
              "      <td>336c306c5df497a9cb4067c14d5b840ba1a1e272</td>\n",
              "      <td>5</td>\n",
              "    </tr>\n",
              "    <tr>\n",
              "      <th>30835</th>\n",
              "      <td>47b83637c7726c40218552445e1dc9b906f0ad6d</td>\n",
              "      <td>5</td>\n",
              "    </tr>\n",
              "    <tr>\n",
              "      <th>36524</th>\n",
              "      <td>5519a61514f2248435a70afad322568c1a1173eb</td>\n",
              "      <td>5</td>\n",
              "    </tr>\n",
              "    <tr>\n",
              "      <th>74891</th>\n",
              "      <td>ae7a9eaf03f35908b8ffc420241f99e9c6057bf2</td>\n",
              "      <td>5</td>\n",
              "    </tr>\n",
              "    <tr>\n",
              "      <th>10696</th>\n",
              "      <td>18cb5d68334667324a9bac0a66f6579f34f43a31</td>\n",
              "      <td>5</td>\n",
              "    </tr>\n",
              "    <tr>\n",
              "      <th>86060</th>\n",
              "      <td>c85a26afa43264fab15fcbace8fc8213ad6f52d9</td>\n",
              "      <td>5</td>\n",
              "    </tr>\n",
              "    <tr>\n",
              "      <th>86062</th>\n",
              "      <td>c85a7144791b1e1c001996c983ec361491490d44</td>\n",
              "      <td>5</td>\n",
              "    </tr>\n",
              "    <tr>\n",
              "      <th>68404</th>\n",
              "      <td>9f569df5e85e7bf7df348bd814a8beda50f205b5</td>\n",
              "      <td>5</td>\n",
              "    </tr>\n",
              "    <tr>\n",
              "      <th>36519</th>\n",
              "      <td>55149c41653b0f825f9edc4d670eac463079cc85</td>\n",
              "      <td>5</td>\n",
              "    </tr>\n",
              "    <tr>\n",
              "      <th>97733</th>\n",
              "      <td>e3712533767b2d8c04050a1503fe6a5afcc9b97f</td>\n",
              "      <td>5</td>\n",
              "    </tr>\n",
              "    <tr>\n",
              "      <th>53890</th>\n",
              "      <td>7d7ce7067f2171973767840c3a992762e626e7d5</td>\n",
              "      <td>5</td>\n",
              "    </tr>\n",
              "    <tr>\n",
              "      <th>86063</th>\n",
              "      <td>c85ae5f106daf061013cdaff2db29337b172f972</td>\n",
              "      <td>5</td>\n",
              "    </tr>\n",
              "    <tr>\n",
              "      <th>20880</th>\n",
              "      <td>30535ebce821fa2a9e39e270463120d3df2c5555</td>\n",
              "      <td>5</td>\n",
              "    </tr>\n",
              "    <tr>\n",
              "      <th>97730</th>\n",
              "      <td>e36cea1d131686a3353fcb83a9919afb20390427</td>\n",
              "      <td>5</td>\n",
              "    </tr>\n",
              "    <tr>\n",
              "      <th>68405</th>\n",
              "      <td>9f56e7208e8f1174d2b7ec582c47ead5c59d6584</td>\n",
              "      <td>5</td>\n",
              "    </tr>\n",
              "    <tr>\n",
              "      <th>74889</th>\n",
              "      <td>ae79ce10102b89c0410352b6ef1fd44fc6b1c9bc</td>\n",
              "      <td>5</td>\n",
              "    </tr>\n",
              "    <tr>\n",
              "      <th>68410</th>\n",
              "      <td>9f58b016f9a2fbd6264866f5db04923ce7f38f8b</td>\n",
              "      <td>5</td>\n",
              "    </tr>\n",
              "    <tr>\n",
              "      <th>30839</th>\n",
              "      <td>47baa33d32c08b64a92c30cb1c7ee2c69dc496d6</td>\n",
              "      <td>5</td>\n",
              "    </tr>\n",
              "    <tr>\n",
              "      <th>97728</th>\n",
              "      <td>e36a5ec97a1feb0ab52d296bd1177ebe9ec32272</td>\n",
              "      <td>5</td>\n",
              "    </tr>\n",
              "    <tr>\n",
              "      <th>60111</th>\n",
              "      <td>8c0836f849b8e3629f428095dbfdbb4d6994c787</td>\n",
              "      <td>5</td>\n",
              "    </tr>\n",
              "  </tbody>\n",
              "</table>\n",
              "</div>"
            ],
            "text/plain": [
              "                                        user_id  play_count\n",
              "22162  336c306c5df497a9cb4067c14d5b840ba1a1e272           5\n",
              "30835  47b83637c7726c40218552445e1dc9b906f0ad6d           5\n",
              "36524  5519a61514f2248435a70afad322568c1a1173eb           5\n",
              "74891  ae7a9eaf03f35908b8ffc420241f99e9c6057bf2           5\n",
              "10696  18cb5d68334667324a9bac0a66f6579f34f43a31           5\n",
              "86060  c85a26afa43264fab15fcbace8fc8213ad6f52d9           5\n",
              "86062  c85a7144791b1e1c001996c983ec361491490d44           5\n",
              "68404  9f569df5e85e7bf7df348bd814a8beda50f205b5           5\n",
              "36519  55149c41653b0f825f9edc4d670eac463079cc85           5\n",
              "97733  e3712533767b2d8c04050a1503fe6a5afcc9b97f           5\n",
              "53890  7d7ce7067f2171973767840c3a992762e626e7d5           5\n",
              "86063  c85ae5f106daf061013cdaff2db29337b172f972           5\n",
              "20880  30535ebce821fa2a9e39e270463120d3df2c5555           5\n",
              "97730  e36cea1d131686a3353fcb83a9919afb20390427           5\n",
              "68405  9f56e7208e8f1174d2b7ec582c47ead5c59d6584           5\n",
              "74889  ae79ce10102b89c0410352b6ef1fd44fc6b1c9bc           5\n",
              "68410  9f58b016f9a2fbd6264866f5db04923ce7f38f8b           5\n",
              "30839  47baa33d32c08b64a92c30cb1c7ee2c69dc496d6           5\n",
              "97728  e36a5ec97a1feb0ab52d296bd1177ebe9ec32272           5\n",
              "60111  8c0836f849b8e3629f428095dbfdbb4d6994c787           5"
            ]
          },
          "metadata": {
            "tags": []
          },
          "execution_count": 37
        }
      ]
    },
    {
      "cell_type": "code",
      "metadata": {
        "colab": {
          "base_uri": "https://localhost:8080/",
          "height": 662
        },
        "id": "lM2o0bWJ0WJ5",
        "outputId": "8c7b8a8b-006c-44d1-d0e6-5fafef15d71c"
      },
      "source": [
        "# Top 20 rows of the descendically ordered dataframe based on play_count\n",
        "user_grouped.sort_values('play_count').tail(20)"
      ],
      "execution_count": null,
      "outputs": [
        {
          "output_type": "execute_result",
          "data": {
            "text/html": [
              "<div>\n",
              "<style scoped>\n",
              "    .dataframe tbody tr th:only-of-type {\n",
              "        vertical-align: middle;\n",
              "    }\n",
              "\n",
              "    .dataframe tbody tr th {\n",
              "        vertical-align: top;\n",
              "    }\n",
              "\n",
              "    .dataframe thead th {\n",
              "        text-align: right;\n",
              "    }\n",
              "</style>\n",
              "<table border=\"1\" class=\"dataframe\">\n",
              "  <thead>\n",
              "    <tr style=\"text-align: right;\">\n",
              "      <th></th>\n",
              "      <th>user_id</th>\n",
              "      <th>play_count</th>\n",
              "    </tr>\n",
              "  </thead>\n",
              "  <tbody>\n",
              "    <tr>\n",
              "      <th>53975</th>\n",
              "      <td>7db2077964762a3889dd4d61444a8ba254b6365d</td>\n",
              "      <td>50</td>\n",
              "    </tr>\n",
              "    <tr>\n",
              "      <th>85687</th>\n",
              "      <td>c77574174ffe7118d90ac95c6671ff840858806a</td>\n",
              "      <td>50</td>\n",
              "    </tr>\n",
              "    <tr>\n",
              "      <th>13619</th>\n",
              "      <td>1fb619ced83fb4f92d4098709d7331b30e5e691c</td>\n",
              "      <td>50</td>\n",
              "    </tr>\n",
              "    <tr>\n",
              "      <th>86980</th>\n",
              "      <td>ca885bed5d391ccc0fda84e8eb4441e005f68bcd</td>\n",
              "      <td>50</td>\n",
              "    </tr>\n",
              "    <tr>\n",
              "      <th>74342</th>\n",
              "      <td>ad4b2717e89766b66b96fe52a38736116e315874</td>\n",
              "      <td>50</td>\n",
              "    </tr>\n",
              "    <tr>\n",
              "      <th>78924</th>\n",
              "      <td>b7bc5c9ea762079424d014c1b4e05e1d65d68861</td>\n",
              "      <td>50</td>\n",
              "    </tr>\n",
              "    <tr>\n",
              "      <th>66537</th>\n",
              "      <td>9b0f827c8bad0cf089b0d778307e1b390f463730</td>\n",
              "      <td>50</td>\n",
              "    </tr>\n",
              "    <tr>\n",
              "      <th>79643</th>\n",
              "      <td>b976263ea6b444c431759549a75b3650c66183a6</td>\n",
              "      <td>50</td>\n",
              "    </tr>\n",
              "    <tr>\n",
              "      <th>65684</th>\n",
              "      <td>992fea335363e87217e1b052fd7380b3fd7e35b4</td>\n",
              "      <td>51</td>\n",
              "    </tr>\n",
              "    <tr>\n",
              "      <th>21323</th>\n",
              "      <td>316110734d8da7478cc33237458814f770a9eb7a</td>\n",
              "      <td>51</td>\n",
              "    </tr>\n",
              "    <tr>\n",
              "      <th>64941</th>\n",
              "      <td>9769ebffc543fa42b58daf6f52f8816abf5f408e</td>\n",
              "      <td>51</td>\n",
              "    </tr>\n",
              "    <tr>\n",
              "      <th>100331</th>\n",
              "      <td>e99ef008f893efd071a7a77be6f1e8d23b962278</td>\n",
              "      <td>51</td>\n",
              "    </tr>\n",
              "    <tr>\n",
              "      <th>54171</th>\n",
              "      <td>7e27789eae69bc946c51833c0b833a49c58ed9ed</td>\n",
              "      <td>51</td>\n",
              "    </tr>\n",
              "    <tr>\n",
              "      <th>96486</th>\n",
              "      <td>e08848e92427e9ef8add59a1264c484e1078d5a5</td>\n",
              "      <td>51</td>\n",
              "    </tr>\n",
              "    <tr>\n",
              "      <th>19962</th>\n",
              "      <td>2e424b28bff1f62a2dae22a918f09f9c30c06d1b</td>\n",
              "      <td>52</td>\n",
              "    </tr>\n",
              "    <tr>\n",
              "      <th>6694</th>\n",
              "      <td>0f8308935bcbb9a1e04ebb7c4d41c037e5f23b90</td>\n",
              "      <td>52</td>\n",
              "    </tr>\n",
              "    <tr>\n",
              "      <th>1597</th>\n",
              "      <td>03ad93fdb01506ce205f4708decf8e4b1ae90fff</td>\n",
              "      <td>52</td>\n",
              "    </tr>\n",
              "    <tr>\n",
              "      <th>643</th>\n",
              "      <td>016a24e91a72c159a5048ab1b9b2ba5ce761b526</td>\n",
              "      <td>52</td>\n",
              "    </tr>\n",
              "    <tr>\n",
              "      <th>90678</th>\n",
              "      <td>d30e18323f15426c3cdc8585252ed34459916f51</td>\n",
              "      <td>52</td>\n",
              "    </tr>\n",
              "    <tr>\n",
              "      <th>53921</th>\n",
              "      <td>7d90be8dfdbde170f036ce8a4b915440137cb11c</td>\n",
              "      <td>53</td>\n",
              "    </tr>\n",
              "  </tbody>\n",
              "</table>\n",
              "</div>"
            ],
            "text/plain": [
              "                                         user_id  play_count\n",
              "53975   7db2077964762a3889dd4d61444a8ba254b6365d          50\n",
              "85687   c77574174ffe7118d90ac95c6671ff840858806a          50\n",
              "13619   1fb619ced83fb4f92d4098709d7331b30e5e691c          50\n",
              "86980   ca885bed5d391ccc0fda84e8eb4441e005f68bcd          50\n",
              "74342   ad4b2717e89766b66b96fe52a38736116e315874          50\n",
              "78924   b7bc5c9ea762079424d014c1b4e05e1d65d68861          50\n",
              "66537   9b0f827c8bad0cf089b0d778307e1b390f463730          50\n",
              "79643   b976263ea6b444c431759549a75b3650c66183a6          50\n",
              "65684   992fea335363e87217e1b052fd7380b3fd7e35b4          51\n",
              "21323   316110734d8da7478cc33237458814f770a9eb7a          51\n",
              "64941   9769ebffc543fa42b58daf6f52f8816abf5f408e          51\n",
              "100331  e99ef008f893efd071a7a77be6f1e8d23b962278          51\n",
              "54171   7e27789eae69bc946c51833c0b833a49c58ed9ed          51\n",
              "96486   e08848e92427e9ef8add59a1264c484e1078d5a5          51\n",
              "19962   2e424b28bff1f62a2dae22a918f09f9c30c06d1b          52\n",
              "6694    0f8308935bcbb9a1e04ebb7c4d41c037e5f23b90          52\n",
              "1597    03ad93fdb01506ce205f4708decf8e4b1ae90fff          52\n",
              "643     016a24e91a72c159a5048ab1b9b2ba5ce761b526          52\n",
              "90678   d30e18323f15426c3cdc8585252ed34459916f51          52\n",
              "53921   7d90be8dfdbde170f036ce8a4b915440137cb11c          53"
            ]
          },
          "metadata": {
            "tags": []
          },
          "execution_count": 38
        }
      ]
    },
    {
      "cell_type": "code",
      "metadata": {
        "colab": {
          "base_uri": "https://localhost:8080/"
        },
        "id": "427aHsWU0WJ5",
        "outputId": "3a1b0bae-cad1-4c4b-fdc2-8a670fe74c0a"
      },
      "source": [
        "user_grouped.sort_values('play_count').shape"
      ],
      "execution_count": null,
      "outputs": [
        {
          "output_type": "execute_result",
          "data": {
            "text/plain": [
              "(110000, 2)"
            ]
          },
          "metadata": {
            "tags": []
          },
          "execution_count": 39
        }
      ]
    },
    {
      "cell_type": "code",
      "metadata": {
        "colab": {
          "base_uri": "https://localhost:8080/",
          "height": 294
        },
        "id": "D_f7Xxct0WJ6",
        "outputId": "711be5f3-9e18-454b-84da-c608eeafebf2"
      },
      "source": [
        "user_grouped.describe()"
      ],
      "execution_count": null,
      "outputs": [
        {
          "output_type": "execute_result",
          "data": {
            "text/html": [
              "<div>\n",
              "<style scoped>\n",
              "    .dataframe tbody tr th:only-of-type {\n",
              "        vertical-align: middle;\n",
              "    }\n",
              "\n",
              "    .dataframe tbody tr th {\n",
              "        vertical-align: top;\n",
              "    }\n",
              "\n",
              "    .dataframe thead th {\n",
              "        text-align: right;\n",
              "    }\n",
              "</style>\n",
              "<table border=\"1\" class=\"dataframe\">\n",
              "  <thead>\n",
              "    <tr style=\"text-align: right;\">\n",
              "      <th></th>\n",
              "      <th>play_count</th>\n",
              "    </tr>\n",
              "  </thead>\n",
              "  <tbody>\n",
              "    <tr>\n",
              "      <th>count</th>\n",
              "      <td>110000.000000</td>\n",
              "    </tr>\n",
              "    <tr>\n",
              "      <th>mean</th>\n",
              "      <td>13.190300</td>\n",
              "    </tr>\n",
              "    <tr>\n",
              "      <th>std</th>\n",
              "      <td>8.070827</td>\n",
              "    </tr>\n",
              "    <tr>\n",
              "      <th>min</th>\n",
              "      <td>5.000000</td>\n",
              "    </tr>\n",
              "    <tr>\n",
              "      <th>25%</th>\n",
              "      <td>7.000000</td>\n",
              "    </tr>\n",
              "    <tr>\n",
              "      <th>50%</th>\n",
              "      <td>11.000000</td>\n",
              "    </tr>\n",
              "    <tr>\n",
              "      <th>75%</th>\n",
              "      <td>17.000000</td>\n",
              "    </tr>\n",
              "    <tr>\n",
              "      <th>max</th>\n",
              "      <td>53.000000</td>\n",
              "    </tr>\n",
              "  </tbody>\n",
              "</table>\n",
              "</div>"
            ],
            "text/plain": [
              "          play_count\n",
              "count  110000.000000\n",
              "mean       13.190300\n",
              "std         8.070827\n",
              "min         5.000000\n",
              "25%         7.000000\n",
              "50%        11.000000\n",
              "75%        17.000000\n",
              "max        53.000000"
            ]
          },
          "metadata": {
            "tags": []
          },
          "execution_count": 40
        }
      ]
    },
    {
      "cell_type": "markdown",
      "metadata": {
        "id": "Z1g0DmDY0WJ6"
      },
      "source": [
        "**Note**\n",
        "\n",
        "*  A user At least listens 5 Songs\n",
        "*  On a Average a user listens 13 Songs\n",
        "*  Maximum A User listens 53 Songs\n",
        "*  Half of the users listens to less than 12 songs"
      ]
    },
    {
      "cell_type": "markdown",
      "metadata": {
        "id": "14dDSNtv0WJ6"
      },
      "source": [
        "### <center>5.2 Analysis based on Artist </center>"
      ]
    },
    {
      "cell_type": "code",
      "metadata": {
        "id": "nKxycMsY0WJ6"
      },
      "source": [
        "#Create a artist focused dataframe\n",
        "artist_grouped=song_df.groupby(['artist']).agg({'play_count':'count'}).reset_index()"
      ],
      "execution_count": null,
      "outputs": []
    },
    {
      "cell_type": "code",
      "metadata": {
        "colab": {
          "base_uri": "https://localhost:8080/",
          "height": 355
        },
        "id": "UmiKip9J0WJ6",
        "outputId": "fb97eee8-7628-419b-848e-95b3488d3122"
      },
      "source": [
        "#Least played Artists\n",
        "artist_grouped.sort_values('play_count').head(10)"
      ],
      "execution_count": null,
      "outputs": [
        {
          "output_type": "execute_result",
          "data": {
            "text/html": [
              "<div>\n",
              "<style scoped>\n",
              "    .dataframe tbody tr th:only-of-type {\n",
              "        vertical-align: middle;\n",
              "    }\n",
              "\n",
              "    .dataframe tbody tr th {\n",
              "        vertical-align: top;\n",
              "    }\n",
              "\n",
              "    .dataframe thead th {\n",
              "        text-align: right;\n",
              "    }\n",
              "</style>\n",
              "<table border=\"1\" class=\"dataframe\">\n",
              "  <thead>\n",
              "    <tr style=\"text-align: right;\">\n",
              "      <th></th>\n",
              "      <th>artist</th>\n",
              "      <th>play_count</th>\n",
              "    </tr>\n",
              "  </thead>\n",
              "  <tbody>\n",
              "    <tr>\n",
              "      <th>28360</th>\n",
              "      <td>Özlem Tekin</td>\n",
              "      <td>1</td>\n",
              "    </tr>\n",
              "    <tr>\n",
              "      <th>4694</th>\n",
              "      <td>Chris Connelly and the Bells</td>\n",
              "      <td>1</td>\n",
              "    </tr>\n",
              "    <tr>\n",
              "      <th>15521</th>\n",
              "      <td>Mad Professor / Mafia &amp; Fluxy</td>\n",
              "      <td>1</td>\n",
              "    </tr>\n",
              "    <tr>\n",
              "      <th>15528</th>\n",
              "      <td>Maddox Brothers &amp; Rose</td>\n",
              "      <td>1</td>\n",
              "    </tr>\n",
              "    <tr>\n",
              "      <th>15544</th>\n",
              "      <td>Madreblu</td>\n",
              "      <td>1</td>\n",
              "    </tr>\n",
              "    <tr>\n",
              "      <th>15552</th>\n",
              "      <td>Maestro Luci</td>\n",
              "      <td>1</td>\n",
              "    </tr>\n",
              "    <tr>\n",
              "      <th>15557</th>\n",
              "      <td>Mafia K'1 Fry</td>\n",
              "      <td>1</td>\n",
              "    </tr>\n",
              "    <tr>\n",
              "      <th>15560</th>\n",
              "      <td>Maga Bo</td>\n",
              "      <td>1</td>\n",
              "    </tr>\n",
              "    <tr>\n",
              "      <th>15571</th>\n",
              "      <td>Magic Slim</td>\n",
              "      <td>1</td>\n",
              "    </tr>\n",
              "    <tr>\n",
              "      <th>15586</th>\n",
              "      <td>Magneta Lane</td>\n",
              "      <td>1</td>\n",
              "    </tr>\n",
              "  </tbody>\n",
              "</table>\n",
              "</div>"
            ],
            "text/plain": [
              "                              artist  play_count\n",
              "28360                    Özlem Tekin           1\n",
              "4694    Chris Connelly and the Bells           1\n",
              "15521  Mad Professor / Mafia & Fluxy           1\n",
              "15528         Maddox Brothers & Rose           1\n",
              "15544                       Madreblu           1\n",
              "15552                   Maestro Luci           1\n",
              "15557                  Mafia K'1 Fry           1\n",
              "15560                        Maga Bo           1\n",
              "15571                     Magic Slim           1\n",
              "15586                   Magneta Lane           1"
            ]
          },
          "metadata": {
            "tags": []
          },
          "execution_count": 42
        }
      ]
    },
    {
      "cell_type": "code",
      "metadata": {
        "colab": {
          "base_uri": "https://localhost:8080/",
          "height": 355
        },
        "id": "AzsvWR2M0WJ7",
        "outputId": "b4b1ab29-5eb3-4a5a-835d-4d2f256111bb"
      },
      "source": [
        "#Top 10 Artist\n",
        "artist_grouped.sort_values('play_count').tail(10)"
      ],
      "execution_count": null,
      "outputs": [
        {
          "output_type": "execute_result",
          "data": {
            "text/html": [
              "<div>\n",
              "<style scoped>\n",
              "    .dataframe tbody tr th:only-of-type {\n",
              "        vertical-align: middle;\n",
              "    }\n",
              "\n",
              "    .dataframe tbody tr th {\n",
              "        vertical-align: top;\n",
              "    }\n",
              "\n",
              "    .dataframe thead th {\n",
              "        text-align: right;\n",
              "    }\n",
              "</style>\n",
              "<table border=\"1\" class=\"dataframe\">\n",
              "  <thead>\n",
              "    <tr style=\"text-align: right;\">\n",
              "      <th></th>\n",
              "      <th>artist</th>\n",
              "      <th>play_count</th>\n",
              "    </tr>\n",
              "  </thead>\n",
              "  <tbody>\n",
              "    <tr>\n",
              "      <th>17317</th>\n",
              "      <td>Muse</td>\n",
              "      <td>5849</td>\n",
              "    </tr>\n",
              "    <tr>\n",
              "      <th>18346</th>\n",
              "      <td>OneRepublic</td>\n",
              "      <td>6027</td>\n",
              "    </tr>\n",
              "    <tr>\n",
              "      <th>7969</th>\n",
              "      <td>Eminem</td>\n",
              "      <td>6297</td>\n",
              "    </tr>\n",
              "    <tr>\n",
              "      <th>23946</th>\n",
              "      <td>The Black Keys</td>\n",
              "      <td>6507</td>\n",
              "    </tr>\n",
              "    <tr>\n",
              "      <th>26441</th>\n",
              "      <td>Train</td>\n",
              "      <td>6617</td>\n",
              "    </tr>\n",
              "    <tr>\n",
              "      <th>11378</th>\n",
              "      <td>Jack Johnson</td>\n",
              "      <td>6784</td>\n",
              "    </tr>\n",
              "    <tr>\n",
              "      <th>12964</th>\n",
              "      <td>Justin Bieber</td>\n",
              "      <td>7669</td>\n",
              "    </tr>\n",
              "    <tr>\n",
              "      <th>8801</th>\n",
              "      <td>Florence + The Machine</td>\n",
              "      <td>8213</td>\n",
              "    </tr>\n",
              "    <tr>\n",
              "      <th>13610</th>\n",
              "      <td>Kings Of Leon</td>\n",
              "      <td>8514</td>\n",
              "    </tr>\n",
              "    <tr>\n",
              "      <th>5085</th>\n",
              "      <td>Coldplay</td>\n",
              "      <td>12279</td>\n",
              "    </tr>\n",
              "  </tbody>\n",
              "</table>\n",
              "</div>"
            ],
            "text/plain": [
              "                       artist  play_count\n",
              "17317                    Muse        5849\n",
              "18346             OneRepublic        6027\n",
              "7969                   Eminem        6297\n",
              "23946          The Black Keys        6507\n",
              "26441                   Train        6617\n",
              "11378            Jack Johnson        6784\n",
              "12964           Justin Bieber        7669\n",
              "8801   Florence + The Machine        8213\n",
              "13610           Kings Of Leon        8514\n",
              "5085                 Coldplay       12279"
            ]
          },
          "metadata": {
            "tags": []
          },
          "execution_count": 43
        }
      ]
    },
    {
      "cell_type": "code",
      "metadata": {
        "colab": {
          "base_uri": "https://localhost:8080/",
          "height": 662
        },
        "id": "WN5Y0zmi0WJ7",
        "outputId": "fec1d295-6b99-4a86-d9d5-9c9048d4f473"
      },
      "source": [
        "#Find the 20 most viewed songs\n",
        "\n",
        "artist_grouped.nlargest(20, 'play_count')"
      ],
      "execution_count": null,
      "outputs": [
        {
          "output_type": "execute_result",
          "data": {
            "text/html": [
              "<div>\n",
              "<style scoped>\n",
              "    .dataframe tbody tr th:only-of-type {\n",
              "        vertical-align: middle;\n",
              "    }\n",
              "\n",
              "    .dataframe tbody tr th {\n",
              "        vertical-align: top;\n",
              "    }\n",
              "\n",
              "    .dataframe thead th {\n",
              "        text-align: right;\n",
              "    }\n",
              "</style>\n",
              "<table border=\"1\" class=\"dataframe\">\n",
              "  <thead>\n",
              "    <tr style=\"text-align: right;\">\n",
              "      <th></th>\n",
              "      <th>artist</th>\n",
              "      <th>play_count</th>\n",
              "    </tr>\n",
              "  </thead>\n",
              "  <tbody>\n",
              "    <tr>\n",
              "      <th>5085</th>\n",
              "      <td>Coldplay</td>\n",
              "      <td>12279</td>\n",
              "    </tr>\n",
              "    <tr>\n",
              "      <th>13610</th>\n",
              "      <td>Kings Of Leon</td>\n",
              "      <td>8514</td>\n",
              "    </tr>\n",
              "    <tr>\n",
              "      <th>8801</th>\n",
              "      <td>Florence + The Machine</td>\n",
              "      <td>8213</td>\n",
              "    </tr>\n",
              "    <tr>\n",
              "      <th>12964</th>\n",
              "      <td>Justin Bieber</td>\n",
              "      <td>7669</td>\n",
              "    </tr>\n",
              "    <tr>\n",
              "      <th>11378</th>\n",
              "      <td>Jack Johnson</td>\n",
              "      <td>6784</td>\n",
              "    </tr>\n",
              "    <tr>\n",
              "      <th>26441</th>\n",
              "      <td>Train</td>\n",
              "      <td>6617</td>\n",
              "    </tr>\n",
              "    <tr>\n",
              "      <th>23946</th>\n",
              "      <td>The Black Keys</td>\n",
              "      <td>6507</td>\n",
              "    </tr>\n",
              "    <tr>\n",
              "      <th>7969</th>\n",
              "      <td>Eminem</td>\n",
              "      <td>6297</td>\n",
              "    </tr>\n",
              "    <tr>\n",
              "      <th>18346</th>\n",
              "      <td>OneRepublic</td>\n",
              "      <td>6027</td>\n",
              "    </tr>\n",
              "    <tr>\n",
              "      <th>17317</th>\n",
              "      <td>Muse</td>\n",
              "      <td>5849</td>\n",
              "    </tr>\n",
              "    <tr>\n",
              "      <th>23556</th>\n",
              "      <td>Taylor Swift</td>\n",
              "      <td>5648</td>\n",
              "    </tr>\n",
              "    <tr>\n",
              "      <th>14698</th>\n",
              "      <td>Linkin Park</td>\n",
              "      <td>5623</td>\n",
              "    </tr>\n",
              "    <tr>\n",
              "      <th>19896</th>\n",
              "      <td>Radiohead</td>\n",
              "      <td>5408</td>\n",
              "    </tr>\n",
              "    <tr>\n",
              "      <th>24769</th>\n",
              "      <td>The Killers</td>\n",
              "      <td>5391</td>\n",
              "    </tr>\n",
              "    <tr>\n",
              "      <th>5817</th>\n",
              "      <td>Daft Punk</td>\n",
              "      <td>5379</td>\n",
              "    </tr>\n",
              "    <tr>\n",
              "      <th>12422</th>\n",
              "      <td>John Mayer</td>\n",
              "      <td>5282</td>\n",
              "    </tr>\n",
              "    <tr>\n",
              "      <th>2855</th>\n",
              "      <td>Björk</td>\n",
              "      <td>5144</td>\n",
              "    </tr>\n",
              "    <tr>\n",
              "      <th>10306</th>\n",
              "      <td>Harmonia</td>\n",
              "      <td>5046</td>\n",
              "    </tr>\n",
              "    <tr>\n",
              "      <th>16508</th>\n",
              "      <td>Metallica</td>\n",
              "      <td>4970</td>\n",
              "    </tr>\n",
              "    <tr>\n",
              "      <th>2875</th>\n",
              "      <td>Black Eyed Peas</td>\n",
              "      <td>4299</td>\n",
              "    </tr>\n",
              "  </tbody>\n",
              "</table>\n",
              "</div>"
            ],
            "text/plain": [
              "                       artist  play_count\n",
              "5085                 Coldplay       12279\n",
              "13610           Kings Of Leon        8514\n",
              "8801   Florence + The Machine        8213\n",
              "12964           Justin Bieber        7669\n",
              "11378            Jack Johnson        6784\n",
              "26441                   Train        6617\n",
              "23946          The Black Keys        6507\n",
              "7969                   Eminem        6297\n",
              "18346             OneRepublic        6027\n",
              "17317                    Muse        5849\n",
              "23556            Taylor Swift        5648\n",
              "14698             Linkin Park        5623\n",
              "19896               Radiohead        5408\n",
              "24769             The Killers        5391\n",
              "5817                Daft Punk        5379\n",
              "12422              John Mayer        5282\n",
              "2855                    Björk        5144\n",
              "10306                Harmonia        5046\n",
              "16508               Metallica        4970\n",
              "2875          Black Eyed Peas        4299"
            ]
          },
          "metadata": {
            "tags": []
          },
          "execution_count": 44
        }
      ]
    },
    {
      "cell_type": "code",
      "metadata": {
        "colab": {
          "base_uri": "https://localhost:8080/",
          "height": 355
        },
        "id": "REXM9dtF0WJ7",
        "outputId": "7f180abd-a0f1-439d-9b80-14d3561f52d9"
      },
      "source": [
        "# Find the 20 least listend songs.\n",
        "\n",
        "artist_grouped.nsmallest(10, 'play_count')"
      ],
      "execution_count": null,
      "outputs": [
        {
          "output_type": "execute_result",
          "data": {
            "text/html": [
              "<div>\n",
              "<style scoped>\n",
              "    .dataframe tbody tr th:only-of-type {\n",
              "        vertical-align: middle;\n",
              "    }\n",
              "\n",
              "    .dataframe tbody tr th {\n",
              "        vertical-align: top;\n",
              "    }\n",
              "\n",
              "    .dataframe thead th {\n",
              "        text-align: right;\n",
              "    }\n",
              "</style>\n",
              "<table border=\"1\" class=\"dataframe\">\n",
              "  <thead>\n",
              "    <tr style=\"text-align: right;\">\n",
              "      <th></th>\n",
              "      <th>artist</th>\n",
              "      <th>play_count</th>\n",
              "    </tr>\n",
              "  </thead>\n",
              "  <tbody>\n",
              "    <tr>\n",
              "      <th>11</th>\n",
              "      <td>*Shels</td>\n",
              "      <td>1</td>\n",
              "    </tr>\n",
              "    <tr>\n",
              "      <th>18</th>\n",
              "      <td>1 40 4 20</td>\n",
              "      <td>1</td>\n",
              "    </tr>\n",
              "    <tr>\n",
              "      <th>21</th>\n",
              "      <td>1 Giant Leap feat. Eddi Reader_ The Mahotella ...</td>\n",
              "      <td>1</td>\n",
              "    </tr>\n",
              "    <tr>\n",
              "      <th>31</th>\n",
              "      <td>1000 Names</td>\n",
              "      <td>1</td>\n",
              "    </tr>\n",
              "    <tr>\n",
              "      <th>41</th>\n",
              "      <td>11/5</td>\n",
              "      <td>1</td>\n",
              "    </tr>\n",
              "    <tr>\n",
              "      <th>44</th>\n",
              "      <td>112 / Spragga Benz / Lady Saw / Buccaneer / Da...</td>\n",
              "      <td>1</td>\n",
              "    </tr>\n",
              "    <tr>\n",
              "      <th>45</th>\n",
              "      <td>112 / T.I.</td>\n",
              "      <td>1</td>\n",
              "    </tr>\n",
              "    <tr>\n",
              "      <th>46</th>\n",
              "      <td>113 Feat. Demon One</td>\n",
              "      <td>1</td>\n",
              "    </tr>\n",
              "    <tr>\n",
              "      <th>47</th>\n",
              "      <td>113 Feat. Mobb Deep</td>\n",
              "      <td>1</td>\n",
              "    </tr>\n",
              "    <tr>\n",
              "      <th>48</th>\n",
              "      <td>113 Feat. Molaré</td>\n",
              "      <td>1</td>\n",
              "    </tr>\n",
              "  </tbody>\n",
              "</table>\n",
              "</div>"
            ],
            "text/plain": [
              "                                               artist  play_count\n",
              "11                                             *Shels           1\n",
              "18                                          1 40 4 20           1\n",
              "21  1 Giant Leap feat. Eddi Reader_ The Mahotella ...           1\n",
              "31                                         1000 Names           1\n",
              "41                                               11/5           1\n",
              "44  112 / Spragga Benz / Lady Saw / Buccaneer / Da...           1\n",
              "45                                         112 / T.I.           1\n",
              "46                                113 Feat. Demon One           1\n",
              "47                                113 Feat. Mobb Deep           1\n",
              "48                                   113 Feat. Molaré           1"
            ]
          },
          "metadata": {
            "tags": []
          },
          "execution_count": 45
        }
      ]
    },
    {
      "cell_type": "markdown",
      "metadata": {
        "id": "8jisk5wg0WJ7"
      },
      "source": [
        "**Note**\n",
        "\n",
        "* Top 10 artist with most play_counts are :\n",
        "  * Coldplay\n",
        "  * kings of Leon\n",
        "  * Florence + The Machine\n",
        "  * Justin Beiber\n",
        "  * Jack Jhonson\n",
        "  * Train\n",
        "  * The Black Keys\n",
        "  * Eminem\n",
        "  * OneRepblic\n",
        "  * Muse\n",
        "* Coldplay has most play count of 12279.\n",
        "\n"
      ]
    },
    {
      "cell_type": "markdown",
      "metadata": {
        "id": "zyH46a950WJ7"
      },
      "source": [
        "### <center>5.3 Analysis based on release </center>"
      ]
    },
    {
      "cell_type": "code",
      "metadata": {
        "id": "fcefod4t0WJ8"
      },
      "source": [
        "# create release (song_title) focused dataframe\n",
        "\n",
        "release_grouped=song_df.groupby(['release']).agg({'play_count':'count'}).reset_index()"
      ],
      "execution_count": null,
      "outputs": []
    },
    {
      "cell_type": "code",
      "metadata": {
        "colab": {
          "base_uri": "https://localhost:8080/",
          "height": 355
        },
        "id": "CzmGf6xp0WJ8",
        "outputId": "1c7bf7d8-1b32-4c24-82e6-b6046e3013de"
      },
      "source": [
        "release_grouped.sort_values('play_count').head(10)"
      ],
      "execution_count": null,
      "outputs": [
        {
          "output_type": "execute_result",
          "data": {
            "text/html": [
              "<div>\n",
              "<style scoped>\n",
              "    .dataframe tbody tr th:only-of-type {\n",
              "        vertical-align: middle;\n",
              "    }\n",
              "\n",
              "    .dataframe tbody tr th {\n",
              "        vertical-align: top;\n",
              "    }\n",
              "\n",
              "    .dataframe thead th {\n",
              "        text-align: right;\n",
              "    }\n",
              "</style>\n",
              "<table border=\"1\" class=\"dataframe\">\n",
              "  <thead>\n",
              "    <tr style=\"text-align: right;\">\n",
              "      <th></th>\n",
              "      <th>release</th>\n",
              "      <th>play_count</th>\n",
              "    </tr>\n",
              "  </thead>\n",
              "  <tbody>\n",
              "    <tr>\n",
              "      <th>0</th>\n",
              "      <td>Ef Ég Hefði Aldrei...</td>\n",
              "      <td>1</td>\n",
              "    </tr>\n",
              "    <tr>\n",
              "      <th>70900</th>\n",
              "      <td>Making Love</td>\n",
              "      <td>1</td>\n",
              "    </tr>\n",
              "    <tr>\n",
              "      <th>70896</th>\n",
              "      <td>Making Friends and Acquaintances</td>\n",
              "      <td>1</td>\n",
              "    </tr>\n",
              "    <tr>\n",
              "      <th>70894</th>\n",
              "      <td>Making Flippy Floppy</td>\n",
              "      <td>1</td>\n",
              "    </tr>\n",
              "    <tr>\n",
              "      <th>70892</th>\n",
              "      <td>Making Dens</td>\n",
              "      <td>1</td>\n",
              "    </tr>\n",
              "    <tr>\n",
              "      <th>70889</th>\n",
              "      <td>Making A Perfect Yesterday</td>\n",
              "      <td>1</td>\n",
              "    </tr>\n",
              "    <tr>\n",
              "      <th>70888</th>\n",
              "      <td>Making A Noise (Olympic Version) (24-Bit Digit...</td>\n",
              "      <td>1</td>\n",
              "    </tr>\n",
              "    <tr>\n",
              "      <th>70902</th>\n",
              "      <td>Making Love Out Of Nothing At All (Live)</td>\n",
              "      <td>1</td>\n",
              "    </tr>\n",
              "    <tr>\n",
              "      <th>70885</th>\n",
              "      <td>Makin' me hot</td>\n",
              "      <td>1</td>\n",
              "    </tr>\n",
              "    <tr>\n",
              "      <th>70879</th>\n",
              "      <td>Makin' Magic</td>\n",
              "      <td>1</td>\n",
              "    </tr>\n",
              "  </tbody>\n",
              "</table>\n",
              "</div>"
            ],
            "text/plain": [
              "                                                 release  play_count\n",
              "0                                 \n",
              "Ef Ég Hefði Aldrei...           1\n",
              "70900                                        Making Love           1\n",
              "70896                   Making Friends and Acquaintances           1\n",
              "70894                               Making Flippy Floppy           1\n",
              "70892                                        Making Dens           1\n",
              "70889                         Making A Perfect Yesterday           1\n",
              "70888  Making A Noise (Olympic Version) (24-Bit Digit...           1\n",
              "70902           Making Love Out Of Nothing At All (Live)           1\n",
              "70885                                      Makin' me hot           1\n",
              "70879                                       Makin' Magic           1"
            ]
          },
          "metadata": {
            "tags": []
          },
          "execution_count": 47
        }
      ]
    },
    {
      "cell_type": "code",
      "metadata": {
        "colab": {
          "base_uri": "https://localhost:8080/",
          "height": 355
        },
        "id": "0QEroLHj0WJ8",
        "outputId": "c27c4779-1e7a-4394-cceb-46046377a4ff"
      },
      "source": [
        "#Top 10 Releases\n",
        "release_grouped.sort_values('play_count').tail(10)"
      ],
      "execution_count": null,
      "outputs": [
        {
          "output_type": "execute_result",
          "data": {
            "text/html": [
              "<div>\n",
              "<style scoped>\n",
              "    .dataframe tbody tr th:only-of-type {\n",
              "        vertical-align: middle;\n",
              "    }\n",
              "\n",
              "    .dataframe tbody tr th {\n",
              "        vertical-align: top;\n",
              "    }\n",
              "\n",
              "    .dataframe thead th {\n",
              "        text-align: right;\n",
              "    }\n",
              "</style>\n",
              "<table border=\"1\" class=\"dataframe\">\n",
              "  <thead>\n",
              "    <tr style=\"text-align: right;\">\n",
              "      <th></th>\n",
              "      <th>release</th>\n",
              "      <th>play_count</th>\n",
              "    </tr>\n",
              "  </thead>\n",
              "  <tbody>\n",
              "    <tr>\n",
              "      <th>121358</th>\n",
              "      <td>Tive Sim</td>\n",
              "      <td>2669</td>\n",
              "    </tr>\n",
              "    <tr>\n",
              "      <th>37656</th>\n",
              "      <td>Fireflies</td>\n",
              "      <td>2745</td>\n",
              "    </tr>\n",
              "    <tr>\n",
              "      <th>47683</th>\n",
              "      <td>Hey_ Soul Sister</td>\n",
              "      <td>2791</td>\n",
              "    </tr>\n",
              "    <tr>\n",
              "      <th>49061</th>\n",
              "      <td>Horn Concerto No. 4 in E flat K495: II. Romanc...</td>\n",
              "      <td>3272</td>\n",
              "    </tr>\n",
              "    <tr>\n",
              "      <th>98585</th>\n",
              "      <td>Secrets</td>\n",
              "      <td>3456</td>\n",
              "    </tr>\n",
              "    <tr>\n",
              "      <th>93984</th>\n",
              "      <td>Revelry</td>\n",
              "      <td>3672</td>\n",
              "    </tr>\n",
              "    <tr>\n",
              "      <th>28716</th>\n",
              "      <td>Dog Days Are Over (Radio Edit)</td>\n",
              "      <td>3780</td>\n",
              "    </tr>\n",
              "    <tr>\n",
              "      <th>136066</th>\n",
              "      <td>You're The One</td>\n",
              "      <td>4270</td>\n",
              "    </tr>\n",
              "    <tr>\n",
              "      <th>125393</th>\n",
              "      <td>Undo</td>\n",
              "      <td>4483</td>\n",
              "    </tr>\n",
              "    <tr>\n",
              "      <th>98812</th>\n",
              "      <td>Sehr kosmisch</td>\n",
              "      <td>5043</td>\n",
              "    </tr>\n",
              "  </tbody>\n",
              "</table>\n",
              "</div>"
            ],
            "text/plain": [
              "                                                  release  play_count\n",
              "121358                                           Tive Sim        2669\n",
              "37656                                           Fireflies        2745\n",
              "47683                                    Hey_ Soul Sister        2791\n",
              "49061   Horn Concerto No. 4 in E flat K495: II. Romanc...        3272\n",
              "98585                                             Secrets        3456\n",
              "93984                                             Revelry        3672\n",
              "28716                      Dog Days Are Over (Radio Edit)        3780\n",
              "136066                                     You're The One        4270\n",
              "125393                                               Undo        4483\n",
              "98812                                       Sehr kosmisch        5043"
            ]
          },
          "metadata": {
            "tags": []
          },
          "execution_count": 48
        }
      ]
    },
    {
      "cell_type": "code",
      "metadata": {
        "colab": {
          "base_uri": "https://localhost:8080/",
          "height": 662
        },
        "id": "wr9KX2nP0WJ8",
        "outputId": "e2795711-8e7c-4c60-c0ac-f55a17d7da40"
      },
      "source": [
        "#Find the 20 most release songs\n",
        "\n",
        "release_grouped.nlargest(20, 'play_count')"
      ],
      "execution_count": null,
      "outputs": [
        {
          "output_type": "execute_result",
          "data": {
            "text/html": [
              "<div>\n",
              "<style scoped>\n",
              "    .dataframe tbody tr th:only-of-type {\n",
              "        vertical-align: middle;\n",
              "    }\n",
              "\n",
              "    .dataframe tbody tr th {\n",
              "        vertical-align: top;\n",
              "    }\n",
              "\n",
              "    .dataframe thead th {\n",
              "        text-align: right;\n",
              "    }\n",
              "</style>\n",
              "<table border=\"1\" class=\"dataframe\">\n",
              "  <thead>\n",
              "    <tr style=\"text-align: right;\">\n",
              "      <th></th>\n",
              "      <th>release</th>\n",
              "      <th>play_count</th>\n",
              "    </tr>\n",
              "  </thead>\n",
              "  <tbody>\n",
              "    <tr>\n",
              "      <th>98812</th>\n",
              "      <td>Sehr kosmisch</td>\n",
              "      <td>5043</td>\n",
              "    </tr>\n",
              "    <tr>\n",
              "      <th>125393</th>\n",
              "      <td>Undo</td>\n",
              "      <td>4483</td>\n",
              "    </tr>\n",
              "    <tr>\n",
              "      <th>136066</th>\n",
              "      <td>You're The One</td>\n",
              "      <td>4270</td>\n",
              "    </tr>\n",
              "    <tr>\n",
              "      <th>28716</th>\n",
              "      <td>Dog Days Are Over (Radio Edit)</td>\n",
              "      <td>3780</td>\n",
              "    </tr>\n",
              "    <tr>\n",
              "      <th>93984</th>\n",
              "      <td>Revelry</td>\n",
              "      <td>3672</td>\n",
              "    </tr>\n",
              "    <tr>\n",
              "      <th>98585</th>\n",
              "      <td>Secrets</td>\n",
              "      <td>3456</td>\n",
              "    </tr>\n",
              "    <tr>\n",
              "      <th>49061</th>\n",
              "      <td>Horn Concerto No. 4 in E flat K495: II. Romanc...</td>\n",
              "      <td>3272</td>\n",
              "    </tr>\n",
              "    <tr>\n",
              "      <th>47683</th>\n",
              "      <td>Hey_ Soul Sister</td>\n",
              "      <td>2791</td>\n",
              "    </tr>\n",
              "    <tr>\n",
              "      <th>37656</th>\n",
              "      <td>Fireflies</td>\n",
              "      <td>2745</td>\n",
              "    </tr>\n",
              "    <tr>\n",
              "      <th>121358</th>\n",
              "      <td>Tive Sim</td>\n",
              "      <td>2669</td>\n",
              "    </tr>\n",
              "    <tr>\n",
              "      <th>82320</th>\n",
              "      <td>OMG</td>\n",
              "      <td>2260</td>\n",
              "    </tr>\n",
              "    <tr>\n",
              "      <th>30757</th>\n",
              "      <td>Drop The World</td>\n",
              "      <td>2226</td>\n",
              "    </tr>\n",
              "    <tr>\n",
              "      <th>18573</th>\n",
              "      <td>Catch You Baby (Steve Pitron &amp; Max Sanna Radio...</td>\n",
              "      <td>2097</td>\n",
              "    </tr>\n",
              "    <tr>\n",
              "      <th>71732</th>\n",
              "      <td>Marry Me</td>\n",
              "      <td>2013</td>\n",
              "    </tr>\n",
              "    <tr>\n",
              "      <th>125988</th>\n",
              "      <td>Use Somebody</td>\n",
              "      <td>1911</td>\n",
              "    </tr>\n",
              "    <tr>\n",
              "      <th>101948</th>\n",
              "      <td>Sincerité Et Jalousie</td>\n",
              "      <td>1797</td>\n",
              "    </tr>\n",
              "    <tr>\n",
              "      <th>93682</th>\n",
              "      <td>Représente</td>\n",
              "      <td>1769</td>\n",
              "    </tr>\n",
              "    <tr>\n",
              "      <th>17684</th>\n",
              "      <td>Canada</td>\n",
              "      <td>1731</td>\n",
              "    </tr>\n",
              "    <tr>\n",
              "      <th>3864</th>\n",
              "      <td>Ain't Misbehavin</td>\n",
              "      <td>1712</td>\n",
              "    </tr>\n",
              "    <tr>\n",
              "      <th>90909</th>\n",
              "      <td>Pursuit Of Happiness (nightmare)</td>\n",
              "      <td>1683</td>\n",
              "    </tr>\n",
              "  </tbody>\n",
              "</table>\n",
              "</div>"
            ],
            "text/plain": [
              "                                                  release  play_count\n",
              "98812                                       Sehr kosmisch        5043\n",
              "125393                                               Undo        4483\n",
              "136066                                     You're The One        4270\n",
              "28716                      Dog Days Are Over (Radio Edit)        3780\n",
              "93984                                             Revelry        3672\n",
              "98585                                             Secrets        3456\n",
              "49061   Horn Concerto No. 4 in E flat K495: II. Romanc...        3272\n",
              "47683                                    Hey_ Soul Sister        2791\n",
              "37656                                           Fireflies        2745\n",
              "121358                                           Tive Sim        2669\n",
              "82320                                                 OMG        2260\n",
              "30757                                      Drop The World        2226\n",
              "18573   Catch You Baby (Steve Pitron & Max Sanna Radio...        2097\n",
              "71732                                            Marry Me        2013\n",
              "125988                                       Use Somebody        1911\n",
              "101948                              Sincerité Et Jalousie        1797\n",
              "93682                                          Représente        1769\n",
              "17684                                              Canada        1731\n",
              "3864                                     Ain't Misbehavin        1712\n",
              "90909                    Pursuit Of Happiness (nightmare)        1683"
            ]
          },
          "metadata": {
            "tags": []
          },
          "execution_count": 49
        }
      ]
    },
    {
      "cell_type": "code",
      "metadata": {
        "colab": {
          "base_uri": "https://localhost:8080/",
          "height": 662
        },
        "id": "vmxTmqaA0WJ9",
        "outputId": "6c7838a4-92a9-4c40-8f16-340ce3fbca39"
      },
      "source": [
        "#least 20 Releases\n",
        "release_grouped.nsmallest(20, 'play_count')"
      ],
      "execution_count": null,
      "outputs": [
        {
          "output_type": "execute_result",
          "data": {
            "text/html": [
              "<div>\n",
              "<style scoped>\n",
              "    .dataframe tbody tr th:only-of-type {\n",
              "        vertical-align: middle;\n",
              "    }\n",
              "\n",
              "    .dataframe tbody tr th {\n",
              "        vertical-align: top;\n",
              "    }\n",
              "\n",
              "    .dataframe thead th {\n",
              "        text-align: right;\n",
              "    }\n",
              "</style>\n",
              "<table border=\"1\" class=\"dataframe\">\n",
              "  <thead>\n",
              "    <tr style=\"text-align: right;\">\n",
              "      <th></th>\n",
              "      <th>release</th>\n",
              "      <th>play_count</th>\n",
              "    </tr>\n",
              "  </thead>\n",
              "  <tbody>\n",
              "    <tr>\n",
              "      <th>0</th>\n",
              "      <td>Ef Ég Hefði Aldrei...</td>\n",
              "      <td>1</td>\n",
              "    </tr>\n",
              "    <tr>\n",
              "      <th>2</th>\n",
              "      <td>The Arsonist Story\":  Evil Craves Attention/O...</td>\n",
              "      <td>1</td>\n",
              "    </tr>\n",
              "    <tr>\n",
              "      <th>5</th>\n",
              "      <td>Country Song</td>\n",
              "      <td>1</td>\n",
              "    </tr>\n",
              "    <tr>\n",
              "      <th>8</th>\n",
              "      <td>You</td>\n",
              "      <td>1</td>\n",
              "    </tr>\n",
              "    <tr>\n",
              "      <th>10</th>\n",
              "      <td>!Hoy Estreno!</td>\n",
              "      <td>1</td>\n",
              "    </tr>\n",
              "    <tr>\n",
              "      <th>16</th>\n",
              "      <td>#1 Crew In The Area (Edited)</td>\n",
              "      <td>1</td>\n",
              "    </tr>\n",
              "    <tr>\n",
              "      <th>21</th>\n",
              "      <td>#1 Trap Pick</td>\n",
              "      <td>1</td>\n",
              "    </tr>\n",
              "    <tr>\n",
              "      <th>27</th>\n",
              "      <td>#19 (Album Version)</td>\n",
              "      <td>1</td>\n",
              "    </tr>\n",
              "    <tr>\n",
              "      <th>28</th>\n",
              "      <td>#2</td>\n",
              "      <td>1</td>\n",
              "    </tr>\n",
              "    <tr>\n",
              "      <th>29</th>\n",
              "      <td>#2 (Album Version)</td>\n",
              "      <td>1</td>\n",
              "    </tr>\n",
              "    <tr>\n",
              "      <th>36</th>\n",
              "      <td>#69 Bronson Road</td>\n",
              "      <td>1</td>\n",
              "    </tr>\n",
              "    <tr>\n",
              "      <th>37</th>\n",
              "      <td>#8</td>\n",
              "      <td>1</td>\n",
              "    </tr>\n",
              "    <tr>\n",
              "      <th>38</th>\n",
              "      <td>#iStubbedMyToe</td>\n",
              "      <td>1</td>\n",
              "    </tr>\n",
              "    <tr>\n",
              "      <th>43</th>\n",
              "      <td>$20 For Boban</td>\n",
              "      <td>1</td>\n",
              "    </tr>\n",
              "    <tr>\n",
              "      <th>50</th>\n",
              "      <td>&amp;..Over&amp;..Time&amp;.</td>\n",
              "      <td>1</td>\n",
              "    </tr>\n",
              "    <tr>\n",
              "      <th>52</th>\n",
              "      <td>&amp;And So You Fell</td>\n",
              "      <td>1</td>\n",
              "    </tr>\n",
              "    <tr>\n",
              "      <th>57</th>\n",
              "      <td>&amp;until We Die (Album Version)</td>\n",
              "      <td>1</td>\n",
              "    </tr>\n",
              "    <tr>\n",
              "      <th>59</th>\n",
              "      <td>''Don't Turn The Light On_'' Leave Me Alone (2...</td>\n",
              "      <td>1</td>\n",
              "    </tr>\n",
              "    <tr>\n",
              "      <th>60</th>\n",
              "      <td>''The Raven''</td>\n",
              "      <td>1</td>\n",
              "    </tr>\n",
              "    <tr>\n",
              "      <th>61</th>\n",
              "      <td>'50s French Movie</td>\n",
              "      <td>1</td>\n",
              "    </tr>\n",
              "  </tbody>\n",
              "</table>\n",
              "</div>"
            ],
            "text/plain": [
              "                                              release  play_count\n",
              "0                              \n",
              "Ef Ég Hefði Aldrei...           1\n",
              "2   \n",
              "The Arsonist Story\":  Evil Craves Attention/O...           1\n",
              "5                                        Country Song           1\n",
              "8                                                 You           1\n",
              "10                                      !Hoy Estreno!           1\n",
              "16                       #1 Crew In The Area (Edited)           1\n",
              "21                                       #1 Trap Pick           1\n",
              "27                                #19 (Album Version)           1\n",
              "28                                                 #2           1\n",
              "29                                 #2 (Album Version)           1\n",
              "36                                   #69 Bronson Road           1\n",
              "37                                                 #8           1\n",
              "38                                     #iStubbedMyToe           1\n",
              "43                                      $20 For Boban           1\n",
              "50                                   &..Over&..Time&.           1\n",
              "52                                   &And So You Fell           1\n",
              "57                      &until We Die (Album Version)           1\n",
              "59  ''Don't Turn The Light On_'' Leave Me Alone (2...           1\n",
              "60                                      ''The Raven''           1\n",
              "61                                  '50s French Movie           1"
            ]
          },
          "metadata": {
            "tags": []
          },
          "execution_count": 50
        }
      ]
    },
    {
      "cell_type": "markdown",
      "metadata": {
        "id": "NBC2d0Ps0WJ9"
      },
      "source": [
        "**Note**\n",
        "\n",
        "* Top 10 release with most play_counts are :\n",
        "  * Sehr kosmisch\n",
        "  * Undo\n",
        "  * You're The One\n",
        "  * JDog Days Are Over (Radio Edit)\n",
        "  * Revelry, Secrets\n",
        "  * Horn Concerto No. 4\n",
        "  * Hey_ Soul Sister\n",
        "  * Fireflies.\n",
        "* Sehr kosmisch has most play count of 5043."
      ]
    },
    {
      "cell_type": "markdown",
      "metadata": {
        "id": "llk9Mz9o0WJ9"
      },
      "source": [
        "### <center>5.4 Analysis of Top 10 Artist </center>\n",
        "\n",
        "*   Coldplay \n",
        "*   Kings Of Leon \n",
        "*   Florence + The Machine \n",
        "*   Justin Bieber \n",
        "*   Jack Johnson\n",
        "*   Train\n",
        "*   The Black Keys\n",
        "*   Eminem\n",
        "*   OneRepblic\n",
        "*   Muse\n"
      ]
    },
    {
      "cell_type": "code",
      "metadata": {
        "colab": {
          "base_uri": "https://localhost:8080/",
          "height": 202
        },
        "id": "3AhYIEKG0WJ9",
        "outputId": "8475a4fb-ea17-4c87-b267-6e770fd6d653"
      },
      "source": [
        "cold_play=song_df[song_df.artist == 'Coldplay']\n",
        "cold_play.nlargest(5,'play_count')"
      ],
      "execution_count": null,
      "outputs": [
        {
          "output_type": "execute_result",
          "data": {
            "text/html": [
              "<div>\n",
              "<style scoped>\n",
              "    .dataframe tbody tr th:only-of-type {\n",
              "        vertical-align: middle;\n",
              "    }\n",
              "\n",
              "    .dataframe tbody tr th {\n",
              "        vertical-align: top;\n",
              "    }\n",
              "\n",
              "    .dataframe thead th {\n",
              "        text-align: right;\n",
              "    }\n",
              "</style>\n",
              "<table border=\"1\" class=\"dataframe\">\n",
              "  <thead>\n",
              "    <tr style=\"text-align: right;\">\n",
              "      <th></th>\n",
              "      <th>user_id</th>\n",
              "      <th>song_id</th>\n",
              "      <th>play_count</th>\n",
              "      <th>artist</th>\n",
              "      <th>release</th>\n",
              "      <th>song</th>\n",
              "    </tr>\n",
              "  </thead>\n",
              "  <tbody>\n",
              "    <tr>\n",
              "      <th>558905</th>\n",
              "      <td>6a048c2e7fe977abb52aff4c43889f2819788c54</td>\n",
              "      <td>SOPXKYD12A6D4FA876</td>\n",
              "      <td>261</td>\n",
              "      <td>Coldplay</td>\n",
              "      <td>Yellow</td>\n",
              "      <td>Coldplay-Yellow</td>\n",
              "    </tr>\n",
              "    <tr>\n",
              "      <th>457177</th>\n",
              "      <td>8b61442577c0a576e6fcf1e8f30659d277bbf4ee</td>\n",
              "      <td>SOMRYYN12A6310F0F3</td>\n",
              "      <td>136</td>\n",
              "      <td>Coldplay</td>\n",
              "      <td>In My Place</td>\n",
              "      <td>Coldplay-In My Place</td>\n",
              "    </tr>\n",
              "    <tr>\n",
              "      <th>189738</th>\n",
              "      <td>92bd5e054d2c92ba9eff0f19e2d700d99d05d0f7</td>\n",
              "      <td>SOPXKYD12A6D4FA876</td>\n",
              "      <td>129</td>\n",
              "      <td>Coldplay</td>\n",
              "      <td>Yellow</td>\n",
              "      <td>Coldplay-Yellow</td>\n",
              "    </tr>\n",
              "    <tr>\n",
              "      <th>267399</th>\n",
              "      <td>cdacddb9d0cdadc8528c5dfde0c1fbce619e525b</td>\n",
              "      <td>SOWEJXA12A6701C574</td>\n",
              "      <td>125</td>\n",
              "      <td>Coldplay</td>\n",
              "      <td>Fix You</td>\n",
              "      <td>Coldplay-Fix You</td>\n",
              "    </tr>\n",
              "    <tr>\n",
              "      <th>1148557</th>\n",
              "      <td>3a3330e185660b823bb9fbaaa2f1a0f7f2d46e8a</td>\n",
              "      <td>SOCVTLJ12A6310F0FD</td>\n",
              "      <td>90</td>\n",
              "      <td>Coldplay</td>\n",
              "      <td>Clocks</td>\n",
              "      <td>Coldplay-Clocks</td>\n",
              "    </tr>\n",
              "  </tbody>\n",
              "</table>\n",
              "</div>"
            ],
            "text/plain": [
              "                                          user_id  ...                  song\n",
              "558905   6a048c2e7fe977abb52aff4c43889f2819788c54  ...       Coldplay-Yellow\n",
              "457177   8b61442577c0a576e6fcf1e8f30659d277bbf4ee  ...  Coldplay-In My Place\n",
              "189738   92bd5e054d2c92ba9eff0f19e2d700d99d05d0f7  ...       Coldplay-Yellow\n",
              "267399   cdacddb9d0cdadc8528c5dfde0c1fbce619e525b  ...      Coldplay-Fix You\n",
              "1148557  3a3330e185660b823bb9fbaaa2f1a0f7f2d46e8a  ...       Coldplay-Clocks\n",
              "\n",
              "[5 rows x 6 columns]"
            ]
          },
          "metadata": {
            "tags": []
          },
          "execution_count": 51
        }
      ]
    },
    {
      "cell_type": "code",
      "metadata": {
        "colab": {
          "base_uri": "https://localhost:8080/",
          "height": 202
        },
        "id": "UU1OQIiX0WJ-",
        "outputId": "876da54c-050c-40d4-d2f6-5c804f083b39"
      },
      "source": [
        "kings_of_leon=song_df[song_df.artist == 'Kings Of Leon']\n",
        "kings_of_leon.nlargest(5,'play_count')"
      ],
      "execution_count": null,
      "outputs": [
        {
          "output_type": "execute_result",
          "data": {
            "text/html": [
              "<div>\n",
              "<style scoped>\n",
              "    .dataframe tbody tr th:only-of-type {\n",
              "        vertical-align: middle;\n",
              "    }\n",
              "\n",
              "    .dataframe tbody tr th {\n",
              "        vertical-align: top;\n",
              "    }\n",
              "\n",
              "    .dataframe thead th {\n",
              "        text-align: right;\n",
              "    }\n",
              "</style>\n",
              "<table border=\"1\" class=\"dataframe\">\n",
              "  <thead>\n",
              "    <tr style=\"text-align: right;\">\n",
              "      <th></th>\n",
              "      <th>user_id</th>\n",
              "      <th>song_id</th>\n",
              "      <th>play_count</th>\n",
              "      <th>artist</th>\n",
              "      <th>release</th>\n",
              "      <th>song</th>\n",
              "    </tr>\n",
              "  </thead>\n",
              "  <tbody>\n",
              "    <tr>\n",
              "      <th>268106</th>\n",
              "      <td>a93c63680854bc0c3fc10d923c2f0cf9d321384d</td>\n",
              "      <td>SOSXLTC12AF72A7F54</td>\n",
              "      <td>253</td>\n",
              "      <td>Kings Of Leon</td>\n",
              "      <td>Revelry</td>\n",
              "      <td>Kings Of Leon-Revelry</td>\n",
              "    </tr>\n",
              "    <tr>\n",
              "      <th>1347560</th>\n",
              "      <td>39a72c6e69ea8fc0c2c9b4ffbe5f90c2719bc39c</td>\n",
              "      <td>SOSXLTC12AF72A7F54</td>\n",
              "      <td>228</td>\n",
              "      <td>Kings Of Leon</td>\n",
              "      <td>Revelry</td>\n",
              "      <td>Kings Of Leon-Revelry</td>\n",
              "    </tr>\n",
              "    <tr>\n",
              "      <th>1148556</th>\n",
              "      <td>3a3330e185660b823bb9fbaaa2f1a0f7f2d46e8a</td>\n",
              "      <td>SOSXLTC12AF72A7F54</td>\n",
              "      <td>213</td>\n",
              "      <td>Kings Of Leon</td>\n",
              "      <td>Revelry</td>\n",
              "      <td>Kings Of Leon-Revelry</td>\n",
              "    </tr>\n",
              "    <tr>\n",
              "      <th>1257578</th>\n",
              "      <td>e72caa36b7047157dca28bed525fdeb9abef6789</td>\n",
              "      <td>SOSXLTC12AF72A7F54</td>\n",
              "      <td>191</td>\n",
              "      <td>Kings Of Leon</td>\n",
              "      <td>Revelry</td>\n",
              "      <td>Kings Of Leon-Revelry</td>\n",
              "    </tr>\n",
              "    <tr>\n",
              "      <th>1154041</th>\n",
              "      <td>aba7d62f7ba3468084a9276d1ea5ecffed41f9e4</td>\n",
              "      <td>SOSXLTC12AF72A7F54</td>\n",
              "      <td>186</td>\n",
              "      <td>Kings Of Leon</td>\n",
              "      <td>Revelry</td>\n",
              "      <td>Kings Of Leon-Revelry</td>\n",
              "    </tr>\n",
              "  </tbody>\n",
              "</table>\n",
              "</div>"
            ],
            "text/plain": [
              "                                          user_id  ...                   song\n",
              "268106   a93c63680854bc0c3fc10d923c2f0cf9d321384d  ...  Kings Of Leon-Revelry\n",
              "1347560  39a72c6e69ea8fc0c2c9b4ffbe5f90c2719bc39c  ...  Kings Of Leon-Revelry\n",
              "1148556  3a3330e185660b823bb9fbaaa2f1a0f7f2d46e8a  ...  Kings Of Leon-Revelry\n",
              "1257578  e72caa36b7047157dca28bed525fdeb9abef6789  ...  Kings Of Leon-Revelry\n",
              "1154041  aba7d62f7ba3468084a9276d1ea5ecffed41f9e4  ...  Kings Of Leon-Revelry\n",
              "\n",
              "[5 rows x 6 columns]"
            ]
          },
          "metadata": {
            "tags": []
          },
          "execution_count": 52
        }
      ]
    },
    {
      "cell_type": "code",
      "metadata": {
        "colab": {
          "base_uri": "https://localhost:8080/",
          "height": 289
        },
        "id": "EPhrHBk60WJ-",
        "outputId": "5398d8aa-52e8-4833-8dba-1e23baf6f58e"
      },
      "source": [
        "flo_the_mach=song_df[song_df.artist == 'Florence + The Machine']\n",
        "flo_the_mach.nlargest(5,'play_count')"
      ],
      "execution_count": null,
      "outputs": [
        {
          "output_type": "execute_result",
          "data": {
            "text/html": [
              "<div>\n",
              "<style scoped>\n",
              "    .dataframe tbody tr th:only-of-type {\n",
              "        vertical-align: middle;\n",
              "    }\n",
              "\n",
              "    .dataframe tbody tr th {\n",
              "        vertical-align: top;\n",
              "    }\n",
              "\n",
              "    .dataframe thead th {\n",
              "        text-align: right;\n",
              "    }\n",
              "</style>\n",
              "<table border=\"1\" class=\"dataframe\">\n",
              "  <thead>\n",
              "    <tr style=\"text-align: right;\">\n",
              "      <th></th>\n",
              "      <th>user_id</th>\n",
              "      <th>song_id</th>\n",
              "      <th>play_count</th>\n",
              "      <th>artist</th>\n",
              "      <th>release</th>\n",
              "      <th>song</th>\n",
              "    </tr>\n",
              "  </thead>\n",
              "  <tbody>\n",
              "    <tr>\n",
              "      <th>70297</th>\n",
              "      <td>801ae0eda0556cad306e75b0aeabe3e6524ad661</td>\n",
              "      <td>SOWLFNL12AB017DB20</td>\n",
              "      <td>196</td>\n",
              "      <td>Florence + The Machine</td>\n",
              "      <td>Bird Song</td>\n",
              "      <td>Florence + The Machine-Bird Song</td>\n",
              "    </tr>\n",
              "    <tr>\n",
              "      <th>61026</th>\n",
              "      <td>3befe0a9e7457b49e2e396afed8952305e0f10f5</td>\n",
              "      <td>SOAXGDH12A8C13F8A1</td>\n",
              "      <td>145</td>\n",
              "      <td>Florence + The Machine</td>\n",
              "      <td>Dog Days Are Over (Radio Edit)</td>\n",
              "      <td>Florence + The Machine-Dog Days Are Over (Radi...</td>\n",
              "    </tr>\n",
              "    <tr>\n",
              "      <th>573010</th>\n",
              "      <td>01cae816e7e21479ec470e1ffbc8e2c0e3f8064c</td>\n",
              "      <td>SOILFUU12AB017C75F</td>\n",
              "      <td>119</td>\n",
              "      <td>Florence + The Machine</td>\n",
              "      <td>I'm Not Calling You A Liar</td>\n",
              "      <td>Florence + The Machine-I'm Not Calling You A Liar</td>\n",
              "    </tr>\n",
              "    <tr>\n",
              "      <th>387099</th>\n",
              "      <td>826e83504ab33a69d308d3f7b544bf662f8a9568</td>\n",
              "      <td>SOAXGDH12A8C13F8A1</td>\n",
              "      <td>106</td>\n",
              "      <td>Florence + The Machine</td>\n",
              "      <td>Dog Days Are Over (Radio Edit)</td>\n",
              "      <td>Florence + The Machine-Dog Days Are Over (Radi...</td>\n",
              "    </tr>\n",
              "    <tr>\n",
              "      <th>736085</th>\n",
              "      <td>480cdfbd50b539bf8749f9201d10763fd7143fed</td>\n",
              "      <td>SOHFNKO12AB017C772</td>\n",
              "      <td>102</td>\n",
              "      <td>Florence + The Machine</td>\n",
              "      <td>Kiss With A Fist</td>\n",
              "      <td>Florence + The Machine-Kiss With A Fist</td>\n",
              "    </tr>\n",
              "  </tbody>\n",
              "</table>\n",
              "</div>"
            ],
            "text/plain": [
              "                                         user_id  ...                                               song\n",
              "70297   801ae0eda0556cad306e75b0aeabe3e6524ad661  ...                   Florence + The Machine-Bird Song\n",
              "61026   3befe0a9e7457b49e2e396afed8952305e0f10f5  ...  Florence + The Machine-Dog Days Are Over (Radi...\n",
              "573010  01cae816e7e21479ec470e1ffbc8e2c0e3f8064c  ...  Florence + The Machine-I'm Not Calling You A Liar\n",
              "387099  826e83504ab33a69d308d3f7b544bf662f8a9568  ...  Florence + The Machine-Dog Days Are Over (Radi...\n",
              "736085  480cdfbd50b539bf8749f9201d10763fd7143fed  ...            Florence + The Machine-Kiss With A Fist\n",
              "\n",
              "[5 rows x 6 columns]"
            ]
          },
          "metadata": {
            "tags": []
          },
          "execution_count": 53
        }
      ]
    },
    {
      "cell_type": "code",
      "metadata": {
        "colab": {
          "base_uri": "https://localhost:8080/",
          "height": 289
        },
        "id": "Bq37dmNg0WJ-",
        "outputId": "e0317f5f-718c-4a97-ce61-b88c8885fa5d"
      },
      "source": [
        "JB=song_df[song_df.artist == 'Justin Bieber']\n",
        "JB.nlargest(5,'play_count')"
      ],
      "execution_count": null,
      "outputs": [
        {
          "output_type": "execute_result",
          "data": {
            "text/html": [
              "<div>\n",
              "<style scoped>\n",
              "    .dataframe tbody tr th:only-of-type {\n",
              "        vertical-align: middle;\n",
              "    }\n",
              "\n",
              "    .dataframe tbody tr th {\n",
              "        vertical-align: top;\n",
              "    }\n",
              "\n",
              "    .dataframe thead th {\n",
              "        text-align: right;\n",
              "    }\n",
              "</style>\n",
              "<table border=\"1\" class=\"dataframe\">\n",
              "  <thead>\n",
              "    <tr style=\"text-align: right;\">\n",
              "      <th></th>\n",
              "      <th>user_id</th>\n",
              "      <th>song_id</th>\n",
              "      <th>play_count</th>\n",
              "      <th>artist</th>\n",
              "      <th>release</th>\n",
              "      <th>song</th>\n",
              "    </tr>\n",
              "  </thead>\n",
              "  <tbody>\n",
              "    <tr>\n",
              "      <th>336273</th>\n",
              "      <td>98bb6d608734890fd558589c97fc914c22033a36</td>\n",
              "      <td>SOJUXGA12AC961885C</td>\n",
              "      <td>143</td>\n",
              "      <td>Justin Bieber</td>\n",
              "      <td>Up</td>\n",
              "      <td>Justin Bieber-Up</td>\n",
              "    </tr>\n",
              "    <tr>\n",
              "      <th>1156180</th>\n",
              "      <td>7200bbe671a328c2f57b28e417bfa3a6c7ed4392</td>\n",
              "      <td>SOUGCDK12AC95F075F</td>\n",
              "      <td>109</td>\n",
              "      <td>Justin Bieber</td>\n",
              "      <td>Never Let You Go</td>\n",
              "      <td>Justin Bieber-Never Let You Go</td>\n",
              "    </tr>\n",
              "    <tr>\n",
              "      <th>280803</th>\n",
              "      <td>6e3dc3bb5a4bc837cfca5326b58325b1664364e5</td>\n",
              "      <td>SODGVGW12AC9075A8D</td>\n",
              "      <td>102</td>\n",
              "      <td>Justin Bieber</td>\n",
              "      <td>Somebody To Love</td>\n",
              "      <td>Justin Bieber-Somebody To Love</td>\n",
              "    </tr>\n",
              "    <tr>\n",
              "      <th>268100</th>\n",
              "      <td>a93c63680854bc0c3fc10d923c2f0cf9d321384d</td>\n",
              "      <td>SOWCBKV12AC90732A6</td>\n",
              "      <td>87</td>\n",
              "      <td>Justin Bieber</td>\n",
              "      <td>One Less Lonely Girl</td>\n",
              "      <td>Justin Bieber-One Less Lonely Girl</td>\n",
              "    </tr>\n",
              "    <tr>\n",
              "      <th>698656</th>\n",
              "      <td>b2f15de6bebb262aaf097b34ad3242994808d1fe</td>\n",
              "      <td>SODGVGW12AC9075A8D</td>\n",
              "      <td>84</td>\n",
              "      <td>Justin Bieber</td>\n",
              "      <td>Somebody To Love</td>\n",
              "      <td>Justin Bieber-Somebody To Love</td>\n",
              "    </tr>\n",
              "  </tbody>\n",
              "</table>\n",
              "</div>"
            ],
            "text/plain": [
              "                                          user_id  ...                                song\n",
              "336273   98bb6d608734890fd558589c97fc914c22033a36  ...                    Justin Bieber-Up\n",
              "1156180  7200bbe671a328c2f57b28e417bfa3a6c7ed4392  ...      Justin Bieber-Never Let You Go\n",
              "280803   6e3dc3bb5a4bc837cfca5326b58325b1664364e5  ...      Justin Bieber-Somebody To Love\n",
              "268100   a93c63680854bc0c3fc10d923c2f0cf9d321384d  ...  Justin Bieber-One Less Lonely Girl\n",
              "698656   b2f15de6bebb262aaf097b34ad3242994808d1fe  ...      Justin Bieber-Somebody To Love\n",
              "\n",
              "[5 rows x 6 columns]"
            ]
          },
          "metadata": {
            "tags": []
          },
          "execution_count": 54
        }
      ]
    },
    {
      "cell_type": "code",
      "metadata": {
        "colab": {
          "base_uri": "https://localhost:8080/",
          "height": 202
        },
        "id": "CTY2Bk0Z0WJ-",
        "outputId": "43dd0a18-263e-4454-f167-b6c3ec7ddd3f"
      },
      "source": [
        "JJ=song_df[song_df.artist == 'Jack Johnson']\n",
        "JJ.nlargest(5,'play_count')"
      ],
      "execution_count": null,
      "outputs": [
        {
          "output_type": "execute_result",
          "data": {
            "text/html": [
              "<div>\n",
              "<style scoped>\n",
              "    .dataframe tbody tr th:only-of-type {\n",
              "        vertical-align: middle;\n",
              "    }\n",
              "\n",
              "    .dataframe tbody tr th {\n",
              "        vertical-align: top;\n",
              "    }\n",
              "\n",
              "    .dataframe thead th {\n",
              "        text-align: right;\n",
              "    }\n",
              "</style>\n",
              "<table border=\"1\" class=\"dataframe\">\n",
              "  <thead>\n",
              "    <tr style=\"text-align: right;\">\n",
              "      <th></th>\n",
              "      <th>user_id</th>\n",
              "      <th>song_id</th>\n",
              "      <th>play_count</th>\n",
              "      <th>artist</th>\n",
              "      <th>release</th>\n",
              "      <th>song</th>\n",
              "    </tr>\n",
              "  </thead>\n",
              "  <tbody>\n",
              "    <tr>\n",
              "      <th>845260</th>\n",
              "      <td>6e2e840f6e717c883efec5115e1f25bb805765c1</td>\n",
              "      <td>SOVGLTY12AF72A39CD</td>\n",
              "      <td>454</td>\n",
              "      <td>Jack Johnson</td>\n",
              "      <td>Better Together</td>\n",
              "      <td>Jack Johnson-Better Together</td>\n",
              "    </tr>\n",
              "    <tr>\n",
              "      <th>1233111</th>\n",
              "      <td>7c2ddfeccc4f69a9a9ca98187a58669d57688a45</td>\n",
              "      <td>SOXDQPZ12A8C13F4FC</td>\n",
              "      <td>120</td>\n",
              "      <td>Jack Johnson</td>\n",
              "      <td>Staple It Together</td>\n",
              "      <td>Jack Johnson-Staple It Together</td>\n",
              "    </tr>\n",
              "    <tr>\n",
              "      <th>793624</th>\n",
              "      <td>c39db14f97dbd2e1063144ea0a5d543993a543ad</td>\n",
              "      <td>SODBMRI12A8151AF45</td>\n",
              "      <td>83</td>\n",
              "      <td>Jack Johnson</td>\n",
              "      <td>Angel</td>\n",
              "      <td>Jack Johnson-Angel</td>\n",
              "    </tr>\n",
              "    <tr>\n",
              "      <th>195856</th>\n",
              "      <td>449e1f3ac06c0b84f3e70c6d5aa259b4b1ca7733</td>\n",
              "      <td>SOPBTDA12A58A7B7C3</td>\n",
              "      <td>72</td>\n",
              "      <td>Jack Johnson</td>\n",
              "      <td>Questions</td>\n",
              "      <td>Jack Johnson-Questions</td>\n",
              "    </tr>\n",
              "    <tr>\n",
              "      <th>555213</th>\n",
              "      <td>938c2632d43eeadb8a83a7cc254d014f9cea6afe</td>\n",
              "      <td>SOUMOMJ12A6701DFDC</td>\n",
              "      <td>72</td>\n",
              "      <td>Jack Johnson</td>\n",
              "      <td>The News</td>\n",
              "      <td>Jack Johnson-The News</td>\n",
              "    </tr>\n",
              "  </tbody>\n",
              "</table>\n",
              "</div>"
            ],
            "text/plain": [
              "                                          user_id  ...                             song\n",
              "845260   6e2e840f6e717c883efec5115e1f25bb805765c1  ...     Jack Johnson-Better Together\n",
              "1233111  7c2ddfeccc4f69a9a9ca98187a58669d57688a45  ...  Jack Johnson-Staple It Together\n",
              "793624   c39db14f97dbd2e1063144ea0a5d543993a543ad  ...               Jack Johnson-Angel\n",
              "195856   449e1f3ac06c0b84f3e70c6d5aa259b4b1ca7733  ...           Jack Johnson-Questions\n",
              "555213   938c2632d43eeadb8a83a7cc254d014f9cea6afe  ...            Jack Johnson-The News\n",
              "\n",
              "[5 rows x 6 columns]"
            ]
          },
          "metadata": {
            "tags": []
          },
          "execution_count": 55
        }
      ]
    },
    {
      "cell_type": "code",
      "metadata": {
        "colab": {
          "base_uri": "https://localhost:8080/",
          "height": 202
        },
        "id": "HwueqWLv0WJ-",
        "outputId": "5aac7a99-c855-402d-c90b-ee4163bb1e0b"
      },
      "source": [
        "train=song_df[song_df.artist == 'Train']\n",
        "train.nlargest(5,'play_count')"
      ],
      "execution_count": null,
      "outputs": [
        {
          "output_type": "execute_result",
          "data": {
            "text/html": [
              "<div>\n",
              "<style scoped>\n",
              "    .dataframe tbody tr th:only-of-type {\n",
              "        vertical-align: middle;\n",
              "    }\n",
              "\n",
              "    .dataframe tbody tr th {\n",
              "        vertical-align: top;\n",
              "    }\n",
              "\n",
              "    .dataframe thead th {\n",
              "        text-align: right;\n",
              "    }\n",
              "</style>\n",
              "<table border=\"1\" class=\"dataframe\">\n",
              "  <thead>\n",
              "    <tr style=\"text-align: right;\">\n",
              "      <th></th>\n",
              "      <th>user_id</th>\n",
              "      <th>song_id</th>\n",
              "      <th>play_count</th>\n",
              "      <th>artist</th>\n",
              "      <th>release</th>\n",
              "      <th>song</th>\n",
              "    </tr>\n",
              "  </thead>\n",
              "  <tbody>\n",
              "    <tr>\n",
              "      <th>1151487</th>\n",
              "      <td>c6162e848d033652b6ef337c997ad93f56156dc1</td>\n",
              "      <td>SOTWNDJ12A8C143984</td>\n",
              "      <td>166</td>\n",
              "      <td>Train</td>\n",
              "      <td>Marry Me</td>\n",
              "      <td>Train-Marry Me</td>\n",
              "    </tr>\n",
              "    <tr>\n",
              "      <th>1362611</th>\n",
              "      <td>7424c499818b3be97facacd57a91089d4e094004</td>\n",
              "      <td>SODJWHY12A8C142CCE</td>\n",
              "      <td>108</td>\n",
              "      <td>Train</td>\n",
              "      <td>Hey_ Soul Sister</td>\n",
              "      <td>Train-Hey_ Soul Sister</td>\n",
              "    </tr>\n",
              "    <tr>\n",
              "      <th>1061851</th>\n",
              "      <td>40f848da4de34a443be060417ae3059fb6da0ee7</td>\n",
              "      <td>SOTWNDJ12A8C143984</td>\n",
              "      <td>103</td>\n",
              "      <td>Train</td>\n",
              "      <td>Marry Me</td>\n",
              "      <td>Train-Marry Me</td>\n",
              "    </tr>\n",
              "    <tr>\n",
              "      <th>1406</th>\n",
              "      <td>812326d41be139cdacdf487df987740a21e870d6</td>\n",
              "      <td>SOTWNDJ12A8C143984</td>\n",
              "      <td>89</td>\n",
              "      <td>Train</td>\n",
              "      <td>Marry Me</td>\n",
              "      <td>Train-Marry Me</td>\n",
              "    </tr>\n",
              "    <tr>\n",
              "      <th>518377</th>\n",
              "      <td>2a1cf488351b567f119f2d623a2405f5f2291532</td>\n",
              "      <td>SOFOJNT12A8C13615D</td>\n",
              "      <td>86</td>\n",
              "      <td>Train</td>\n",
              "      <td>Ramble On</td>\n",
              "      <td>Train-Ramble On</td>\n",
              "    </tr>\n",
              "  </tbody>\n",
              "</table>\n",
              "</div>"
            ],
            "text/plain": [
              "                                          user_id  ...                    song\n",
              "1151487  c6162e848d033652b6ef337c997ad93f56156dc1  ...          Train-Marry Me\n",
              "1362611  7424c499818b3be97facacd57a91089d4e094004  ...  Train-Hey_ Soul Sister\n",
              "1061851  40f848da4de34a443be060417ae3059fb6da0ee7  ...          Train-Marry Me\n",
              "1406     812326d41be139cdacdf487df987740a21e870d6  ...          Train-Marry Me\n",
              "518377   2a1cf488351b567f119f2d623a2405f5f2291532  ...         Train-Ramble On\n",
              "\n",
              "[5 rows x 6 columns]"
            ]
          },
          "metadata": {
            "tags": []
          },
          "execution_count": 56
        }
      ]
    },
    {
      "cell_type": "code",
      "metadata": {
        "colab": {
          "base_uri": "https://localhost:8080/",
          "height": 289
        },
        "id": "yVR8nEtK0WJ_",
        "outputId": "5a1b1396-ec7e-44c0-83fe-fb9cca130841"
      },
      "source": [
        "black_keys=song_df[song_df.artist == 'The Black Keys']\n",
        "black_keys.nlargest(5,'play_count')"
      ],
      "execution_count": null,
      "outputs": [
        {
          "output_type": "execute_result",
          "data": {
            "text/html": [
              "<div>\n",
              "<style scoped>\n",
              "    .dataframe tbody tr th:only-of-type {\n",
              "        vertical-align: middle;\n",
              "    }\n",
              "\n",
              "    .dataframe tbody tr th {\n",
              "        vertical-align: top;\n",
              "    }\n",
              "\n",
              "    .dataframe thead th {\n",
              "        text-align: right;\n",
              "    }\n",
              "</style>\n",
              "<table border=\"1\" class=\"dataframe\">\n",
              "  <thead>\n",
              "    <tr style=\"text-align: right;\">\n",
              "      <th></th>\n",
              "      <th>user_id</th>\n",
              "      <th>song_id</th>\n",
              "      <th>play_count</th>\n",
              "      <th>artist</th>\n",
              "      <th>release</th>\n",
              "      <th>song</th>\n",
              "    </tr>\n",
              "  </thead>\n",
              "  <tbody>\n",
              "    <tr>\n",
              "      <th>1215543</th>\n",
              "      <td>d5d8c4135cb97c4dd1c41948982bfac3a7c99b8d</td>\n",
              "      <td>SOQAJHW12AB0186004</td>\n",
              "      <td>160</td>\n",
              "      <td>The Black Keys</td>\n",
              "      <td>Every Lasting Light</td>\n",
              "      <td>The Black Keys-Every Lasting Light</td>\n",
              "    </tr>\n",
              "    <tr>\n",
              "      <th>189734</th>\n",
              "      <td>92bd5e054d2c92ba9eff0f19e2d700d99d05d0f7</td>\n",
              "      <td>SOVRTPN12AB0184F9E</td>\n",
              "      <td>96</td>\n",
              "      <td>The Black Keys</td>\n",
              "      <td>Howlin\u0019 For You</td>\n",
              "      <td>The Black Keys-Howlin\u0019 For You</td>\n",
              "    </tr>\n",
              "    <tr>\n",
              "      <th>920011</th>\n",
              "      <td>9ac285181622dcfd6f6bd1bc92dac8e2c730eb02</td>\n",
              "      <td>SONGYFE12AB018562D</td>\n",
              "      <td>72</td>\n",
              "      <td>The Black Keys</td>\n",
              "      <td>All Hands Against His Own</td>\n",
              "      <td>The Black Keys-All Hands Against His Own</td>\n",
              "    </tr>\n",
              "    <tr>\n",
              "      <th>890493</th>\n",
              "      <td>077ee0595c0b55c297786ea3cfdb7ee28fb3ca0b</td>\n",
              "      <td>SOVRTPN12AB0184F9E</td>\n",
              "      <td>71</td>\n",
              "      <td>The Black Keys</td>\n",
              "      <td>Howlin\u0019 For You</td>\n",
              "      <td>The Black Keys-Howlin\u0019 For You</td>\n",
              "    </tr>\n",
              "    <tr>\n",
              "      <th>1117180</th>\n",
              "      <td>8b6fa63de8328fdab344b21e7f5c0de7b01e72e8</td>\n",
              "      <td>SOLLDVS12AB0183835</td>\n",
              "      <td>66</td>\n",
              "      <td>The Black Keys</td>\n",
              "      <td>I'll Be Your Man</td>\n",
              "      <td>The Black Keys-I'll Be Your Man</td>\n",
              "    </tr>\n",
              "  </tbody>\n",
              "</table>\n",
              "</div>"
            ],
            "text/plain": [
              "                                          user_id  ...                                      song\n",
              "1215543  d5d8c4135cb97c4dd1c41948982bfac3a7c99b8d  ...        The Black Keys-Every Lasting Light\n",
              "189734   92bd5e054d2c92ba9eff0f19e2d700d99d05d0f7  ...            The Black Keys-Howlin\u0019 For You\n",
              "920011   9ac285181622dcfd6f6bd1bc92dac8e2c730eb02  ...  The Black Keys-All Hands Against His Own\n",
              "890493   077ee0595c0b55c297786ea3cfdb7ee28fb3ca0b  ...            The Black Keys-Howlin\u0019 For You\n",
              "1117180  8b6fa63de8328fdab344b21e7f5c0de7b01e72e8  ...           The Black Keys-I'll Be Your Man\n",
              "\n",
              "[5 rows x 6 columns]"
            ]
          },
          "metadata": {
            "tags": []
          },
          "execution_count": 57
        }
      ]
    },
    {
      "cell_type": "code",
      "metadata": {
        "colab": {
          "base_uri": "https://localhost:8080/",
          "height": 202
        },
        "id": "ZFV3Z8Eq0WJ_",
        "outputId": "b45ab737-b09c-4522-99de-1948e5c90ca2"
      },
      "source": [
        "MnM=song_df[song_df.artist == 'Eminem']\n",
        "MnM.nlargest(5,'play_count')"
      ],
      "execution_count": null,
      "outputs": [
        {
          "output_type": "execute_result",
          "data": {
            "text/html": [
              "<div>\n",
              "<style scoped>\n",
              "    .dataframe tbody tr th:only-of-type {\n",
              "        vertical-align: middle;\n",
              "    }\n",
              "\n",
              "    .dataframe tbody tr th {\n",
              "        vertical-align: top;\n",
              "    }\n",
              "\n",
              "    .dataframe thead th {\n",
              "        text-align: right;\n",
              "    }\n",
              "</style>\n",
              "<table border=\"1\" class=\"dataframe\">\n",
              "  <thead>\n",
              "    <tr style=\"text-align: right;\">\n",
              "      <th></th>\n",
              "      <th>user_id</th>\n",
              "      <th>song_id</th>\n",
              "      <th>play_count</th>\n",
              "      <th>artist</th>\n",
              "      <th>release</th>\n",
              "      <th>song</th>\n",
              "    </tr>\n",
              "  </thead>\n",
              "  <tbody>\n",
              "    <tr>\n",
              "      <th>1402480</th>\n",
              "      <td>cd0102f35cee04da23278b78816ad0a9104c1eb8</td>\n",
              "      <td>SOWGXOP12A6701E93A</td>\n",
              "      <td>98</td>\n",
              "      <td>Eminem</td>\n",
              "      <td>Without Me</td>\n",
              "      <td>Eminem-Without Me</td>\n",
              "    </tr>\n",
              "    <tr>\n",
              "      <th>1040501</th>\n",
              "      <td>ee827f13e997585f06d80e4a310f330637b90b81</td>\n",
              "      <td>SOWMUWQ12AF729E1E7</td>\n",
              "      <td>85</td>\n",
              "      <td>Eminem</td>\n",
              "      <td>Mr. Mathers</td>\n",
              "      <td>Eminem-Mr. Mathers</td>\n",
              "    </tr>\n",
              "    <tr>\n",
              "      <th>713330</th>\n",
              "      <td>78f89456846fbcfc2ab682de9bb4281ee36a5ee2</td>\n",
              "      <td>SOPCTBB12AF72A1B64</td>\n",
              "      <td>79</td>\n",
              "      <td>Eminem</td>\n",
              "      <td>Hailie's Song</td>\n",
              "      <td>Eminem-Hailie's Song</td>\n",
              "    </tr>\n",
              "    <tr>\n",
              "      <th>828732</th>\n",
              "      <td>0715d5f472c7f72d0d816d45adc801170f6afa68</td>\n",
              "      <td>SOPCTBB12AF72A1B64</td>\n",
              "      <td>75</td>\n",
              "      <td>Eminem</td>\n",
              "      <td>Hailie's Song</td>\n",
              "      <td>Eminem-Hailie's Song</td>\n",
              "    </tr>\n",
              "    <tr>\n",
              "      <th>294001</th>\n",
              "      <td>6b937abb28d42a658ba380ec0501394ac21946a7</td>\n",
              "      <td>SOKOXWU12AF72AD1BC</td>\n",
              "      <td>69</td>\n",
              "      <td>Eminem</td>\n",
              "      <td>The Real Slim Shady</td>\n",
              "      <td>Eminem-The Real Slim Shady</td>\n",
              "    </tr>\n",
              "  </tbody>\n",
              "</table>\n",
              "</div>"
            ],
            "text/plain": [
              "                                          user_id  ...                        song\n",
              "1402480  cd0102f35cee04da23278b78816ad0a9104c1eb8  ...           Eminem-Without Me\n",
              "1040501  ee827f13e997585f06d80e4a310f330637b90b81  ...          Eminem-Mr. Mathers\n",
              "713330   78f89456846fbcfc2ab682de9bb4281ee36a5ee2  ...        Eminem-Hailie's Song\n",
              "828732   0715d5f472c7f72d0d816d45adc801170f6afa68  ...        Eminem-Hailie's Song\n",
              "294001   6b937abb28d42a658ba380ec0501394ac21946a7  ...  Eminem-The Real Slim Shady\n",
              "\n",
              "[5 rows x 6 columns]"
            ]
          },
          "metadata": {
            "tags": []
          },
          "execution_count": 58
        }
      ]
    },
    {
      "cell_type": "code",
      "metadata": {
        "colab": {
          "base_uri": "https://localhost:8080/",
          "height": 219
        },
        "id": "aXEeIisn0WJ_",
        "outputId": "c7f04b74-cdb9-4fc6-b13e-e7d9ff5276db"
      },
      "source": [
        "One_Republic=song_df[song_df.artist == 'OneRepublic']\n",
        "One_Republic.nlargest(5,'play_count')"
      ],
      "execution_count": null,
      "outputs": [
        {
          "output_type": "execute_result",
          "data": {
            "text/html": [
              "<div>\n",
              "<style scoped>\n",
              "    .dataframe tbody tr th:only-of-type {\n",
              "        vertical-align: middle;\n",
              "    }\n",
              "\n",
              "    .dataframe tbody tr th {\n",
              "        vertical-align: top;\n",
              "    }\n",
              "\n",
              "    .dataframe thead th {\n",
              "        text-align: right;\n",
              "    }\n",
              "</style>\n",
              "<table border=\"1\" class=\"dataframe\">\n",
              "  <thead>\n",
              "    <tr style=\"text-align: right;\">\n",
              "      <th></th>\n",
              "      <th>user_id</th>\n",
              "      <th>song_id</th>\n",
              "      <th>play_count</th>\n",
              "      <th>artist</th>\n",
              "      <th>release</th>\n",
              "      <th>song</th>\n",
              "    </tr>\n",
              "  </thead>\n",
              "  <tbody>\n",
              "    <tr>\n",
              "      <th>279372</th>\n",
              "      <td>6353578ea9fd99fd8d1f2bc36563889886041f66</td>\n",
              "      <td>SOQIKXH12A6D4FD113</td>\n",
              "      <td>104</td>\n",
              "      <td>OneRepublic</td>\n",
              "      <td>Come Home</td>\n",
              "      <td>OneRepublic-Come Home</td>\n",
              "    </tr>\n",
              "    <tr>\n",
              "      <th>277219</th>\n",
              "      <td>e44e032804075ae8ba002166314333222e69a7ac</td>\n",
              "      <td>SONYKOW12AB01849C9</td>\n",
              "      <td>77</td>\n",
              "      <td>OneRepublic</td>\n",
              "      <td>Secrets</td>\n",
              "      <td>OneRepublic-Secrets</td>\n",
              "    </tr>\n",
              "    <tr>\n",
              "      <th>50305</th>\n",
              "      <td>cfd35c09174acbeb13090ae4220bcb0b3ef0cccf</td>\n",
              "      <td>SONYKOW12AB01849C9</td>\n",
              "      <td>69</td>\n",
              "      <td>OneRepublic</td>\n",
              "      <td>Secrets</td>\n",
              "      <td>OneRepublic-Secrets</td>\n",
              "    </tr>\n",
              "    <tr>\n",
              "      <th>1038144</th>\n",
              "      <td>1d701b8d4b225e7b6eb7ffb25f50716c9e6d1779</td>\n",
              "      <td>SOBKMNJ12AF729BCA3</td>\n",
              "      <td>66</td>\n",
              "      <td>OneRepublic</td>\n",
              "      <td>Missing Persons 1 &amp; 2</td>\n",
              "      <td>OneRepublic-Missing Persons 1 &amp; 2</td>\n",
              "    </tr>\n",
              "    <tr>\n",
              "      <th>857258</th>\n",
              "      <td>b6a1fa37790c4bc1851af2b25070c442e025cd6c</td>\n",
              "      <td>SONYKOW12AB01849C9</td>\n",
              "      <td>62</td>\n",
              "      <td>OneRepublic</td>\n",
              "      <td>Secrets</td>\n",
              "      <td>OneRepublic-Secrets</td>\n",
              "    </tr>\n",
              "  </tbody>\n",
              "</table>\n",
              "</div>"
            ],
            "text/plain": [
              "                                          user_id  ...                               song\n",
              "279372   6353578ea9fd99fd8d1f2bc36563889886041f66  ...              OneRepublic-Come Home\n",
              "277219   e44e032804075ae8ba002166314333222e69a7ac  ...                OneRepublic-Secrets\n",
              "50305    cfd35c09174acbeb13090ae4220bcb0b3ef0cccf  ...                OneRepublic-Secrets\n",
              "1038144  1d701b8d4b225e7b6eb7ffb25f50716c9e6d1779  ...  OneRepublic-Missing Persons 1 & 2\n",
              "857258   b6a1fa37790c4bc1851af2b25070c442e025cd6c  ...                OneRepublic-Secrets\n",
              "\n",
              "[5 rows x 6 columns]"
            ]
          },
          "metadata": {
            "tags": []
          },
          "execution_count": 59
        }
      ]
    },
    {
      "cell_type": "code",
      "metadata": {
        "colab": {
          "base_uri": "https://localhost:8080/",
          "height": 219
        },
        "id": "HNFkS_060WJ_",
        "outputId": "fbc455e2-3bb4-463c-e6b8-c1ff9a0e67d6"
      },
      "source": [
        "Muse=song_df[song_df.artist == 'Muse']\n",
        "Muse.nlargest(5,'play_count')"
      ],
      "execution_count": null,
      "outputs": [
        {
          "output_type": "execute_result",
          "data": {
            "text/html": [
              "<div>\n",
              "<style scoped>\n",
              "    .dataframe tbody tr th:only-of-type {\n",
              "        vertical-align: middle;\n",
              "    }\n",
              "\n",
              "    .dataframe tbody tr th {\n",
              "        vertical-align: top;\n",
              "    }\n",
              "\n",
              "    .dataframe thead th {\n",
              "        text-align: right;\n",
              "    }\n",
              "</style>\n",
              "<table border=\"1\" class=\"dataframe\">\n",
              "  <thead>\n",
              "    <tr style=\"text-align: right;\">\n",
              "      <th></th>\n",
              "      <th>user_id</th>\n",
              "      <th>song_id</th>\n",
              "      <th>play_count</th>\n",
              "      <th>artist</th>\n",
              "      <th>release</th>\n",
              "      <th>song</th>\n",
              "    </tr>\n",
              "  </thead>\n",
              "  <tbody>\n",
              "    <tr>\n",
              "      <th>997417</th>\n",
              "      <td>d1d845a92cd34456423e781512bdb502ca385b51</td>\n",
              "      <td>SOUIEEX12A6D4F858C</td>\n",
              "      <td>181</td>\n",
              "      <td>Muse</td>\n",
              "      <td>Dead Star [Live From Le Zenith]</td>\n",
              "      <td>Muse-Dead Star [Live From Le Zenith]</td>\n",
              "    </tr>\n",
              "    <tr>\n",
              "      <th>288238</th>\n",
              "      <td>a5c880cab8115c75871976457ae0052b830c23e7</td>\n",
              "      <td>SOXAQJS12AB018CBF7</td>\n",
              "      <td>82</td>\n",
              "      <td>Muse</td>\n",
              "      <td>Resistance</td>\n",
              "      <td>Muse-Resistance</td>\n",
              "    </tr>\n",
              "    <tr>\n",
              "      <th>744750</th>\n",
              "      <td>e624c90716a0f1fd5ce89444cb59cf6db5f8a2b3</td>\n",
              "      <td>SOANQFY12AB0183239</td>\n",
              "      <td>74</td>\n",
              "      <td>Muse</td>\n",
              "      <td>Uprising</td>\n",
              "      <td>Muse-Uprising</td>\n",
              "    </tr>\n",
              "    <tr>\n",
              "      <th>1065938</th>\n",
              "      <td>362968edc69241ac645a43929a2be09899521018</td>\n",
              "      <td>SOFJWPF12A6D4F570E</td>\n",
              "      <td>72</td>\n",
              "      <td>Muse</td>\n",
              "      <td>Hoodoo</td>\n",
              "      <td>Muse-Hoodoo</td>\n",
              "    </tr>\n",
              "    <tr>\n",
              "      <th>6344</th>\n",
              "      <td>9ca08e25a5c4144b1f2cd6890d8cb65717e7c73e</td>\n",
              "      <td>SOISUWI12A6D4F5708</td>\n",
              "      <td>65</td>\n",
              "      <td>Muse</td>\n",
              "      <td>Starlight</td>\n",
              "      <td>Muse-Starlight</td>\n",
              "    </tr>\n",
              "  </tbody>\n",
              "</table>\n",
              "</div>"
            ],
            "text/plain": [
              "                                          user_id  ...                                  song\n",
              "997417   d1d845a92cd34456423e781512bdb502ca385b51  ...  Muse-Dead Star [Live From Le Zenith]\n",
              "288238   a5c880cab8115c75871976457ae0052b830c23e7  ...                       Muse-Resistance\n",
              "744750   e624c90716a0f1fd5ce89444cb59cf6db5f8a2b3  ...                         Muse-Uprising\n",
              "1065938  362968edc69241ac645a43929a2be09899521018  ...                           Muse-Hoodoo\n",
              "6344     9ca08e25a5c4144b1f2cd6890d8cb65717e7c73e  ...                        Muse-Starlight\n",
              "\n",
              "[5 rows x 6 columns]"
            ]
          },
          "metadata": {
            "tags": []
          },
          "execution_count": 60
        }
      ]
    },
    {
      "cell_type": "code",
      "metadata": {
        "colab": {
          "base_uri": "https://localhost:8080/",
          "height": 415
        },
        "id": "NinB7pVm0WKA",
        "outputId": "9422821a-7b40-4efc-916d-1d94bf79065d"
      },
      "source": [
        "# let's add a percentage column which tells the percentage of each user_id play count based on total\n",
        "\n",
        "song_grouped=song_df.groupby(['song']).agg({'play_count':'count'}).reset_index()\n",
        "grouped_sum=song_grouped['play_count'].sum()\n",
        "song_grouped['percentage']=(song_grouped['play_count']/grouped_sum)*100\n",
        "song_grouped.sort_values(['play_count','song'],ascending=[0,1])"
      ],
      "execution_count": null,
      "outputs": [
        {
          "output_type": "execute_result",
          "data": {
            "text/html": [
              "<div>\n",
              "<style scoped>\n",
              "    .dataframe tbody tr th:only-of-type {\n",
              "        vertical-align: middle;\n",
              "    }\n",
              "\n",
              "    .dataframe tbody tr th {\n",
              "        vertical-align: top;\n",
              "    }\n",
              "\n",
              "    .dataframe thead th {\n",
              "        text-align: right;\n",
              "    }\n",
              "</style>\n",
              "<table border=\"1\" class=\"dataframe\">\n",
              "  <thead>\n",
              "    <tr style=\"text-align: right;\">\n",
              "      <th></th>\n",
              "      <th>song</th>\n",
              "      <th>play_count</th>\n",
              "      <th>percentage</th>\n",
              "    </tr>\n",
              "  </thead>\n",
              "  <tbody>\n",
              "    <tr>\n",
              "      <th>59878</th>\n",
              "      <td>Harmonia-Sehr kosmisch</td>\n",
              "      <td>5043</td>\n",
              "      <td>0.347570</td>\n",
              "    </tr>\n",
              "    <tr>\n",
              "      <th>17175</th>\n",
              "      <td>Björk-Undo</td>\n",
              "      <td>4483</td>\n",
              "      <td>0.308974</td>\n",
              "    </tr>\n",
              "    <tr>\n",
              "      <th>42714</th>\n",
              "      <td>Dwight Yoakam-You're The One</td>\n",
              "      <td>4136</td>\n",
              "      <td>0.285058</td>\n",
              "    </tr>\n",
              "    <tr>\n",
              "      <th>51326</th>\n",
              "      <td>Florence + The Machine-Dog Days Are Over (Radi...</td>\n",
              "      <td>3780</td>\n",
              "      <td>0.260522</td>\n",
              "    </tr>\n",
              "    <tr>\n",
              "      <th>77664</th>\n",
              "      <td>Kings Of Leon-Revelry</td>\n",
              "      <td>3672</td>\n",
              "      <td>0.253079</td>\n",
              "    </tr>\n",
              "    <tr>\n",
              "      <th>...</th>\n",
              "      <td>...</td>\n",
              "      <td>...</td>\n",
              "      <td>...</td>\n",
              "    </tr>\n",
              "    <tr>\n",
              "      <th>162028</th>\n",
              "      <td>Ólafur Arnalds-Himininn er að hrynja_ en stjör...</td>\n",
              "      <td>1</td>\n",
              "      <td>0.000069</td>\n",
              "    </tr>\n",
              "    <tr>\n",
              "      <th>162030</th>\n",
              "      <td>Ólafur Arnalds-Kjurrt</td>\n",
              "      <td>1</td>\n",
              "      <td>0.000069</td>\n",
              "    </tr>\n",
              "    <tr>\n",
              "      <th>162037</th>\n",
              "      <td>Ólafur Arnalds-Við vorum smá...</td>\n",
              "      <td>1</td>\n",
              "      <td>0.000069</td>\n",
              "    </tr>\n",
              "    <tr>\n",
              "      <th>162041</th>\n",
              "      <td>Órla Fallon-The Water Is Wide</td>\n",
              "      <td>1</td>\n",
              "      <td>0.000069</td>\n",
              "    </tr>\n",
              "    <tr>\n",
              "      <th>162042</th>\n",
              "      <td>Özlem Tekin-A)sik</td>\n",
              "      <td>1</td>\n",
              "      <td>0.000069</td>\n",
              "    </tr>\n",
              "  </tbody>\n",
              "</table>\n",
              "<p>162043 rows × 3 columns</p>\n",
              "</div>"
            ],
            "text/plain": [
              "                                                     song  ...  percentage\n",
              "59878                              Harmonia-Sehr kosmisch  ...    0.347570\n",
              "17175                                          Björk-Undo  ...    0.308974\n",
              "42714                        Dwight Yoakam-You're The One  ...    0.285058\n",
              "51326   Florence + The Machine-Dog Days Are Over (Radi...  ...    0.260522\n",
              "77664                               Kings Of Leon-Revelry  ...    0.253079\n",
              "...                                                   ...  ...         ...\n",
              "162028  Ólafur Arnalds-Himininn er að hrynja_ en stjör...  ...    0.000069\n",
              "162030                              Ólafur Arnalds-Kjurrt  ...    0.000069\n",
              "162037                    Ólafur Arnalds-Við vorum smá...  ...    0.000069\n",
              "162041                      Órla Fallon-The Water Is Wide  ...    0.000069\n",
              "162042                                  Özlem Tekin-A)sik  ...    0.000069\n",
              "\n",
              "[162043 rows x 3 columns]"
            ]
          },
          "metadata": {
            "tags": []
          },
          "execution_count": 61
        }
      ]
    },
    {
      "cell_type": "markdown",
      "metadata": {
        "id": "dwZ05tCg0WKA"
      },
      "source": [
        "***These are the popular songs we can suggest these songs if we would like to go for popularity based recommendation system***"
      ]
    },
    {
      "cell_type": "markdown",
      "metadata": {
        "id": "YXKzxsK_0WKM"
      },
      "source": [
        "### <center> 5.5 Summary Of Statastical Analysis</center>\n",
        "<ul>\n",
        "    <li>Top Artist - Coldplay</li>\n",
        "    <li>Top Song - Sher Kosmisch By Harmonia</li>\n",
        "    <li>Half of the users listens to less than 12 songs</li>\n",
        "    <li>Top Five artists :</li>\n",
        "        <ul>\n",
        "            <li>Coldplay</li>\n",
        "            <li>Kings of Leon</li>\n",
        "            <li>Florence + The Machine</li>\n",
        "            <li>Justin Bieber</li>\n",
        "            <li>Jack Johnson</li>\n",
        "        </ul>\n",
        "     <li>Sorted the poular songs we can suggest these songs if we would like to go for popularity based recommendation system</li>\n",
        "    <li>Future Work :</li>\n",
        "    <ul><li>Pearson Corelation for Item to Item and User to User</li></ul>\n",
        "            \n",
        "            "
      ]
    },
    {
      "cell_type": "markdown",
      "metadata": {
        "id": "ZNjj97HN0WKA"
      },
      "source": [
        "---\n",
        "## <center> 6. Univariate Analysis</center>"
      ]
    },
    {
      "cell_type": "code",
      "metadata": {
        "colab": {
          "base_uri": "https://localhost:8080/",
          "height": 593
        },
        "id": "iMrUJjCc0WKA",
        "outputId": "4e3b5041-9861-49b8-9480-a9b3b8b0d3a6"
      },
      "source": [
        "#Analysis of Play Count\n",
        "plt.figure(figsize=(20,10))\n",
        "sns.distplot(triplet['play_count'],color=\"r\")\n",
        "plt.title(\"song play count\");"
      ],
      "execution_count": null,
      "outputs": [
        {
          "output_type": "display_data",
          "data": {
            "image/png": "[encoded data removed]",
            "text/plain": [
              "<Figure size 1440x720 with 1 Axes>"
            ]
          },
          "metadata": {
            "tags": [],
            "needs_background": "light"
          }
        }
      ]
    },
    {
      "cell_type": "code",
      "metadata": {
        "colab": {
          "base_uri": "https://localhost:8080/",
          "height": 403
        },
        "id": "PtwYvQYGnn-J",
        "outputId": "a07aec49-89f2-4cf5-d30a-0b0b0485827c"
      },
      "source": [
        "#Histogram Of PlayCount\n",
        "plt.figure(figsize=(10,6))\n",
        "plt.hist(x=df['play_count'], bins=40, facecolor='green', alpha=0.75,range=[0,40])\n",
        "plt.xlabel(\"play_count\")\n",
        "plt.ylabel(\"Density\")\n",
        "plt.title(\"Histogram of play_count\")\n",
        "plt.show()"
      ],
      "execution_count": null,
      "outputs": [
        {
          "output_type": "display_data",
          "data": {
            "image/png": "[encoded data removed]",
            "text/plain": [
              "<Figure size 720x432 with 1 Axes>"
            ]
          },
          "metadata": {
            "tags": [],
            "needs_background": "light"
          }
        }
      ]
    },
    {
      "cell_type": "markdown",
      "metadata": {
        "id": "SPSYd9CC0WKA"
      },
      "source": [
        "**Note**\n",
        "\n",
        "\n",
        "*   Can Observe that most of play count is below 15\n",
        "\n",
        "\n"
      ]
    },
    {
      "cell_type": "code",
      "metadata": {
        "colab": {
          "base_uri": "https://localhost:8080/",
          "height": 388
        },
        "id": "DGi_3BWe0WKA",
        "outputId": "13338988-3266-4453-e9ce-5eba3777ccf2"
      },
      "source": [
        "#User_Song Distribution\n",
        "user_song_count_distribution = df[['user_id','release']].groupby('user_id').count().reset_index().sort_values(\n",
        "by='release',ascending = False)\n",
        "x = user_song_count_distribution.release\n",
        "plt.figure(figsize=(12,6))\n",
        "n, bins, patches = plt.hist(x, 50, facecolor='green', alpha=0.75)\n",
        "plt.xlabel(u'number of singles played')\n",
        "plt.ylabel(u'number of users')\n",
        "plt.grid(True)"
      ],
      "execution_count": null,
      "outputs": [
        {
          "output_type": "display_data",
          "data": {
            "image/png": "[encoded data removed]",
            "text/plain": [
              "<Figure size 864x432 with 1 Axes>"
            ]
          },
          "metadata": {
            "tags": [],
            "needs_background": "light"
          }
        }
      ]
    },
    {
      "cell_type": "markdown",
      "metadata": {
        "id": "q6JC1WvP0WKB"
      },
      "source": [
        "Note : \n",
        "\n",
        "\n",
        "*   Most of Users Played Below 10 Songs\n",
        "\n",
        "\n"
      ]
    },
    {
      "cell_type": "code",
      "metadata": {
        "colab": {
          "base_uri": "https://localhost:8080/",
          "height": 483
        },
        "id": "A_gbFIVYdrRi",
        "outputId": "2584e91f-e297-468e-fd41-0ed19bca7050"
      },
      "source": [
        "#How many users listen to the same song on average ?\n",
        "song_user = df.groupby('song_id')['user_id'].count()\n",
        "plt.figure(figsize=(16, 8))\n",
        "sns.distplot(song_user.values, color='blue')\n",
        "plt.gca().spines['top'].set_visible(False)\n",
        "plt.gca().spines['right'].set_visible(False)\n",
        "plt.show();"
      ],
      "execution_count": null,
      "outputs": [
        {
          "output_type": "display_data",
          "data": {
            "image/png": "[encoded data removed]",
            "text/plain": [
              "<Figure size 1152x576 with 1 Axes>"
            ]
          },
          "metadata": {
            "tags": [],
            "needs_background": "light"
          }
        }
      ]
    },
    {
      "cell_type": "code",
      "metadata": {
        "colab": {
          "base_uri": "https://localhost:8080/"
        },
        "id": "Wt4adtqyd-GJ",
        "outputId": "6ec98253-085f-4330-8e64-bcfb118db737"
      },
      "source": [
        "print(f\"A song is listened for an average of {np.mean(song_user)} users, with minimum {np.min(song_user)} and maximum {np.max(song_user)} users\")"
      ],
      "execution_count": null,
      "outputs": [
        {
          "output_type": "stream",
          "text": [
            "A song is listened for an average of 8.890193987966128 users, with minimum 1 and maximum 5043 users\n"
          ],
          "name": "stdout"
        }
      ]
    },
    {
      "cell_type": "code",
      "metadata": {
        "id": "NP_j-mLM0WKB"
      },
      "source": [
        "#Resampling data For Pandas Profiling\n",
        "df2 = df.sample(n=10000, random_state=0)"
      ],
      "execution_count": null,
      "outputs": []
    },
    {
      "cell_type": "code",
      "metadata": {
        "id": "dbXrapkt0WKB"
      },
      "source": [
        "AV = AutoViz_Class()"
      ],
      "execution_count": null,
      "outputs": []
    },
    {
      "cell_type": "code",
      "metadata": {
        "colab": {
          "base_uri": "https://localhost:8080/",
          "height": 1000
        },
        "id": "ud4GyePm0WKB",
        "outputId": "9a601e35-e8ef-489a-a4a9-210fe01b4abb"
      },
      "source": [
        "t = AV.AutoViz(filename=\"\",dfte=df2);"
      ],
      "execution_count": null,
      "outputs": [
        {
          "output_type": "stream",
          "text": [
            "Shape of your Data Set: (10000, 6)\n",
            "############## C L A S S I F Y I N G  V A R I A B L E S  ####################\n",
            "Classifying variables in data set...\n",
            "    Number of Numeric Columns =  0\n",
            "    Number of Integer-Categorical Columns =  1\n",
            "    Number of String-Categorical Columns =  1\n",
            "    Number of Factor-Categorical Columns =  0\n",
            "    Number of String-Boolean Columns =  0\n",
            "    Number of Numeric-Boolean Columns =  0\n",
            "    Number of Discrete String Columns =  4\n",
            "    Number of NLP String Columns =  0\n",
            "    Number of Date Time Columns =  0\n",
            "    Number of ID Columns =  0\n",
            "    Number of Columns to Delete =  0\n",
            "    6 Predictors classified...\n",
            "        This does not include the Target column(s)\n",
            "        4 variables removed since they were ID or low-information variables\n"
          ],
          "name": "stdout"
        },
        {
          "output_type": "display_data",
          "data": {
            "image/png": "[encoded data removed]",
            "text/plain": [
              "<Figure size 1080x360 with 3 Axes>"
            ]
          },
          "metadata": {
            "tags": [],
            "needs_background": "light"
          }
        },
        {
          "output_type": "display_data",
          "data": {
            "image/png": "[encoded data removed]",
            "text/plain": [
              "<Figure size 1080x360 with 1 Axes>"
            ]
          },
          "metadata": {
            "tags": [],
            "needs_background": "light"
          }
        },
        {
          "output_type": "display_data",
          "data": {
            "image/png": "[encoded data removed]",
            "text/plain": [
              "<Figure size 1080x288 with 1 Axes>"
            ]
          },
          "metadata": {
            "tags": [],
            "needs_background": "light"
          }
        },
        {
          "output_type": "display_data",
          "data": {
            "image/png": "[encoded data removed]",
            "text/plain": [
              "<Figure size 1440x360 with 1 Axes>"
            ]
          },
          "metadata": {
            "tags": [],
            "needs_background": "light"
          }
        },
        {
          "output_type": "stream",
          "text": [
            "Time to run AutoViz (in seconds) = 1.908\n",
            "\n",
            " ###################### VISUALIZATION Completed ########################\n"
          ],
          "name": "stdout"
        }
      ]
    },
    {
      "cell_type": "markdown",
      "metadata": {
        "id": "HVqM4zfV0WKD"
      },
      "source": [
        "---\n",
        "## <center> 7. Bi-variate Analysis </center>"
      ]
    },
    {
      "cell_type": "markdown",
      "metadata": {
        "id": "Yxj03GML0WKD"
      },
      "source": [
        "### <center>7.1 Top 10 Artist Vs Play Counts</center>"
      ]
    },
    {
      "cell_type": "code",
      "metadata": {
        "colab": {
          "base_uri": "https://localhost:8080/",
          "height": 620
        },
        "id": "aYi80Q1j0WKD",
        "outputId": "0193793d-d758-4983-8d09-6ab6ffcdba2d"
      },
      "source": [
        "artist_play_counts = song_df[['artist','play_count']].groupby('artist').sum().reset_index()\n",
        "top10 = artist_play_counts.sort_values('play_count', ascending = False).head(10)\n",
        "plt.figure(figsize = (15, 10))\n",
        "sns.barplot(x = top10['play_count'], y = top10['artist'])\n",
        "plt.title(\"Bi Variate Analysis between Play counts and Top 10 Artists\")\n",
        "plt.show()"
      ],
      "execution_count": null,
      "outputs": [
        {
          "output_type": "display_data",
          "data": {
            "image/png": "[encoded data removed]",
            "text/plain": [
              "<Figure size 1080x720 with 1 Axes>"
            ]
          },
          "metadata": {
            "tags": [],
            "needs_background": "light"
          }
        }
      ]
    },
    {
      "cell_type": "markdown",
      "metadata": {
        "id": "afbJ_v1w0WKE"
      },
      "source": [
        "**Note**\n",
        "\n",
        "* Kings of Leons have highest played counts in top 10 list\n",
        "* Harmonia have the lowest played counts in top 10 list"
      ]
    },
    {
      "cell_type": "code",
      "metadata": {
        "colab": {
          "base_uri": "https://localhost:8080/",
          "height": 542
        },
        "id": "5VS4Snpz0WKE",
        "outputId": "4e274852-55fb-42b8-db6d-fffda97a8e86"
      },
      "source": [
        "# Percentage of top 10 artist play counts\n",
        "fig = px.pie(values = top10['play_count'], names = top10['artist'], title = \"Top 10 play counts percentage\", hole = 0.2)\n",
        "fig.show()"
      ],
      "execution_count": null,
      "outputs": [
        {
          "output_type": "display_data",
          "data": {
            "text/html": [
              "<html>\n",
              "<head><meta charset=\"utf-8\" /></head>\n",
              "<body>\n",
              "    <div>\n",
              "            <script src=\"https://cdnjs.cloudflare.com/ajax/libs/mathjax/2.7.5/MathJax.js?config=TeX-AMS-MML_SVG\"></script><script type=\"text/javascript\">if (window.MathJax) {MathJax.Hub.Config({SVG: {font: \"STIX-Web\"}});}</script>\n",
              "                <script type=\"text/javascript\">window.PlotlyConfig = {MathJaxConfig: 'local'};</script>\n",
              "        <script src=\"https://cdn.plot.ly/plotly-latest.min.js\"></script>    \n",
              "            <div id=\"abb00a47-aa07-494d-8d7d-49fcac4522c9\" class=\"plotly-graph-div\" style=\"height:525px; width:100%;\"></div>\n",
              "            <script type=\"text/javascript\">\n",
              "                \n",
              "                    window.PLOTLYENV=window.PLOTLYENV || {};\n",
              "                    \n",
              "                if (document.getElementById(\"abb00a47-aa07-494d-8d7d-49fcac4522c9\")) {\n",
              "                    Plotly.newPlot(\n",
              "                        'abb00a47-aa07-494d-8d7d-49fcac4522c9',\n",
              "                        [{\"domain\": {\"x\": [0.0, 1.0], \"y\": [0.0, 1.0]}, \"hole\": 0.2, \"hoverlabel\": {\"namelength\": 0}, \"hovertemplate\": \"label=%{label}<br>value=%{value}\", \"labels\": [\"Kings Of Leon\", \"Dwight Yoakam\", \"Bj\\u00f6rk\", \"Coldplay\", \"Florence + The Machine\", \"Justin Bieber\", \"Alliance Ethnik\", \"Train\", \"OneRepublic\", \"Harmonia\"], \"legendgroup\": \"\", \"name\": \"\", \"showlegend\": true, \"type\": \"pie\", \"values\": [35857, 35688, 35210, 32135, 28224, 26133, 21603, 21356, 20802, 19461]}],\n",
              "                        {\"legend\": {\"tracegroupgap\": 0}, \"template\": {\"data\": {\"bar\": [{\"error_x\": {\"color\": \"#2a3f5f\"}, \"error_y\": {\"color\": \"#2a3f5f\"}, \"marker\": {\"line\": {\"color\": \"#E5ECF6\", \"width\": 0.5}}, \"type\": \"bar\"}], \"barpolar\": [{\"marker\": {\"line\": {\"color\": \"#E5ECF6\", \"width\": 0.5}}, \"type\": \"barpolar\"}], \"carpet\": [{\"aaxis\": {\"endlinecolor\": \"#2a3f5f\", \"gridcolor\": \"white\", \"linecolor\": \"white\", \"minorgridcolor\": \"white\", \"startlinecolor\": \"#2a3f5f\"}, \"baxis\": {\"endlinecolor\": \"#2a3f5f\", \"gridcolor\": \"white\", \"linecolor\": \"white\", \"minorgridcolor\": \"white\", \"startlinecolor\": \"#2a3f5f\"}, \"type\": \"carpet\"}], \"choropleth\": [{\"colorbar\": {\"outlinewidth\": 0, \"ticks\": \"\"}, \"type\": \"choropleth\"}], \"contour\": [{\"colorbar\": {\"outlinewidth\": 0, \"ticks\": \"\"}, \"colorscale\": [[0.0, \"#0d0887\"], [0.1111111111111111, \"#46039f\"], [0.2222222222222222, \"#7201a8\"], [0.3333333333333333, \"#9c179e\"], [0.4444444444444444, \"#bd3786\"], [0.5555555555555556, \"#d8576b\"], [0.6666666666666666, \"#ed7953\"], [0.7777777777777778, \"#fb9f3a\"], [0.8888888888888888, \"#fdca26\"], [1.0, \"#f0f921\"]], \"type\": \"contour\"}], \"contourcarpet\": [{\"colorbar\": {\"outlinewidth\": 0, \"ticks\": \"\"}, \"type\": \"contourcarpet\"}], \"heatmap\": [{\"colorbar\": {\"outlinewidth\": 0, \"ticks\": \"\"}, \"colorscale\": [[0.0, \"#0d0887\"], [0.1111111111111111, \"#46039f\"], [0.2222222222222222, \"#7201a8\"], [0.3333333333333333, \"#9c179e\"], [0.4444444444444444, \"#bd3786\"], [0.5555555555555556, \"#d8576b\"], [0.6666666666666666, \"#ed7953\"], [0.7777777777777778, \"#fb9f3a\"], [0.8888888888888888, \"#fdca26\"], [1.0, \"#f0f921\"]], \"type\": \"heatmap\"}], \"heatmapgl\": [{\"colorbar\": {\"outlinewidth\": 0, \"ticks\": \"\"}, \"colorscale\": [[0.0, \"#0d0887\"], [0.1111111111111111, \"#46039f\"], [0.2222222222222222, \"#7201a8\"], [0.3333333333333333, \"#9c179e\"], [0.4444444444444444, \"#bd3786\"], [0.5555555555555556, \"#d8576b\"], [0.6666666666666666, \"#ed7953\"], [0.7777777777777778, \"#fb9f3a\"], [0.8888888888888888, \"#fdca26\"], [1.0, \"#f0f921\"]], \"type\": \"heatmapgl\"}], \"histogram\": [{\"marker\": {\"colorbar\": {\"outlinewidth\": 0, \"ticks\": \"\"}}, \"type\": \"histogram\"}], \"histogram2d\": [{\"colorbar\": {\"outlinewidth\": 0, \"ticks\": \"\"}, \"colorscale\": [[0.0, \"#0d0887\"], [0.1111111111111111, \"#46039f\"], [0.2222222222222222, \"#7201a8\"], [0.3333333333333333, \"#9c179e\"], [0.4444444444444444, \"#bd3786\"], [0.5555555555555556, \"#d8576b\"], [0.6666666666666666, \"#ed7953\"], [0.7777777777777778, \"#fb9f3a\"], [0.8888888888888888, \"#fdca26\"], [1.0, \"#f0f921\"]], \"type\": \"histogram2d\"}], \"histogram2dcontour\": [{\"colorbar\": {\"outlinewidth\": 0, \"ticks\": \"\"}, \"colorscale\": [[0.0, \"#0d0887\"], [0.1111111111111111, \"#46039f\"], [0.2222222222222222, \"#7201a8\"], [0.3333333333333333, \"#9c179e\"], [0.4444444444444444, \"#bd3786\"], [0.5555555555555556, \"#d8576b\"], [0.6666666666666666, \"#ed7953\"], [0.7777777777777778, \"#fb9f3a\"], [0.8888888888888888, \"#fdca26\"], [1.0, \"#f0f921\"]], \"type\": \"histogram2dcontour\"}], \"mesh3d\": [{\"colorbar\": {\"outlinewidth\": 0, \"ticks\": \"\"}, \"type\": \"mesh3d\"}], \"parcoords\": [{\"line\": {\"colorbar\": {\"outlinewidth\": 0, \"ticks\": \"\"}}, \"type\": \"parcoords\"}], \"pie\": [{\"automargin\": true, \"type\": \"pie\"}], \"scatter\": [{\"marker\": {\"colorbar\": {\"outlinewidth\": 0, \"ticks\": \"\"}}, \"type\": \"scatter\"}], \"scatter3d\": [{\"line\": {\"colorbar\": {\"outlinewidth\": 0, \"ticks\": \"\"}}, \"marker\": {\"colorbar\": {\"outlinewidth\": 0, \"ticks\": \"\"}}, \"type\": \"scatter3d\"}], \"scattercarpet\": [{\"marker\": {\"colorbar\": {\"outlinewidth\": 0, \"ticks\": \"\"}}, \"type\": \"scattercarpet\"}], \"scattergeo\": [{\"marker\": {\"colorbar\": {\"outlinewidth\": 0, \"ticks\": \"\"}}, \"type\": \"scattergeo\"}], \"scattergl\": [{\"marker\": {\"colorbar\": {\"outlinewidth\": 0, \"ticks\": \"\"}}, \"type\": \"scattergl\"}], \"scattermapbox\": [{\"marker\": {\"colorbar\": {\"outlinewidth\": 0, \"ticks\": \"\"}}, \"type\": \"scattermapbox\"}], \"scatterpolar\": [{\"marker\": {\"colorbar\": {\"outlinewidth\": 0, \"ticks\": \"\"}}, \"type\": \"scatterpolar\"}], \"scatterpolargl\": [{\"marker\": {\"colorbar\": {\"outlinewidth\": 0, \"ticks\": \"\"}}, \"type\": \"scatterpolargl\"}], \"scatterternary\": [{\"marker\": {\"colorbar\": {\"outlinewidth\": 0, \"ticks\": \"\"}}, \"type\": \"scatterternary\"}], \"surface\": [{\"colorbar\": {\"outlinewidth\": 0, \"ticks\": \"\"}, \"colorscale\": [[0.0, \"#0d0887\"], [0.1111111111111111, \"#46039f\"], [0.2222222222222222, \"#7201a8\"], [0.3333333333333333, \"#9c179e\"], [0.4444444444444444, \"#bd3786\"], [0.5555555555555556, \"#d8576b\"], [0.6666666666666666, \"#ed7953\"], [0.7777777777777778, \"#fb9f3a\"], [0.8888888888888888, \"#fdca26\"], [1.0, \"#f0f921\"]], \"type\": \"surface\"}], \"table\": [{\"cells\": {\"fill\": {\"color\": \"#EBF0F8\"}, \"line\": {\"color\": \"white\"}}, \"header\": {\"fill\": {\"color\": \"#C8D4E3\"}, \"line\": {\"color\": \"white\"}}, \"type\": \"table\"}]}, \"layout\": {\"annotationdefaults\": {\"arrowcolor\": \"#2a3f5f\", \"arrowhead\": 0, \"arrowwidth\": 1}, \"coloraxis\": {\"colorbar\": {\"outlinewidth\": 0, \"ticks\": \"\"}}, \"colorscale\": {\"diverging\": [[0, \"#8e0152\"], [0.1, \"#c51b7d\"], [0.2, \"#de77ae\"], [0.3, \"#f1b6da\"], [0.4, \"#fde0ef\"], [0.5, \"#f7f7f7\"], [0.6, \"#e6f5d0\"], [0.7, \"#b8e186\"], [0.8, \"#7fbc41\"], [0.9, \"#4d9221\"], [1, \"#276419\"]], \"sequential\": [[0.0, \"#0d0887\"], [0.1111111111111111, \"#46039f\"], [0.2222222222222222, \"#7201a8\"], [0.3333333333333333, \"#9c179e\"], [0.4444444444444444, \"#bd3786\"], [0.5555555555555556, \"#d8576b\"], [0.6666666666666666, \"#ed7953\"], [0.7777777777777778, \"#fb9f3a\"], [0.8888888888888888, \"#fdca26\"], [1.0, \"#f0f921\"]], \"sequentialminus\": [[0.0, \"#0d0887\"], [0.1111111111111111, \"#46039f\"], [0.2222222222222222, \"#7201a8\"], [0.3333333333333333, \"#9c179e\"], [0.4444444444444444, \"#bd3786\"], [0.5555555555555556, \"#d8576b\"], [0.6666666666666666, \"#ed7953\"], [0.7777777777777778, \"#fb9f3a\"], [0.8888888888888888, \"#fdca26\"], [1.0, \"#f0f921\"]]}, \"colorway\": [\"#636efa\", \"#EF553B\", \"#00cc96\", \"#ab63fa\", \"#FFA15A\", \"#19d3f3\", \"#FF6692\", \"#B6E880\", \"#FF97FF\", \"#FECB52\"], \"font\": {\"color\": \"#2a3f5f\"}, \"geo\": {\"bgcolor\": \"white\", \"lakecolor\": \"white\", \"landcolor\": \"#E5ECF6\", \"showlakes\": true, \"showland\": true, \"subunitcolor\": \"white\"}, \"hoverlabel\": {\"align\": \"left\"}, \"hovermode\": \"closest\", \"mapbox\": {\"style\": \"light\"}, \"paper_bgcolor\": \"white\", \"plot_bgcolor\": \"#E5ECF6\", \"polar\": {\"angularaxis\": {\"gridcolor\": \"white\", \"linecolor\": \"white\", \"ticks\": \"\"}, \"bgcolor\": \"#E5ECF6\", \"radialaxis\": {\"gridcolor\": \"white\", \"linecolor\": \"white\", \"ticks\": \"\"}}, \"scene\": {\"xaxis\": {\"backgroundcolor\": \"#E5ECF6\", \"gridcolor\": \"white\", \"gridwidth\": 2, \"linecolor\": \"white\", \"showbackground\": true, \"ticks\": \"\", \"zerolinecolor\": \"white\"}, \"yaxis\": {\"backgroundcolor\": \"#E5ECF6\", \"gridcolor\": \"white\", \"gridwidth\": 2, \"linecolor\": \"white\", \"showbackground\": true, \"ticks\": \"\", \"zerolinecolor\": \"white\"}, \"zaxis\": {\"backgroundcolor\": \"#E5ECF6\", \"gridcolor\": \"white\", \"gridwidth\": 2, \"linecolor\": \"white\", \"showbackground\": true, \"ticks\": \"\", \"zerolinecolor\": \"white\"}}, \"shapedefaults\": {\"line\": {\"color\": \"#2a3f5f\"}}, \"ternary\": {\"aaxis\": {\"gridcolor\": \"white\", \"linecolor\": \"white\", \"ticks\": \"\"}, \"baxis\": {\"gridcolor\": \"white\", \"linecolor\": \"white\", \"ticks\": \"\"}, \"bgcolor\": \"#E5ECF6\", \"caxis\": {\"gridcolor\": \"white\", \"linecolor\": \"white\", \"ticks\": \"\"}}, \"title\": {\"x\": 0.05}, \"xaxis\": {\"automargin\": true, \"gridcolor\": \"white\", \"linecolor\": \"white\", \"ticks\": \"\", \"title\": {\"standoff\": 15}, \"zerolinecolor\": \"white\", \"zerolinewidth\": 2}, \"yaxis\": {\"automargin\": true, \"gridcolor\": \"white\", \"linecolor\": \"white\", \"ticks\": \"\", \"title\": {\"standoff\": 15}, \"zerolinecolor\": \"white\", \"zerolinewidth\": 2}}}, \"title\": {\"text\": \"Top 10 play counts percentage\"}},\n",
              "                        {\"responsive\": true}\n",
              "                    ).then(function(){\n",
              "                            \n",
              "var gd = document.getElementById('abb00a47-aa07-494d-8d7d-49fcac4522c9');\n",
              "var x = new MutationObserver(function (mutations, observer) {{\n",
              "        var display = window.getComputedStyle(gd).display;\n",
              "        if (!display || display === 'none') {{\n",
              "            console.log([gd, 'removed!']);\n",
              "            Plotly.purge(gd);\n",
              "            observer.disconnect();\n",
              "        }}\n",
              "}});\n",
              "\n",
              "// Listen for the removal of the full notebook cells\n",
              "var notebookContainer = gd.closest('#notebook-container');\n",
              "if (notebookContainer) {{\n",
              "    x.observe(notebookContainer, {childList: true});\n",
              "}}\n",
              "\n",
              "// Listen for the clearing of the current output cell\n",
              "var outputEl = gd.closest('.output');\n",
              "if (outputEl) {{\n",
              "    x.observe(outputEl, {childList: true});\n",
              "}}\n",
              "\n",
              "                        })\n",
              "                };\n",
              "                \n",
              "            </script>\n",
              "        </div>\n",
              "</body>\n",
              "</html>"
            ]
          },
          "metadata": {
            "tags": []
          }
        }
      ]
    },
    {
      "cell_type": "markdown",
      "metadata": {
        "id": "GHib4DEF0WKK"
      },
      "source": [
        "### <center>7.2 Top 20 Release Vs Play Counts</center>"
      ]
    },
    {
      "cell_type": "code",
      "metadata": {
        "colab": {
          "base_uri": "https://localhost:8080/",
          "height": 591
        },
        "id": "dwuBBL0w0WKK",
        "outputId": "7f862392-1e05-461b-ca76-93002cced799"
      },
      "source": [
        "release_play_counts = song_df[['release','play_count']].groupby('release').sum().reset_index()\n",
        "top20 = release_play_counts.sort_values('play_count', ascending = False).head(20)\n",
        "plt.figure(figsize = (15, 10))\n",
        "sns.barplot(x = top20['play_count'], y = top20['release'])\n",
        "plt.title(\"Bi Variate Analysis between Play counts and Top 20 Release\")\n",
        "plt.show()"
      ],
      "execution_count": null,
      "outputs": [
        {
          "output_type": "display_data",
          "data": {
            "image/png": "[encoded data removed]",
            "text/plain": [
              "<Figure size 1080x720 with 1 Axes>"
            ]
          },
          "metadata": {
            "tags": [],
            "needs_background": "light"
          }
        }
      ]
    },
    {
      "cell_type": "markdown",
      "metadata": {
        "id": "-jzYU9ls0WKK"
      },
      "source": [
        "**Note**\n",
        "\n",
        "* You're The One has highest played in top 20 releases\n",
        "* I can't get started has the lowest played count in top 20 release"
      ]
    },
    {
      "cell_type": "code",
      "metadata": {
        "colab": {
          "base_uri": "https://localhost:8080/",
          "height": 542
        },
        "id": "7cNP2uwy0WKL",
        "outputId": "4b244804-eefa-4462-ac97-592b9baaab47"
      },
      "source": [
        "# Percentage of top 20 release play counts\n",
        "fig = px.pie(values = top20['play_count'], names = top20['release'], title = \"Top 20 release play counts percentage\", hole = 0.1)\n",
        "fig.show()"
      ],
      "execution_count": null,
      "outputs": [
        {
          "output_type": "display_data",
          "data": {
            "text/html": [
              "<html>\n",
              "<head><meta charset=\"utf-8\" /></head>\n",
              "<body>\n",
              "    <div>\n",
              "            <script src=\"https://cdnjs.cloudflare.com/ajax/libs/mathjax/2.7.5/MathJax.js?config=TeX-AMS-MML_SVG\"></script><script type=\"text/javascript\">if (window.MathJax) {MathJax.Hub.Config({SVG: {font: \"STIX-Web\"}});}</script>\n",
              "                <script type=\"text/javascript\">window.PlotlyConfig = {MathJaxConfig: 'local'};</script>\n",
              "        <script src=\"https://cdn.plot.ly/plotly-latest.min.js\"></script>    \n",
              "            <div id=\"aedf1c9e-ae80-43bd-8bae-8bf313012d7c\" class=\"plotly-graph-div\" style=\"height:525px; width:100%;\"></div>\n",
              "            <script type=\"text/javascript\">\n",
              "                \n",
              "                    window.PLOTLYENV=window.PLOTLYENV || {};\n",
              "                    \n",
              "                if (document.getElementById(\"aedf1c9e-ae80-43bd-8bae-8bf313012d7c\")) {\n",
              "                    Plotly.newPlot(\n",
              "                        'aedf1c9e-ae80-43bd-8bae-8bf313012d7c',\n",
              "                        [{\"domain\": {\"x\": [0.0, 1.0], \"y\": [0.0, 1.0]}, \"hole\": 0.1, \"hoverlabel\": {\"namelength\": 0}, \"hovertemplate\": \"label=%{label}<br>value=%{value}\", \"labels\": [\"You're The One\", \"Undo\", \"Revelry\", \"Sehr kosmisch\", \"Horn Concerto No. 4 in E flat K495: II. Romance (Andante cantabile)\", \"Dog Days Are Over (Radio Edit)\", \"Secrets\", \"Ain't Misbehavin\", \"Invalid\", \"Catch You Baby (Steve Pitron & Max Sanna Radio Edit)\", \"Canada\", \"Repr\\u00e9sente\", \"Sincerit\\u00e9 Et Jalousie\", \"Hey_ Soul Sister\", \"Fireflies\", \"The Gift\", \"Tive Sim\", \"Marry Me\", \"Drop The World\", \"I CAN'T GET STARTED\"], \"legendgroup\": \"\", \"name\": \"\", \"showlegend\": true, \"type\": \"pie\", \"values\": [35738, 33179, 24359, 19454, 17115, 14279, 12492, 11610, 10794, 10515, 9927, 9685, 8972, 8718, 8155, 7999, 7896, 7364, 7210, 7052]}],\n",
              "                        {\"legend\": {\"tracegroupgap\": 0}, \"template\": {\"data\": {\"bar\": [{\"error_x\": {\"color\": \"#2a3f5f\"}, \"error_y\": {\"color\": \"#2a3f5f\"}, \"marker\": {\"line\": {\"color\": \"#E5ECF6\", \"width\": 0.5}}, \"type\": \"bar\"}], \"barpolar\": [{\"marker\": {\"line\": {\"color\": \"#E5ECF6\", \"width\": 0.5}}, \"type\": \"barpolar\"}], \"carpet\": [{\"aaxis\": {\"endlinecolor\": \"#2a3f5f\", \"gridcolor\": \"white\", \"linecolor\": \"white\", \"minorgridcolor\": \"white\", \"startlinecolor\": \"#2a3f5f\"}, \"baxis\": {\"endlinecolor\": \"#2a3f5f\", \"gridcolor\": \"white\", \"linecolor\": \"white\", \"minorgridcolor\": \"white\", \"startlinecolor\": \"#2a3f5f\"}, \"type\": \"carpet\"}], \"choropleth\": [{\"colorbar\": {\"outlinewidth\": 0, \"ticks\": \"\"}, \"type\": \"choropleth\"}], \"contour\": [{\"colorbar\": {\"outlinewidth\": 0, \"ticks\": \"\"}, \"colorscale\": [[0.0, \"#0d0887\"], [0.1111111111111111, \"#46039f\"], [0.2222222222222222, \"#7201a8\"], [0.3333333333333333, \"#9c179e\"], [0.4444444444444444, \"#bd3786\"], [0.5555555555555556, \"#d8576b\"], [0.6666666666666666, \"#ed7953\"], [0.7777777777777778, \"#fb9f3a\"], [0.8888888888888888, \"#fdca26\"], [1.0, \"#f0f921\"]], \"type\": \"contour\"}], \"contourcarpet\": [{\"colorbar\": {\"outlinewidth\": 0, \"ticks\": \"\"}, \"type\": \"contourcarpet\"}], \"heatmap\": [{\"colorbar\": {\"outlinewidth\": 0, \"ticks\": \"\"}, \"colorscale\": [[0.0, \"#0d0887\"], [0.1111111111111111, \"#46039f\"], [0.2222222222222222, \"#7201a8\"], [0.3333333333333333, \"#9c179e\"], [0.4444444444444444, \"#bd3786\"], [0.5555555555555556, \"#d8576b\"], [0.6666666666666666, \"#ed7953\"], [0.7777777777777778, \"#fb9f3a\"], [0.8888888888888888, \"#fdca26\"], [1.0, \"#f0f921\"]], \"type\": \"heatmap\"}], \"heatmapgl\": [{\"colorbar\": {\"outlinewidth\": 0, \"ticks\": \"\"}, \"colorscale\": [[0.0, \"#0d0887\"], [0.1111111111111111, \"#46039f\"], [0.2222222222222222, \"#7201a8\"], [0.3333333333333333, \"#9c179e\"], [0.4444444444444444, \"#bd3786\"], [0.5555555555555556, \"#d8576b\"], [0.6666666666666666, \"#ed7953\"], [0.7777777777777778, \"#fb9f3a\"], [0.8888888888888888, \"#fdca26\"], [1.0, \"#f0f921\"]], \"type\": \"heatmapgl\"}], \"histogram\": [{\"marker\": {\"colorbar\": {\"outlinewidth\": 0, \"ticks\": \"\"}}, \"type\": \"histogram\"}], \"histogram2d\": [{\"colorbar\": {\"outlinewidth\": 0, \"ticks\": \"\"}, \"colorscale\": [[0.0, \"#0d0887\"], [0.1111111111111111, \"#46039f\"], [0.2222222222222222, \"#7201a8\"], [0.3333333333333333, \"#9c179e\"], [0.4444444444444444, \"#bd3786\"], [0.5555555555555556, \"#d8576b\"], [0.6666666666666666, \"#ed7953\"], [0.7777777777777778, \"#fb9f3a\"], [0.8888888888888888, \"#fdca26\"], [1.0, \"#f0f921\"]], \"type\": \"histogram2d\"}], \"histogram2dcontour\": [{\"colorbar\": {\"outlinewidth\": 0, \"ticks\": \"\"}, \"colorscale\": [[0.0, \"#0d0887\"], [0.1111111111111111, \"#46039f\"], [0.2222222222222222, \"#7201a8\"], [0.3333333333333333, \"#9c179e\"], [0.4444444444444444, \"#bd3786\"], [0.5555555555555556, \"#d8576b\"], [0.6666666666666666, \"#ed7953\"], [0.7777777777777778, \"#fb9f3a\"], [0.8888888888888888, \"#fdca26\"], [1.0, \"#f0f921\"]], \"type\": \"histogram2dcontour\"}], \"mesh3d\": [{\"colorbar\": {\"outlinewidth\": 0, \"ticks\": \"\"}, \"type\": \"mesh3d\"}], \"parcoords\": [{\"line\": {\"colorbar\": {\"outlinewidth\": 0, \"ticks\": \"\"}}, \"type\": \"parcoords\"}], \"pie\": [{\"automargin\": true, \"type\": \"pie\"}], \"scatter\": [{\"marker\": {\"colorbar\": {\"outlinewidth\": 0, \"ticks\": \"\"}}, \"type\": \"scatter\"}], \"scatter3d\": [{\"line\": {\"colorbar\": {\"outlinewidth\": 0, \"ticks\": \"\"}}, \"marker\": {\"colorbar\": {\"outlinewidth\": 0, \"ticks\": \"\"}}, \"type\": \"scatter3d\"}], \"scattercarpet\": [{\"marker\": {\"colorbar\": {\"outlinewidth\": 0, \"ticks\": \"\"}}, \"type\": \"scattercarpet\"}], \"scattergeo\": [{\"marker\": {\"colorbar\": {\"outlinewidth\": 0, \"ticks\": \"\"}}, \"type\": \"scattergeo\"}], \"scattergl\": [{\"marker\": {\"colorbar\": {\"outlinewidth\": 0, \"ticks\": \"\"}}, \"type\": \"scattergl\"}], \"scattermapbox\": [{\"marker\": {\"colorbar\": {\"outlinewidth\": 0, \"ticks\": \"\"}}, \"type\": \"scattermapbox\"}], \"scatterpolar\": [{\"marker\": {\"colorbar\": {\"outlinewidth\": 0, \"ticks\": \"\"}}, \"type\": \"scatterpolar\"}], \"scatterpolargl\": [{\"marker\": {\"colorbar\": {\"outlinewidth\": 0, \"ticks\": \"\"}}, \"type\": \"scatterpolargl\"}], \"scatterternary\": [{\"marker\": {\"colorbar\": {\"outlinewidth\": 0, \"ticks\": \"\"}}, \"type\": \"scatterternary\"}], \"surface\": [{\"colorbar\": {\"outlinewidth\": 0, \"ticks\": \"\"}, \"colorscale\": [[0.0, \"#0d0887\"], [0.1111111111111111, \"#46039f\"], [0.2222222222222222, \"#7201a8\"], [0.3333333333333333, \"#9c179e\"], [0.4444444444444444, \"#bd3786\"], [0.5555555555555556, \"#d8576b\"], [0.6666666666666666, \"#ed7953\"], [0.7777777777777778, \"#fb9f3a\"], [0.8888888888888888, \"#fdca26\"], [1.0, \"#f0f921\"]], \"type\": \"surface\"}], \"table\": [{\"cells\": {\"fill\": {\"color\": \"#EBF0F8\"}, \"line\": {\"color\": \"white\"}}, \"header\": {\"fill\": {\"color\": \"#C8D4E3\"}, \"line\": {\"color\": \"white\"}}, \"type\": \"table\"}]}, \"layout\": {\"annotationdefaults\": {\"arrowcolor\": \"#2a3f5f\", \"arrowhead\": 0, \"arrowwidth\": 1}, \"coloraxis\": {\"colorbar\": {\"outlinewidth\": 0, \"ticks\": \"\"}}, \"colorscale\": {\"diverging\": [[0, \"#8e0152\"], [0.1, \"#c51b7d\"], [0.2, \"#de77ae\"], [0.3, \"#f1b6da\"], [0.4, \"#fde0ef\"], [0.5, \"#f7f7f7\"], [0.6, \"#e6f5d0\"], [0.7, \"#b8e186\"], [0.8, \"#7fbc41\"], [0.9, \"#4d9221\"], [1, \"#276419\"]], \"sequential\": [[0.0, \"#0d0887\"], [0.1111111111111111, \"#46039f\"], [0.2222222222222222, \"#7201a8\"], [0.3333333333333333, \"#9c179e\"], [0.4444444444444444, \"#bd3786\"], [0.5555555555555556, \"#d8576b\"], [0.6666666666666666, \"#ed7953\"], [0.7777777777777778, \"#fb9f3a\"], [0.8888888888888888, \"#fdca26\"], [1.0, \"#f0f921\"]], \"sequentialminus\": [[0.0, \"#0d0887\"], [0.1111111111111111, \"#46039f\"], [0.2222222222222222, \"#7201a8\"], [0.3333333333333333, \"#9c179e\"], [0.4444444444444444, \"#bd3786\"], [0.5555555555555556, \"#d8576b\"], [0.6666666666666666, \"#ed7953\"], [0.7777777777777778, \"#fb9f3a\"], [0.8888888888888888, \"#fdca26\"], [1.0, \"#f0f921\"]]}, \"colorway\": [\"#636efa\", \"#EF553B\", \"#00cc96\", \"#ab63fa\", \"#FFA15A\", \"#19d3f3\", \"#FF6692\", \"#B6E880\", \"#FF97FF\", \"#FECB52\"], \"font\": {\"color\": \"#2a3f5f\"}, \"geo\": {\"bgcolor\": \"white\", \"lakecolor\": \"white\", \"landcolor\": \"#E5ECF6\", \"showlakes\": true, \"showland\": true, \"subunitcolor\": \"white\"}, \"hoverlabel\": {\"align\": \"left\"}, \"hovermode\": \"closest\", \"mapbox\": {\"style\": \"light\"}, \"paper_bgcolor\": \"white\", \"plot_bgcolor\": \"#E5ECF6\", \"polar\": {\"angularaxis\": {\"gridcolor\": \"white\", \"linecolor\": \"white\", \"ticks\": \"\"}, \"bgcolor\": \"#E5ECF6\", \"radialaxis\": {\"gridcolor\": \"white\", \"linecolor\": \"white\", \"ticks\": \"\"}}, \"scene\": {\"xaxis\": {\"backgroundcolor\": \"#E5ECF6\", \"gridcolor\": \"white\", \"gridwidth\": 2, \"linecolor\": \"white\", \"showbackground\": true, \"ticks\": \"\", \"zerolinecolor\": \"white\"}, \"yaxis\": {\"backgroundcolor\": \"#E5ECF6\", \"gridcolor\": \"white\", \"gridwidth\": 2, \"linecolor\": \"white\", \"showbackground\": true, \"ticks\": \"\", \"zerolinecolor\": \"white\"}, \"zaxis\": {\"backgroundcolor\": \"#E5ECF6\", \"gridcolor\": \"white\", \"gridwidth\": 2, \"linecolor\": \"white\", \"showbackground\": true, \"ticks\": \"\", \"zerolinecolor\": \"white\"}}, \"shapedefaults\": {\"line\": {\"color\": \"#2a3f5f\"}}, \"ternary\": {\"aaxis\": {\"gridcolor\": \"white\", \"linecolor\": \"white\", \"ticks\": \"\"}, \"baxis\": {\"gridcolor\": \"white\", \"linecolor\": \"white\", \"ticks\": \"\"}, \"bgcolor\": \"#E5ECF6\", \"caxis\": {\"gridcolor\": \"white\", \"linecolor\": \"white\", \"ticks\": \"\"}}, \"title\": {\"x\": 0.05}, \"xaxis\": {\"automargin\": true, \"gridcolor\": \"white\", \"linecolor\": \"white\", \"ticks\": \"\", \"title\": {\"standoff\": 15}, \"zerolinecolor\": \"white\", \"zerolinewidth\": 2}, \"yaxis\": {\"automargin\": true, \"gridcolor\": \"white\", \"linecolor\": \"white\", \"ticks\": \"\", \"title\": {\"standoff\": 15}, \"zerolinecolor\": \"white\", \"zerolinewidth\": 2}}}, \"title\": {\"text\": \"Top 20 release play counts percentage\"}},\n",
              "                        {\"responsive\": true}\n",
              "                    ).then(function(){\n",
              "                            \n",
              "var gd = document.getElementById('aedf1c9e-ae80-43bd-8bae-8bf313012d7c');\n",
              "var x = new MutationObserver(function (mutations, observer) {{\n",
              "        var display = window.getComputedStyle(gd).display;\n",
              "        if (!display || display === 'none') {{\n",
              "            console.log([gd, 'removed!']);\n",
              "            Plotly.purge(gd);\n",
              "            observer.disconnect();\n",
              "        }}\n",
              "}});\n",
              "\n",
              "// Listen for the removal of the full notebook cells\n",
              "var notebookContainer = gd.closest('#notebook-container');\n",
              "if (notebookContainer) {{\n",
              "    x.observe(notebookContainer, {childList: true});\n",
              "}}\n",
              "\n",
              "// Listen for the clearing of the current output cell\n",
              "var outputEl = gd.closest('.output');\n",
              "if (outputEl) {{\n",
              "    x.observe(outputEl, {childList: true});\n",
              "}}\n",
              "\n",
              "                        })\n",
              "                };\n",
              "                \n",
              "            </script>\n",
              "        </div>\n",
              "</body>\n",
              "</html>"
            ]
          },
          "metadata": {
            "tags": []
          }
        }
      ]
    },
    {
      "cell_type": "markdown",
      "metadata": {
        "id": "qGw63hyl0WKL"
      },
      "source": [
        "### <center>7.3 Top 20 Songs Vs Play Counts</center>"
      ]
    },
    {
      "cell_type": "code",
      "metadata": {
        "colab": {
          "base_uri": "https://localhost:8080/",
          "height": 575
        },
        "id": "VlS66_P30WKL",
        "outputId": "9a5cf151-62c0-4073-878f-4705d2e58b2e"
      },
      "source": [
        "release_play_counts = song_df[['song','play_count']].groupby('song').sum().reset_index()\n",
        "song10 = release_play_counts.sort_values('play_count', ascending = False).head(10)\n",
        "plt.figure(figsize = (10,10))\n",
        "sns.barplot(x = song10['play_count'], y = song10['song'])\n",
        "plt.title(\"Bi Variate Analysis between Play counts and Top 10 song\")\n",
        "plt.show()"
      ],
      "execution_count": null,
      "outputs": [
        {
          "output_type": "display_data",
          "data": {
            "image/png": "[encoded data removed]",
            "text/plain": [
              "<Figure size 720x720 with 1 Axes>"
            ]
          },
          "metadata": {
            "tags": [],
            "needs_background": "light"
          }
        }
      ]
    },
    {
      "cell_type": "code",
      "metadata": {
        "colab": {
          "base_uri": "https://localhost:8080/",
          "height": 542
        },
        "id": "5Wi2ksHg0WKM",
        "outputId": "dd57cb2a-e3fd-4a08-baa2-c342b15696ab"
      },
      "source": [
        "# Percentage of top 20 release play counts\n",
        "\n",
        "fig = px.pie(values = song10['play_count'], names = song10['song'], title = \"Top 10 song play counts percentage\", hole = 0.4)\n",
        "fig.update_layout(showlegend=False)\n",
        "fig.show()"
      ],
      "execution_count": null,
      "outputs": [
        {
          "output_type": "display_data",
          "data": {
            "text/html": [
              "<html>\n",
              "<head><meta charset=\"utf-8\" /></head>\n",
              "<body>\n",
              "    <div>\n",
              "            <script src=\"https://cdnjs.cloudflare.com/ajax/libs/mathjax/2.7.5/MathJax.js?config=TeX-AMS-MML_SVG\"></script><script type=\"text/javascript\">if (window.MathJax) {MathJax.Hub.Config({SVG: {font: \"STIX-Web\"}});}</script>\n",
              "                <script type=\"text/javascript\">window.PlotlyConfig = {MathJaxConfig: 'local'};</script>\n",
              "        <script src=\"https://cdn.plot.ly/plotly-latest.min.js\"></script>    \n",
              "            <div id=\"3dc7d45a-22d8-4f30-8d86-9d8b4ca23904\" class=\"plotly-graph-div\" style=\"height:525px; width:100%;\"></div>\n",
              "            <script type=\"text/javascript\">\n",
              "                \n",
              "                    window.PLOTLYENV=window.PLOTLYENV || {};\n",
              "                    \n",
              "                if (document.getElementById(\"3dc7d45a-22d8-4f30-8d86-9d8b4ca23904\")) {\n",
              "                    Plotly.newPlot(\n",
              "                        '3dc7d45a-22d8-4f30-8d86-9d8b4ca23904',\n",
              "                        [{\"domain\": {\"x\": [0.0, 1.0], \"y\": [0.0, 1.0]}, \"hole\": 0.4, \"hoverlabel\": {\"namelength\": 0}, \"hovertemplate\": \"label=%{label}<br>value=%{value}\", \"labels\": [\"Dwight Yoakam-You're The One\", \"Bj\\u00f6rk-Undo\", \"Kings Of Leon-Revelry\", \"Harmonia-Sehr kosmisch\", \"Barry Tuckwell/Academy of St Martin-in-the-Fields/Sir Neville Marriner-Horn Concerto No. 4 in E flat K495: II. Romance (Andante cantabile)\", \"Florence + The Machine-Dog Days Are Over (Radio Edit)\", \"OneRepublic-Secrets\", \"Sam Cooke-Ain't Misbehavin\", \"Tub Ring-Invalid\", \"Lonnie Gordon-Catch You Baby (Steve Pitron & Max Sanna Radio Edit)\"], \"legendgroup\": \"\", \"name\": \"\", \"showlegend\": true, \"type\": \"pie\", \"values\": [35432, 33179, 24359, 19454, 17115, 14279, 12392, 11610, 10794, 10515]}],\n",
              "                        {\"legend\": {\"tracegroupgap\": 0}, \"showlegend\": false, \"template\": {\"data\": {\"bar\": [{\"error_x\": {\"color\": \"#2a3f5f\"}, \"error_y\": {\"color\": \"#2a3f5f\"}, \"marker\": {\"line\": {\"color\": \"#E5ECF6\", \"width\": 0.5}}, \"type\": \"bar\"}], \"barpolar\": [{\"marker\": {\"line\": {\"color\": \"#E5ECF6\", \"width\": 0.5}}, \"type\": \"barpolar\"}], \"carpet\": [{\"aaxis\": {\"endlinecolor\": \"#2a3f5f\", \"gridcolor\": \"white\", \"linecolor\": \"white\", \"minorgridcolor\": \"white\", \"startlinecolor\": \"#2a3f5f\"}, \"baxis\": {\"endlinecolor\": \"#2a3f5f\", \"gridcolor\": \"white\", \"linecolor\": \"white\", \"minorgridcolor\": \"white\", \"startlinecolor\": \"#2a3f5f\"}, \"type\": \"carpet\"}], \"choropleth\": [{\"colorbar\": {\"outlinewidth\": 0, \"ticks\": \"\"}, \"type\": \"choropleth\"}], \"contour\": [{\"colorbar\": {\"outlinewidth\": 0, \"ticks\": \"\"}, \"colorscale\": [[0.0, \"#0d0887\"], [0.1111111111111111, \"#46039f\"], [0.2222222222222222, \"#7201a8\"], [0.3333333333333333, \"#9c179e\"], [0.4444444444444444, \"#bd3786\"], [0.5555555555555556, \"#d8576b\"], [0.6666666666666666, \"#ed7953\"], [0.7777777777777778, \"#fb9f3a\"], [0.8888888888888888, \"#fdca26\"], [1.0, \"#f0f921\"]], \"type\": \"contour\"}], \"contourcarpet\": [{\"colorbar\": {\"outlinewidth\": 0, \"ticks\": \"\"}, \"type\": \"contourcarpet\"}], \"heatmap\": [{\"colorbar\": {\"outlinewidth\": 0, \"ticks\": \"\"}, \"colorscale\": [[0.0, \"#0d0887\"], [0.1111111111111111, \"#46039f\"], [0.2222222222222222, \"#7201a8\"], [0.3333333333333333, \"#9c179e\"], [0.4444444444444444, \"#bd3786\"], [0.5555555555555556, \"#d8576b\"], [0.6666666666666666, \"#ed7953\"], [0.7777777777777778, \"#fb9f3a\"], [0.8888888888888888, \"#fdca26\"], [1.0, \"#f0f921\"]], \"type\": \"heatmap\"}], \"heatmapgl\": [{\"colorbar\": {\"outlinewidth\": 0, \"ticks\": \"\"}, \"colorscale\": [[0.0, \"#0d0887\"], [0.1111111111111111, \"#46039f\"], [0.2222222222222222, \"#7201a8\"], [0.3333333333333333, \"#9c179e\"], [0.4444444444444444, \"#bd3786\"], [0.5555555555555556, \"#d8576b\"], [0.6666666666666666, \"#ed7953\"], [0.7777777777777778, \"#fb9f3a\"], [0.8888888888888888, \"#fdca26\"], [1.0, \"#f0f921\"]], \"type\": \"heatmapgl\"}], \"histogram\": [{\"marker\": {\"colorbar\": {\"outlinewidth\": 0, \"ticks\": \"\"}}, \"type\": \"histogram\"}], \"histogram2d\": [{\"colorbar\": {\"outlinewidth\": 0, \"ticks\": \"\"}, \"colorscale\": [[0.0, \"#0d0887\"], [0.1111111111111111, \"#46039f\"], [0.2222222222222222, \"#7201a8\"], [0.3333333333333333, \"#9c179e\"], [0.4444444444444444, \"#bd3786\"], [0.5555555555555556, \"#d8576b\"], [0.6666666666666666, \"#ed7953\"], [0.7777777777777778, \"#fb9f3a\"], [0.8888888888888888, \"#fdca26\"], [1.0, \"#f0f921\"]], \"type\": \"histogram2d\"}], \"histogram2dcontour\": [{\"colorbar\": {\"outlinewidth\": 0, \"ticks\": \"\"}, \"colorscale\": [[0.0, \"#0d0887\"], [0.1111111111111111, \"#46039f\"], [0.2222222222222222, \"#7201a8\"], [0.3333333333333333, \"#9c179e\"], [0.4444444444444444, \"#bd3786\"], [0.5555555555555556, \"#d8576b\"], [0.6666666666666666, \"#ed7953\"], [0.7777777777777778, \"#fb9f3a\"], [0.8888888888888888, \"#fdca26\"], [1.0, \"#f0f921\"]], \"type\": \"histogram2dcontour\"}], \"mesh3d\": [{\"colorbar\": {\"outlinewidth\": 0, \"ticks\": \"\"}, \"type\": \"mesh3d\"}], \"parcoords\": [{\"line\": {\"colorbar\": {\"outlinewidth\": 0, \"ticks\": \"\"}}, \"type\": \"parcoords\"}], \"pie\": [{\"automargin\": true, \"type\": \"pie\"}], \"scatter\": [{\"marker\": {\"colorbar\": {\"outlinewidth\": 0, \"ticks\": \"\"}}, \"type\": \"scatter\"}], \"scatter3d\": [{\"line\": {\"colorbar\": {\"outlinewidth\": 0, \"ticks\": \"\"}}, \"marker\": {\"colorbar\": {\"outlinewidth\": 0, \"ticks\": \"\"}}, \"type\": \"scatter3d\"}], \"scattercarpet\": [{\"marker\": {\"colorbar\": {\"outlinewidth\": 0, \"ticks\": \"\"}}, \"type\": \"scattercarpet\"}], \"scattergeo\": [{\"marker\": {\"colorbar\": {\"outlinewidth\": 0, \"ticks\": \"\"}}, \"type\": \"scattergeo\"}], \"scattergl\": [{\"marker\": {\"colorbar\": {\"outlinewidth\": 0, \"ticks\": \"\"}}, \"type\": \"scattergl\"}], \"scattermapbox\": [{\"marker\": {\"colorbar\": {\"outlinewidth\": 0, \"ticks\": \"\"}}, \"type\": \"scattermapbox\"}], \"scatterpolar\": [{\"marker\": {\"colorbar\": {\"outlinewidth\": 0, \"ticks\": \"\"}}, \"type\": \"scatterpolar\"}], \"scatterpolargl\": [{\"marker\": {\"colorbar\": {\"outlinewidth\": 0, \"ticks\": \"\"}}, \"type\": \"scatterpolargl\"}], \"scatterternary\": [{\"marker\": {\"colorbar\": {\"outlinewidth\": 0, \"ticks\": \"\"}}, \"type\": \"scatterternary\"}], \"surface\": [{\"colorbar\": {\"outlinewidth\": 0, \"ticks\": \"\"}, \"colorscale\": [[0.0, \"#0d0887\"], [0.1111111111111111, \"#46039f\"], [0.2222222222222222, \"#7201a8\"], [0.3333333333333333, \"#9c179e\"], [0.4444444444444444, \"#bd3786\"], [0.5555555555555556, \"#d8576b\"], [0.6666666666666666, \"#ed7953\"], [0.7777777777777778, \"#fb9f3a\"], [0.8888888888888888, \"#fdca26\"], [1.0, \"#f0f921\"]], \"type\": \"surface\"}], \"table\": [{\"cells\": {\"fill\": {\"color\": \"#EBF0F8\"}, \"line\": {\"color\": \"white\"}}, \"header\": {\"fill\": {\"color\": \"#C8D4E3\"}, \"line\": {\"color\": \"white\"}}, \"type\": \"table\"}]}, \"layout\": {\"annotationdefaults\": {\"arrowcolor\": \"#2a3f5f\", \"arrowhead\": 0, \"arrowwidth\": 1}, \"coloraxis\": {\"colorbar\": {\"outlinewidth\": 0, \"ticks\": \"\"}}, \"colorscale\": {\"diverging\": [[0, \"#8e0152\"], [0.1, \"#c51b7d\"], [0.2, \"#de77ae\"], [0.3, \"#f1b6da\"], [0.4, \"#fde0ef\"], [0.5, \"#f7f7f7\"], [0.6, \"#e6f5d0\"], [0.7, \"#b8e186\"], [0.8, \"#7fbc41\"], [0.9, \"#4d9221\"], [1, \"#276419\"]], \"sequential\": [[0.0, \"#0d0887\"], [0.1111111111111111, \"#46039f\"], [0.2222222222222222, \"#7201a8\"], [0.3333333333333333, \"#9c179e\"], [0.4444444444444444, \"#bd3786\"], [0.5555555555555556, \"#d8576b\"], [0.6666666666666666, \"#ed7953\"], [0.7777777777777778, \"#fb9f3a\"], [0.8888888888888888, \"#fdca26\"], [1.0, \"#f0f921\"]], \"sequentialminus\": [[0.0, \"#0d0887\"], [0.1111111111111111, \"#46039f\"], [0.2222222222222222, \"#7201a8\"], [0.3333333333333333, \"#9c179e\"], [0.4444444444444444, \"#bd3786\"], [0.5555555555555556, \"#d8576b\"], [0.6666666666666666, \"#ed7953\"], [0.7777777777777778, \"#fb9f3a\"], [0.8888888888888888, \"#fdca26\"], [1.0, \"#f0f921\"]]}, \"colorway\": [\"#636efa\", \"#EF553B\", \"#00cc96\", \"#ab63fa\", \"#FFA15A\", \"#19d3f3\", \"#FF6692\", \"#B6E880\", \"#FF97FF\", \"#FECB52\"], \"font\": {\"color\": \"#2a3f5f\"}, \"geo\": {\"bgcolor\": \"white\", \"lakecolor\": \"white\", \"landcolor\": \"#E5ECF6\", \"showlakes\": true, \"showland\": true, \"subunitcolor\": \"white\"}, \"hoverlabel\": {\"align\": \"left\"}, \"hovermode\": \"closest\", \"mapbox\": {\"style\": \"light\"}, \"paper_bgcolor\": \"white\", \"plot_bgcolor\": \"#E5ECF6\", \"polar\": {\"angularaxis\": {\"gridcolor\": \"white\", \"linecolor\": \"white\", \"ticks\": \"\"}, \"bgcolor\": \"#E5ECF6\", \"radialaxis\": {\"gridcolor\": \"white\", \"linecolor\": \"white\", \"ticks\": \"\"}}, \"scene\": {\"xaxis\": {\"backgroundcolor\": \"#E5ECF6\", \"gridcolor\": \"white\", \"gridwidth\": 2, \"linecolor\": \"white\", \"showbackground\": true, \"ticks\": \"\", \"zerolinecolor\": \"white\"}, \"yaxis\": {\"backgroundcolor\": \"#E5ECF6\", \"gridcolor\": \"white\", \"gridwidth\": 2, \"linecolor\": \"white\", \"showbackground\": true, \"ticks\": \"\", \"zerolinecolor\": \"white\"}, \"zaxis\": {\"backgroundcolor\": \"#E5ECF6\", \"gridcolor\": \"white\", \"gridwidth\": 2, \"linecolor\": \"white\", \"showbackground\": true, \"ticks\": \"\", \"zerolinecolor\": \"white\"}}, \"shapedefaults\": {\"line\": {\"color\": \"#2a3f5f\"}}, \"ternary\": {\"aaxis\": {\"gridcolor\": \"white\", \"linecolor\": \"white\", \"ticks\": \"\"}, \"baxis\": {\"gridcolor\": \"white\", \"linecolor\": \"white\", \"ticks\": \"\"}, \"bgcolor\": \"#E5ECF6\", \"caxis\": {\"gridcolor\": \"white\", \"linecolor\": \"white\", \"ticks\": \"\"}}, \"title\": {\"x\": 0.05}, \"xaxis\": {\"automargin\": true, \"gridcolor\": \"white\", \"linecolor\": \"white\", \"ticks\": \"\", \"title\": {\"standoff\": 15}, \"zerolinecolor\": \"white\", \"zerolinewidth\": 2}, \"yaxis\": {\"automargin\": true, \"gridcolor\": \"white\", \"linecolor\": \"white\", \"ticks\": \"\", \"title\": {\"standoff\": 15}, \"zerolinecolor\": \"white\", \"zerolinewidth\": 2}}}, \"title\": {\"text\": \"Top 10 song play counts percentage\"}},\n",
              "                        {\"responsive\": true}\n",
              "                    ).then(function(){\n",
              "                            \n",
              "var gd = document.getElementById('3dc7d45a-22d8-4f30-8d86-9d8b4ca23904');\n",
              "var x = new MutationObserver(function (mutations, observer) {{\n",
              "        var display = window.getComputedStyle(gd).display;\n",
              "        if (!display || display === 'none') {{\n",
              "            console.log([gd, 'removed!']);\n",
              "            Plotly.purge(gd);\n",
              "            observer.disconnect();\n",
              "        }}\n",
              "}});\n",
              "\n",
              "// Listen for the removal of the full notebook cells\n",
              "var notebookContainer = gd.closest('#notebook-container');\n",
              "if (notebookContainer) {{\n",
              "    x.observe(notebookContainer, {childList: true});\n",
              "}}\n",
              "\n",
              "// Listen for the clearing of the current output cell\n",
              "var outputEl = gd.closest('.output');\n",
              "if (outputEl) {{\n",
              "    x.observe(outputEl, {childList: true});\n",
              "}}\n",
              "\n",
              "                        })\n",
              "                };\n",
              "                \n",
              "            </script>\n",
              "        </div>\n",
              "</body>\n",
              "</html>"
            ]
          },
          "metadata": {
            "tags": []
          }
        }
      ]
    },
    {
      "cell_type": "markdown",
      "metadata": {
        "id": "ZrLfArrP0WKM"
      },
      "source": [
        "    "
      ]
    },
    {
      "cell_type": "markdown",
      "metadata": {
        "id": "1LZheFEpp4dl"
      },
      "source": [
        "### <center> 7.4 Summary Of Bi-Variate Analysis </center>\n",
        "<ul>\n",
        "    <li>Top Artist per play count is  <b>Kings of Leon</b></li>\n",
        "    <li>Top release per play count is <b> You are the one </b></li>\n",
        "    <li>Top artist with the most release count is <b> Dwight Yokoma</b></li>\n",
        "    <li><b>Top 10 artists</b> :</li>\n",
        "        <ul>\n",
        "            <li><b>Kings of Leon</b></li>\n",
        "            <li><b>Dwight Yokoma</b></li>\n",
        "            <li><b>Bjork</b></li>\n",
        "            <li><b>ColdPlay</b></li>\n",
        "            <li><b>Florence + The Machine</b></li>\n",
        "            <li><b>Justin Bieber</b></li>\n",
        "            <li><b>Alliance Ethnik</b></li>\n",
        "            <li><b>Train</b></li>\n",
        "            <li><b>OneRepublic</b></li>\n",
        "            <li><b>Harmonia</b></li>\n",
        "        </ul>\n",
        "    <li><b>Top 10 release</b> :</li>\n",
        "        <ul>\n",
        "            <li><b>You're the One</b></li>\n",
        "            <li><b>Undo</b></li>\n",
        "            <li><b>Revelry</b></li>\n",
        "            <li><b>Horn Concerto No.4 </b></li>\n",
        "            <li><b>Dogs Days Are Over(Radio Edit)</b></li>\n",
        "            <li><b>Secrets</b></li>\n",
        "            <li><b>Ain't Misbehaving</b></li>\n",
        "            <li><b>Invalid</b></li>\n",
        "            <li><b>Catch You Baby(Steve Pitron & Max Sanna Radio Edit) </b></li>\n",
        "            <li><b>Canada</b></li>\n",
        "        </ul>\n",
        "    <li><b>Top 10 Songs (Artist - Release)</b> :</li>\n",
        "        <ul>\n",
        "            <li><b>Dwight Yokoma - You're The One</b></li>\n",
        "            <li><b>Bjork - Undo</b></li>\n",
        "            <li><b>Kings of Leon - Revelry</b></li>\n",
        "            <li><b>Harmonia - Sehr kosmisch</b></li>\n",
        "            <li><b>Bary Tuckwell - Horn Concerto No.4</b></li>\n",
        "            <li><b>Florence + The Machine - Dog Days Are Over(Radio Edit)</b></li>\n",
        "            <li><b>OneRepublic - Secrets</b></li>\n",
        "            <li><b>Sam Cooke - Ain't Misbehavin</b></li>\n",
        "            <li><b>Tab Ring - Invalid</b></li>\n",
        "            <li><b>Lonnie Gordon - Catch You Baby(Steve Pitron & Max Sanna Radio Edit) </b></li>\n",
        "        </ul>\n",
        "</ul>"
      ]
    },
    {
      "cell_type": "code",
      "metadata": {
        "id": "kTUsMLt13DfV"
      },
      "source": [
        ""
      ],
      "execution_count": null,
      "outputs": []
    },
    {
      "cell_type": "markdown",
      "metadata": {
        "id": "kaprnxHNeYuH"
      },
      "source": [
        "---\n",
        "## <center> 8. Tabuleau Dash Board </center>\n",
        "<a href=\"https://public.tableau.com/app/profile/t.sai.nitheesh.kumar.reddy/viz/MillionSongDataset_16235200688160/Dashboard1\">Tabuleau DashBoard</a>"
      ]
    },
    {
      "cell_type": "markdown",
      "metadata": {
        "id": "lRpROIVH0WKO"
      },
      "source": [
        "\n",
        "\n",
        "---\n",
        "\n",
        "\n",
        "\n",
        "# <center> Future Work </center>\n",
        "\n",
        "\n",
        "\n",
        "\n",
        "\n",
        "*   Data Pre-Processing : Dealing With Missing Values and Outliers\n",
        "*   Building Recommendation System Using :\n",
        "  * Popularity Based\n",
        "  * Content Based\n",
        "  * Collabarative Filtering\n",
        "  * Neural Networks\n",
        "\n",
        "\n"
      ]
    },
    {
      "cell_type": "markdown",
      "metadata": {
        "id": "wDyr_3CMfYMK"
      },
      "source": [
        "---\n",
        "**<center>Thank You**\n",
        "---\n",
        "\n"
      ]
    }
  ]
}