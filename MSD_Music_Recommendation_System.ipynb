{
  "nbformat": 4,
  "nbformat_minor": 0,
  "metadata": {
    "colab": {
      "name": "MSD Music Recommendation System.ipynb",
      "provenance": []
    },
    "kernelspec": {
      "name": "python3",
      "display_name": "Python 3"
    },
    "language_info": {
      "name": "python"
    }
  },
  "cells": [
    {
      "cell_type": "markdown",
      "metadata": {
        "id": "bDOZTPEQjJSc"
      },
      "source": [
        " # <center> Music Recommendation System \n",
        " "
      ]
    },
    {
      "cell_type": "markdown",
      "metadata": {
        "id": "8Wm0brFFi96j"
      },
      "source": [
        "## Installing Requried Libraries"
      ]
    },
    {
      "cell_type": "code",
      "metadata": {
        "id": "wYfjPqIBqsKp"
      },
      "source": [
        "pip install fuzzywuzzy"
      ],
      "execution_count": null,
      "outputs": []
    },
    {
      "cell_type": "code",
      "metadata": {
        "id": "kbkA_YYrgZZE"
      },
      "source": [
        "pip install python-Levenshtein"
      ],
      "execution_count": null,
      "outputs": []
    },
    {
      "cell_type": "code",
      "metadata": {
        "id": "OFpjYQ2di3DJ"
      },
      "source": [
        "pip install scikit-surprise"
      ],
      "execution_count": null,
      "outputs": []
    },
    {
      "cell_type": "markdown",
      "metadata": {
        "id": "uUoQWIfGjUqn"
      },
      "source": [
        "## Importing Requried Libraries"
      ]
    },
    {
      "cell_type": "code",
      "metadata": {
        "id": "VlG-Tz7cnqrR"
      },
      "source": [
        "#To Store And Retrive Data\n",
        "from google.colab import drive\n",
        "import os\n",
        "\n",
        "#For Data Processing\n",
        "import numpy as np\n",
        "import pandas as pd\n",
        "\n",
        "#For Content Based Filtering \n",
        "from typing import List, Dict\n",
        "from sklearn.feature_extraction.text import TfidfVectorizer\n",
        "from sklearn.metrics.pairwise import cosine_similarity\n",
        "\n",
        "#For Collabarative Filtering -KNN\n",
        "import random\n",
        "from scipy.sparse import csr_matrix\n",
        "from sklearn.neighbors import NearestNeighbors\n",
        "from fuzzywuzzy import fuzz\n",
        "\n",
        "#For Matrix Factorization-SVD\n",
        "from surprise import Dataset\n",
        "from surprise import Reader\n",
        "from surprise import SVD\n",
        "from surprise import Dataset, Reader\n",
        "from surprise import accuracy\n",
        "from surprise.model_selection import train_test_split\n",
        "from surprise.model_selection import GridSearchCV\n",
        "from surprise.model_selection import cross_validate\n",
        "\n",
        "#For Visulizations\n",
        "import matplotlib.pyplot as plt\n",
        "import seaborn as sns\n",
        "\n",
        "#To Ignore Warnings\n",
        "import warnings\n",
        "warnings.filterwarnings('ignore')"
      ],
      "execution_count": null,
      "outputs": []
    },
    {
      "cell_type": "markdown",
      "metadata": {
        "id": "1IzK_gVkj4F4"
      },
      "source": [
        "## Loading Data"
      ]
    },
    {
      "cell_type": "code",
      "metadata": {
        "colab": {
          "base_uri": "https://localhost:8080/"
        },
        "id": "GQEWE_cgn8qx",
        "outputId": "051ffa23-402d-42a9-f3a1-8530a140d20b"
      },
      "source": [
        "drive.mount('/content/drive')"
      ],
      "execution_count": null,
      "outputs": [
        {
          "output_type": "stream",
          "text": [
            "Mounted at /content/drive\n"
          ],
          "name": "stdout"
        }
      ]
    },
    {
      "cell_type": "code",
      "metadata": {
        "id": "w6DL9lBFn_1W"
      },
      "source": [
        "triplet = pd.read_csv('/content/drive/MyDrive/Colab Notebooks/Million Song Dataset/kaggle_visible_evaluation_triplets.txt' , sep='\\t',names=['user_id','song_id','listen_count'])\n",
        "tracks = pd.read_csv('/content/drive/MyDrive/Colab Notebooks/Million Song Dataset/unique_tracks.txt',sep='<SEP>',names=['track_id','song_id','artist_name','release'])"
      ],
      "execution_count": null,
      "outputs": []
    },
    {
      "cell_type": "code",
      "metadata": {
        "id": "XD_eo9bzqFm6"
      },
      "source": [
        "df = pd.merge(triplet, tracks.drop_duplicates(['song_id']), on=\"song_id\", how=\"left\")"
      ],
      "execution_count": null,
      "outputs": []
    },
    {
      "cell_type": "markdown",
      "metadata": {
        "id": "giaCwQnDOcd_"
      },
      "source": [
        "## Popularity Based Recommendation System"
      ]
    },
    {
      "cell_type": "markdown",
      "metadata": {
        "id": "56maBIIbOkfP"
      },
      "source": [
        "- **As the name suggests Popularity based recommendation system works with the trend. It basically uses the items which are in trend right now. For example, if any product which is usually bought by every new user then there are chances that it may suggest that item to the user who just signed up.**\n",
        "\n",
        "- **The problems with popularity based recommendation system is that the personalization is not available with this method i.e. even though you know the behaviour of the user you cannot recommend items accordingly**"
      ]
    },
    {
      "cell_type": "code",
      "metadata": {
        "id": "42D-qwy5qzrj"
      },
      "source": [
        "song_df = df.copy()"
      ],
      "execution_count": null,
      "outputs": []
    },
    {
      "cell_type": "code",
      "metadata": {
        "id": "4bll-SqFPL6Z"
      },
      "source": [
        "song_df['song']=song_df['artist_name']+ '-' + song_df['release']"
      ],
      "execution_count": null,
      "outputs": []
    },
    {
      "cell_type": "code",
      "metadata": {
        "colab": {
          "base_uri": "https://localhost:8080/"
        },
        "id": "lUZgSKlZOw24",
        "outputId": "b80b75e9-ff93-411d-8a14-0729387e30f4"
      },
      "source": [
        "song_grouped = song_df.groupby(['song']).agg({'listen_count': 'count'}).reset_index()\n",
        "grouped_sum = song_grouped['listen_count'].sum()\n",
        "song_grouped['percentage']  = song_grouped['listen_count'].div(grouped_sum)*100\n",
        "song_grouped.sort_values(['listen_count', 'song'], ascending = [0,1]).head(10)"
      ],
      "execution_count": null,
      "outputs": [
        {
          "output_type": "execute_result",
          "data": {
            "text/html": [
              "<div>\n",
              "<style scoped>\n",
              "    .dataframe tbody tr th:only-of-type {\n",
              "        vertical-align: middle;\n",
              "    }\n",
              "\n",
              "    .dataframe tbody tr th {\n",
              "        vertical-align: top;\n",
              "    }\n",
              "\n",
              "    .dataframe thead th {\n",
              "        text-align: right;\n",
              "    }\n",
              "</style>\n",
              "<table border=\"1\" class=\"dataframe\">\n",
              "  <thead>\n",
              "    <tr style=\"text-align: right;\">\n",
              "      <th></th>\n",
              "      <th>song</th>\n",
              "      <th>listen_count</th>\n",
              "      <th>percentage</th>\n",
              "    </tr>\n",
              "  </thead>\n",
              "  <tbody>\n",
              "    <tr>\n",
              "      <th>59878</th>\n",
              "      <td>Harmonia-Sehr kosmisch</td>\n",
              "      <td>5043</td>\n",
              "      <td>0.347570</td>\n",
              "    </tr>\n",
              "    <tr>\n",
              "      <th>17175</th>\n",
              "      <td>Björk-Undo</td>\n",
              "      <td>4483</td>\n",
              "      <td>0.308974</td>\n",
              "    </tr>\n",
              "    <tr>\n",
              "      <th>42714</th>\n",
              "      <td>Dwight Yoakam-You're The One</td>\n",
              "      <td>4136</td>\n",
              "      <td>0.285058</td>\n",
              "    </tr>\n",
              "    <tr>\n",
              "      <th>51326</th>\n",
              "      <td>Florence + The Machine-Dog Days Are Over (Radi...</td>\n",
              "      <td>3780</td>\n",
              "      <td>0.260522</td>\n",
              "    </tr>\n",
              "    <tr>\n",
              "      <th>77664</th>\n",
              "      <td>Kings Of Leon-Revelry</td>\n",
              "      <td>3672</td>\n",
              "      <td>0.253079</td>\n",
              "    </tr>\n",
              "    <tr>\n",
              "      <th>104295</th>\n",
              "      <td>OneRepublic-Secrets</td>\n",
              "      <td>3430</td>\n",
              "      <td>0.236400</td>\n",
              "    </tr>\n",
              "    <tr>\n",
              "      <th>13348</th>\n",
              "      <td>Barry Tuckwell/Academy of St Martin-in-the-Fie...</td>\n",
              "      <td>3272</td>\n",
              "      <td>0.225510</td>\n",
              "    </tr>\n",
              "    <tr>\n",
              "      <th>151720</th>\n",
              "      <td>Train-Hey_ Soul Sister</td>\n",
              "      <td>2791</td>\n",
              "      <td>0.192359</td>\n",
              "    </tr>\n",
              "    <tr>\n",
              "      <th>27290</th>\n",
              "      <td>Charttraxx Karaoke-Fireflies</td>\n",
              "      <td>2725</td>\n",
              "      <td>0.187810</td>\n",
              "    </tr>\n",
              "    <tr>\n",
              "      <th>25696</th>\n",
              "      <td>Cartola-Tive Sim</td>\n",
              "      <td>2668</td>\n",
              "      <td>0.183882</td>\n",
              "    </tr>\n",
              "  </tbody>\n",
              "</table>\n",
              "</div>"
            ],
            "text/plain": [
              "                                                     song  ...  percentage\n",
              "59878                              Harmonia-Sehr kosmisch  ...    0.347570\n",
              "17175                                          Björk-Undo  ...    0.308974\n",
              "42714                        Dwight Yoakam-You're The One  ...    0.285058\n",
              "51326   Florence + The Machine-Dog Days Are Over (Radi...  ...    0.260522\n",
              "77664                               Kings Of Leon-Revelry  ...    0.253079\n",
              "104295                                OneRepublic-Secrets  ...    0.236400\n",
              "13348   Barry Tuckwell/Academy of St Martin-in-the-Fie...  ...    0.225510\n",
              "151720                             Train-Hey_ Soul Sister  ...    0.192359\n",
              "27290                        Charttraxx Karaoke-Fireflies  ...    0.187810\n",
              "25696                                    Cartola-Tive Sim  ...    0.183882\n",
              "\n",
              "[10 rows x 3 columns]"
            ]
          },
          "metadata": {
            "tags": []
          },
          "execution_count": 9
        }
      ]
    },
    {
      "cell_type": "code",
      "metadata": {
        "cellView": "form",
        "id": "6pZyHBVNOw_0"
      },
      "source": [
        "#@title\n",
        "# Class For Popularity Recommendation\n",
        "class popularity_recommender_py():\n",
        "    def __init__(self):\n",
        "        self.train_data = None\n",
        "        self.user_id = None\n",
        "        self.item_id = None\n",
        "        self.popularity_recommendations = None\n",
        "        \n",
        "    #Create the popularity based recommender system model\n",
        "    def create(self, train_data, user_id, item_id):\n",
        "        self.train_data = train_data\n",
        "        self.user_id = user_id\n",
        "        self.item_id = item_id\n",
        "\n",
        "        #Get a count of user_ids for each unique song as recommendation score\n",
        "        train_data_grouped = train_data.groupby([self.item_id]).agg({self.user_id: 'count'}).reset_index()\n",
        "        train_data_grouped.rename(columns = {'user_id': 'score'},inplace=True)\n",
        "    \n",
        "        #Sort the songs based upon recommendation score\n",
        "        train_data_sort = train_data_grouped.sort_values(['score', self.item_id], ascending = [0,1])\n",
        "    \n",
        "        #Generate a recommendation rank based upon score\n",
        "        train_data_sort['Rank'] = train_data_sort['score'].rank(ascending=0, method='first')\n",
        "        \n",
        "        #Get the top 10 recommendations\n",
        "        self.popularity_recommendations = train_data_sort.head(10)\n",
        "\n",
        "    #Use the popularity based recommender system model to make recommendations\n",
        "    def recommend(self, user_id):    \n",
        "        user_recommendations = self.popularity_recommendations\n",
        "        \n",
        "        #Add user_id column for which the recommendations are being generated\n",
        "        user_recommendations['user_id'] = user_id\n",
        "    \n",
        "        #Bring user_id column to the front\n",
        "        cols = user_recommendations.columns.tolist()\n",
        "        cols = cols[-1:] + cols[:-1]\n",
        "        user_recommendations = user_recommendations[cols]\n",
        "        return user_recommendations"
      ],
      "execution_count": null,
      "outputs": []
    },
    {
      "cell_type": "code",
      "metadata": {
        "id": "6y_ARpe1Pl0V"
      },
      "source": [
        "pm = popularity_recommender_py() #Creating Instance of class\n",
        "pm.create(song_df , 'user_id', 'song')"
      ],
      "execution_count": null,
      "outputs": []
    },
    {
      "cell_type": "code",
      "metadata": {
        "id": "9m6pjXQYP4zl"
      },
      "source": [
        "users = song_df['user_id'].unique()"
      ],
      "execution_count": null,
      "outputs": []
    },
    {
      "cell_type": "code",
      "metadata": {
        "colab": {
          "base_uri": "https://localhost:8080/"
        },
        "id": "IE1Z7ZqiPuin",
        "outputId": "deb64a6f-b3ce-4a1b-c8dd-69d6a80bf545"
      },
      "source": [
        "#use the popularity model to make some prediction\n",
        "user_id = users[7]\n",
        "pm.recommend(user_id)"
      ],
      "execution_count": null,
      "outputs": [
        {
          "output_type": "execute_result",
          "data": {
            "text/html": [
              "<div>\n",
              "<style scoped>\n",
              "    .dataframe tbody tr th:only-of-type {\n",
              "        vertical-align: middle;\n",
              "    }\n",
              "\n",
              "    .dataframe tbody tr th {\n",
              "        vertical-align: top;\n",
              "    }\n",
              "\n",
              "    .dataframe thead th {\n",
              "        text-align: right;\n",
              "    }\n",
              "</style>\n",
              "<table border=\"1\" class=\"dataframe\">\n",
              "  <thead>\n",
              "    <tr style=\"text-align: right;\">\n",
              "      <th></th>\n",
              "      <th>user_id</th>\n",
              "      <th>song</th>\n",
              "      <th>score</th>\n",
              "      <th>Rank</th>\n",
              "    </tr>\n",
              "  </thead>\n",
              "  <tbody>\n",
              "    <tr>\n",
              "      <th>59878</th>\n",
              "      <td>c34670d9c1718361feb93068a853cead3c95b76a</td>\n",
              "      <td>Harmonia-Sehr kosmisch</td>\n",
              "      <td>5043</td>\n",
              "      <td>1.0</td>\n",
              "    </tr>\n",
              "    <tr>\n",
              "      <th>17175</th>\n",
              "      <td>c34670d9c1718361feb93068a853cead3c95b76a</td>\n",
              "      <td>Björk-Undo</td>\n",
              "      <td>4483</td>\n",
              "      <td>2.0</td>\n",
              "    </tr>\n",
              "    <tr>\n",
              "      <th>42714</th>\n",
              "      <td>c34670d9c1718361feb93068a853cead3c95b76a</td>\n",
              "      <td>Dwight Yoakam-You're The One</td>\n",
              "      <td>4136</td>\n",
              "      <td>3.0</td>\n",
              "    </tr>\n",
              "    <tr>\n",
              "      <th>51326</th>\n",
              "      <td>c34670d9c1718361feb93068a853cead3c95b76a</td>\n",
              "      <td>Florence + The Machine-Dog Days Are Over (Radi...</td>\n",
              "      <td>3780</td>\n",
              "      <td>4.0</td>\n",
              "    </tr>\n",
              "    <tr>\n",
              "      <th>77664</th>\n",
              "      <td>c34670d9c1718361feb93068a853cead3c95b76a</td>\n",
              "      <td>Kings Of Leon-Revelry</td>\n",
              "      <td>3672</td>\n",
              "      <td>5.0</td>\n",
              "    </tr>\n",
              "    <tr>\n",
              "      <th>104295</th>\n",
              "      <td>c34670d9c1718361feb93068a853cead3c95b76a</td>\n",
              "      <td>OneRepublic-Secrets</td>\n",
              "      <td>3430</td>\n",
              "      <td>6.0</td>\n",
              "    </tr>\n",
              "    <tr>\n",
              "      <th>13348</th>\n",
              "      <td>c34670d9c1718361feb93068a853cead3c95b76a</td>\n",
              "      <td>Barry Tuckwell/Academy of St Martin-in-the-Fie...</td>\n",
              "      <td>3272</td>\n",
              "      <td>7.0</td>\n",
              "    </tr>\n",
              "    <tr>\n",
              "      <th>151720</th>\n",
              "      <td>c34670d9c1718361feb93068a853cead3c95b76a</td>\n",
              "      <td>Train-Hey_ Soul Sister</td>\n",
              "      <td>2791</td>\n",
              "      <td>8.0</td>\n",
              "    </tr>\n",
              "    <tr>\n",
              "      <th>27290</th>\n",
              "      <td>c34670d9c1718361feb93068a853cead3c95b76a</td>\n",
              "      <td>Charttraxx Karaoke-Fireflies</td>\n",
              "      <td>2725</td>\n",
              "      <td>9.0</td>\n",
              "    </tr>\n",
              "    <tr>\n",
              "      <th>25696</th>\n",
              "      <td>c34670d9c1718361feb93068a853cead3c95b76a</td>\n",
              "      <td>Cartola-Tive Sim</td>\n",
              "      <td>2668</td>\n",
              "      <td>10.0</td>\n",
              "    </tr>\n",
              "  </tbody>\n",
              "</table>\n",
              "</div>"
            ],
            "text/plain": [
              "                                         user_id  ...  Rank\n",
              "59878   c34670d9c1718361feb93068a853cead3c95b76a  ...   1.0\n",
              "17175   c34670d9c1718361feb93068a853cead3c95b76a  ...   2.0\n",
              "42714   c34670d9c1718361feb93068a853cead3c95b76a  ...   3.0\n",
              "51326   c34670d9c1718361feb93068a853cead3c95b76a  ...   4.0\n",
              "77664   c34670d9c1718361feb93068a853cead3c95b76a  ...   5.0\n",
              "104295  c34670d9c1718361feb93068a853cead3c95b76a  ...   6.0\n",
              "13348   c34670d9c1718361feb93068a853cead3c95b76a  ...   7.0\n",
              "151720  c34670d9c1718361feb93068a853cead3c95b76a  ...   8.0\n",
              "27290   c34670d9c1718361feb93068a853cead3c95b76a  ...   9.0\n",
              "25696   c34670d9c1718361feb93068a853cead3c95b76a  ...  10.0\n",
              "\n",
              "[10 rows x 4 columns]"
            ]
          },
          "metadata": {
            "tags": []
          },
          "execution_count": 13
        }
      ]
    },
    {
      "cell_type": "markdown",
      "metadata": {
        "id": "kGOdNbxZq2HE"
      },
      "source": [
        "## Content-based Filtering"
      ]
    },
    {
      "cell_type": "markdown",
      "metadata": {
        "id": "9ANS1F66q5u4"
      },
      "source": [
        "**Content-based filtering uses item features to recommend other items similar to what the user likes, based on their previous actions or explicit feedback.**\n",
        "\n",
        "**Simply put, if the users has listened to New Orleans Blue-Jazz Songs in the past, say of artist Jackson C.Frank, you will be recommend a new artist like Louis Armstrong or Allen Toussiant.**\n",
        "$$ \\\\ $$\n",
        "\n",
        "**Keyword Matching** :\n",
        "\n",
        "A process of matching or extracting meaningful keyword present in a song description a user liked,  search for the same or similar in other songs descriptions to estimate similarities among them and then based on the similarity, recommend a song to user.\n",
        "    \n",
        "**Two step approach :**\n",
        "    \n",
        "<li>Extract features out of content and create an object representation\n",
        "<li>Define a similarity function among these representations.\n",
        "$$ \\\\ $$    \n",
        "\n",
        "**Step - 1 : TF-IDF**\n",
        "    \n",
        " - A technique used for information retrieval. It weighs a term's frequency(TF) and it's inverse document frequency(IDF). \n",
        " - Simply put, count each keywords occurance in document and finding it's importance by calculating TF-IDF score.\n",
        "\n",
        "$$ \\\\  $$\n",
        "    \n",
        "$$ { TF-IDF \\ score \\ for \\ the \\ term \\ \"i\"  \\ in  \\ the \\ document \\ \"j\"} = {\\ TF_ \\left( \\ i \\ , \\ j \\right)} \\ * \\ {\\ IDF_ \\left( \\ i \\right)} $$\n",
        "$$ \\\\  $$\n",
        "$$ where \\ , $$\n",
        "$$ \\\\ $$\n",
        "$$ IDF = Inverse Document Frequency \\\\ TF = Term Frequency $$\n",
        "$$ \\\\ $$\n",
        "$$  \\\\ $$\n",
        "$$ \\\\ $$\n",
        "$$  \\\\ $$\n",
        "$${TF_ \\left( \\ i \\ , \\ j \\right)} = \\frac {\\ term \\ \"i\" \\ frequency \\ in \\ document \\ \"j\" } {\\ total \\ words \\ in \\ document \\ \"j\"} $$\n",
        "$$ \\\\ $$\n",
        "$$  \\\\ $$\n",
        "$$IDF_ \\left( \\ i \\right) = \\log_{2}{ \\left ( \\frac  {\\ Total \\ Dcouments} { \\ documents \\ with \\ term \\ i} \\right ) } $$\n",
        "$$ \\\\ $$\n",
        "$$  \\\\ $$\n",
        "$$ {\\ and }$$\n",
        "$$ \\\\ $$\n",
        "$$  {t} = {\\ Term} $$\n",
        "$$ {j} = {\\ Document}$$\n",
        "$$ \\\\ $$\n",
        "$$  \\\\ $$\n",
        "​\n",
        "**Step - 2 :**\n",
        "    \n",
        "Let’s imagine that you need to determine how similar two documents or corpus of text are. Which distance metrics will you use?The answer is cosine similarity.In order to calculate it, we need to measure the cosine of the angle between two vectors. Then, cosine similarity returns the normalized dot product of them. A normalized vector is a vector in the same direction but with norm 1.\n",
        "\n",
        "$$ \\\\ $$    \n",
        "$$ { \\ Formula \\ for \\ cosine \\ similarity} = {A} \\ {.} \\ {B} = \\lVert \\ {A} \\ \\rVert \\ \\lVert \\ {B} \\ \\rVert \\  \\cos\\theta$$\n",
        "$$ \\\\ $$\n",
        "$$  \\\\ $$\n",
        "where A and B are vectors, ∥ A∥ and ∥ B∥ are the norm of A and B, and cosθ is the cosine of the angle between A and B. This can also be written in other terms:\n",
        "$$ \\\\ $$\n",
        "$$ {\\ \\cos \\left( {\\theta} \\right)} \\ = \\ { \\frac {{A} \\ {.} \\ {B}} {\\lVert \\ {A} \\ \\rVert \\ \\lVert \\ {B} \\ \\rVert}} $$\n",
        "$$ \\\\ $$\n",
        "$$ \\\\ $$\n",
        "$$ \\\\ $$\n",
        "$$ {\\ \\cos \\left( {\\theta} \\right)} \\ = \\ { \\frac {\\sum_{i=1}^{n} {{A}_{i} \\ {B}_{i}}} {{ \\sqrt {\\sum_{i=1}^{n}{{A}_{i}^2}}} \\ { \\sqrt {\\sum_{i=1}^{n}{{B}_{i}^2}}}} }       $$\n",
        "​\n",
        "​$$ \\\\ $$\n",
        "Cosine similarity is very useful when we are interested in the orientation but not the magnitude of the vectors.\n",
        "Two vectors with the same orientation have a cosine similarity of 1. Two vectors at 90° have a similarity of 0. Two vectors diametrically opposed have a similarity of -1. All independent of their magnitude.\n",
        "​"
      ]
    },
    {
      "cell_type": "code",
      "metadata": {
        "id": "ikgGaFkfqJeS"
      },
      "source": [
        "songs = tracks.copy()"
      ],
      "execution_count": null,
      "outputs": []
    },
    {
      "cell_type": "code",
      "metadata": {
        "id": "SJLmePccvLeI"
      },
      "source": [
        "songs.drop(columns=['track_id','song_id'], inplace=True)"
      ],
      "execution_count": null,
      "outputs": []
    },
    {
      "cell_type": "code",
      "metadata": {
        "colab": {
          "base_uri": "https://localhost:8080/"
        },
        "id": "EdVPLJz6vG1p",
        "outputId": "126c24c6-dfa7-488a-8039-0483b13c7396"
      },
      "source": [
        "songs.head()"
      ],
      "execution_count": null,
      "outputs": [
        {
          "output_type": "execute_result",
          "data": {
            "text/html": [
              "<div>\n",
              "<style scoped>\n",
              "    .dataframe tbody tr th:only-of-type {\n",
              "        vertical-align: middle;\n",
              "    }\n",
              "\n",
              "    .dataframe tbody tr th {\n",
              "        vertical-align: top;\n",
              "    }\n",
              "\n",
              "    .dataframe thead th {\n",
              "        text-align: right;\n",
              "    }\n",
              "</style>\n",
              "<table border=\"1\" class=\"dataframe\">\n",
              "  <thead>\n",
              "    <tr style=\"text-align: right;\">\n",
              "      <th></th>\n",
              "      <th>artist_name</th>\n",
              "      <th>release</th>\n",
              "    </tr>\n",
              "  </thead>\n",
              "  <tbody>\n",
              "    <tr>\n",
              "      <th>0</th>\n",
              "      <td>Faster Pussy cat</td>\n",
              "      <td>Silent Night</td>\n",
              "    </tr>\n",
              "    <tr>\n",
              "      <th>1</th>\n",
              "      <td>Karkkiautomaatti</td>\n",
              "      <td>Tanssi vaan</td>\n",
              "    </tr>\n",
              "    <tr>\n",
              "      <th>2</th>\n",
              "      <td>Hudson Mohawke</td>\n",
              "      <td>No One Could Ever</td>\n",
              "    </tr>\n",
              "    <tr>\n",
              "      <th>3</th>\n",
              "      <td>Yerba Brava</td>\n",
              "      <td>Si Vos Querés</td>\n",
              "    </tr>\n",
              "    <tr>\n",
              "      <th>4</th>\n",
              "      <td>Der Mystic</td>\n",
              "      <td>Tangle Of Aspens</td>\n",
              "    </tr>\n",
              "  </tbody>\n",
              "</table>\n",
              "</div>"
            ],
            "text/plain": [
              "        artist_name            release\n",
              "0  Faster Pussy cat       Silent Night\n",
              "1  Karkkiautomaatti        Tanssi vaan\n",
              "2    Hudson Mohawke  No One Could Ever\n",
              "3       Yerba Brava      Si Vos Querés\n",
              "4        Der Mystic   Tangle Of Aspens"
            ]
          },
          "metadata": {
            "tags": []
          },
          "execution_count": 16
        }
      ]
    },
    {
      "cell_type": "code",
      "metadata": {
        "id": "_BMVS4C5vIj6"
      },
      "source": [
        "songs =songs.iloc[0:10000,:]"
      ],
      "execution_count": null,
      "outputs": []
    },
    {
      "cell_type": "code",
      "metadata": {
        "colab": {
          "base_uri": "https://localhost:8080/"
        },
        "id": "_Mcf6jCnvxxi",
        "outputId": "700bda64-84ee-4373-ec19-b0e20233e842"
      },
      "source": [
        "songs.shape"
      ],
      "execution_count": null,
      "outputs": [
        {
          "output_type": "execute_result",
          "data": {
            "text/plain": [
              "(10000, 2)"
            ]
          },
          "metadata": {
            "tags": []
          },
          "execution_count": 18
        }
      ]
    },
    {
      "cell_type": "code",
      "metadata": {
        "id": "2e7uUt1tv0YN"
      },
      "source": [
        "# TF-IDF vectorizerthat calculates the TF-IDF score for each release\n",
        "tfidf = TfidfVectorizer(analyzer='word', stop_words='english')"
      ],
      "execution_count": null,
      "outputs": []
    },
    {
      "cell_type": "code",
      "metadata": {
        "id": "rxlGBuEWxY7S"
      },
      "source": [
        "#Step 1 : Creating TF-IDF Matrix\n",
        "matrix = tfidf.fit_transform(songs['release'].values.astype('U'))"
      ],
      "execution_count": null,
      "outputs": []
    },
    {
      "cell_type": "code",
      "metadata": {
        "id": "86uVdtpgxbu4"
      },
      "source": [
        "#Step 2 : Calculate the cosine similarity\n",
        "cosine_similarities = cosine_similarity(matrix)"
      ],
      "execution_count": null,
      "outputs": []
    },
    {
      "cell_type": "code",
      "metadata": {
        "id": "LOhn79fcx6a0"
      },
      "source": [
        "#storing the names of the 50 most similar songs for each song \n",
        "similarities = {}\n",
        "for i in range(len(cosine_similarities)):\n",
        "    # Now we'll sort each element in cosine_similarities and get the indexes of the songs. \n",
        "    similar_indices = cosine_similarities[i].argsort()[:-50:-1] \n",
        "    # After that, we'll store in similarities each name of the 50 most similar songs.\n",
        "    # Except the first one that is the same song.\n",
        "    similarities[songs['release'].iloc[i]] = [(cosine_similarities[i][x], songs['release'][x], songs['artist_name'][x]) for x in similar_indices][1:]"
      ],
      "execution_count": null,
      "outputs": []
    },
    {
      "cell_type": "markdown",
      "metadata": {
        "id": "lEMfmpEvyb-H"
      },
      "source": [
        "**Content based recommender class**"
      ]
    },
    {
      "cell_type": "code",
      "metadata": {
        "id": "oqTFKRhmyUbe"
      },
      "source": [
        "class ContentBasedRecommender:\n",
        "    def __init__(self, matrix):\n",
        "        self.matrix_similar = matrix\n",
        "\n",
        "    def _print_message(self, release, recom_song):\n",
        "        rec_items = len(recom_song)\n",
        "        \n",
        "        print(f'The {rec_items} recommended songs for {release} are:')\n",
        "        for i in range(rec_items):\n",
        "            print(f\"Number {i+1}:\")\n",
        "            print(f\"{recom_song[i][1]} by {recom_song[i][2]} with {round(recom_song[i][0], 3)} similarity score\") \n",
        "            print(\"--------------------\")\n",
        "        \n",
        "    def recommend(self, recommendation):\n",
        "        # Get song to find recommendations for\n",
        "        release = recommendation['release']\n",
        "        # Get number of songs to recommend\n",
        "        number_songs = recommendation['number_songs']\n",
        "        # Get the number of songs most similars from matrix similarities\n",
        "        recom_song = self.matrix_similar[release][:number_songs]\n",
        "        # print each item\n",
        "        self._print_message(release=release, recom_song=recom_song)"
      ],
      "execution_count": null,
      "outputs": []
    },
    {
      "cell_type": "code",
      "metadata": {
        "id": "g6bEdA8Iymxv"
      },
      "source": [
        "#Creating Instance Of Class \n",
        "recommedations = ContentBasedRecommender(similarities)"
      ],
      "execution_count": null,
      "outputs": []
    },
    {
      "cell_type": "code",
      "metadata": {
        "id": "r1y4MeKK0Iyg"
      },
      "source": [
        "#picking a song from the dataset and making a recommendation.\n",
        "\n",
        "recommendation_1 = {\n",
        "    \"release\": songs['release'].iloc[25],\n",
        "    \"number_songs\": 4 \n",
        "}\n",
        "\n",
        "recommendation_2 = {\n",
        "    \"release\": songs['release'].iloc[115],\n",
        "    \"number_songs\": 4 \n",
        "}"
      ],
      "execution_count": null,
      "outputs": []
    },
    {
      "cell_type": "code",
      "metadata": {
        "colab": {
          "base_uri": "https://localhost:8080/"
        },
        "id": "DReVlLL20KrN",
        "outputId": "4093ca55-5429-4b3f-e58d-24bb6b624b42"
      },
      "source": [
        "recommedations.recommend(recommendation_1)"
      ],
      "execution_count": null,
      "outputs": [
        {
          "output_type": "stream",
          "text": [
            "The 4 recommended songs for Tu Vida Con La Mía are:\n",
            "Number 1:\n",
            "Tu Solo Tu by Miguel Aceves Mejia with 0.407 similarity score\n",
            "--------------------\n",
            "Number 2:\n",
            "Oh Vida by Beny Moré with 0.372 similarity score\n",
            "--------------------\n",
            "Number 3:\n",
            "Minha Vida by Os Travessos with 0.342 similarity score\n",
            "--------------------\n",
            "Number 4:\n",
            "Solo Tu by Mau Mau with 0.316 similarity score\n",
            "--------------------\n"
          ],
          "name": "stdout"
        }
      ]
    },
    {
      "cell_type": "code",
      "metadata": {
        "colab": {
          "base_uri": "https://localhost:8080/"
        },
        "id": "OP283wUQ0Mar",
        "outputId": "7668d7b0-954e-4f40-ec35-d07a60f46ff8"
      },
      "source": [
        "recommedations.recommend(recommendation_2)"
      ],
      "execution_count": null,
      "outputs": [
        {
          "output_type": "stream",
          "text": [
            "The 4 recommended songs for Get Along (Feat: Pace Won) (Instrumental) are:\n",
            "Number 1:\n",
            "Won't Back Down by Fuel with 0.525 similarity score\n",
            "--------------------\n",
            "Number 2:\n",
            "Do It Instrumental by Zion I with 0.467 similarity score\n",
            "--------------------\n",
            "Number 3:\n",
            "Instrumental by Ultra Bidé with 0.467 similarity score\n",
            "--------------------\n",
            "Number 4:\n",
            "Hamlet - In Pace by City of Prague Philharmonic and the Crouch End Festival Chorus with 0.418 similarity score\n",
            "--------------------\n"
          ],
          "name": "stdout"
        }
      ]
    },
    {
      "cell_type": "markdown",
      "metadata": {
        "id": "Ud6Ri-XzONVI"
      },
      "source": [
        "## Collabarative - Filtering Using KNN"
      ]
    },
    {
      "cell_type": "markdown",
      "metadata": {
        "id": "a61Y5jPASCY-"
      },
      "source": [
        "**Collaborative Filtering is a method of making automatic predictions (filtering) about the interests of a user by collecting preferences or taste information from many users (collaborating)**"
      ]
    },
    {
      "cell_type": "code",
      "metadata": {
        "id": "ON_wQWazSB14"
      },
      "source": [
        "df = df.head(400000)"
      ],
      "execution_count": null,
      "outputs": []
    },
    {
      "cell_type": "code",
      "metadata": {
        "colab": {
          "base_uri": "https://localhost:8080/",
          "height": 202
        },
        "id": "b1TB114H0jTx",
        "outputId": "ec42d64e-f05e-4c08-d6ad-3d8258fd11d4"
      },
      "source": [
        "combine_song_play_count = df.dropna(axis = 0)\n",
        "\n",
        "# Get users which have listen to at least 10 songs\n",
        "song_play_Count = (combine_song_play_count.\n",
        "     groupby(by = ['song_id'])['listen_count'].\n",
        "     count().\n",
        "     reset_index().\n",
        "     rename(columns = {'listen_count': 'totalPlayCount'})\n",
        "     [['song_id', 'totalPlayCount']]\n",
        "    )\n",
        "song_play_Count.head()"
      ],
      "execution_count": null,
      "outputs": [
        {
          "output_type": "execute_result",
          "data": {
            "text/html": [
              "<div>\n",
              "<style scoped>\n",
              "    .dataframe tbody tr th:only-of-type {\n",
              "        vertical-align: middle;\n",
              "    }\n",
              "\n",
              "    .dataframe tbody tr th {\n",
              "        vertical-align: top;\n",
              "    }\n",
              "\n",
              "    .dataframe thead th {\n",
              "        text-align: right;\n",
              "    }\n",
              "</style>\n",
              "<table border=\"1\" class=\"dataframe\">\n",
              "  <thead>\n",
              "    <tr style=\"text-align: right;\">\n",
              "      <th></th>\n",
              "      <th>song_id</th>\n",
              "      <th>totalPlayCount</th>\n",
              "    </tr>\n",
              "  </thead>\n",
              "  <tbody>\n",
              "    <tr>\n",
              "      <th>0</th>\n",
              "      <td>SOAAAGQ12A8C1420C8</td>\n",
              "      <td>7</td>\n",
              "    </tr>\n",
              "    <tr>\n",
              "      <th>1</th>\n",
              "      <td>SOAAAMT12AB018C9C4</td>\n",
              "      <td>1</td>\n",
              "    </tr>\n",
              "    <tr>\n",
              "      <th>2</th>\n",
              "      <td>SOAABQL12A67020E76</td>\n",
              "      <td>1</td>\n",
              "    </tr>\n",
              "    <tr>\n",
              "      <th>3</th>\n",
              "      <td>SOAABSB12A8C143E55</td>\n",
              "      <td>1</td>\n",
              "    </tr>\n",
              "    <tr>\n",
              "      <th>4</th>\n",
              "      <td>SOAABVA12AC3DF673F</td>\n",
              "      <td>3</td>\n",
              "    </tr>\n",
              "  </tbody>\n",
              "</table>\n",
              "</div>"
            ],
            "text/plain": [
              "              song_id  totalPlayCount\n",
              "0  SOAAAGQ12A8C1420C8               7\n",
              "1  SOAAAMT12AB018C9C4               1\n",
              "2  SOAABQL12A67020E76               1\n",
              "3  SOAABSB12A8C143E55               1\n",
              "4  SOAABVA12AC3DF673F               3"
            ]
          },
          "metadata": {
            "tags": []
          },
          "execution_count": 29
        }
      ]
    },
    {
      "cell_type": "code",
      "metadata": {
        "colab": {
          "base_uri": "https://localhost:8080/",
          "height": 427
        },
        "id": "BBWScbkAkrhX",
        "outputId": "205de83c-6be9-48b8-fa14-7bf8fd91eaff"
      },
      "source": [
        "rating_with_totalRatingCount = combine_song_play_count.merge(song_play_Count, left_on = 'song_id', right_on = 'song_id', how = 'left')\n",
        "rating_with_totalRatingCount.head()"
      ],
      "execution_count": null,
      "outputs": [
        {
          "output_type": "execute_result",
          "data": {
            "text/html": [
              "<div>\n",
              "<style scoped>\n",
              "    .dataframe tbody tr th:only-of-type {\n",
              "        vertical-align: middle;\n",
              "    }\n",
              "\n",
              "    .dataframe tbody tr th {\n",
              "        vertical-align: top;\n",
              "    }\n",
              "\n",
              "    .dataframe thead th {\n",
              "        text-align: right;\n",
              "    }\n",
              "</style>\n",
              "<table border=\"1\" class=\"dataframe\">\n",
              "  <thead>\n",
              "    <tr style=\"text-align: right;\">\n",
              "      <th></th>\n",
              "      <th>user_id</th>\n",
              "      <th>song_id</th>\n",
              "      <th>listen_count</th>\n",
              "      <th>track_id</th>\n",
              "      <th>artist_name</th>\n",
              "      <th>release</th>\n",
              "      <th>totalPlayCount</th>\n",
              "    </tr>\n",
              "  </thead>\n",
              "  <tbody>\n",
              "    <tr>\n",
              "      <th>0</th>\n",
              "      <td>fd50c4007b68a3737fe052d5a4f78ce8aa117f3d</td>\n",
              "      <td>SOBONKR12A58A7A7E0</td>\n",
              "      <td>1</td>\n",
              "      <td>TRAEHHJ12903CF492F</td>\n",
              "      <td>Dwight Yoakam</td>\n",
              "      <td>You're The One</td>\n",
              "      <td>1179</td>\n",
              "    </tr>\n",
              "    <tr>\n",
              "      <th>1</th>\n",
              "      <td>fd50c4007b68a3737fe052d5a4f78ce8aa117f3d</td>\n",
              "      <td>SOEGIYH12A6D4FC0E3</td>\n",
              "      <td>1</td>\n",
              "      <td>TRLGMFJ128F4217DBE</td>\n",
              "      <td>Barry Tuckwell/Academy of St Martin-in-the-Fie...</td>\n",
              "      <td>Horn Concerto No. 4 in E flat K495: II. Romanc...</td>\n",
              "      <td>955</td>\n",
              "    </tr>\n",
              "    <tr>\n",
              "      <th>2</th>\n",
              "      <td>fd50c4007b68a3737fe052d5a4f78ce8aa117f3d</td>\n",
              "      <td>SOFLJQZ12A6D4FADA6</td>\n",
              "      <td>1</td>\n",
              "      <td>TRTNDNE128F1486812</td>\n",
              "      <td>Cartola</td>\n",
              "      <td>Tive Sim</td>\n",
              "      <td>750</td>\n",
              "    </tr>\n",
              "    <tr>\n",
              "      <th>3</th>\n",
              "      <td>fd50c4007b68a3737fe052d5a4f78ce8aa117f3d</td>\n",
              "      <td>SOHTKMO12AB01843B0</td>\n",
              "      <td>1</td>\n",
              "      <td>TRASTUE128F930D488</td>\n",
              "      <td>Lonnie Gordon</td>\n",
              "      <td>Catch You Baby (Steve Pitron &amp; Max Sanna Radio...</td>\n",
              "      <td>576</td>\n",
              "    </tr>\n",
              "    <tr>\n",
              "      <th>4</th>\n",
              "      <td>fd50c4007b68a3737fe052d5a4f78ce8aa117f3d</td>\n",
              "      <td>SODQZCY12A6D4F9D11</td>\n",
              "      <td>1</td>\n",
              "      <td>TRFPLWO128F1486B9E</td>\n",
              "      <td>Miguel Calo</td>\n",
              "      <td>El Cuatrero</td>\n",
              "      <td>42</td>\n",
              "    </tr>\n",
              "  </tbody>\n",
              "</table>\n",
              "</div>"
            ],
            "text/plain": [
              "                                    user_id  ... totalPlayCount\n",
              "0  fd50c4007b68a3737fe052d5a4f78ce8aa117f3d  ...           1179\n",
              "1  fd50c4007b68a3737fe052d5a4f78ce8aa117f3d  ...            955\n",
              "2  fd50c4007b68a3737fe052d5a4f78ce8aa117f3d  ...            750\n",
              "3  fd50c4007b68a3737fe052d5a4f78ce8aa117f3d  ...            576\n",
              "4  fd50c4007b68a3737fe052d5a4f78ce8aa117f3d  ...             42\n",
              "\n",
              "[5 rows x 7 columns]"
            ]
          },
          "metadata": {
            "tags": []
          },
          "execution_count": 30
        }
      ]
    },
    {
      "cell_type": "markdown",
      "metadata": {
        "id": "t5nniud4n3PJ"
      },
      "source": [
        "**Selecting Only Those Who Have Listened More Than 50 Songs**"
      ]
    },
    {
      "cell_type": "code",
      "metadata": {
        "colab": {
          "base_uri": "https://localhost:8080/"
        },
        "id": "WcmEOSktlzFs",
        "outputId": "bd92c5cb-f45e-4c10-9293-b6c78af044dd"
      },
      "source": [
        "rating_with_totalRatingCount=rating_with_totalRatingCount[rating_with_totalRatingCount[\"totalPlayCount\"]>50]\n",
        "rating_with_totalRatingCount.shape"
      ],
      "execution_count": null,
      "outputs": [
        {
          "output_type": "execute_result",
          "data": {
            "text/plain": [
              "(87734, 7)"
            ]
          },
          "metadata": {
            "tags": []
          },
          "execution_count": 31
        }
      ]
    },
    {
      "cell_type": "markdown",
      "metadata": {
        "id": "6yIlm-KHokm_"
      },
      "source": [
        "**Creating A Pivot Table Based On No. Of Times Songs Played By The Users**"
      ]
    },
    {
      "cell_type": "code",
      "metadata": {
        "colab": {
          "base_uri": "https://localhost:8080/",
          "height": 282
        },
        "id": "t8inppZtociO",
        "outputId": "54009754-fd8f-4dfc-8fa8-7ed59c36d72e"
      },
      "source": [
        "song_features_df=rating_with_totalRatingCount.pivot_table(index='song_id',columns='user_id',values='listen_count').fillna(0)\n",
        "song_features_df.head()"
      ],
      "execution_count": null,
      "outputs": [
        {
          "output_type": "execute_result",
          "data": {
            "text/html": [
              "<div>\n",
              "<style scoped>\n",
              "    .dataframe tbody tr th:only-of-type {\n",
              "        vertical-align: middle;\n",
              "    }\n",
              "\n",
              "    .dataframe tbody tr th {\n",
              "        vertical-align: top;\n",
              "    }\n",
              "\n",
              "    .dataframe thead th {\n",
              "        text-align: right;\n",
              "    }\n",
              "</style>\n",
              "<table border=\"1\" class=\"dataframe\">\n",
              "  <thead>\n",
              "    <tr style=\"text-align: right;\">\n",
              "      <th>user_id</th>\n",
              "      <th>0004dd6499e2e3f630f070416c437627de60d5c1</th>\n",
              "      <th>0006dfb63a4b7b1790a18c4c92da3b9dbcbc02bb</th>\n",
              "      <th>00071b4e8ffb68920638635660f887e8c43a3f36</th>\n",
              "      <th>000923be99eda0ecf81ca3351794f80dd758f696</th>\n",
              "      <th>000ae9c80733348ff64cd3716a27477b94578d9d</th>\n",
              "      <th>000b30862af21f64b05bc8b35a1a13577948d34d</th>\n",
              "      <th>000b8aba8fde15a79a947b2fdaacf162726d4630</th>\n",
              "      <th>000dd7137b511a0c6e45880de551c6a7019ee4c3</th>\n",
              "      <th>000f7987ddcba4eefb4a3f37d78c3347d887a1e7</th>\n",
              "      <th>0011d5f4fb02ff276763d385c3f2ded2b00ad94a</th>\n",
              "      <th>0015fa97e2a0ec2eaa252b9d892f8bac269e8c8b</th>\n",
              "      <th>00200865ee578746cc29b28d2c14a81c74895a5f</th>\n",
              "      <th>002511b392561fc1d426d875c386b356a6fc5702</th>\n",
              "      <th>0029769a8f16da0b5242794e6b492fc099f2b742</th>\n",
              "      <th>002ace7725512ef9180af3c8a0fbf0e1071b72d9</th>\n",
              "      <th>002dfbc3c073b55a64a4abab34c0ca1f13897f1c</th>\n",
              "      <th>003157cd23daebd7510ddba24c017923f1700815</th>\n",
              "      <th>00347bf5909cc60f78f7b8febd33c9900f61c33c</th>\n",
              "      <th>00365d3bf40b02ebd932bd43e7b463495a46ad68</th>\n",
              "      <th>0039572e10a1d56100547991be02ccdf39d3ad7a</th>\n",
              "      <th>00397fc4e78c74be0106c42d9fba99aac62ab198</th>\n",
              "      <th>003998bc33cddeba02428a43391c6716e523c8f7</th>\n",
              "      <th>004034b0d0a55e2ceff20bb5198e8e97c6b679e2</th>\n",
              "      <th>0042d2027dfa0340e31d2aa875c4be229730efb7</th>\n",
              "      <th>0043e4830ebda695f3385291220ad75c7546e861</th>\n",
              "      <th>004433e6e1ad294af96331c00f8742f4fce99d50</th>\n",
              "      <th>00526ad22352144fd42394656e5d990b3227772d</th>\n",
              "      <th>0054bb08f34f416c9688600b5318efc1fb4158ed</th>\n",
              "      <th>0057b6d3b979a2506e802b7b4d33f58ca0c8be48</th>\n",
              "      <th>00587ee69421cb6abc50898714c23583f1f4e230</th>\n",
              "      <th>00591ffa80d8869e14fc6aee8d0a0e077c40cc35</th>\n",
              "      <th>005aa4c4bc1dc74114b8bd6ffdca64c1d218474f</th>\n",
              "      <th>005b1fab38cdeb9d5bb97debcf73b44050994a3e</th>\n",
              "      <th>005beb1042f1e003c5d4df5ed328f94449d62717</th>\n",
              "      <th>005c6f0d9f7051ea7ca3009d2075cd81293c03c5</th>\n",
              "      <th>005cc5d858319f13f88228f62341e5a4270f8e75</th>\n",
              "      <th>005fdbe60a173e6f6f88731c7a77140161b33eac</th>\n",
              "      <th>0061148b373d0d13fd8b03781f6e5dd48aeeb95d</th>\n",
              "      <th>00624bc7f50459550519d1b7b30bdeeb7d57b6ea</th>\n",
              "      <th>00647969be22f892d25701acfdd5dcb4a7226c4c</th>\n",
              "      <th>...</th>\n",
              "      <th>ff8891b901eed1a3abc9bd4c53a17d2bcdc0ead7</th>\n",
              "      <th>ff8e277d5cee49ba74fbcb61525e893388ed9046</th>\n",
              "      <th>ff8fb6a2e4bf67646554570d616d953b06bb1e6d</th>\n",
              "      <th>ff8fcf42abf312ddca3aa0615f4f90e5a01787b7</th>\n",
              "      <th>ff947eaf62bc1650235278c06abcd8caa9950697</th>\n",
              "      <th>ff96171f15f41e020b329af498d184c464f6cee7</th>\n",
              "      <th>ff968b53f5446a3e8c64bd04842fd29c01e2381f</th>\n",
              "      <th>ff98daa338f1b418bb729e3560ab4d57b75ab86f</th>\n",
              "      <th>ff9e31adc2f001172ca982fcc4fcca07ec04370c</th>\n",
              "      <th>ff9e3d5145de47cc0e04177e4eda897fbace5a6c</th>\n",
              "      <th>ffa74466c37feabcfa5aec6feb414e07ccd280fc</th>\n",
              "      <th>ffac5a680c42a5aa1a290007f085ea03de544aea</th>\n",
              "      <th>ffada67cdaa9f7123a2f7fae44fa5e958c1fdc63</th>\n",
              "      <th>ffba6dd0816b3875c2e6c99389e3b9a9de3ffe5d</th>\n",
              "      <th>ffbada23cac620140e67e9d473e6d9bd46467973</th>\n",
              "      <th>ffbc11b17e88f2af9e7235630078d78d003f526a</th>\n",
              "      <th>ffbdec0664aa0bf54fca397305eb54ac64697fde</th>\n",
              "      <th>ffbeaaa43faaec45f6a9788ee715bec61c22be2c</th>\n",
              "      <th>ffbf61410fa77ae29961c7ab206b62a48dd09465</th>\n",
              "      <th>ffc12d578d03ff93b70edfb5142d4ebbe07f5e4f</th>\n",
              "      <th>ffc1363bd624a19d5442702ef161b3f7be0f075f</th>\n",
              "      <th>ffc40a866e94948d8a223a3e98cc48a58d13a45d</th>\n",
              "      <th>ffc41a328d29243e462c9908f10f568cf676fcc2</th>\n",
              "      <th>ffc683d098d818421f22363b150a19fd7d307764</th>\n",
              "      <th>ffca2f5069c381b20171dc14404b2e5e1141692b</th>\n",
              "      <th>ffca99f4cf8db0e734100c763eb80c333c1049cc</th>\n",
              "      <th>ffcc1f4ca4aaa2bc89cfa96cf1ff524b73dc0f75</th>\n",
              "      <th>ffcfc0ad22732fa7677e19eb3d9692e365c8a391</th>\n",
              "      <th>ffd41f0f4c56e011d86a5005439f3468fd29d1d9</th>\n",
              "      <th>ffd7a8e471bf2ba4b22f275e15a5f3ba10e9a88b</th>\n",
              "      <th>ffded4ed3a424bbc10db402a63fd488245819d59</th>\n",
              "      <th>ffdfbc60afdcdcb630d3b667ca3a083b09ed6212</th>\n",
              "      <th>ffe2811be1a471ea1d30fd646d815d272aef7d4d</th>\n",
              "      <th>ffe8430dabbe08d48f505ae7e82b04031e9e4ebc</th>\n",
              "      <th>ffee87bc67591e8045e05674691672c5207c5e83</th>\n",
              "      <th>fff7d30a45a17d26768d020b75818008a741ef2c</th>\n",
              "      <th>fff7e94f0a8d3c6c705b5f7c677d61da82aa545b</th>\n",
              "      <th>fffcfe9b89b791e39ff3e643aa57ae9303079c56</th>\n",
              "      <th>fffe29116f96c97b47a5dabdd406784ad0ba6f30</th>\n",
              "      <th>fffed0bee753cd78494011b8b55dafd4f5c7e5ff</th>\n",
              "    </tr>\n",
              "    <tr>\n",
              "      <th>song_id</th>\n",
              "      <th></th>\n",
              "      <th></th>\n",
              "      <th></th>\n",
              "      <th></th>\n",
              "      <th></th>\n",
              "      <th></th>\n",
              "      <th></th>\n",
              "      <th></th>\n",
              "      <th></th>\n",
              "      <th></th>\n",
              "      <th></th>\n",
              "      <th></th>\n",
              "      <th></th>\n",
              "      <th></th>\n",
              "      <th></th>\n",
              "      <th></th>\n",
              "      <th></th>\n",
              "      <th></th>\n",
              "      <th></th>\n",
              "      <th></th>\n",
              "      <th></th>\n",
              "      <th></th>\n",
              "      <th></th>\n",
              "      <th></th>\n",
              "      <th></th>\n",
              "      <th></th>\n",
              "      <th></th>\n",
              "      <th></th>\n",
              "      <th></th>\n",
              "      <th></th>\n",
              "      <th></th>\n",
              "      <th></th>\n",
              "      <th></th>\n",
              "      <th></th>\n",
              "      <th></th>\n",
              "      <th></th>\n",
              "      <th></th>\n",
              "      <th></th>\n",
              "      <th></th>\n",
              "      <th></th>\n",
              "      <th></th>\n",
              "      <th></th>\n",
              "      <th></th>\n",
              "      <th></th>\n",
              "      <th></th>\n",
              "      <th></th>\n",
              "      <th></th>\n",
              "      <th></th>\n",
              "      <th></th>\n",
              "      <th></th>\n",
              "      <th></th>\n",
              "      <th></th>\n",
              "      <th></th>\n",
              "      <th></th>\n",
              "      <th></th>\n",
              "      <th></th>\n",
              "      <th></th>\n",
              "      <th></th>\n",
              "      <th></th>\n",
              "      <th></th>\n",
              "      <th></th>\n",
              "      <th></th>\n",
              "      <th></th>\n",
              "      <th></th>\n",
              "      <th></th>\n",
              "      <th></th>\n",
              "      <th></th>\n",
              "      <th></th>\n",
              "      <th></th>\n",
              "      <th></th>\n",
              "      <th></th>\n",
              "      <th></th>\n",
              "      <th></th>\n",
              "      <th></th>\n",
              "      <th></th>\n",
              "      <th></th>\n",
              "      <th></th>\n",
              "      <th></th>\n",
              "      <th></th>\n",
              "      <th></th>\n",
              "      <th></th>\n",
              "    </tr>\n",
              "  </thead>\n",
              "  <tbody>\n",
              "    <tr>\n",
              "      <th>SOAAVUV12AB0186646</th>\n",
              "      <td>0.0</td>\n",
              "      <td>0.0</td>\n",
              "      <td>0.0</td>\n",
              "      <td>0.0</td>\n",
              "      <td>0.0</td>\n",
              "      <td>0.0</td>\n",
              "      <td>0.0</td>\n",
              "      <td>0.0</td>\n",
              "      <td>0.0</td>\n",
              "      <td>0.0</td>\n",
              "      <td>0.0</td>\n",
              "      <td>0.0</td>\n",
              "      <td>0.0</td>\n",
              "      <td>0.0</td>\n",
              "      <td>0.0</td>\n",
              "      <td>0.0</td>\n",
              "      <td>0.0</td>\n",
              "      <td>0.0</td>\n",
              "      <td>0.0</td>\n",
              "      <td>0.0</td>\n",
              "      <td>0.0</td>\n",
              "      <td>0.0</td>\n",
              "      <td>0.0</td>\n",
              "      <td>0.0</td>\n",
              "      <td>0.0</td>\n",
              "      <td>0.0</td>\n",
              "      <td>0.0</td>\n",
              "      <td>0.0</td>\n",
              "      <td>0.0</td>\n",
              "      <td>0.0</td>\n",
              "      <td>0.0</td>\n",
              "      <td>0.0</td>\n",
              "      <td>0.0</td>\n",
              "      <td>0.0</td>\n",
              "      <td>0.0</td>\n",
              "      <td>0.0</td>\n",
              "      <td>0.0</td>\n",
              "      <td>0.0</td>\n",
              "      <td>0.0</td>\n",
              "      <td>0.0</td>\n",
              "      <td>...</td>\n",
              "      <td>0.0</td>\n",
              "      <td>0.0</td>\n",
              "      <td>0.0</td>\n",
              "      <td>0.0</td>\n",
              "      <td>0.0</td>\n",
              "      <td>0.0</td>\n",
              "      <td>0.0</td>\n",
              "      <td>0.0</td>\n",
              "      <td>0.0</td>\n",
              "      <td>0.0</td>\n",
              "      <td>0.0</td>\n",
              "      <td>0.0</td>\n",
              "      <td>0.0</td>\n",
              "      <td>0.0</td>\n",
              "      <td>0.0</td>\n",
              "      <td>0.0</td>\n",
              "      <td>0.0</td>\n",
              "      <td>0.0</td>\n",
              "      <td>0.0</td>\n",
              "      <td>0.0</td>\n",
              "      <td>0.0</td>\n",
              "      <td>0.0</td>\n",
              "      <td>0.0</td>\n",
              "      <td>0.0</td>\n",
              "      <td>0.0</td>\n",
              "      <td>0.0</td>\n",
              "      <td>0.0</td>\n",
              "      <td>0.0</td>\n",
              "      <td>0.0</td>\n",
              "      <td>0.0</td>\n",
              "      <td>0.0</td>\n",
              "      <td>0.0</td>\n",
              "      <td>0.0</td>\n",
              "      <td>0.0</td>\n",
              "      <td>0.0</td>\n",
              "      <td>0.0</td>\n",
              "      <td>0.0</td>\n",
              "      <td>0.0</td>\n",
              "      <td>0.0</td>\n",
              "      <td>0.0</td>\n",
              "    </tr>\n",
              "    <tr>\n",
              "      <th>SOABJBU12A8C13F63F</th>\n",
              "      <td>0.0</td>\n",
              "      <td>0.0</td>\n",
              "      <td>0.0</td>\n",
              "      <td>0.0</td>\n",
              "      <td>0.0</td>\n",
              "      <td>0.0</td>\n",
              "      <td>0.0</td>\n",
              "      <td>0.0</td>\n",
              "      <td>0.0</td>\n",
              "      <td>0.0</td>\n",
              "      <td>0.0</td>\n",
              "      <td>0.0</td>\n",
              "      <td>0.0</td>\n",
              "      <td>0.0</td>\n",
              "      <td>0.0</td>\n",
              "      <td>0.0</td>\n",
              "      <td>0.0</td>\n",
              "      <td>0.0</td>\n",
              "      <td>0.0</td>\n",
              "      <td>0.0</td>\n",
              "      <td>0.0</td>\n",
              "      <td>0.0</td>\n",
              "      <td>0.0</td>\n",
              "      <td>0.0</td>\n",
              "      <td>0.0</td>\n",
              "      <td>0.0</td>\n",
              "      <td>0.0</td>\n",
              "      <td>0.0</td>\n",
              "      <td>0.0</td>\n",
              "      <td>0.0</td>\n",
              "      <td>0.0</td>\n",
              "      <td>0.0</td>\n",
              "      <td>0.0</td>\n",
              "      <td>0.0</td>\n",
              "      <td>0.0</td>\n",
              "      <td>0.0</td>\n",
              "      <td>0.0</td>\n",
              "      <td>0.0</td>\n",
              "      <td>1.0</td>\n",
              "      <td>0.0</td>\n",
              "      <td>...</td>\n",
              "      <td>0.0</td>\n",
              "      <td>0.0</td>\n",
              "      <td>0.0</td>\n",
              "      <td>0.0</td>\n",
              "      <td>0.0</td>\n",
              "      <td>0.0</td>\n",
              "      <td>0.0</td>\n",
              "      <td>0.0</td>\n",
              "      <td>0.0</td>\n",
              "      <td>0.0</td>\n",
              "      <td>0.0</td>\n",
              "      <td>0.0</td>\n",
              "      <td>0.0</td>\n",
              "      <td>0.0</td>\n",
              "      <td>0.0</td>\n",
              "      <td>0.0</td>\n",
              "      <td>0.0</td>\n",
              "      <td>0.0</td>\n",
              "      <td>0.0</td>\n",
              "      <td>0.0</td>\n",
              "      <td>0.0</td>\n",
              "      <td>0.0</td>\n",
              "      <td>0.0</td>\n",
              "      <td>0.0</td>\n",
              "      <td>0.0</td>\n",
              "      <td>0.0</td>\n",
              "      <td>0.0</td>\n",
              "      <td>0.0</td>\n",
              "      <td>0.0</td>\n",
              "      <td>0.0</td>\n",
              "      <td>0.0</td>\n",
              "      <td>0.0</td>\n",
              "      <td>0.0</td>\n",
              "      <td>0.0</td>\n",
              "      <td>0.0</td>\n",
              "      <td>0.0</td>\n",
              "      <td>0.0</td>\n",
              "      <td>0.0</td>\n",
              "      <td>0.0</td>\n",
              "      <td>0.0</td>\n",
              "    </tr>\n",
              "    <tr>\n",
              "      <th>SOACIPG12A8AE47E1C</th>\n",
              "      <td>0.0</td>\n",
              "      <td>0.0</td>\n",
              "      <td>0.0</td>\n",
              "      <td>0.0</td>\n",
              "      <td>0.0</td>\n",
              "      <td>0.0</td>\n",
              "      <td>0.0</td>\n",
              "      <td>0.0</td>\n",
              "      <td>0.0</td>\n",
              "      <td>0.0</td>\n",
              "      <td>0.0</td>\n",
              "      <td>0.0</td>\n",
              "      <td>0.0</td>\n",
              "      <td>0.0</td>\n",
              "      <td>0.0</td>\n",
              "      <td>0.0</td>\n",
              "      <td>0.0</td>\n",
              "      <td>0.0</td>\n",
              "      <td>0.0</td>\n",
              "      <td>0.0</td>\n",
              "      <td>0.0</td>\n",
              "      <td>0.0</td>\n",
              "      <td>0.0</td>\n",
              "      <td>0.0</td>\n",
              "      <td>0.0</td>\n",
              "      <td>0.0</td>\n",
              "      <td>0.0</td>\n",
              "      <td>0.0</td>\n",
              "      <td>0.0</td>\n",
              "      <td>0.0</td>\n",
              "      <td>0.0</td>\n",
              "      <td>0.0</td>\n",
              "      <td>0.0</td>\n",
              "      <td>0.0</td>\n",
              "      <td>0.0</td>\n",
              "      <td>0.0</td>\n",
              "      <td>0.0</td>\n",
              "      <td>0.0</td>\n",
              "      <td>0.0</td>\n",
              "      <td>0.0</td>\n",
              "      <td>...</td>\n",
              "      <td>0.0</td>\n",
              "      <td>0.0</td>\n",
              "      <td>0.0</td>\n",
              "      <td>0.0</td>\n",
              "      <td>0.0</td>\n",
              "      <td>0.0</td>\n",
              "      <td>0.0</td>\n",
              "      <td>0.0</td>\n",
              "      <td>0.0</td>\n",
              "      <td>0.0</td>\n",
              "      <td>0.0</td>\n",
              "      <td>0.0</td>\n",
              "      <td>0.0</td>\n",
              "      <td>0.0</td>\n",
              "      <td>0.0</td>\n",
              "      <td>0.0</td>\n",
              "      <td>0.0</td>\n",
              "      <td>0.0</td>\n",
              "      <td>0.0</td>\n",
              "      <td>0.0</td>\n",
              "      <td>0.0</td>\n",
              "      <td>0.0</td>\n",
              "      <td>0.0</td>\n",
              "      <td>0.0</td>\n",
              "      <td>0.0</td>\n",
              "      <td>0.0</td>\n",
              "      <td>0.0</td>\n",
              "      <td>0.0</td>\n",
              "      <td>0.0</td>\n",
              "      <td>0.0</td>\n",
              "      <td>0.0</td>\n",
              "      <td>0.0</td>\n",
              "      <td>0.0</td>\n",
              "      <td>0.0</td>\n",
              "      <td>0.0</td>\n",
              "      <td>0.0</td>\n",
              "      <td>0.0</td>\n",
              "      <td>0.0</td>\n",
              "      <td>0.0</td>\n",
              "      <td>0.0</td>\n",
              "    </tr>\n",
              "    <tr>\n",
              "      <th>SOADJQJ12A8C141D38</th>\n",
              "      <td>0.0</td>\n",
              "      <td>0.0</td>\n",
              "      <td>0.0</td>\n",
              "      <td>0.0</td>\n",
              "      <td>0.0</td>\n",
              "      <td>0.0</td>\n",
              "      <td>0.0</td>\n",
              "      <td>0.0</td>\n",
              "      <td>0.0</td>\n",
              "      <td>0.0</td>\n",
              "      <td>0.0</td>\n",
              "      <td>0.0</td>\n",
              "      <td>0.0</td>\n",
              "      <td>0.0</td>\n",
              "      <td>0.0</td>\n",
              "      <td>0.0</td>\n",
              "      <td>0.0</td>\n",
              "      <td>0.0</td>\n",
              "      <td>0.0</td>\n",
              "      <td>0.0</td>\n",
              "      <td>0.0</td>\n",
              "      <td>0.0</td>\n",
              "      <td>0.0</td>\n",
              "      <td>0.0</td>\n",
              "      <td>0.0</td>\n",
              "      <td>0.0</td>\n",
              "      <td>0.0</td>\n",
              "      <td>0.0</td>\n",
              "      <td>0.0</td>\n",
              "      <td>0.0</td>\n",
              "      <td>0.0</td>\n",
              "      <td>0.0</td>\n",
              "      <td>0.0</td>\n",
              "      <td>0.0</td>\n",
              "      <td>0.0</td>\n",
              "      <td>0.0</td>\n",
              "      <td>0.0</td>\n",
              "      <td>0.0</td>\n",
              "      <td>0.0</td>\n",
              "      <td>0.0</td>\n",
              "      <td>...</td>\n",
              "      <td>0.0</td>\n",
              "      <td>0.0</td>\n",
              "      <td>0.0</td>\n",
              "      <td>0.0</td>\n",
              "      <td>0.0</td>\n",
              "      <td>0.0</td>\n",
              "      <td>0.0</td>\n",
              "      <td>0.0</td>\n",
              "      <td>0.0</td>\n",
              "      <td>0.0</td>\n",
              "      <td>0.0</td>\n",
              "      <td>0.0</td>\n",
              "      <td>0.0</td>\n",
              "      <td>0.0</td>\n",
              "      <td>0.0</td>\n",
              "      <td>0.0</td>\n",
              "      <td>0.0</td>\n",
              "      <td>9.0</td>\n",
              "      <td>0.0</td>\n",
              "      <td>0.0</td>\n",
              "      <td>0.0</td>\n",
              "      <td>0.0</td>\n",
              "      <td>0.0</td>\n",
              "      <td>0.0</td>\n",
              "      <td>0.0</td>\n",
              "      <td>0.0</td>\n",
              "      <td>0.0</td>\n",
              "      <td>0.0</td>\n",
              "      <td>0.0</td>\n",
              "      <td>0.0</td>\n",
              "      <td>0.0</td>\n",
              "      <td>0.0</td>\n",
              "      <td>0.0</td>\n",
              "      <td>0.0</td>\n",
              "      <td>0.0</td>\n",
              "      <td>0.0</td>\n",
              "      <td>1.0</td>\n",
              "      <td>0.0</td>\n",
              "      <td>0.0</td>\n",
              "      <td>0.0</td>\n",
              "    </tr>\n",
              "    <tr>\n",
              "      <th>SOADQPP12A67020C82</th>\n",
              "      <td>0.0</td>\n",
              "      <td>0.0</td>\n",
              "      <td>0.0</td>\n",
              "      <td>0.0</td>\n",
              "      <td>0.0</td>\n",
              "      <td>0.0</td>\n",
              "      <td>0.0</td>\n",
              "      <td>0.0</td>\n",
              "      <td>0.0</td>\n",
              "      <td>0.0</td>\n",
              "      <td>0.0</td>\n",
              "      <td>0.0</td>\n",
              "      <td>0.0</td>\n",
              "      <td>0.0</td>\n",
              "      <td>0.0</td>\n",
              "      <td>0.0</td>\n",
              "      <td>0.0</td>\n",
              "      <td>0.0</td>\n",
              "      <td>0.0</td>\n",
              "      <td>0.0</td>\n",
              "      <td>0.0</td>\n",
              "      <td>0.0</td>\n",
              "      <td>0.0</td>\n",
              "      <td>0.0</td>\n",
              "      <td>0.0</td>\n",
              "      <td>0.0</td>\n",
              "      <td>0.0</td>\n",
              "      <td>0.0</td>\n",
              "      <td>0.0</td>\n",
              "      <td>0.0</td>\n",
              "      <td>0.0</td>\n",
              "      <td>0.0</td>\n",
              "      <td>0.0</td>\n",
              "      <td>0.0</td>\n",
              "      <td>0.0</td>\n",
              "      <td>0.0</td>\n",
              "      <td>0.0</td>\n",
              "      <td>0.0</td>\n",
              "      <td>0.0</td>\n",
              "      <td>0.0</td>\n",
              "      <td>...</td>\n",
              "      <td>0.0</td>\n",
              "      <td>0.0</td>\n",
              "      <td>0.0</td>\n",
              "      <td>0.0</td>\n",
              "      <td>0.0</td>\n",
              "      <td>0.0</td>\n",
              "      <td>0.0</td>\n",
              "      <td>0.0</td>\n",
              "      <td>0.0</td>\n",
              "      <td>0.0</td>\n",
              "      <td>0.0</td>\n",
              "      <td>0.0</td>\n",
              "      <td>0.0</td>\n",
              "      <td>0.0</td>\n",
              "      <td>0.0</td>\n",
              "      <td>0.0</td>\n",
              "      <td>0.0</td>\n",
              "      <td>0.0</td>\n",
              "      <td>0.0</td>\n",
              "      <td>0.0</td>\n",
              "      <td>0.0</td>\n",
              "      <td>0.0</td>\n",
              "      <td>0.0</td>\n",
              "      <td>0.0</td>\n",
              "      <td>0.0</td>\n",
              "      <td>0.0</td>\n",
              "      <td>0.0</td>\n",
              "      <td>0.0</td>\n",
              "      <td>0.0</td>\n",
              "      <td>0.0</td>\n",
              "      <td>0.0</td>\n",
              "      <td>0.0</td>\n",
              "      <td>0.0</td>\n",
              "      <td>0.0</td>\n",
              "      <td>0.0</td>\n",
              "      <td>0.0</td>\n",
              "      <td>0.0</td>\n",
              "      <td>0.0</td>\n",
              "      <td>0.0</td>\n",
              "      <td>0.0</td>\n",
              "    </tr>\n",
              "  </tbody>\n",
              "</table>\n",
              "<p>5 rows × 22942 columns</p>\n",
              "</div>"
            ],
            "text/plain": [
              "user_id             0004dd6499e2e3f630f070416c437627de60d5c1  ...  fffed0bee753cd78494011b8b55dafd4f5c7e5ff\n",
              "song_id                                                       ...                                          \n",
              "SOAAVUV12AB0186646                                       0.0  ...                                       0.0\n",
              "SOABJBU12A8C13F63F                                       0.0  ...                                       0.0\n",
              "SOACIPG12A8AE47E1C                                       0.0  ...                                       0.0\n",
              "SOADJQJ12A8C141D38                                       0.0  ...                                       0.0\n",
              "SOADQPP12A67020C82                                       0.0  ...                                       0.0\n",
              "\n",
              "[5 rows x 22942 columns]"
            ]
          },
          "metadata": {
            "tags": []
          },
          "execution_count": 32
        }
      ]
    },
    {
      "cell_type": "markdown",
      "metadata": {
        "id": "4yklKltrqLAZ"
      },
      "source": [
        "**Converting the pivot table to matrix with the help of csr_matrix, which will be consumed by our model**"
      ]
    },
    {
      "cell_type": "code",
      "metadata": {
        "id": "hbRhjM8bqKVg"
      },
      "source": [
        "matrix_songs_features = csr_matrix(song_features_df.values)"
      ],
      "execution_count": null,
      "outputs": []
    },
    {
      "cell_type": "code",
      "metadata": {
        "colab": {
          "base_uri": "https://localhost:8080/",
          "height": 219
        },
        "id": "zikiw2Rno2dB",
        "outputId": "10a9931d-c752-4774-eecf-97dff4609998"
      },
      "source": [
        "df_unique_songs = df.drop_duplicates(subset=['song_id']).reset_index(drop=True)[['song_id', 'release']]\n",
        "print(\"Total no. of unique Songs are:\",len(df_unique_songs))\n",
        "df_unique_songs.head()"
      ],
      "execution_count": null,
      "outputs": [
        {
          "output_type": "stream",
          "text": [
            "Total no. of unique Songs are: 91371\n"
          ],
          "name": "stdout"
        },
        {
          "output_type": "execute_result",
          "data": {
            "text/html": [
              "<div>\n",
              "<style scoped>\n",
              "    .dataframe tbody tr th:only-of-type {\n",
              "        vertical-align: middle;\n",
              "    }\n",
              "\n",
              "    .dataframe tbody tr th {\n",
              "        vertical-align: top;\n",
              "    }\n",
              "\n",
              "    .dataframe thead th {\n",
              "        text-align: right;\n",
              "    }\n",
              "</style>\n",
              "<table border=\"1\" class=\"dataframe\">\n",
              "  <thead>\n",
              "    <tr style=\"text-align: right;\">\n",
              "      <th></th>\n",
              "      <th>song_id</th>\n",
              "      <th>release</th>\n",
              "    </tr>\n",
              "  </thead>\n",
              "  <tbody>\n",
              "    <tr>\n",
              "      <th>0</th>\n",
              "      <td>SOBONKR12A58A7A7E0</td>\n",
              "      <td>You're The One</td>\n",
              "    </tr>\n",
              "    <tr>\n",
              "      <th>1</th>\n",
              "      <td>SOEGIYH12A6D4FC0E3</td>\n",
              "      <td>Horn Concerto No. 4 in E flat K495: II. Romanc...</td>\n",
              "    </tr>\n",
              "    <tr>\n",
              "      <th>2</th>\n",
              "      <td>SOFLJQZ12A6D4FADA6</td>\n",
              "      <td>Tive Sim</td>\n",
              "    </tr>\n",
              "    <tr>\n",
              "      <th>3</th>\n",
              "      <td>SOHTKMO12AB01843B0</td>\n",
              "      <td>Catch You Baby (Steve Pitron &amp; Max Sanna Radio...</td>\n",
              "    </tr>\n",
              "    <tr>\n",
              "      <th>4</th>\n",
              "      <td>SODQZCY12A6D4F9D11</td>\n",
              "      <td>El Cuatrero</td>\n",
              "    </tr>\n",
              "  </tbody>\n",
              "</table>\n",
              "</div>"
            ],
            "text/plain": [
              "              song_id                                            release\n",
              "0  SOBONKR12A58A7A7E0                                     You're The One\n",
              "1  SOEGIYH12A6D4FC0E3  Horn Concerto No. 4 in E flat K495: II. Romanc...\n",
              "2  SOFLJQZ12A6D4FADA6                                           Tive Sim\n",
              "3  SOHTKMO12AB01843B0  Catch You Baby (Steve Pitron & Max Sanna Radio...\n",
              "4  SODQZCY12A6D4F9D11                                        El Cuatrero"
            ]
          },
          "metadata": {
            "tags": []
          },
          "execution_count": 34
        }
      ]
    },
    {
      "cell_type": "code",
      "metadata": {
        "colab": {
          "base_uri": "https://localhost:8080/"
        },
        "id": "JeCd9FDKrIH-",
        "outputId": "074c4a0b-ce53-4d25-87e8-bbebcaee68d0"
      },
      "source": [
        "decode_id_song = {\n",
        "    release: i for i, release in \n",
        "    enumerate(list(df_unique_songs.set_index('song_id').loc[song_features_df.index].release))\n",
        "}\n",
        "decode_id_song"
      ],
      "execution_count": null,
      "outputs": [
        {
          "output_type": "execute_result",
          "data": {
            "text/plain": [
              "{\"'Till I Collapse\": 45,\n",
              " '(Nice Dream)': 448,\n",
              " '(You Drive Me) Crazy (The Stop Remix!)': 104,\n",
              " '(iii)': 314,\n",
              " '15 Step': 492,\n",
              " '16 Candles': 601,\n",
              " '3AM (LP Version)': 161,\n",
              " 'A Beggar On A Beach Of Gold': 672,\n",
              " 'A Rush Of Blood To The Head': 459,\n",
              " 'A-Punk (Album)': 168,\n",
              " 'Above The Clouds (Edited)': 377,\n",
              " \"Adam's Song\": 8,\n",
              " 'Aerodynamic (Daft Punk Remix)': 583,\n",
              " 'Again & Again': 394,\n",
              " 'Aghia Sophia (2008 Digital Remaster)': 450,\n",
              " \"Ain't Misbehavin\": 573,\n",
              " \"Ain't No Rest For The Wicked (Original Version)\": 251,\n",
              " 'Alejandro': 476,\n",
              " 'Alejate De Mi': 135,\n",
              " 'All Along The Watchtower': 33,\n",
              " 'All I Do Is Win (feat. T-Pain_ Ludacris_ Snoop Dogg & Rick Ross)': 661,\n",
              " 'All Star': 143,\n",
              " 'All Summer Long (Album Version)': 449,\n",
              " 'All The Right Moves': 308,\n",
              " \"All Tomorrow's Parties\": 73,\n",
              " 'All We Ever Do Is Say Goodbye': 336,\n",
              " 'Almaz': 421,\n",
              " 'Almost Lover (Album Version)': 223,\n",
              " 'Already Gone': 138,\n",
              " 'American Idiot [feat. Green Day & The Cast Of American Idiot] (Album Version)': 89,\n",
              " 'American Soldier': 668,\n",
              " 'Angie (1993 Digital Remaster)': 360,\n",
              " 'Another Day In Paradise': 294,\n",
              " 'Apologize': 127,\n",
              " 'Around The World (Radio Edit)': 216,\n",
              " 'Atrévete te te': 352,\n",
              " 'Baby Boy [feat. Beyonce]': 35,\n",
              " 'Back Against The Wall': 1,\n",
              " 'Bad Company': 660,\n",
              " 'Bad Moon Rising': 9,\n",
              " \"Baker's Blue Jay Yarn\": 270,\n",
              " 'Basic Space': 79,\n",
              " 'Beautiful_ Dirty_ Rich': 23,\n",
              " 'BedRock (Radio Edit) (feat.Lloyd)': 526,\n",
              " 'Behind The Sea [Live In Chicago]': 322,\n",
              " 'Besame': 420,\n",
              " 'Better To Reign In Hell': 455,\n",
              " 'Better Together': 575,\n",
              " 'Between Two Lungs': 375,\n",
              " 'Big Green Tractor': 125,\n",
              " 'Big Idea': 112,\n",
              " 'Big Me': 475,\n",
              " 'Bigger': 502,\n",
              " \"Bigger Isn't Better\": 620,\n",
              " 'Billionaire [feat. Bruno Mars]  (Explicit Album Version)': 423,\n",
              " 'Birthday Sex': 243,\n",
              " 'Bitter Sweet Symphony': 647,\n",
              " 'Black': 204,\n",
              " 'Black Hole Sun': 222,\n",
              " 'Bleed It Out [Live At Milton Keynes]': 68,\n",
              " 'Bleeding Love': 295,\n",
              " 'Blow Me Away': 589,\n",
              " 'Bodies': 312,\n",
              " 'Boombastic': 666,\n",
              " 'Born To Be Wild': 630,\n",
              " 'Boys Boys Boys': 481,\n",
              " \"Boys Don't Cry\": 671,\n",
              " 'Boys Will Be Boys': 465,\n",
              " 'Brave The Elements': 439,\n",
              " 'Breakdown': 249,\n",
              " 'Breakeven': 98,\n",
              " \"Breakfast At Tiffany's\": 28,\n",
              " 'Breathe': 626,\n",
              " 'Bring Me To Life': 354,\n",
              " 'Brothers & Sisters': 144,\n",
              " 'Bubble Toes': 491,\n",
              " 'Bubbly': 642,\n",
              " 'Buddy Holly': 37,\n",
              " 'Bulletproof': 301,\n",
              " 'Burden In My Hand': 663,\n",
              " 'Burn It To The Ground (Album Version)': 328,\n",
              " 'CIEÑ': 407,\n",
              " \"California Dreamin'\": 639,\n",
              " 'Californication (Album Version)': 355,\n",
              " 'Call On Me': 551,\n",
              " 'Canada': 425,\n",
              " 'Cape Cod Kwassa Kwassa (Album)': 399,\n",
              " 'Caring Is Creepy': 397,\n",
              " 'Catch You Baby (Steve Pitron & Max Sanna Radio Edit)': 194,\n",
              " 'Chasing Cars': 364,\n",
              " 'Check On It': 277,\n",
              " 'Check Yes Juliet': 113,\n",
              " 'Chicken Fried (Album)': 255,\n",
              " 'Civil War': 560,\n",
              " 'Clint Eastwood (Ed Case/Sweetie Irie Refix) (Edit)': 263,\n",
              " 'Clocks': 78,\n",
              " 'Closer': 160,\n",
              " 'Coda': 512,\n",
              " 'Cold As You': 571,\n",
              " 'Come As You Are': 91,\n",
              " 'Come Fly With Me (Album Version)': 346,\n",
              " 'Common Denominator': 229,\n",
              " 'Constellations': 53,\n",
              " 'Cooler Than Me': 46,\n",
              " 'Corrido de Boxeo': 20,\n",
              " 'Cosmic Love': 649,\n",
              " 'Costruire': 539,\n",
              " 'Cousins': 462,\n",
              " 'Crack A Bottle': 163,\n",
              " 'Crawling (Album Version)': 114,\n",
              " 'Crazy': 195,\n",
              " 'Crazy Bitch (Album Version)': 472,\n",
              " 'Crazy Little Thing Called Love (Album Version)': 49,\n",
              " 'Creep (Explicit)': 418,\n",
              " 'Creil City': 72,\n",
              " 'Crumpshit': 219,\n",
              " 'Cry Me A River': 652,\n",
              " 'Cudi Zone': 120,\n",
              " 'DARE': 329,\n",
              " 'DONTTRUSTME [BENNYBLANCOREMIX] FEATURINGKIDCUDI (Explicit Bonus Version)': 119,\n",
              " 'DVNO': 414,\n",
              " 'Daft Punk Is Playing At My House': 228,\n",
              " 'Dance_ Dance': 247,\n",
              " 'Dans Ma Bulle (Edit Radio - Live 2006)': 196,\n",
              " \"Day 'N' Nite\": 616,\n",
              " 'Demasiado Bueno': 170,\n",
              " 'Demon': 388,\n",
              " 'Die Kunst der Fuge_ BWV 1080 (2007 Digital Remaster): Contrapunctus XVII - Inversus': 61,\n",
              " 'Digital Love': 132,\n",
              " 'Do I': 634,\n",
              " 'Do You Remember': 529,\n",
              " 'Dog Days Are Over (Radio Edit)': 27,\n",
              " 'Dollhouse': 238,\n",
              " \"Don't Cha\": 499,\n",
              " \"Don't Cry (Original)\": 16,\n",
              " \"Don't Matter\": 613,\n",
              " \"Don't Panic\": 536,\n",
              " \"Don't Speak\": 77,\n",
              " \"Don't Start Me Talkin'\": 63,\n",
              " \"Don't Stop The Music\": 272,\n",
              " \"Don't Worry Be Happy\": 669,\n",
              " 'Down On The Corner': 81,\n",
              " 'Down To Earth': 140,\n",
              " 'Dream On': 618,\n",
              " 'Dreams-Come-True-Girl': 561,\n",
              " 'Drive': 550,\n",
              " 'Drop The World': 568,\n",
              " 'Drops Of Jupiter': 592,\n",
              " 'Drunken Lullabies': 530,\n",
              " 'Du Hast': 504,\n",
              " 'Dust in The Wind': 444,\n",
              " 'Eenie Meenie': 167,\n",
              " 'Electric Avenue': 489,\n",
              " 'Electric Feel': 645,\n",
              " 'Elephant Gun': 189,\n",
              " 'Empire State Of Mind (Part II) Broken Down': 537,\n",
              " 'Empty Skies': 101,\n",
              " \"En Glad Calypso Om Våren (Live '62)\": 370,\n",
              " 'Enter Sandman': 65,\n",
              " 'Epilogue': 543,\n",
              " 'Everlong': 648,\n",
              " 'Every Lasting Light': 433,\n",
              " 'Every Little Thing She Does Is Magic': 625,\n",
              " 'Everything': 83,\n",
              " 'Everytime': 406,\n",
              " 'Everywhere I Go': 276,\n",
              " 'Eye Of The Tiger': 283,\n",
              " 'Face Down (Album Version)': 387,\n",
              " 'Fader': 11,\n",
              " 'Fakty': 597,\n",
              " 'Fancy Footwork': 482,\n",
              " 'Far Away (Album Version)': 149,\n",
              " 'Favorite Girl': 677,\n",
              " 'Feeling This': 76,\n",
              " 'Feuer Frei': 479,\n",
              " 'Fight For Your Life': 260,\n",
              " 'Find You Waiting': 381,\n",
              " 'Fireflies': 286,\n",
              " 'Firestarter': 183,\n",
              " 'First Dance': 664,\n",
              " 'First Day Of My Life (Single Version)': 463,\n",
              " 'Fix You': 602,\n",
              " 'Flake': 369,\n",
              " 'Flashing Lights': 384,\n",
              " 'Float On': 358,\n",
              " 'Flume': 235,\n",
              " 'Follow Me (Explicit LP Version)': 516,\n",
              " 'For Once In My Life (Album Version)': 675,\n",
              " 'Forever': 510,\n",
              " 'Forever & Always': 334,\n",
              " 'Forgive Me': 330,\n",
              " 'Forgot About Dre': 410,\n",
              " 'Fortunate Son': 307,\n",
              " 'Found Home': 435,\n",
              " 'Frank Sinatra': 622,\n",
              " 'Frenchy\\x19s': 353,\n",
              " \"Frisch und g'sund\": 287,\n",
              " 'Fuck Kitty': 232,\n",
              " 'Funkytown': 454,\n",
              " 'Gears': 554,\n",
              " \"Ghosts 'n' Stuff (Original Instrumental Mix)\": 121,\n",
              " 'Gimme Sympathy': 115,\n",
              " 'Girl Money': 64,\n",
              " 'Girls Just Want To Have Fun': 566,\n",
              " 'Give It Back': 344,\n",
              " 'Give It To Me': 129,\n",
              " 'Given Up (Album Version)': 603,\n",
              " 'Gives You Hell': 165,\n",
              " 'Glitter In The Air': 102,\n",
              " 'Go Your Own Way (LP Version)': 396,\n",
              " 'Gold Guns Girls': 559,\n",
              " 'Good Girls Go Bad (Feat.Leighton Meester) (Album Version)': 337,\n",
              " 'Good Life': 655,\n",
              " 'Goodnight Bad Morning': 341,\n",
              " 'Grace Kelly': 29,\n",
              " 'Greece 2000': 685,\n",
              " 'Gunn Clapp': 166,\n",
              " 'Gunpowder & Lead': 434,\n",
              " \"Hailie's Song\": 403,\n",
              " 'Half Of My Heart': 643,\n",
              " 'Hallelujah': 67,\n",
              " 'Halo': 3,\n",
              " 'Handlebars (UK Radio Edit)': 58,\n",
              " 'Harder Better Faster Stronger': 7,\n",
              " 'Have You Ever Seen The Rain': 262,\n",
              " 'Heads Will Roll': 665,\n",
              " 'Heart Shaped Box': 297,\n",
              " 'Heartbeats': 213,\n",
              " 'Heartbreak Warfare': 541,\n",
              " 'Heaven': 576,\n",
              " 'Heaven Must Be Missing An Angel': 317,\n",
              " 'Helena (So Long & Goodnight) (Album Version)': 309,\n",
              " \"Help I'm Alive\": 117,\n",
              " 'Here Without You': 382,\n",
              " 'Here_ There And Everywhere': 402,\n",
              " 'Hero': 659,\n",
              " 'Hero (Album Version)': 246,\n",
              " 'Hey': 57,\n",
              " \"Hey Daddy (Daddy's Home)\": 311,\n",
              " 'Hey Mama': 569,\n",
              " 'Hey Stephen': 290,\n",
              " 'Hey There Delilah': 145,\n",
              " 'Hey_ Soul Sister': 96,\n",
              " 'Hide & Seek': 483,\n",
              " 'Highway 20 Ride (Album)': 5,\n",
              " \"Hips Don't Lie (featuring Wyclef Jean)\": 110,\n",
              " 'Hochmah (Interlude)': 105,\n",
              " 'Home': 524,\n",
              " 'Home (Album Version)': 191,\n",
              " 'Homecoming': 230,\n",
              " 'Horn Concerto No. 4 in E flat K495: II. Romance (Andante cantabile)': 108,\n",
              " 'Hotel California': 107,\n",
              " 'How Long': 389,\n",
              " 'How You Remind Me': 265,\n",
              " 'Howlin\\x19 For You': 587,\n",
              " 'Human': 405,\n",
              " 'Hypnopaedia': 239,\n",
              " 'Hypnotize(Album Version)': 271,\n",
              " \"I CAN'T GET STARTED\": 556,\n",
              " 'I Can Dance': 150,\n",
              " 'I Get Joy': 240,\n",
              " 'I Gotta Feeling': 632,\n",
              " 'I Hate Everything About You': 2,\n",
              " 'I Hate Pretending (Album Version)': 325,\n",
              " 'I Kissed A Girl': 359,\n",
              " 'I Need A Dollar': 109,\n",
              " 'I Never Told You': 298,\n",
              " 'I Second That Emotion': 442,\n",
              " \"I Think I'll Live\": 400,\n",
              " 'I Wanna Be Sedated (Remastered Album Version )': 326,\n",
              " 'I Want You': 404,\n",
              " 'I Will Follow You into the Dark (Album Version)': 398,\n",
              " \"I'll Be Missing You (Featuring Faith Evans & 112)(Album Version)\": 231,\n",
              " \"I'll Be Your Man\": 292,\n",
              " \"I'm Not Calling You A Liar\": 214,\n",
              " \"I'm Not Okay (I Promise) (Live From Sessions@AOL)\": 413,\n",
              " \"I'm On A Boat\": 419,\n",
              " \"I'm Only Me When I'm With You\": 15,\n",
              " \"I'm Still Breathing\": 6,\n",
              " \"I'm With You\": 118,\n",
              " 'Ice Ice Baby (Radio Edit)': 95,\n",
              " \"If I Ain't Got You\": 457,\n",
              " 'If I Had You': 224,\n",
              " 'If I Never See Your Face Again': 531,\n",
              " 'If It Means A Lot To You': 458,\n",
              " \"If It's Love\": 636,\n",
              " 'If We Ever Meet Again': 363,\n",
              " 'If You Want To Sing Out_ Sing Out': 582,\n",
              " 'Ignorance (Album Version)': 236,\n",
              " 'Imma Be': 32,\n",
              " 'In My Place': 335,\n",
              " 'In One Ear': 432,\n",
              " 'In The End (Album Version)': 427,\n",
              " 'Infinity': 517,\n",
              " 'Inside The Fire (Album Version)': 443,\n",
              " 'Interactive Halloween Bear': 258,\n",
              " 'Intergalactic': 415,\n",
              " 'Invalid': 542,\n",
              " 'Ironic (Acoustic Album Version)': 429,\n",
              " 'Is This It': 469,\n",
              " 'Island In The Sun': 48,\n",
              " 'It Was A Good Day': 278,\n",
              " \"It's My Life\": 627,\n",
              " \"It's My Own Fault\": 193,\n",
              " 'Jamaica Roots II(Agora E Sempre)': 88,\n",
              " 'Jambalaya': 509,\n",
              " 'Jesus Walks': 534,\n",
              " 'Jumping Jack Flash': 13,\n",
              " 'Just Dance': 139,\n",
              " 'Just Lose It': 574,\n",
              " 'Karma Police': 185,\n",
              " 'Keep The Car Running': 40,\n",
              " 'Killing In The Name': 495,\n",
              " 'Kiss (LP Version)': 126,\n",
              " 'Kiss With A Fist': 180,\n",
              " 'Knocked Up': 173,\n",
              " 'Knocking On Forbidden Doors': 19,\n",
              " 'Kryptonite': 293,\n",
              " 'LDN': 514,\n",
              " 'La Despedida': 391,\n",
              " 'Lady Marmalade': 662,\n",
              " 'Lasso': 684,\n",
              " 'Le Courage Des Oiseaux': 36,\n",
              " \"Le Jardin d'Hiver\": 316,\n",
              " 'Le Soir': 424,\n",
              " 'Learn To Fly': 82,\n",
              " \"Let's Get It On\": 682,\n",
              " \"Let's Get It Started\": 62,\n",
              " 'Life In Technicolor ii': 206,\n",
              " 'Lights & Music': 92,\n",
              " 'Like A Boss': 221,\n",
              " 'Lips Of An Angel': 248,\n",
              " 'Lithium': 357,\n",
              " 'Live And Let Die': 302,\n",
              " \"Live Like We're Dying\": 256,\n",
              " 'Lively Up Yourself': 303,\n",
              " \"Livin' On A Prayer\": 164,\n",
              " 'Lost!': 392,\n",
              " 'Loud Pipes': 128,\n",
              " 'Love Me': 172,\n",
              " 'Love Of My Life (1993 Digital Remaster)': 588,\n",
              " 'Love Shack': 245,\n",
              " 'Love Song': 518,\n",
              " 'Love Story': 528,\n",
              " 'Lucky (Album Version)': 42,\n",
              " 'Lullaby': 494,\n",
              " 'Luv Me_ Luv Me': 254,\n",
              " 'Luvstruck': 47,\n",
              " 'Make Her Say': 519,\n",
              " 'Make It Mine (Album Version)': 383,\n",
              " 'Make Love To Your Mind': 540,\n",
              " 'Man In The Box': 313,\n",
              " 'Manhattan': 237,\n",
              " 'Mardy Bum': 282,\n",
              " 'Marry Me': 527,\n",
              " 'Marshall Examines His Carcass': 190,\n",
              " 'Masquerade (Reality Check Album Version)': 651,\n",
              " 'Master Of Puppets': 484,\n",
              " 'Matricide': 486,\n",
              " 'May It Be (Album version)': 111,\n",
              " 'Maybe': 296,\n",
              " 'Me & Mr Jones': 244,\n",
              " 'Mercy:The Laundromat': 464,\n",
              " 'Message In A Bottle': 210,\n",
              " 'Mia': 97,\n",
              " 'Microdaze': 610,\n",
              " 'Missing You': 156,\n",
              " \"Moar Ghosts 'n' Stuff\": 501,\n",
              " 'Mockingbird': 199,\n",
              " \"Molly's Chambers\": 157,\n",
              " 'Monster': 133,\n",
              " 'Monster (Album Version)': 380,\n",
              " 'More Than A Feeling': 351,\n",
              " 'More Than Words': 75,\n",
              " 'Move Along': 14,\n",
              " 'Mr. Jones': 362,\n",
              " 'Mrs. Officer': 152,\n",
              " 'Ms. Jackson': 299,\n",
              " 'My Boy Builds Coffins': 538,\n",
              " \"My Dad's Gone Crazy\": 154,\n",
              " 'My First Kiss (Feat. Ke$ha) [Album Version]': 386,\n",
              " 'My Happy Ending': 80,\n",
              " 'My Heart Will Go On': 533,\n",
              " 'My Humps': 565,\n",
              " 'My Immortal (Album Version)': 220,\n",
              " 'My Moon My Man': 10,\n",
              " 'My Name Is': 385,\n",
              " 'My Sacrifice': 570,\n",
              " 'Na Vi': 71,\n",
              " 'Nah!': 30,\n",
              " 'Naive': 321,\n",
              " 'Nantes': 521,\n",
              " 'Natural Anthem (Album)': 266,\n",
              " 'Naturally': 51,\n",
              " 'Neighborhood #1 (Tunnels)': 69,\n",
              " 'Neon': 470,\n",
              " 'Never Gonna Be Alone (Album Version)': 159,\n",
              " 'Never Know': 338,\n",
              " 'Never Let You Go': 545,\n",
              " 'New Divide (Album Version)': 422,\n",
              " 'New Soul': 142,\n",
              " 'No Air duet with Chris Brown': 498,\n",
              " 'No Cars Go': 217,\n",
              " 'No One': 158,\n",
              " \"No One's Gonna Love You (Album)\": 376,\n",
              " 'No Rain': 623,\n",
              " 'No Surprise': 467,\n",
              " 'No. 5': 39,\n",
              " 'Non E_ Per Te_ Per Me': 198,\n",
              " 'Not Fair (Clean Radio Edit)': 148,\n",
              " \"Nothin' On You [feat. Bruno Mars] (Album Version)\": 552,\n",
              " 'Nothing Better (Album)': 134,\n",
              " \"Now I'm High_ Really High\": 26,\n",
              " \"Now You're Gone\": 318,\n",
              " 'OMG': 562,\n",
              " 'Ocean Avenue': 269,\n",
              " 'Octavo Día': 546,\n",
              " 'On Melancholy Hill': 658,\n",
              " 'One': 674,\n",
              " 'One Headlight': 356,\n",
              " 'One Less Lonely Girl': 598,\n",
              " 'One Minute To Midnight': 66,\n",
              " 'One More Time (Short Radio Edit)': 331,\n",
              " 'One Step Closer (Album Version)': 305,\n",
              " 'One Time': 100,\n",
              " 'Opposite Of Adults': 555,\n",
              " 'Orange Trägt Nur Die Müllabfuhr (Go West)': 348,\n",
              " 'Otherside (Album Version)': 468,\n",
              " 'Our Song': 567,\n",
              " 'Overboard': 304,\n",
              " 'Oxford Comma (Album)': 136,\n",
              " 'Paint The Town Red': 416,\n",
              " 'Paper Gangsta': 106,\n",
              " 'Paper Planes': 558,\n",
              " 'Paradise City': 440,\n",
              " 'Party In The U.S.A.': 590,\n",
              " 'Patience': 182,\n",
              " 'Perfectly Lonely': 513,\n",
              " 'Piano Concerto No. 2 in G minor Op. 22 (2006 Digital Remaster): III.  Presto': 209,\n",
              " 'Picture': 178,\n",
              " 'Politik': 493,\n",
              " 'Proud Mary': 471,\n",
              " 'Provider': 408,\n",
              " 'Prête A Porter': 250,\n",
              " 'Psychotic Girl': 281,\n",
              " 'Pump It': 320,\n",
              " 'Pursuit Of Happiness (nightmare)': 417,\n",
              " 'Put Your Records On': 306,\n",
              " 'ROCKSTAR 101': 657,\n",
              " 'Rabbit Heart (Raise It Up)': 393,\n",
              " 'Rain': 535,\n",
              " 'Rain Is A Good Thing': 656,\n",
              " 'Rayando el sol': 347,\n",
              " 'Read My Mind': 511,\n",
              " \"Reason I'm Alive (Explicit)\": 366,\n",
              " 'Recado Falado (Metrô Da Saudade)': 342,\n",
              " 'Red Red Wine (Edit)': 431,\n",
              " 'Rehab': 116,\n",
              " 'Replay': 679,\n",
              " 'Replay (Album Version)': 611,\n",
              " 'Représente': 378,\n",
              " 'Resistance': 629,\n",
              " 'Revelry': 503,\n",
              " 'Rianna': 350,\n",
              " 'Ride The Lightning': 227,\n",
              " 'Rio': 522,\n",
              " 'Rise To The Challenge': 606,\n",
              " 'Rising Moon': 451,\n",
              " 'Robot Soul (Radio Edit)': 505,\n",
              " 'Rock And Roll All Nite': 466,\n",
              " 'Rock Star': 617,\n",
              " \"Rockin' Rollin' Stone\": 593,\n",
              " 'Roger That': 686,\n",
              " \"Rollin' (Air Raid Vehicle)\": 285,\n",
              " 'Rorol': 17,\n",
              " 'Runaway Love': 103,\n",
              " 'S.O.S.': 55,\n",
              " 'STARSTRUKK [FEATURINGKATYPERRY] (Explicit Bonus Version)': 0,\n",
              " 'Sala De Recepção': 644,\n",
              " 'Sample Track 2': 300,\n",
              " 'Sandstorm': 563,\n",
              " 'Satisfaction': 226,\n",
              " 'Savior': 547,\n",
              " \"Say It Ain't So\": 372,\n",
              " 'Say What You Say': 130,\n",
              " 'Sayonara-Nostalgia': 436,\n",
              " 'Second Chance (Album Version)': 474,\n",
              " 'Secrets': 367,\n",
              " 'Sehr kosmisch': 146,\n",
              " 'Seven Nation Army': 24,\n",
              " 'Sexy Bitch': 349,\n",
              " 'Señorita': 155,\n",
              " 'She Loves You': 680,\n",
              " \"She's Everything\": 619,\n",
              " 'Shiver': 500,\n",
              " 'Shots': 253,\n",
              " 'Shoulder to shoulder 2009': 496,\n",
              " 'Silence': 197,\n",
              " 'Silent Lucidity (2002 Digital Remaster)': 452,\n",
              " 'Simple': 280,\n",
              " 'Sincerité Et Jalousie': 44,\n",
              " 'Sinisten tähtien alla': 323,\n",
              " 'Skinny Love': 515,\n",
              " 'Sleepyhead': 487,\n",
              " 'Slow Dancing In A Burning Room': 187,\n",
              " 'Slow Jamz (Feat. Kanye West & Jamie Foxx) (Edited Album Version)': 279,\n",
              " 'Smile (Explicit Version)': 411,\n",
              " 'Smile Like You Mean It': 259,\n",
              " 'Smooth Criminal': 373,\n",
              " 'Snow [Hey Oh] (Album Version)': 208,\n",
              " 'Somebody To Love': 94,\n",
              " 'Somebody Told Me': 273,\n",
              " 'Someday': 99,\n",
              " 'Something (Album Version)': 584,\n",
              " 'Songs Of The Season': 456,\n",
              " 'Sorrow (1997 Digital Remaster)': 87,\n",
              " 'Sparks': 291,\n",
              " 'Speak': 175,\n",
              " 'Speechless': 635,\n",
              " 'Speed Of Sound': 548,\n",
              " 'Spell': 395,\n",
              " 'Starlight': 225,\n",
              " 'Stay': 41,\n",
              " 'Strawberry Swing': 131,\n",
              " 'Stronger': 461,\n",
              " 'Strut (1993 Digital Remaster)': 361,\n",
              " 'Stuck In The Moment': 507,\n",
              " 'Such Great Heights': 12,\n",
              " 'Sugar Ray (LP Version)': 289,\n",
              " \"Sugar_ We're Goin Down\": 615,\n",
              " 'Superballs': 577,\n",
              " 'Superman': 177,\n",
              " 'Supermassive Black Hole (Twilight Soundtrack Version)': 233,\n",
              " 'Superstar (featuring Matthew Santos) (Album Version)': 447,\n",
              " 'Superstition': 234,\n",
              " 'Surf Wax America': 621,\n",
              " 'Sway (Album Version)': 579,\n",
              " 'Sweet And Wild': 90,\n",
              " 'Sweet Dreams': 477,\n",
              " 'Sweet home Alabama': 585,\n",
              " 'Swing Life Away': 441,\n",
              " 'Swing_ Swing': 678,\n",
              " 'Take A Bow': 453,\n",
              " 'Take Me Out': 640,\n",
              " 'Taylor': 181,\n",
              " 'Te Amo': 202,\n",
              " 'Teach Me How To Dougie': 506,\n",
              " 'Tears In Heaven': 488,\n",
              " 'Tenuousness': 124,\n",
              " 'Terre Promise': 192,\n",
              " 'Thank You': 653,\n",
              " 'That Should Be Me': 207,\n",
              " 'The Bachelor and the Bride': 371,\n",
              " 'The Bad Touch': 426,\n",
              " 'The Ballad of Michael Valentine': 38,\n",
              " 'The Beautiful People': 638,\n",
              " 'The Big Gundown': 580,\n",
              " 'The Climb': 549,\n",
              " 'The District Sleeps Alone Tonight (Album)': 188,\n",
              " 'The Downfall Of Us All': 480,\n",
              " 'The Fear': 646,\n",
              " 'The Funeral (Album Version)': 122,\n",
              " 'The General': 428,\n",
              " 'The Gift': 508,\n",
              " 'The Invisible Man': 84,\n",
              " 'The Joker': 374,\n",
              " 'The Kids Don\\x19t Stand A Chance (Album)': 633,\n",
              " 'The Kindness Of Strangers': 319,\n",
              " 'The Maestro': 327,\n",
              " 'The Man Who Sold The World': 74,\n",
              " 'The Memory Remains': 137,\n",
              " 'The Middle': 473,\n",
              " 'The News': 553,\n",
              " 'The Next Episode': 673,\n",
              " 'The Only Exception (Album Version)': 274,\n",
              " 'The Pretender': 445,\n",
              " 'The Real Slim Shady': 267,\n",
              " \"The Remedy (I Won't Worry) (New EQ'd LP Version)\": 523,\n",
              " 'The Saltwater Room': 31,\n",
              " 'The Scientist': 264,\n",
              " 'The Want Ad': 162,\n",
              " 'The Way I Are': 86,\n",
              " 'The Way Things Go': 578,\n",
              " 'There Goes My Baby': 343,\n",
              " 'There Is A Light That Never Goes Out': 609,\n",
              " 'They Might Follow You': 50,\n",
              " 'Thinking Of You': 437,\n",
              " 'This Afternoon (Album Version)': 594,\n",
              " 'Thriller': 340,\n",
              " 'Through The Fire And Flames (Album Version)': 215,\n",
              " 'Through The Wire': 205,\n",
              " 'Tie Me Down [feat. Ray J] (Amended Album Version)': 268,\n",
              " 'Tied Together With A Smile': 59,\n",
              " 'Tighten Up': 572,\n",
              " 'Tim McGraw': 70,\n",
              " 'Time To Pretend': 612,\n",
              " 'Times Like These': 123,\n",
              " 'Tive Sim': 141,\n",
              " 'Too Shy': 544,\n",
              " 'Toxic': 564,\n",
              " 'Transparency': 379,\n",
              " 'Trouble': 670,\n",
              " 'Try Sleeping With A Broken Heart': 586,\n",
              " 'Two Is Better Than One': 241,\n",
              " 'Tú': 681,\n",
              " \"U Can't Touch This\": 261,\n",
              " 'U Smile': 153,\n",
              " 'Un Beso de Desayuno': 595,\n",
              " 'Una Confusion': 604,\n",
              " 'Under Pressure': 687,\n",
              " 'Under The Bridge (Album Version)': 186,\n",
              " 'Under The Gun': 54,\n",
              " 'Undo': 25,\n",
              " 'Unite (2009 Digital Remaster)': 641,\n",
              " 'Until The End Of Time': 332,\n",
              " 'Unwell (Album Version)': 218,\n",
              " 'Up': 252,\n",
              " 'Up Up & Away': 22,\n",
              " 'Uprising': 18,\n",
              " 'Use Somebody': 599,\n",
              " 'Valerie': 478,\n",
              " 'Vanilla Twilight': 169,\n",
              " 'Verde Que Te Quero Rosa': 628,\n",
              " 'Victoria (LP Version)': 485,\n",
              " 'Video Killed The Radio Star': 591,\n",
              " 'Voices On A String (Album Version)': 676,\n",
              " 'Volveré': 624,\n",
              " 'VÁNDORMADÁR': 600,\n",
              " 'Wait And Bleed (Album Version)': 608,\n",
              " 'Waiting On The World To Change': 581,\n",
              " 'Walk This Way': 56,\n",
              " 'Walking On The Moon': 174,\n",
              " 'Waterfall': 409,\n",
              " 'Waters Of Nazareth (album version)': 200,\n",
              " \"Wavin'  Flag\": 525,\n",
              " 'We Belong Together': 60,\n",
              " \"We Don't Stop (Explicit)\": 412,\n",
              " 'Welcome To The Black Parade (Album Version)': 446,\n",
              " 'West One (Shine On Me)': 179,\n",
              " 'What Goes Around...Comes Around': 339,\n",
              " \"What I've Done (Album Version)\": 242,\n",
              " 'What If (Album Version)': 460,\n",
              " 'What If (Film Version)': 171,\n",
              " 'What They Found': 520,\n",
              " 'What We Do (Explicit) (Feat. Memphis Bleek)': 667,\n",
              " 'What You Know': 345,\n",
              " \"What's Up?\": 557,\n",
              " 'Whataya Want From Me': 85,\n",
              " 'Whatcha Say': 607,\n",
              " 'When I Grow Up': 614,\n",
              " \"When I'm Gone\": 284,\n",
              " 'When You Feel The Mess': 201,\n",
              " 'When You Were Young': 683,\n",
              " 'Where I Stand': 184,\n",
              " 'Where Is My Mind?': 34,\n",
              " 'Who Can Compare': 315,\n",
              " \"Who's Real\": 637,\n",
              " 'Wild World': 438,\n",
              " 'Wish': 333,\n",
              " 'With Or Without You': 211,\n",
              " 'Without Me': 605,\n",
              " 'Woman': 490,\n",
              " 'Word Up!': 650,\n",
              " 'Yeah!': 212,\n",
              " 'Yellow': 430,\n",
              " 'Yellow Ledbetter': 257,\n",
              " 'Yesterday Once More': 288,\n",
              " 'You And Me (Wedding Version)': 21,\n",
              " 'You And Me Jesus': 4,\n",
              " 'You And Your Heart': 151,\n",
              " 'You Belong With Me': 497,\n",
              " 'You Could Be Mine': 532,\n",
              " 'You Get What You Give': 368,\n",
              " 'You Give Love A Bad Name': 390,\n",
              " \"You Know I'm No Good\": 310,\n",
              " 'You Learn (Album Version)': 324,\n",
              " 'You Never Miss The Water Until The Well Runs Dry': 176,\n",
              " \"You'll Be In My Heart\": 365,\n",
              " \"You'll Never Know (My Love) (Bovellian 07 Mix)\": 203,\n",
              " \"You're The One\": 43,\n",
              " \"You've Got The Love\": 401,\n",
              " 'Young': 654,\n",
              " 'Your Guardian Angel': 596,\n",
              " 'Your Hand In Mine': 631,\n",
              " 'Your Touch': 147}"
            ]
          },
          "metadata": {
            "tags": []
          },
          "execution_count": 35
        }
      ]
    },
    {
      "cell_type": "markdown",
      "metadata": {
        "id": "CG9amHPW3Orh"
      },
      "source": [
        "- **FuzzyWuzzy** is a library of Python which is used for string matching. \n",
        "- Fuzzy string matching is the process of finding strings that match a given pattern. \n",
        "- Basically it uses Levenshtein Distance to calculate the differences between sequences"
      ]
    },
    {
      "cell_type": "markdown",
      "metadata": {
        "id": "7JiDrnlW3X5K"
      },
      "source": [
        "**Creating the Model named Recommender using the NearestNeighbors Algorithm**"
      ]
    },
    {
      "cell_type": "markdown",
      "metadata": {
        "id": "hI-lfzVD3nzI"
      },
      "source": [
        "###  **ITEM - ITEM**"
      ]
    },
    {
      "cell_type": "code",
      "metadata": {
        "cellView": "form",
        "id": "G4DOb4Br2WHa"
      },
      "source": [
        "#@title\n",
        "class Recommender:\n",
        "    def __init__(self, metric, algorithm, k, data, decode_id_song):\n",
        "        self.metric = metric\n",
        "        self.algorithm = algorithm\n",
        "        self.k = k\n",
        "        self.data = data\n",
        "        self.decode_id_song = decode_id_song\n",
        "        self.data = data\n",
        "        self.model = self._recommender().fit(data)\n",
        "    \n",
        "    def make_recommendation(self, new_song, n_recommendations):\n",
        "        recommended = self._recommend(new_song=new_song, n_recommendations=n_recommendations)\n",
        "        print(\"... Done\")\n",
        "        return recommended \n",
        "    \n",
        "    def _recommender(self):\n",
        "        return NearestNeighbors(metric=self.metric, algorithm=self.algorithm, n_neighbors=self.k, n_jobs=-1)\n",
        "    \n",
        "    def _recommend(self, new_song, n_recommendations):\n",
        "        # Get the id of the recommended songs\n",
        "        recommendations = []\n",
        "        recommendation_ids = self._get_recommendations(new_song=new_song, n_recommendations=n_recommendations)\n",
        "        # return the name of the song using a mapping dictionary\n",
        "        recommendations_map = self._map_indeces_to_song_title(recommendation_ids)\n",
        "        # Translate this recommendations into the ranking of song titles recommended\n",
        "        for i, (idx, dist) in enumerate(recommendation_ids):\n",
        "            recommendations.append(recommendations_map[idx])\n",
        "        return recommendations\n",
        "                 \n",
        "    def _get_recommendations(self, new_song, n_recommendations):\n",
        "        # Get the id of the song according to the text\n",
        "        recom_song_id = self._fuzzy_matching(song=new_song)\n",
        "        # Start the recommendation process\n",
        "        print(f\"Starting the recommendation process for {new_song} ...\")\n",
        "        # Return the n neighbors for the song id\n",
        "        distances, indices = self.model.kneighbors(self.data[recom_song_id], n_neighbors=n_recommendations+1)\n",
        "        return sorted(list(zip(indices.squeeze().tolist(), distances.squeeze().tolist())), key=lambda x: x[1])[:0:-1]\n",
        "    \n",
        "    def _map_indeces_to_song_title(self, recommendation_ids):\n",
        "        # get reverse mapper\n",
        "        return {song_id: song_title for song_title, song_id in self.decode_id_song.items()}\n",
        "    \n",
        "    def _fuzzy_matching(self, song):\n",
        "        match_tuple = []\n",
        "        # get match\n",
        "        for title, idx in self.decode_id_song.items():\n",
        "            ratio = fuzz.ratio(title.lower(), song.lower())\n",
        "            if ratio >= 60:\n",
        "                match_tuple.append((title, idx, ratio))\n",
        "        # sort\n",
        "        match_tuple = sorted(match_tuple, key=lambda x: x[2])[::-1]\n",
        "        if not match_tuple:\n",
        "            print(f\"The recommendation system could not find a match for {song}\")\n",
        "            return\n",
        "        return match_tuple[0][1]"
      ],
      "execution_count": null,
      "outputs": []
    },
    {
      "cell_type": "markdown",
      "metadata": {
        "id": "Yp_26QiL3gOQ"
      },
      "source": [
        "Training the Model with csr matrix of the pivot table of song_id and user_id and passing with \"cosine\" metric for the NearestNeighbour with \"brute\" algorithm"
      ]
    },
    {
      "cell_type": "markdown",
      "metadata": {
        "id": "kwEQNWkC3nkj"
      },
      "source": [
        ""
      ]
    },
    {
      "cell_type": "code",
      "metadata": {
        "colab": {
          "base_uri": "https://localhost:8080/"
        },
        "id": "TpG7qM3_3dXP",
        "outputId": "8a1aeb4a-dd4f-4b29-fe9a-80b57fce36e1"
      },
      "source": [
        "model = Recommender(metric='cosine', algorithm='brute', k=20, data=matrix_songs_features, decode_id_song=decode_id_song)\n",
        "model"
      ],
      "execution_count": null,
      "outputs": [
        {
          "output_type": "execute_result",
          "data": {
            "text/plain": [
              "<__main__.Recommender at 0x7f448a9a3950>"
            ]
          },
          "metadata": {
            "tags": []
          },
          "execution_count": 37
        }
      ]
    },
    {
      "cell_type": "markdown",
      "metadata": {
        "id": "GW6bAEIK3rjQ"
      },
      "source": [
        "**Selecting A Release Of Song And Wanted 10 Recommendation Of That Song**"
      ]
    },
    {
      "cell_type": "code",
      "metadata": {
        "colab": {
          "base_uri": "https://localhost:8080/"
        },
        "id": "vQcpC84w3cVi",
        "outputId": "f39c8571-d031-4ab3-e29c-c4f9e6cc8183"
      },
      "source": [
        "release=random.choice(list(decode_id_song.keys()))\n",
        "no_of_recommendations=10\n",
        "print(f\"Let's Find the recommendations of \\\"{release}\\\"\")"
      ],
      "execution_count": null,
      "outputs": [
        {
          "output_type": "stream",
          "text": [
            "Let's Find the recommendations of \"Hypnotize(Album Version)\"\n"
          ],
          "name": "stdout"
        }
      ]
    },
    {
      "cell_type": "markdown",
      "metadata": {
        "id": "gnaG_3Ru36Iv"
      },
      "source": [
        "**Getting The Recommendation From The Model**"
      ]
    },
    {
      "cell_type": "code",
      "metadata": {
        "colab": {
          "base_uri": "https://localhost:8080/"
        },
        "id": "-urNutkt32v5",
        "outputId": "a125d6b6-f54f-4b2d-8597-f12e350586eb"
      },
      "source": [
        "new_recommendations = model.make_recommendation(new_song=release, n_recommendations=no_of_recommendations)"
      ],
      "execution_count": null,
      "outputs": [
        {
          "output_type": "stream",
          "text": [
            "Starting the recommendation process for Hypnotize(Album Version) ...\n",
            "... Done\n"
          ],
          "name": "stdout"
        }
      ]
    },
    {
      "cell_type": "markdown",
      "metadata": {
        "id": "7vs-ZLX34HcK"
      },
      "source": [
        "**Showing 10 The Recommendation For The Release Of The Song**"
      ]
    },
    {
      "cell_type": "code",
      "metadata": {
        "colab": {
          "base_uri": "https://localhost:8080/"
        },
        "id": "_I9O2Zlq4G8a",
        "outputId": "dcee767e-6969-49c0-9445-b9dff27d4608"
      },
      "source": [
        "print(f\"The recommendations for \\\"{release}\\\" are:\")\n",
        "for i in range(len(new_recommendations)):\n",
        "  print(f\"{i+1}.{new_recommendations[i]}\")"
      ],
      "execution_count": null,
      "outputs": [
        {
          "output_type": "stream",
          "text": [
            "The recommendations for \"Hypnotize(Album Version)\" are:\n",
            "1.Someday\n",
            "2.Pursuit Of Happiness (nightmare)\n",
            "3.Drop The World\n",
            "4.Horn Concerto No. 4 in E flat K495: II. Romance (Andante cantabile)\n",
            "5.OMG\n",
            "6.I'm On A Boat\n",
            "7.Paradise City\n",
            "8.Electric Avenue\n",
            "9.In The End (Album Version)\n",
            "10.Crawling (Album Version)\n"
          ],
          "name": "stdout"
        }
      ]
    },
    {
      "cell_type": "markdown",
      "metadata": {
        "id": "H_lPHzG232xD"
      },
      "source": [
        "### **USER-USER**"
      ]
    },
    {
      "cell_type": "code",
      "metadata": {
        "id": "MuPsjDKx4DGI"
      },
      "source": [
        "user_features_df = _dfsong_features_df = song_features_df.T"
      ],
      "execution_count": null,
      "outputs": []
    },
    {
      "cell_type": "code",
      "metadata": {
        "colab": {
          "base_uri": "https://localhost:8080/"
        },
        "id": "Nm6ZfdzW4DJH",
        "outputId": "1e57c249-dd43-4846-f660-6e71e453e564"
      },
      "source": [
        "user_features_df_matrix = csr_matrix(user_features_df.values)\n",
        "user_features_df_matrix "
      ],
      "execution_count": null,
      "outputs": [
        {
          "output_type": "execute_result",
          "data": {
            "text/plain": [
              "<22942x688 sparse matrix of type '<class 'numpy.float64'>'\n",
              "\twith 87734 stored elements in Compressed Sparse Row format>"
            ]
          },
          "metadata": {
            "tags": []
          },
          "execution_count": 139
        }
      ]
    },
    {
      "cell_type": "code",
      "metadata": {
        "colab": {
          "base_uri": "https://localhost:8080/"
        },
        "id": "ahLJncN74DNl",
        "outputId": "255b134b-ba89-4362-8137-ac63cb65534d"
      },
      "source": [
        "model_knn = NearestNeighbors(metric = 'cosine', algorithm = 'brute')\n",
        "model_knn.fit(user_features_df_matrix)"
      ],
      "execution_count": null,
      "outputs": [
        {
          "output_type": "execute_result",
          "data": {
            "text/plain": [
              "NearestNeighbors(algorithm='brute', leaf_size=30, metric='cosine',\n",
              "                 metric_params=None, n_jobs=None, n_neighbors=5, p=2,\n",
              "                 radius=1.0)"
            ]
          },
          "metadata": {
            "tags": []
          },
          "execution_count": 140
        }
      ]
    },
    {
      "cell_type": "code",
      "metadata": {
        "colab": {
          "base_uri": "https://localhost:8080/"
        },
        "id": "HRiqHfUz4DP4",
        "outputId": "633b7c6b-0114-433a-b134-97b22ca3ac15"
      },
      "source": [
        "query_index = np.random.choice(user_features_df.shape[0])\n",
        "print(query_index)\n",
        "distances, indices = model_knn.kneighbors(user_features_df.iloc[query_index,:].values.reshape(1, -1), n_neighbors = 11)"
      ],
      "execution_count": null,
      "outputs": [
        {
          "output_type": "stream",
          "text": [
            "13379\n"
          ],
          "name": "stdout"
        }
      ]
    },
    {
      "cell_type": "code",
      "metadata": {
        "colab": {
          "base_uri": "https://localhost:8080/"
        },
        "id": "StycUuPg4DSh",
        "outputId": "f1d2697f-4317-4543-fbf4-eb554589fba7"
      },
      "source": [
        "for i in range(0, len(distances.flatten())):\n",
        "    if i == 0:\n",
        "        print('Recommendations for {0}:\\n'.format(user_features_df.index[query_index]))\n",
        "    else:\n",
        "        print('{0}: {1}, with distance of {2}:'.format(i, user_features_df.index[indices.flatten()[i]], distances.flatten()[i]))\n",
        "# As the Distance increase it is less recommended."
      ],
      "execution_count": null,
      "outputs": [
        {
          "output_type": "stream",
          "text": [
            "Recommendations for 94dab5b94b6e86936616e99565db2624b34e8db5:\n",
            "\n",
            "1: a617c32f6743fe4a71f116d604820a55511c8ab4, with distance of 0.2447092380936352:\n",
            "2: 529a559ddb9ab4975a593d9f741a96aa432d13d5, with distance of 0.3429519105331138:\n",
            "3: 0f15bb802c4503129b4de5b1205ef91954310159, with distance of 0.3504301975383691:\n",
            "4: a097a8a437980478b84bccbfb14bad014cedefd0, with distance of 0.3504301975383691:\n",
            "5: c134088ca04c9bf4b545c144a18e4e70571eb4fe, with distance of 0.3504301975383691:\n",
            "6: e12e65e397e4aae372bf6a2161921157d826acf0, with distance of 0.3504301975383691:\n",
            "7: 71a90671ebbf118dd9716dba10ae2631738ad4c9, with distance of 0.3504301975383691:\n",
            "8: 784ee3da102438e00613ea8428cf6d01aa59ba3d, with distance of 0.3504301975383691:\n",
            "9: af2d47f94865a467ca2086d4a76b4f3e09930b99, with distance of 0.4166690972070314:\n",
            "10: d556d50b998b54fb08293c3cbb147ae6ca60a88d, with distance of 0.4190071062258732:\n"
          ],
          "name": "stdout"
        }
      ]
    },
    {
      "cell_type": "markdown",
      "metadata": {
        "id": "gTaXSFF8idbu"
      },
      "source": [
        "## Matrix Factorization - SVD\n"
      ]
    },
    {
      "cell_type": "markdown",
      "metadata": {
        "id": "clBWiGv_yLrb"
      },
      "source": [
        "- **Matrix factorization methods decompose the original sparse user-item matrix into lower dimensionality less sparse rectangular matrices with latent features**\n",
        "\n",
        "**Among the different matrix factorization techniques, we found the popular singular value decomposition (SVD).**\n",
        "\n",
        "- This can be an abstract concept as we deepen into the mathematical foundations. But we'll try to keep it as simple as possible. Imagine we have a matrix A that contains the data for n users x m songs. This matrix can be decomposed uniquely into 3 matrices; let's called them U, S, and V.\n",
        "\n",
        "**In terms of our song recommender :**\n",
        "\n",
        "- U is an n users x r user-latent feature matrix\n",
        "- V is an m songs x r song-latent feature matrix\n",
        "- S is an r x r non-negative diagonal matrix containing the singular values of the original matrix."
      ]
    },
    {
      "cell_type": "code",
      "metadata": {
        "id": "rvCEJUGCoyvM"
      },
      "source": [
        "df_songs = pd.merge(triplet, tracks.drop_duplicates(['song_id']), on=\"song_id\", how=\"left\")"
      ],
      "execution_count": null,
      "outputs": []
    },
    {
      "cell_type": "markdown",
      "metadata": {
        "id": "x9q6oQrgpH3F"
      },
      "source": [
        "**From Our EDA We Already Know That :**\n",
        "- A user listens to an average of 15 songs\n",
        "- A Song is listened On A Average by 9 users\n"
      ]
    },
    {
      "cell_type": "markdown",
      "metadata": {
        "id": "9wGAXmKax3X8"
      },
      "source": [
        "**To make things simple, let's just select again all those users that have listened to at least 15 songs. Moreover, we are going to select only those songs which have been listened to by at least 200 users.**"
      ]
    },
    {
      "cell_type": "code",
      "metadata": {
        "id": "02UtZDWMpFwu"
      },
      "source": [
        "# Get how many songs each user have listened to\n",
        "user_counts = df_songs.groupby('user_id')['song_id'].count()\n",
        "\n",
        "# Filter users which have listen to at least 15 songs\n",
        "user_ten_id = user_counts[user_counts > 15].index.to_list()"
      ],
      "execution_count": null,
      "outputs": []
    },
    {
      "cell_type": "code",
      "metadata": {
        "id": "7iR051zspFzq"
      },
      "source": [
        "# Get how many user have listened to each song\n",
        "song_counts = df_songs.groupby('song_id')['user_id'].count()\n",
        "\n",
        "# Get songs which have been listened at least 200 times\n",
        "song_ten_id = song_counts[song_counts > 200].index.to_list()"
      ],
      "execution_count": null,
      "outputs": []
    },
    {
      "cell_type": "code",
      "metadata": {
        "id": "RyMCoHXlqNoV"
      },
      "source": [
        "# Filtered the dataset to keep only those users with more than 16 listened\n",
        "df_song_reduced = df_songs[(df_songs['user_id'].isin(user_ten_id)) & (df_songs['song_id'].isin(song_ten_id))].reset_index(drop=True)"
      ],
      "execution_count": null,
      "outputs": []
    },
    {
      "cell_type": "code",
      "metadata": {
        "colab": {
          "base_uri": "https://localhost:8080/"
        },
        "id": "lt37YsLqqPqn",
        "outputId": "bf1ebfa2-db73-4cef-8836-fc240ffec7bf"
      },
      "source": [
        "df_song_reduced.shape"
      ],
      "execution_count": null,
      "outputs": [
        {
          "output_type": "execute_result",
          "data": {
            "text/plain": [
              "(142016, 6)"
            ]
          },
          "metadata": {
            "tags": []
          },
          "execution_count": 123
        }
      ]
    },
    {
      "cell_type": "markdown",
      "metadata": {
        "id": "_QiaN58ckvIy"
      },
      "source": [
        "**Instead of working with the implicit Listen Count , we'll apply the binning technique.**"
      ]
    },
    {
      "cell_type": "code",
      "metadata": {
        "colab": {
          "base_uri": "https://localhost:8080/"
        },
        "id": "Cn-veKFcv1le",
        "outputId": "c1a2f7db-e6ba-47bc-88e8-80bfd665ddd1"
      },
      "source": [
        "max(df_song_reduced['listen_count'])"
      ],
      "execution_count": null,
      "outputs": [
        {
          "output_type": "execute_result",
          "data": {
            "text/plain": [
              "450"
            ]
          },
          "metadata": {
            "tags": []
          },
          "execution_count": 124
        }
      ]
    },
    {
      "cell_type": "code",
      "metadata": {
        "id": "LAVF7nwnipeL"
      },
      "source": [
        "bins = [0, 2, 4, 6, 8, 10, 12, 14, 16, 18, 450]"
      ],
      "execution_count": null,
      "outputs": []
    },
    {
      "cell_type": "code",
      "metadata": {
        "id": "1m_HQKxPorTq"
      },
      "source": [
        "df_song_reduced['listen_count'] = pd.cut(df_song_reduced['listen_count'], bins=bins, labels=[1, 2, 3, 4, 5, 6, 7, 8, 9, 10])"
      ],
      "execution_count": null,
      "outputs": []
    },
    {
      "cell_type": "code",
      "metadata": {
        "id": "q_QYOWLxuX_X"
      },
      "source": [
        "listen_counts = pd.DataFrame(df_song_reduced.groupby('listen_count').size(), columns=['count']).reset_index(drop=False)"
      ],
      "execution_count": null,
      "outputs": []
    },
    {
      "cell_type": "code",
      "metadata": {
        "colab": {
          "base_uri": "https://localhost:8080/",
          "height": 498
        },
        "id": "IxLCtsgFqsxK",
        "outputId": "826d75e1-f315-43fd-8e9f-43fc7047e415"
      },
      "source": [
        "plt.figure(figsize=(16, 8))\n",
        "sns.barplot(x='listen_count', y='count', palette='Set3', data=listen_counts)\n",
        "plt.gca().spines['top'].set_visible(False)\n",
        "plt.gca().spines['right'].set_visible(False)\n",
        "plt.show();"
      ],
      "execution_count": null,
      "outputs": [
        {
          "output_type": "display_data",
          "data": {
            "image/png": "[encoded data removed]",
            "text/plain": [
              "<Figure size 1152x576 with 1 Axes>"
            ]
          },
          "metadata": {
            "tags": [],
            "needs_background": "light"
          }
        }
      ]
    },
    {
      "cell_type": "code",
      "metadata": {
        "id": "D0SoqNFQtNig"
      },
      "source": [
        "reader = Reader(rating_scale=(1, 10))\n",
        "data = Dataset.load_from_df(df_song_reduced[['user_id', 'song_id', 'listen_count']], reader)"
      ],
      "execution_count": null,
      "outputs": []
    },
    {
      "cell_type": "code",
      "metadata": {
        "id": "sDNAhskRuRfC"
      },
      "source": [
        "trainset, testset = train_test_split(data, test_size=.25)"
      ],
      "execution_count": null,
      "outputs": []
    },
    {
      "cell_type": "markdown",
      "metadata": {
        "id": "p6WBgrR1yede"
      },
      "source": [
        "**Implementing SVD using Grid Sreach Cross Validation**\n",
        "\n",
        "***SVD Hyper Parameters :***\n",
        "- n_factors – The number of factors. Default is 100.\n",
        "- n_epochs – The number of iteration of the SGD procedure. Default is 20.\n",
        "- lr_all – The learning rate for all parameters. Default is 0.005.\n",
        "- reg_all – The regularization term for all parameters. Default is 0.02."
      ]
    },
    {
      "cell_type": "code",
      "metadata": {
        "id": "ZkWooypkxq0B"
      },
      "source": [
        "#Using Grid Sreach Cross Validation\n",
        "param_grid = {'n_factors': [160],    \n",
        "              'n_epochs': [100], \n",
        "              'lr_all': [0.001, 0.005],\n",
        "              'reg_all': [0.08, 0.1]}"
      ],
      "execution_count": null,
      "outputs": []
    },
    {
      "cell_type": "code",
      "metadata": {
        "id": "VLSWbQA4yN38"
      },
      "source": [
        "grid_search_svd = GridSearchCV(SVD, param_grid, measures=['rmse'], cv=3, joblib_verbose=4, n_jobs=-2)"
      ],
      "execution_count": null,
      "outputs": []
    },
    {
      "cell_type": "code",
      "metadata": {
        "colab": {
          "base_uri": "https://localhost:8080/"
        },
        "id": "Sd24VrwlydrA",
        "outputId": "97189333-f5e6-41f4-d517-5cce22b5aff9"
      },
      "source": [
        "# find the best parameters for the model\n",
        "grid_search_svd.fit(data)\n",
        "find_algo = grid_search_svd.best_estimator['rmse']\n",
        "print(grid_search_svd.best_score['rmse'])\n",
        "print(grid_search_svd.best_params['rmse'])"
      ],
      "execution_count": null,
      "outputs": [
        {
          "output_type": "stream",
          "text": [
            "[Parallel(n_jobs=-2)]: Using backend SequentialBackend with 1 concurrent workers.\n",
            "[Parallel(n_jobs=-2)]: Done   1 out of   1 | elapsed:   40.6s remaining:    0.0s\n",
            "[Parallel(n_jobs=-2)]: Done   2 out of   2 | elapsed:  1.3min remaining:    0.0s\n",
            "[Parallel(n_jobs=-2)]: Done   3 out of   3 | elapsed:  2.0min remaining:    0.0s\n"
          ],
          "name": "stderr"
        },
        {
          "output_type": "stream",
          "text": [
            "1.8414060389648916\n",
            "{'n_factors': 160, 'n_epochs': 100, 'lr_all': 0.005, 'reg_all': 0.1}\n"
          ],
          "name": "stdout"
        },
        {
          "output_type": "stream",
          "text": [
            "[Parallel(n_jobs=-2)]: Done  12 out of  12 | elapsed:  8.0min finished\n"
          ],
          "name": "stderr"
        }
      ]
    },
    {
      "cell_type": "code",
      "metadata": {
        "colab": {
          "base_uri": "https://localhost:8080/"
        },
        "id": "uKdUeKEkyTsZ",
        "outputId": "ed34baa7-21dc-4fa4-b5d0-3ad3b5a40a90"
      },
      "source": [
        "# Perform the cross validation\n",
        "cross_validate(find_algo, data, measures=['RMSE'], cv=5, verbose=True)"
      ],
      "execution_count": null,
      "outputs": [
        {
          "output_type": "stream",
          "text": [
            "Evaluating RMSE of algorithm SVD on 5 split(s).\n",
            "\n",
            "                  Fold 1  Fold 2  Fold 3  Fold 4  Fold 5  Mean    Std     \n",
            "RMSE (testset)    1.8521  1.7982  1.8012  1.8308  1.8353  1.8235  0.0207  \n",
            "Fit time          47.14   47.48   47.12   47.49   47.01   47.25   0.20    \n",
            "Test time         0.47    0.44    0.44    0.28    0.26    0.38    0.09    \n"
          ],
          "name": "stdout"
        },
        {
          "output_type": "execute_result",
          "data": {
            "text/plain": [
              "{'fit_time': (47.138073205947876,\n",
              "  47.47591471672058,\n",
              "  47.12320399284363,\n",
              "  47.49169182777405,\n",
              "  47.01172757148743),\n",
              " 'test_rmse': array([1.85210077, 1.79820114, 1.80116247, 1.83076866, 1.83527283]),\n",
              " 'test_time': (0.46530652046203613,\n",
              "  0.44085121154785156,\n",
              "  0.4414863586425781,\n",
              "  0.2789268493652344,\n",
              "  0.2585732936859131)}"
            ]
          },
          "metadata": {
            "tags": []
          },
          "execution_count": 136
        }
      ]
    },
    {
      "cell_type": "code",
      "metadata": {
        "colab": {
          "base_uri": "https://localhost:8080/"
        },
        "id": "Bxl_hqkLzIAm",
        "outputId": "6d143c71-0197-4c22-de22-5e526252b879"
      },
      "source": [
        "final_algorithm = SVD(n_factors=160, n_epochs=100, lr_all=0.005, reg_all=0.1)\n",
        "final_algorithm.fit(trainset)\n",
        "test_predictions = final_algorithm.test(testset)\n",
        "print(f\"The RMSE is {accuracy.rmse(test_predictions, verbose=True)}\")"
      ],
      "execution_count": null,
      "outputs": [
        {
          "output_type": "stream",
          "text": [
            "RMSE: 1.8380\n",
            "The RMSE is 1.837960040470629\n"
          ],
          "name": "stdout"
        }
      ]
    },
    {
      "cell_type": "code",
      "metadata": {
        "id": "wwmgznox2pYJ",
        "colab": {
          "base_uri": "https://localhost:8080/"
        },
        "outputId": "4b8fd9f3-d083-4d07-fbc9-844babcbae8c"
      },
      "source": [
        "test_predictions[1:20]"
      ],
      "execution_count": null,
      "outputs": [
        {
          "output_type": "execute_result",
          "data": {
            "text/plain": [
              "[Prediction(uid='bbc269796a0c63bcfd839ec1fd3cc58a173a4514', iid='SOEWYLX12A6D4F8E5F', r_ui=1.0, est=1.635922726696709, details={'was_impossible': False}),\n",
              " Prediction(uid='6ce8e80c1f1d6d6af84701e20f70b01fb14650b7', iid='SOQBMFK12A8C13835B', r_ui=1.0, est=1.832561812017305, details={'was_impossible': False}),\n",
              " Prediction(uid='8f84fa34b5c18c333574cdb6b83c2cb7c616ae26', iid='SOZVVRE12A8C143150', r_ui=2.0, est=2.818085064128581, details={'was_impossible': False}),\n",
              " Prediction(uid='bb25adc62bedda82437af1fbe61cfad84ccc69a5', iid='SOPVQLJ12A67AE2281', r_ui=1.0, est=1.2582349168095917, details={'was_impossible': False}),\n",
              " Prediction(uid='0d396cbde5e186bc7ae0fdef0c534ed1d7e3c10d', iid='SORWLTW12A670208FA', r_ui=2.0, est=1.827083964768485, details={'was_impossible': False}),\n",
              " Prediction(uid='a13426cb3346fd5c90916befb93fd67c3a530e21', iid='SOAFQGA12A8C1367FA', r_ui=1.0, est=1.7714526463085676, details={'was_impossible': False}),\n",
              " Prediction(uid='e59e213333a7f5fdcefbce23f041bbe113c5e868', iid='SOHFJAQ12AB017E4AF', r_ui=7.0, est=2.6071285912042192, details={'was_impossible': False}),\n",
              " Prediction(uid='71f8f1384efbe2b5382f9f4432de0c96c68c8f03', iid='SONEWAX12AB018DD3F', r_ui=2.0, est=2.1147646682690224, details={'was_impossible': False}),\n",
              " Prediction(uid='13fd6654459c44443aa5390383a6df1b2b7e4113', iid='SOKMHKY12AF72AB079', r_ui=5.0, est=3.130945204978244, details={'was_impossible': False}),\n",
              " Prediction(uid='757104a70e84e7a571f7122d1d965009daf1422d', iid='SOIROON12A6701E0B8', r_ui=1.0, est=1.5566703563968947, details={'was_impossible': False}),\n",
              " Prediction(uid='5f29081ac29d43432a442df08caf98ba1b6c88cc', iid='SODGJKH12AAA8C9487', r_ui=1.0, est=2.1571638035212053, details={'was_impossible': False}),\n",
              " Prediction(uid='696d530582b6c71b68ad7fec978a2e8904be13c0', iid='SOWEHOM12A6BD4E09E', r_ui=1.0, est=2.600383115943386, details={'was_impossible': False}),\n",
              " Prediction(uid='b3cfe51ff2a89e0daa67d5145836f59a18f86861', iid='SOAUWYT12A81C206F1', r_ui=5.0, est=2.231976261520427, details={'was_impossible': False}),\n",
              " Prediction(uid='f60cc1c3faa3e806715b4b3586dd623927fc045f', iid='SOVTLQW12AB0186641', r_ui=1.0, est=1.7047715619435606, details={'was_impossible': False}),\n",
              " Prediction(uid='10ee3b6766f67ba2ba7b90085dad6c0f871dc790', iid='SONHVVE12AB018D038', r_ui=1.0, est=1.6558438128234745, details={'was_impossible': False}),\n",
              " Prediction(uid='402af8b0d74efd03ce32a8fa91d9de1fd5c87439', iid='SOVDSJC12A58A7A271', r_ui=3.0, est=2.3079106502504785, details={'was_impossible': False}),\n",
              " Prediction(uid='edf3383c8f23a8efd3fdfc88897e52096b7516cf', iid='SORWLTW12A670208FA', r_ui=1.0, est=1.7730171409800668, details={'was_impossible': False}),\n",
              " Prediction(uid='19e155c788a10c3937830edebee31c095958ebcd', iid='SOPQLBY12A6310E992', r_ui=1.0, est=1.6655912178102226, details={'was_impossible': False}),\n",
              " Prediction(uid='466ae56af7ee9f3bcc38beada909c73a97123db7', iid='SOEGIYH12A6D4FC0E3', r_ui=10.0, est=1.9144499743955734, details={'was_impossible': False})]"
            ]
          },
          "metadata": {
            "tags": []
          },
          "execution_count": 162
        }
      ]
    },
    {
      "cell_type": "markdown",
      "metadata": {
        "id": "gO6bNlc2deip"
      },
      "source": [
        " # <center> **The End**"
      ]
    }
  ]
}